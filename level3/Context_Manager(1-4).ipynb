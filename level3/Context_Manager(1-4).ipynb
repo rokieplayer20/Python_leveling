{
 "cells": [
  {
   "cell_type": "markdown",
   "metadata": {},
   "source": [
    "contextlib, __enter__, __exit__, with, exception <br>\n",
    "context manager:원하는 타이밍에 정확하게 리소스를 할당 및 제공하고 반환하는 역할 <br>\n",
    "with문은 class 안에 __enter__, __exit__가 구현되어 있는 패키지일 뿐이다. <br>"
   ]
  },
  {
   "cell_type": "code",
   "execution_count": 9,
   "metadata": {},
   "outputs": [],
   "source": [
    "# ex1\n",
    "\n",
    "file = open('./textfile1.txt', 'w')\n",
    "try:\n",
    "    file.write('Context Manager Test1\\n Contextlib Test1.')\n",
    "finally:\n",
    "    file.close()\n",
    "\n",
    "# ex2\n",
    "# with를 사용하면 리소스 반환을 자동으로 해준다.\n",
    "with open('./testfile2.txt', 'w') as f:\n",
    "    f.write('Context Manager Test2\\n Contextlib Test2.')"
   ]
  },
  {
   "cell_type": "code",
   "execution_count": 10,
   "metadata": {},
   "outputs": [],
   "source": [
    "# ex3\n",
    "# Use class -> Context Manager with exception handling.\n",
    "\n",
    "class MyFileWriter():\n",
    "    def __init__(self, file_name, method):\n",
    "        print('MyFileWriter started : __init__')\n",
    "        self.file_obj = open(file_name, method)\n",
    "\n",
    "    # with문에 진입했을 때\n",
    "    def __enter__(self):\n",
    "        print('MyfileWriter started : __enter__')\n",
    "        return self.file_obj\n",
    "    # class의 intance가 쓰이는 것이 아니다.\n",
    "\n",
    "\n",
    "    # with문 나갈 때\n",
    "    #(예외종류, 예외값, )\n",
    "    def __exit__(self, exception_type, value, trace_back):\n",
    "        print('MyfileWriter started : __exit__')\n",
    "        # 예외 객체가 오면 True\n",
    "        if exception_type:\n",
    "            print(f'Logging exception : {exception_type, value, trace_back}')\n",
    "            \n",
    "        self.file_obj.close()\n",
    "\n",
    "    \n",
    "\n"
   ]
  },
  {
   "cell_type": "markdown",
   "metadata": {},
   "source": [
    "과정: <br>\n",
    "1. with에 class가 호출되어 constructor __init__이 실행된다.\n",
    "2. open이 file_obj를 만든다.\n",
    "\n",
    "3. __enter__는 file_obj를 반환한다. 그것이 f가 된다.\n",
    "4. with를 빠져나갈 때, __exit__로 닫아라. (self, exception_type, value, trace_back)"
   ]
  },
  {
   "cell_type": "code",
   "execution_count": 11,
   "metadata": {},
   "outputs": [
    {
     "name": "stdout",
     "output_type": "stream",
     "text": [
      "MyFileWriter started : __init__\n",
      "MyfileWriter started : __enter__\n",
      "MyfileWriter started : __exit__\n"
     ]
    }
   ],
   "source": [
    "with MyFileWriter('./testfile3.txt', 'w') as f:\n",
    "    f.write('Context Manager Test3\\n Contextlib Test3.')\n",
    "\n"
   ]
  },
  {
   "cell_type": "code",
   "execution_count": 12,
   "metadata": {},
   "outputs": [],
   "source": [
    "import time\n",
    "\n",
    "class ExcuteTimer:\n",
    "    def __init__(self, msg):\n",
    "        self._msg = msg\n",
    "\n",
    "    def __enter__(self):\n",
    "        # 꼭 __init__이 아니여도 인스턴스 변수는 선언할 수 있다.\n",
    "        self._start = time.monotonic()\n",
    "        return self._start\n",
    "    \n",
    "    def __exit__(self, exception_type, exception_value, trace_back):\n",
    "\n",
    "        if exception_type:\n",
    "            print(f\"Logging exception {exception_type, exception_value, trace_back}\")\n",
    "        else:\n",
    "            print(f'{self._msg} : {time.monotonic()- self._start}')\n",
    "\n",
    "        return True\n",
    "        #엄밀하게 말하면 True를 반환해서 정상 실행되었다고 표시해줘야 한다."
   ]
  },
  {
   "cell_type": "code",
   "execution_count": 13,
   "metadata": {},
   "outputs": [
    {
     "name": "stdout",
     "output_type": "stream",
     "text": [
      "Received start monotonic1 : 48291.343\n",
      "Logging exception (<class 'Exception'>, Exception('Raise exception!!'), <traceback object at 0x000001E7F68D3080>)\n"
     ]
    }
   ],
   "source": [
    "\n",
    "with ExcuteTimer('Start Job') as v:\n",
    "    # v는 __enter__의 결과물이다.\n",
    "    print(f'Received start monotonic1 : {v}')\n",
    "    # Excute job\n",
    "    for i in range(100000000):\n",
    "        pass\n",
    "    raise Exception('Raise exception!!')\n"
   ]
  }
 ],
 "metadata": {
  "kernelspec": {
   "display_name": "Python 3.8.10 ('ai')",
   "language": "python",
   "name": "python3"
  },
  "language_info": {
   "codemirror_mode": {
    "name": "ipython",
    "version": 3
   },
   "file_extension": ".py",
   "mimetype": "text/x-python",
   "name": "python",
   "nbconvert_exporter": "python",
   "pygments_lexer": "ipython3",
   "version": "3.8.10"
  },
  "orig_nbformat": 4,
  "vscode": {
   "interpreter": {
    "hash": "6270e6d8b5fb321e1a842519f0c29f2e2b7188cdba36e81e06ada9019ab06ac7"
   }
  }
 },
 "nbformat": 4,
 "nbformat_minor": 2
}
