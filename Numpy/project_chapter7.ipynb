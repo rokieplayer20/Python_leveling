{
 "cells": [
  {
   "cell_type": "markdown",
   "metadata": {},
   "source": []
  },
  {
   "cell_type": "code",
   "execution_count": 7,
   "metadata": {},
   "outputs": [
    {
     "name": "stdout",
     "output_type": "stream",
     "text": [
      "[[[3 3 3 3 3]\n",
      "  [3 3 3 3 3]\n",
      "  [3 3 3 3 3]\n",
      "  [3 3 3 3 3]]\n",
      "\n",
      " [[3 3 3 3 3]\n",
      "  [3 3 3 3 3]\n",
      "  [3 3 3 3 3]\n",
      "  [3 3 3 3 3]]\n",
      "\n",
      " [[3 3 3 3 3]\n",
      "  [3 3 3 3 3]\n",
      "  [3 3 3 3 3]\n",
      "  [3 3 3 3 3]]]\n",
      "[[-15 -10 -23 -42  37]\n",
      " [ -9 -24  45  17 -32]\n",
      " [ -8  45  43  46 -29]\n",
      " [ 18 -49  28 -22   8]]\n",
      "[[-15 -49 -23 -42 -32]\n",
      " [ -9 -24  28 -22 -29]\n",
      " [ -8 -10  43  17   8]\n",
      " [ 18  45  45  46  37]] \n",
      " [-49 -42 -32 -29 -24 -23 -22 -15 -10  -9  -8   8  17  18  28  37  43  45\n",
      "  45  46]\n"
     ]
    }
   ],
   "source": [
    "import numpy as np\n",
    "\n",
    "# 예제1 원소가 모두 3인 (3,4,5) 형태인 numpy.array를 출력하시오\n",
    "\n",
    "arr = np.full((3,4,5), 3)\n",
    "print(arr)\n",
    "\n",
    "# 예2 정수 -50 - 50의 범위 안의 난수로 이러우진 (4,5) 행트의 numpy.array를 출력하고\n",
    "# 행을 기준으로 오름차순 정렬한 결과와 전체 배열을 1차원 배열로 변경해 오름차순으로 정렬한 결과를 출력하시오.\n",
    "\n",
    "arr = np.random.randint(-50, 50, size = (4, 5))\n",
    "print(arr)\n",
    "arr1 = np.sort(arr, axis=0)\n",
    "arr2 = np.sort(arr, axis= None)\n",
    "print(arr1, '\\n', arr2)"
   ]
  },
  {
   "cell_type": "markdown",
   "metadata": {},
   "source": [
    "예제3) <br>\n",
    "다음과 같이 파이썬 리스트가 존재한다. <br>\n",
    "각 numpy.array의 원소들의 평균값과 표준편차, 중앙값을 순서대로 구해 <br>\n",
    "구한 순서대로 원소가 이루어진 새로운 리스트를 구성하고 출려해라 <br>\n",
    "\n",
    "예시: 각 배열의 평균값이 3.0, 4.0, 5.0이고 표준편차가 1.5, 1.7, 1.9이며 중앙값이 <br>\n",
    "1.0, 2.0, 3.0이면 배열로 구성해 [3.0, 1.5, 1.0, 4.0, 1.7, 2.0, 5.0, 1.9, 3.0]으로 생성해 출력해라."
   ]
  },
  {
   "cell_type": "code",
   "execution_count": 8,
   "metadata": {},
   "outputs": [
    {
     "name": "stdout",
     "output_type": "stream",
     "text": [
      "[8.0, 0.0, 8.0, 14.666666666666666, 21.171259344267224, 26.0, 21.5, 3.6742346141747673, 21.5]\n"
     ]
    }
   ],
   "source": [
    "py_list = [\n",
    "    np.full(3, 8),\n",
    "    np.array([33, -15, 26]),\n",
    "    np.linspace(17, 26, 3)\n",
    "]\n",
    "ans_list = []\n",
    "for arr in py_list:\n",
    "    tmp = [np.mean(arr, axis=None), np.std(arr, axis=None), np.median(arr, axis=None)]\n",
    "    ans_list += tmp\n",
    "\n",
    "print(ans_list)"
   ]
  },
  {
   "cell_type": "markdown",
   "metadata": {},
   "source": [
    "예제4) <br>\n",
    "다음과 같은 numpy.array가 존재한다. 이 배열을 행을 기준으로 3개의 배열로 분할해<br>\n",
    "분할된 각 배열의 원소들을 제곱한 결과를 다시 원본 배열에 행을 기준으로 병합하시오. <br>\n",
    "단, 마지막 출력 결과는 원본 배열과 차원이 같아야 한다."
   ]
  },
  {
   "cell_type": "code",
   "execution_count": 23,
   "metadata": {},
   "outputs": [
    {
     "name": "stdout",
     "output_type": "stream",
     "text": [
      "[[  2   4   6]\n",
      " [  8  10  12]\n",
      " [ 14  16  18]\n",
      " [  4  16  36]\n",
      " [ 64 100 144]\n",
      " [196 256 324]]\n"
     ]
    }
   ],
   "source": [
    "# 내 답안 맞춤\n",
    "arr = np.arange(2, 20, 2).reshape((3,3))\n",
    "arr_list = np.split(arr, 3, axis=0)\n",
    "tmp = []\n",
    "for i in arr_list:\n",
    "    tmp.append(np.square(i))\n",
    "arr_list += tmp\n",
    "print(np.concatenate(arr_list, axis=0))\n",
    "\n"
   ]
  },
  {
   "cell_type": "code",
   "execution_count": 24,
   "metadata": {},
   "outputs": [
    {
     "name": "stdout",
     "output_type": "stream",
     "text": [
      "[[ 2  4  6]\n",
      " [ 8 10 12]\n",
      " [14 16 18]]\n",
      "[array([[2, 4, 6]]), array([[ 8, 10, 12]]), array([[14, 16, 18]])]\n",
      "[[[  4  16  36]]\n",
      "\n",
      " [[ 64 100 144]]\n",
      "\n",
      " [[196 256 324]]] (3, 1, 3) \n",
      "\n",
      "[[  4  16  36]\n",
      " [ 64 100 144]\n",
      " [196 256 324]] \n",
      " (3, 3)\n",
      "[[  2   4   6]\n",
      " [  8  10  12]\n",
      " [ 14  16  18]\n",
      " [  4  16  36]\n",
      " [ 64 100 144]\n",
      " [196 256 324]]\n"
     ]
    }
   ],
   "source": [
    "arr = np.arange(2, 20, 2).reshape((3,3))\n",
    "print(arr)\n",
    "s1 = np.vsplit(arr, 3)\n",
    "print(s1)\n",
    "s2 = np.square(s1)\n",
    "print(s2, s2.shape, '\\n') # 괜히 차원 하나가 더 늘었다.\n",
    "s3 = np.squeeze(s2, axis=1)\n",
    "print(s3, '\\n', s3.shape)\n",
    "result = np.vstack((arr, s3))\n",
    "print(result)"
   ]
  },
  {
   "cell_type": "markdown",
   "metadata": {},
   "source": [
    "예제5) <br>\n",
    "삼각함수 특수각(0, 30, 60, 90)을 numpy.array로 생성한 후 <br>\n",
    "특수각에 해당하는 sin, cos, tan 값을 각각 구해 <br>\n",
    "파이썬 리스트에 담은 다음 해당 list에 들어있는 값들을 출력하시오. <br>\n",
    "단, 값이 무한대라면 \"INF\" 문자열을 출력할 것 <br>\n",
    "넘파이 삼각함수는 라디안을 사용해서 각을 deg*Pi/180으로 변경해야 함."
   ]
  },
  {
   "cell_type": "code",
   "execution_count": 28,
   "metadata": {},
   "outputs": [
    {
     "name": "stdout",
     "output_type": "stream",
     "text": [
      "[ 0 30 60 90]\n",
      "[0.0, 1.0, 0.0]\n",
      "[0.49999999999999994, 0.8660254037844387, 0.5773502691896257]\n",
      "[0.8660254037844386, 0.5000000000000001, 1.7320508075688767]\n",
      "[1.0, 6.123233995736766e-17, 'INF']\n"
     ]
    }
   ],
   "source": [
    "deg = np.linspace(0,90,4).astype('int') # astype을 np.astype처럼 쓸 수 있다.\n",
    "print(deg)\n",
    "result = np.array([])\n",
    "for i in deg:\n",
    "    if i != 90:\n",
    "        j = i * np.pi / 180\n",
    "        tmp = [np.sin(j), np.cos(j), np.tan(j)]\n",
    "    else:\n",
    "        j = i * np.pi / 180\n",
    "        tmp = [np.sin(j), np.cos(j), 'INF']\n",
    "    print(tmp)\n",
    "    \n"
   ]
  },
  {
   "cell_type": "code",
   "execution_count": 31,
   "metadata": {},
   "outputs": [
    {
     "name": "stdout",
     "output_type": "stream",
     "text": [
      "[ 0 30 60 90]\n",
      "\n",
      "0.0\n",
      "0.49999999999999994\n",
      "0.8660254037844386\n",
      "1.0\n",
      "\n",
      "1.0\n",
      "0.8660254037844387\n",
      "0.5000000000000001\n",
      "6.123233995736766e-17\n",
      "\n",
      "0.0\n",
      "0.5773502691896257\n",
      "1.7320508075688767\n",
      "INF\n"
     ]
    }
   ],
   "source": [
    "#강사 답지\n",
    "arr = np.arange(0, 91, 30)\n",
    "print(arr)\n",
    "lst = []\n",
    "lst.append(np.sin(arr * np.pi/180)) # np함수엔 리스트를 넣으면 알아서 넘파이배열이 된다.\n",
    "lst.append(np.cos(arr * np.pi / 180))\n",
    "lst.append(np.tan(arr * np.pi / 180))\n",
    "\n",
    "for value_lst in lst:\n",
    "    print()\n",
    "    for value in value_lst:\n",
    "      \n",
    "        if value > 987654321:\n",
    "            print('INF')\n",
    "        else:\n",
    "            print(value)"
   ]
  },
  {
   "cell_type": "markdown",
   "metadata": {},
   "source": [
    "예제6 <br>\n",
    "numpy.array를 이용해 다음과 같은 패턴을 출력하시오. <br>\n",
    "촐력할 때, 반복문을 사용하여 출력한다. <br>\n"
   ]
  },
  {
   "cell_type": "code",
   "execution_count": 38,
   "metadata": {},
   "outputs": [
    {
     "name": "stdout",
     "output_type": "stream",
     "text": [
      "[[0 1 0 1 0 1 0]\n",
      " [1 0 1 0 1 0 1]\n",
      " [0 1 0 1 0 1 0]\n",
      " [1 0 1 0 1 0 1]\n",
      " [0 1 0 1 0 1 0]\n",
      " [1 0 1 0 1 0 1]\n",
      " [0 1 0 1 0 1 0]]\n",
      "0 1 0 1 0 1 0 \n",
      "1 0 1 0 1 0 1 \n",
      "0 1 0 1 0 1 0 \n",
      "1 0 1 0 1 0 1 \n",
      "0 1 0 1 0 1 0 \n",
      "1 0 1 0 1 0 1 \n",
      "0 1 0 1 0 1 0 \n"
     ]
    }
   ],
   "source": [
    "arr = np.zeros((7,7)).astype(int)\n",
    "for i, _array in enumerate(arr):\n",
    "    for j, element in enumerate(_array):\n",
    "        if (i+j) % 2 == 0:\n",
    "            arr[i][j] = 0\n",
    "        else:\n",
    "            arr[i][j] =1\n",
    "print(arr)\n",
    "for i in arr:\n",
    "    for j, v in enumerate(i):\n",
    "        print(v, end=' ')\n",
    "    print()"
   ]
  },
  {
   "cell_type": "code",
   "execution_count": 40,
   "metadata": {},
   "outputs": [
    {
     "name": "stdout",
     "output_type": "stream",
     "text": [
      "0 1 0 1 0 1 0 \n",
      "1 0 1 0 1 0 1 \n",
      "0 1 0 1 0 1 0 \n",
      "1 0 1 0 1 0 1 \n",
      "0 1 0 1 0 1 0 \n",
      "1 0 1 0 1 0 1 \n",
      "0 1 0 1 0 1 0 \n"
     ]
    }
   ],
   "source": [
    "# 강사 답안\n",
    "arr = np.zeros((7,7), dtype= int)\n",
    "\n",
    "arr[::2, 1::2] = 1\n",
    "arr[1::2, ::2] = 1\n",
    "for row in range(7):\n",
    "    for col in range(7):\n",
    "        print(arr[row, col], end = ' ')\n",
    "    print()"
   ]
  },
  {
   "cell_type": "markdown",
   "metadata": {},
   "source": [
    "예제7) <br>\n",
    "다음 두 행렬에 대해 내적 연산을 수행한 결과값을 출력해라. <br>\n",
    "단, 결과의 소수점 아래는 제거한다.\n"
   ]
  },
  {
   "cell_type": "code",
   "execution_count": 42,
   "metadata": {},
   "outputs": [
    {
     "name": "stdout",
     "output_type": "stream",
     "text": [
      "[[14. 14. 23.]\n",
      " [23. 16. 26.]\n",
      " [13. 10. 16.]]\n"
     ]
    }
   ],
   "source": [
    "arr1 = np.array([[2.1, 3.5], [4.2, 2.7],[2.3, 1.9]])\n",
    "arr2 = np.array([[5, 2, 3], [1, 3, 5]])\n",
    "arr3 = np.trunc(np.dot(arr1, arr2))\n",
    "\n",
    "print(arr3)"
   ]
  },
  {
   "cell_type": "markdown",
   "metadata": {},
   "source": [
    "예제8 <br>\n",
    "조건 연산자를 활용한 Boolean indexing을 이용해 다음 배열의 원소들 중 <br>\n",
    "2와 5의 배수만 추출한 결과를 오름차순 정렬해 (2, 4) 행렬로 출력해라"
   ]
  },
  {
   "cell_type": "code",
   "execution_count": 60,
   "metadata": {},
   "outputs": [
    {
     "name": "stdout",
     "output_type": "stream",
     "text": [
      "[[False  True False  True]\n",
      " [False  True False  True]\n",
      " [False  True False  True]]\n",
      "[ 2  4  6  8 10 12  5 10]\n",
      "[[ 2  4  6  8]\n",
      " [10 12  5 10]]\n"
     ]
    }
   ],
   "source": [
    "arr = np.array([[1,2,3,4],[5,6,7,8],[9,10,11,12]])\n",
    "print(arr%2==0) # 배열에  참거짓 배열이 나오고 이것을 곧바로 인덱스 자리에 쓸 수 있다.\n",
    "\n",
    "arr2 = np.concatenate([arr[arr%2 ==0], arr[arr%5 ==0]], axis=0)\n",
    "print(arr2)\n",
    "arr2.resize((2, 4))\n",
    "print(arr2)"
   ]
  },
  {
   "cell_type": "code",
   "execution_count": 64,
   "metadata": {},
   "outputs": [
    {
     "name": "stdout",
     "output_type": "stream",
     "text": [
      "[[ 2  4  5  6]\n",
      " [ 8 10 10 12]]\n"
     ]
    }
   ],
   "source": [
    "# 강사답지\n",
    "\n",
    "print(np.sort(np.append(arr[arr % 2 ==0], arr[arr % 5==0])).reshape(2, 4))"
   ]
  },
  {
   "cell_type": "markdown",
   "metadata": {},
   "source": [
    "예제9 <br>\n",
    "10진수 100 이상 150미만 사이의 존재하는 정수를 무작위로 추출해 <br>\n",
    "(3, 10) 형태로 행렬로 만들고 행과 열을 전치한 결과를 출력하시오."
   ]
  },
  {
   "cell_type": "code",
   "execution_count": 67,
   "metadata": {},
   "outputs": [
    {
     "name": "stdout",
     "output_type": "stream",
     "text": [
      "[[138 136 125]\n",
      " [115 131 135]\n",
      " [120 143 124]\n",
      " [145 132 138]\n",
      " [143 128 109]\n",
      " [116 149 117]\n",
      " [143 121 141]\n",
      " [122 132 115]\n",
      " [119 138 139]\n",
      " [130 128 146]]\n",
      "[[138 136 125]\n",
      " [115 131 135]\n",
      " [120 143 124]\n",
      " [145 132 138]\n",
      " [143 128 109]\n",
      " [116 149 117]\n",
      " [143 121 141]\n",
      " [122 132 115]\n",
      " [119 138 139]\n",
      " [130 128 146]]\n"
     ]
    }
   ],
   "source": [
    "arr = np.random.randint(100, 150, (3, 10))\n",
    "print(arr.T)\n",
    "print(np.transpose(arr))"
   ]
  },
  {
   "cell_type": "markdown",
   "metadata": {},
   "source": [
    "예제10 <br>\n",
    "10진수 10-20 사이에 존재하는 실수형의 수를 무작위로 10000개 추출해 <br>\n",
    "100개의 구간에 그래프로 시각화하시오. <br>\n",
    "단, 무작위 실수 값은 균등한 비율로 추출해야 하며 그래프 시각화 도구는 <br>\n",
    "pyplot 모듈을 사용할 것"
   ]
  },
  {
   "cell_type": "code",
   "execution_count": 76,
   "metadata": {},
   "outputs": [
    {
     "data": {
      "image/png": "[encoded data removed]",
      "text/plain": [
       "<Figure size 432x288 with 1 Axes>"
      ]
     },
     "metadata": {
      "needs_background": "light"
     },
     "output_type": "display_data"
    }
   ],
   "source": [
    "import matplotlib.pyplot as plt\n",
    "\n",
    "#강사답지\n",
    "arr = 10 + np.random.rand(10000) * 10\n",
    "\n",
    "plt.hist(arr, bins=100)\n",
    "plt.show()\n"
   ]
  },
  {
   "cell_type": "code",
   "execution_count": null,
   "metadata": {},
   "outputs": [],
   "source": []
  },
  {
   "cell_type": "code",
   "execution_count": null,
   "metadata": {},
   "outputs": [],
   "source": []
  },
  {
   "cell_type": "code",
   "execution_count": null,
   "metadata": {},
   "outputs": [],
   "source": []
  }
 ],
 "metadata": {
  "kernelspec": {
   "display_name": "Python 3.8.10 ('ai')",
   "language": "python",
   "name": "python3"
  },
  "language_info": {
   "codemirror_mode": {
    "name": "ipython",
    "version": 3
   },
   "file_extension": ".py",
   "mimetype": "text/x-python",
   "name": "python",
   "nbconvert_exporter": "python",
   "pygments_lexer": "ipython3",
   "version": "3.8.10"
  },
  "orig_nbformat": 4,
  "vscode": {
   "interpreter": {
    "hash": "6270e6d8b5fb321e1a842519f0c29f2e2b7188cdba36e81e06ada9019ab06ac7"
   }
  }
 },
 "nbformat": 4,
 "nbformat_minor": 2
}
