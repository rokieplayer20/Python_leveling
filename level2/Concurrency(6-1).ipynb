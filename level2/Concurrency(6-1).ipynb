{
 "cells": [
  {
   "cell_type": "markdown",
   "metadata": {},
   "source": [
    "병행성(Concurrency) <br>\n"
   ]
  },
  {
   "cell_type": "markdown",
   "metadata": {},
   "source": [
    "iterable type (반복가능한 타입) <br>\n",
    "collections, text file, list, tuple, dict, set, str, unpacking, *args.... <br>\n",
    "loop문의 원리:  <br><br>\n",
    "iter(iterable_object) -> iterator <br>\n",
    "next(iterator) <br>\n",
    ". <br>\n",
    ". <br>\n",
    ". <br>\n",
    "end <br>"
   ]
  },
  {
   "cell_type": "code",
   "execution_count": 38,
   "metadata": {},
   "outputs": [
    {
     "name": "stdout",
     "output_type": "stream",
     "text": [
      "A\n",
      "B\n",
      "C\n",
      "D\n",
      "E\n",
      "F\n",
      "G\n",
      "G\n",
      "H\n",
      "I\n",
      "J\n",
      "K\n",
      "L\n",
      "M\n",
      "N\n",
      "O\n",
      "P\n",
      "A\n",
      "B\n",
      "C\n",
      "D\n",
      "E\n",
      "F\n",
      "G\n",
      "G\n",
      "H\n",
      "I\n",
      "J\n",
      "K\n",
      "L\n",
      "M\n",
      "N\n",
      "O\n",
      "P\n",
      "\n",
      "\n"
     ]
    }
   ],
   "source": [
    "t = 'ABCDEFGGHIJKLMNOP'\n",
    "# print(dir(t))  __iter__가 있다. 그러나 __next__ 없다. -> iterable object\n",
    "\n",
    "for c in t:\n",
    "    print(c)\n",
    "\n",
    "#while\n",
    "w = iter(t) # iterator\n",
    "\n",
    "while True:\n",
    "    try:\n",
    "        print(next(w))\n",
    "    except StopIteration:\n",
    "        break\n",
    "print('\\n')\n"
   ]
  },
  {
   "cell_type": "code",
   "execution_count": 48,
   "metadata": {},
   "outputs": [
    {
     "name": "stdout",
     "output_type": "stream",
     "text": [
      "True False\n",
      "True True\n",
      "<class 'str'> <class 'str_iterator'>\n"
     ]
    }
   ],
   "source": [
    "print('__iter__' in dir(t), '__next__' in dir(t)) # iterable object\n",
    "print('__iter__' in dir(w), '__next__' in dir(w)) # iterator\n",
    "print(type(t), type(w))"
   ]
  },
  {
   "cell_type": "code",
   "execution_count": 40,
   "metadata": {},
   "outputs": [
    {
     "name": "stdout",
     "output_type": "stream",
     "text": [
      "True\n",
      "False\n"
     ]
    }
   ],
   "source": [
    "# 반복형 확인\n",
    "print(hasattr(t, '__iter__')) # (object, 찾으려는 것: str) -> bool\n",
    "print(hasattr(t, '__next__'))"
   ]
  },
  {
   "cell_type": "code",
   "execution_count": 41,
   "metadata": {},
   "outputs": [
    {
     "name": "stdout",
     "output_type": "stream",
     "text": [
      "True\n"
     ]
    }
   ],
   "source": [
    "from collections import abc # abstract class\n",
    "\n",
    "\n",
    "print(isinstance(t, abc.Iterable))\n"
   ]
  },
  {
   "cell_type": "markdown",
   "metadata": {},
   "source": [
    "t가 추상클래스의 Iterable의 인스턴스냐? <br>\n",
    "type() 함수로 비교하면 문자열을 비교해야 하니 즉각 비교할 수 있게 한 것이다. <br>"
   ]
  },
  {
   "cell_type": "code",
   "execution_count": 42,
   "metadata": {},
   "outputs": [],
   "source": [
    "#next pattern\n",
    "\n",
    "class WordSpliter:\n",
    "    def __init__(self, text):\n",
    "        self._idx = 0 # next는 다음 인덱스를 기억해야 한다.\n",
    "        self._text = text.split(' ')\n",
    "\n",
    "    def __next__(self):\n",
    "        print('Call __next__')\n",
    "        try:\n",
    "            word = self._text[self._idx]\n",
    "\n",
    "        except IndexError:\n",
    "            raise StopIteration('Stopped Iteration. ^^')\n",
    "\n",
    "        self._idx +=1\n",
    "\n",
    "        return word\n",
    "\n",
    "    def __repr__(self):\n",
    "        return f'WordSplit({self._text})'\n",
    "\n",
    "\n",
    "\n"
   ]
  },
  {
   "cell_type": "code",
   "execution_count": 59,
   "metadata": {},
   "outputs": [
    {
     "name": "stdout",
     "output_type": "stream",
     "text": [
      "WordSplit(['Do', 'today', 'what', 'you', 'could', 'do', 'tommorrow.'])\n",
      "<class '__main__.WordSpliter'> True False\n"
     ]
    }
   ],
   "source": [
    "wi = WordSpliter('Do today what you could do tommorrow.')\n",
    "\n",
    "print(wi)\n",
    "print(type(wi), hasattr(wi, '__next__'), hasattr(wi, '__iter__'))"
   ]
  },
  {
   "cell_type": "code",
   "execution_count": 44,
   "metadata": {},
   "outputs": [
    {
     "name": "stdout",
     "output_type": "stream",
     "text": [
      "Call __next__\n",
      "Do\n",
      "Call __next__\n",
      "today\n",
      "Call __next__\n",
      "what\n"
     ]
    }
   ],
   "source": [
    "# while True:\n",
    "#     print(next(wi))\n",
    "# 내가 정한 예외가 발생한다.\n",
    "print(next(wi))\n",
    "print(next(wi))\n",
    "print(next(wi))"
   ]
  },
  {
   "cell_type": "markdown",
   "metadata": {},
   "source": [
    "Generator pattern\n",
    "1. 지능형 리스트, 딕셔너리, 집합 -> 데이터 양 증가 -> generator 사용 권장\n",
    "2. 단위 실행 가능한 coroutine 구현과 연동된다.\n",
    "3. 작은 메모리 조각 사용한다."
   ]
  },
  {
   "cell_type": "code",
   "execution_count": 45,
   "metadata": {},
   "outputs": [],
   "source": [
    "class WordSplitGenerator:\n",
    "\n",
    "    def __init__(self, text):\n",
    "\n",
    "        self._text = text.split(' ')\n",
    "\n",
    "    def __iter__(self): # next와 다르게 내부에서 예외처리까지 해준다.\n",
    "\n",
    "        for word in self._text:\n",
    "            yield word #  generator, 다음에 반환될 값의 위치 정보를 기억하고 있다.\n",
    "        return\n",
    "        \n",
    "    def __repr__(self):\n",
    "        return f'WordSplitGenerator({self._text})'\n",
    "\n",
    "\n"
   ]
  },
  {
   "cell_type": "code",
   "execution_count": 49,
   "metadata": {},
   "outputs": [
    {
     "name": "stdout",
     "output_type": "stream",
     "text": [
      "WordSplitGenerator(['Do', 'today', 'what', 'you', 'could', 'do', 'tommorrow.']) \n",
      " <generator object WordSplitGenerator.__iter__ at 0x00000205E7889820>\n",
      "\n",
      "\n",
      "True True\n"
     ]
    }
   ],
   "source": [
    "wg = WordSplitGenerator('Do today what you could do tommorrow.')\n",
    "# iterable\n",
    "wr = iter(wg)\n",
    "# generator object \n",
    "\n",
    "print(wg, '\\n', wr)\n",
    "print('\\n')\n",
    "print(hasattr(wr, '__next__'), hasattr(wr, '__iter__'))"
   ]
  },
  {
   "cell_type": "code",
   "execution_count": 55,
   "metadata": {},
   "outputs": [
    {
     "name": "stdout",
     "output_type": "stream",
     "text": [
      "<class '__main__.WordSplitGenerator'> <class 'generator'>\n"
     ]
    }
   ],
   "source": [
    "print(type(wg), type(wr))\n"
   ]
  },
  {
   "cell_type": "markdown",
   "metadata": {},
   "source": [
    "wg(iterable object) -> wr(iterator and generator) <br>"
   ]
  },
  {
   "cell_type": "code",
   "execution_count": 47,
   "metadata": {},
   "outputs": [
    {
     "name": "stdout",
     "output_type": "stream",
     "text": [
      "Do\n",
      "today\n",
      "what\n",
      "you\n",
      "could\n",
      "do\n",
      "tommorrow.\n"
     ]
    },
    {
     "ename": "StopIteration",
     "evalue": "",
     "output_type": "error",
     "traceback": [
      "\u001b[1;31m---------------------------------------------------------------------------\u001b[0m",
      "\u001b[1;31mStopIteration\u001b[0m                             Traceback (most recent call last)",
      "\u001b[1;32m<ipython-input-47-c43926cc1a95>\u001b[0m in \u001b[0;36m<module>\u001b[1;34m\u001b[0m\n\u001b[0;32m      6\u001b[0m \u001b[0mprint\u001b[0m\u001b[1;33m(\u001b[0m\u001b[0mnext\u001b[0m\u001b[1;33m(\u001b[0m\u001b[0mwr\u001b[0m\u001b[1;33m)\u001b[0m\u001b[1;33m)\u001b[0m\u001b[1;33m\u001b[0m\u001b[1;33m\u001b[0m\u001b[0m\n\u001b[0;32m      7\u001b[0m \u001b[0mprint\u001b[0m\u001b[1;33m(\u001b[0m\u001b[0mnext\u001b[0m\u001b[1;33m(\u001b[0m\u001b[0mwr\u001b[0m\u001b[1;33m)\u001b[0m\u001b[1;33m)\u001b[0m\u001b[1;33m\u001b[0m\u001b[1;33m\u001b[0m\u001b[0m\n\u001b[1;32m----> 8\u001b[1;33m \u001b[0mprint\u001b[0m\u001b[1;33m(\u001b[0m\u001b[0mnext\u001b[0m\u001b[1;33m(\u001b[0m\u001b[0mwr\u001b[0m\u001b[1;33m)\u001b[0m\u001b[1;33m)\u001b[0m\u001b[1;33m\u001b[0m\u001b[1;33m\u001b[0m\u001b[0m\n\u001b[0m\u001b[0;32m      9\u001b[0m \u001b[1;31m# 내부적으로 예외를 자동 설정되었다.\u001b[0m\u001b[1;33m\u001b[0m\u001b[1;33m\u001b[0m\u001b[1;33m\u001b[0m\u001b[0m\n",
      "\u001b[1;31mStopIteration\u001b[0m: "
     ]
    }
   ],
   "source": [
    "print(next(wr))\n",
    "print(next(wr))\n",
    "print(next(wr))\n",
    "print(next(wr))\n",
    "print(next(wr))\n",
    "print(next(wr))\n",
    "print(next(wr))\n",
    "print(next(wr))\n",
    "# 내부적으로 예외를 자동 설정되었다.\n"
   ]
  },
  {
   "cell_type": "markdown",
   "metadata": {},
   "source": [
    "Iterator와 Generator 구분 비교 <br>\n",
    "\n",
    "iterator는 \\_\\_next\\_\\_, __iter__를 모두 갖고 있다. <br>\n",
    "iterable object는 __next__만 갖는다. <br>\n",
    "단, iterator만 next()에 사용될 수 있다. <br>\n",
    "- 모든 Iterator는 Iterable object이지만 반대는 꼭 그렇지 않다. 충분조건 <br>\n",
    "- 모든 Generator는 Iterator이지만 반대는 꼭 그렇지 않다. 충분조건 <br>\n",
    "\n",
    "tuple comprehesion과 yield를 이용해서 generator를 만들 수 있다. <br>\n",
    "memory 사용 없이 그때그때 필요한 값만 내놓는 \"lazy evaluation\"을 진행한다. <br>\n",
    "\n",
    "reference: https://www.geeksforgeeks.org/difference-between-iterator-vs-generator/"
   ]
  },
  {
   "cell_type": "code",
   "execution_count": 52,
   "metadata": {},
   "outputs": [
    {
     "name": "stdout",
     "output_type": "stream",
     "text": [
      "1\n",
      "4\n",
      "9\n"
     ]
    }
   ],
   "source": [
    "def sq_numbers(n):\n",
    "    for i in range(1, n+1):\n",
    "        yield i*i\n",
    "\n",
    "ob = sq_numbers(3)\n",
    "print(next(ob))\n",
    "print(next(ob))\n",
    "print(next(ob))\n",
    "\n",
    "# lazy evaluation: next 호출마다 다음 값을 내놓는다. 미리 만들지 않는다."
   ]
  },
  {
   "cell_type": "code",
   "execution_count": null,
   "metadata": {},
   "outputs": [],
   "source": []
  }
 ],
 "metadata": {
  "kernelspec": {
   "display_name": "Python 3.8.10 ('ai')",
   "language": "python",
   "name": "python3"
  },
  "language_info": {
   "codemirror_mode": {
    "name": "ipython",
    "version": 3
   },
   "file_extension": ".py",
   "mimetype": "text/x-python",
   "name": "python",
   "nbconvert_exporter": "python",
   "pygments_lexer": "ipython3",
   "version": "3.8.10"
  },
  "orig_nbformat": 4,
  "vscode": {
   "interpreter": {
    "hash": "6270e6d8b5fb321e1a842519f0c29f2e2b7188cdba36e81e06ada9019ab06ac7"
   }
  }
 },
 "nbformat": 4,
 "nbformat_minor": 2
}
