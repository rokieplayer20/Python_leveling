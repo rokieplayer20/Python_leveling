{
 "cells": [
  {
   "cell_type": "markdown",
   "metadata": {},
   "source": [
    "파이썬 예외 종류\n",
    "\n",
    "SyntaxError, TypeError, NameError, IndexError, ValueError, KeyError...\n",
    "\n",
    "문법적 예외는 없지만 실행 단계에서 발생하는 예외가 있다.\n",
    "\n",
    "1. 예외는 반드시 처리해야 한다.\n",
    "2. 로그는 반드시 남긴다.\n",
    "3. 예외는 던져진다.\n",
    "4. 예외 무시는 가능하지만 권장하지 않는다."
   ]
  },
  {
   "cell_type": "code",
   "execution_count": 1,
   "metadata": {},
   "outputs": [
    {
     "ename": "SyntaxError",
     "evalue": "unexpected EOF while parsing (<ipython-input-1-424fbb3a34c5>, line 1)",
     "output_type": "error",
     "traceback": [
      "\u001b[1;36m  File \u001b[1;32m\"<ipython-input-1-424fbb3a34c5>\"\u001b[1;36m, line \u001b[1;32m1\u001b[0m\n\u001b[1;33m    print(\u001b[0m\n\u001b[1;37m          ^\u001b[0m\n\u001b[1;31mSyntaxError\u001b[0m\u001b[1;31m:\u001b[0m unexpected EOF while parsing\n"
     ]
    }
   ],
   "source": [
    "# SyntaxError\n",
    "\n",
    "print('err' # 실행 전에 보인다. 오타에 의해 자주 발생함 "
   ]
  },
  {
   "cell_type": "code",
   "execution_count": null,
   "metadata": {},
   "outputs": [],
   "source": [
    "# NameError: 참조 없음\n",
    "\n",
    "a = 10\n",
    "print(b) # b는 없다."
   ]
  },
  {
   "cell_type": "code",
   "execution_count": null,
   "metadata": {},
   "outputs": [],
   "source": [
    "# ZeroDivisionError : 0으로 나눈다.\n",
    "\n",
    "print(11/0)"
   ]
  },
  {
   "cell_type": "code",
   "execution_count": null,
   "metadata": {},
   "outputs": [],
   "source": [
    "# IndexError\n",
    "x= [1, 23, 4]\n",
    "\n",
    "print(x[100]) # 없는 인덱스 접근함\n",
    "while True:\n",
    "    x.pop()\n",
    "    # 없는데 팝하면 인덱스 접근에서 막힌다."
   ]
  },
  {
   "cell_type": "code",
   "execution_count": null,
   "metadata": {},
   "outputs": [],
   "source": [
    "# KeyError\n",
    "\n",
    "dic = {'name': 'Lee', \"age\":12}\n",
    "\n",
    "print(dic['city']) # 없는 key\n",
    "\n",
    "print(dic.get('city', 'no city')) # 미리 방지함"
   ]
  },
  {
   "cell_type": "code",
   "execution_count": 2,
   "metadata": {},
   "outputs": [
    {
     "ename": "AttributeError",
     "evalue": "module 'time' has no attribute 'time2'",
     "output_type": "error",
     "traceback": [
      "\u001b[1;31m---------------------------------------------------------------------------\u001b[0m",
      "\u001b[1;31mAttributeError\u001b[0m                            Traceback (most recent call last)",
      "\u001b[1;32m<ipython-input-2-1580f4a98b0e>\u001b[0m in \u001b[0;36m<module>\u001b[1;34m\u001b[0m\n\u001b[0;32m      6\u001b[0m \u001b[1;32mimport\u001b[0m \u001b[0mtime\u001b[0m\u001b[1;33m\u001b[0m\u001b[1;33m\u001b[0m\u001b[0m\n\u001b[0;32m      7\u001b[0m \u001b[1;33m\u001b[0m\u001b[0m\n\u001b[1;32m----> 8\u001b[1;33m \u001b[0mprint\u001b[0m\u001b[1;33m(\u001b[0m\u001b[0mtime\u001b[0m\u001b[1;33m.\u001b[0m\u001b[0mtime2\u001b[0m\u001b[1;33m(\u001b[0m\u001b[1;33m)\u001b[0m\u001b[1;33m)\u001b[0m \u001b[1;31m#time2라는 attribute는 없다.\u001b[0m\u001b[1;33m\u001b[0m\u001b[1;33m\u001b[0m\u001b[0m\n\u001b[0m",
      "\u001b[1;31mAttributeError\u001b[0m: module 'time' has no attribute 'time2'"
     ]
    }
   ],
   "source": [
    "# 예외 없는 것을 가정하고 작성한다 -> 런타임 예외 발생 시 예외 처리 권장\n",
    "# EAFP문서에서 그렇게 말한다.\n",
    "\n",
    "# AttributeError: 모듈, 클래스에서 잘못된 속성 사용 예외\n",
    "\n",
    "import time\n",
    "\n",
    "print(time.time2()) #time2라는 attribute는 없다."
   ]
  },
  {
   "cell_type": "code",
   "execution_count": null,
   "metadata": {},
   "outputs": [],
   "source": [
    "# ValueError\n",
    "\n",
    "x = [10, 50, 90]\n",
    "\n",
    "x.remove(200) # 없는 값을 지우라고 했다.\n"
   ]
  },
  {
   "cell_type": "code",
   "execution_count": null,
   "metadata": {},
   "outputs": [],
   "source": [
    "# FileNotFoundError\n",
    "\n",
    "f = open('test.txt') # ./에 이런 파일 없다."
   ]
  },
  {
   "cell_type": "code",
   "execution_count": 3,
   "metadata": {},
   "outputs": [
    {
     "ename": "TypeError",
     "evalue": "can only concatenate list (not \"tuple\") to list",
     "output_type": "error",
     "traceback": [
      "\u001b[1;31m---------------------------------------------------------------------------\u001b[0m",
      "\u001b[1;31mTypeError\u001b[0m                                 Traceback (most recent call last)",
      "\u001b[1;32m<ipython-input-3-12858ac2ecab>\u001b[0m in \u001b[0;36m<module>\u001b[1;34m\u001b[0m\n\u001b[0;32m      5\u001b[0m \u001b[0mz\u001b[0m \u001b[1;33m=\u001b[0m \u001b[1;34m'text'\u001b[0m\u001b[1;33m\u001b[0m\u001b[1;33m\u001b[0m\u001b[0m\n\u001b[0;32m      6\u001b[0m \u001b[1;33m\u001b[0m\u001b[0m\n\u001b[1;32m----> 7\u001b[1;33m \u001b[0mprint\u001b[0m\u001b[1;33m(\u001b[0m\u001b[0mx\u001b[0m \u001b[1;33m+\u001b[0m \u001b[0my\u001b[0m\u001b[1;33m)\u001b[0m  \u001b[1;31m# 서로 합칠 수 없다.\u001b[0m\u001b[1;33m\u001b[0m\u001b[1;33m\u001b[0m\u001b[0m\n\u001b[0m",
      "\u001b[1;31mTypeError\u001b[0m: can only concatenate list (not \"tuple\") to list"
     ]
    }
   ],
   "source": [
    "# TypeError : 자료형 중에서 서로에 맞지 않는 연산을 수행할 경우\n",
    "\n",
    "x = [1, 2]\n",
    "y = (1, 2)\n",
    "z = 'text'\n",
    "# 서로 합칠 수 없다.\n",
    "print(x + y)  \n",
    "print(x + z)\n",
    "print(y + z)"
   ]
  },
  {
   "cell_type": "markdown",
   "metadata": {},
   "source": [
    "예외 처리 기본\n",
    "\n",
    "try: 에러가 발생할 가능성이 있는 코드 실행\n",
    "except 예외명1\n",
    "except 예외명2\n",
    "...\n",
    "else: try에서 예외가 발생하지 않을 경우 실행되는 블럭\n",
    "\n",
    "finally: 예외와 상관없이 항상 실행됨\n",
    "\n",
    "예외처리를 하지 않고 예외가 발생하면 프로그램이 멈추지만\n",
    "\n",
    "예외처리를 하면 예외가 발생하도 다음 코드들이 돌아간다."
   ]
  },
  {
   "cell_type": "code",
   "execution_count": 7,
   "metadata": {},
   "outputs": [
    {
     "name": "stdout",
     "output_type": "stream",
     "text": [
      "Not Found it - Occurred ValueError!\n",
      "Anyway finally\n",
      "Pass\n"
     ]
    }
   ],
   "source": [
    "name = ['Kim', 'Lee', 'Park']\n",
    "\n",
    "try:\n",
    "    z = 'Kim2'\n",
    "    x = name.index(z)\n",
    "    print('{} Found it {} in name list'.format(z, x+1))\n",
    "except ValueError:\n",
    "    print('Not Found it - Occurred ValueError!')\n",
    "\n",
    "except Exception:\n",
    "    print('All Excption can be catched!') \n",
    "    # 이렇게 쓰면 모든 예외를 잡을 수 있다. 단, Exception은 생략가능하다.\n",
    "else:\n",
    "    print('OK else.')\n",
    "\n",
    "finally:\n",
    "    print('Anyway finally')\n",
    "\n",
    "print('Pass')\n"
   ]
  },
  {
   "cell_type": "code",
   "execution_count": 8,
   "metadata": {},
   "outputs": [
    {
     "name": "stdout",
     "output_type": "stream",
     "text": [
      "'Kim2' is not in list\n",
      "Not Found it - Occurred ValueError!\n",
      "Anyway finally\n"
     ]
    }
   ],
   "source": [
    "\n",
    "name = ['Kim', 'Lee', 'Park']\n",
    "try:\n",
    "    z = 'Kim2'\n",
    "    x = name.index(z)\n",
    "    print('{} Found it {} in name list'.format(z, x+1))\n",
    "except ValueError as e:\n",
    "    print(e) # 예외의 내용을 알 수 있다. JAVA와 비슷하다.\n",
    "    print('Not Found it - Occurred ValueError!')\n",
    "\n",
    "except:\n",
    "    print('All Excption can be catched!') \n",
    "    # 이렇게 쓰면 모든 예외를 잡을 수 있다. 단, Exception은 생략가능하다.\n",
    "else:\n",
    "    print('OK else.')\n",
    "\n",
    "finally:\n",
    "    print('Anyway finally')"
   ]
  },
  {
   "cell_type": "code",
   "execution_count": 9,
   "metadata": {},
   "outputs": [
    {
     "name": "stdout",
     "output_type": "stream",
     "text": [
      "\n",
      "no kim\n"
     ]
    }
   ],
   "source": [
    "# 예외를 의도적으로 발생시킨다. raise\n",
    "\n",
    "# python의 컴퓨터공학적 이유는 아니지만 특정 권한이나\n",
    "# 임의의 논리에 의해서 발생시킬 때도 있다.\n",
    "try:\n",
    "    a = 'Park'\n",
    "    if a == 'Kim':\n",
    "        print('ok')\n",
    "    else:\n",
    "        raise ValueError\n",
    "except ValueError as e:\n",
    "    print(e)\n",
    "    print('You are not entitled!')\n",
    "else:\n",
    "    print('ok else!')\n"
   ]
  },
  {
   "cell_type": "markdown",
   "metadata": {},
   "source": [
    "# AssertionError\n",
    "간단하게 assert로 확인할 걸 확인하고 예외를 일으킬 수 있다. <br>\n",
    "assert 조건식, \"메세지\""
   ]
  },
  {
   "cell_type": "code",
   "execution_count": 1,
   "metadata": {},
   "outputs": [
    {
     "ename": "AssertionError",
     "evalue": "100보다 작다.",
     "output_type": "error",
     "traceback": [
      "\u001b[1;31m---------------------------------------------------------------------------\u001b[0m",
      "\u001b[1;31mAssertionError\u001b[0m                            Traceback (most recent call last)",
      "\u001b[1;32mc:\\Users\\rokie\\AlgorithmStudy\\inflearnPython\\level1\\Exception_Cheapter7.ipynb 셀 16\u001b[0m in \u001b[0;36m<cell line: 5>\u001b[1;34m()\u001b[0m\n\u001b[0;32m      <a href='vscode-notebook-cell:/c%3A/Users/rokie/AlgorithmStudy/inflearnPython/level1/Exception_Cheapter7.ipynb#X20sZmlsZQ%3D%3D?line=0'>1</a>\u001b[0m x \u001b[39m=\u001b[39m \u001b[39m20\u001b[39m\n\u001b[0;32m      <a href='vscode-notebook-cell:/c%3A/Users/rokie/AlgorithmStudy/inflearnPython/level1/Exception_Cheapter7.ipynb#X20sZmlsZQ%3D%3D?line=2'>3</a>\u001b[0m \u001b[39massert\u001b[39;00m x \u001b[39m<\u001b[39m\u001b[39m100\u001b[39m, \u001b[39m\"\u001b[39m\u001b[39m100보다 크다.\u001b[39m\u001b[39m\"\u001b[39m\n\u001b[1;32m----> <a href='vscode-notebook-cell:/c%3A/Users/rokie/AlgorithmStudy/inflearnPython/level1/Exception_Cheapter7.ipynb#X20sZmlsZQ%3D%3D?line=4'>5</a>\u001b[0m \u001b[39massert\u001b[39;00m x \u001b[39m>\u001b[39m \u001b[39m100\u001b[39m, \u001b[39m\"\u001b[39m\u001b[39m100보다 작다.\u001b[39m\u001b[39m\"\u001b[39m\n",
      "\u001b[1;31mAssertionError\u001b[0m: 100보다 작다."
     ]
    }
   ],
   "source": [
    "x = 20\n",
    "\n",
    "assert x <100, \"100보다 크다.\"\n",
    "\n",
    "assert x > 100, \"100보다 작다.\""
   ]
  },
  {
   "cell_type": "code",
   "execution_count": null,
   "metadata": {},
   "outputs": [],
   "source": []
  },
  {
   "cell_type": "code",
   "execution_count": null,
   "metadata": {},
   "outputs": [],
   "source": []
  }
 ],
 "metadata": {
  "kernelspec": {
   "display_name": "Python 3.8.10 ('ai')",
   "language": "python",
   "name": "python3"
  },
  "language_info": {
   "codemirror_mode": {
    "name": "ipython",
    "version": 3
   },
   "file_extension": ".py",
   "mimetype": "text/x-python",
   "name": "python",
   "nbconvert_exporter": "python",
   "pygments_lexer": "ipython3",
   "version": "3.8.13"
  },
  "orig_nbformat": 4,
  "vscode": {
   "interpreter": {
    "hash": "6270e6d8b5fb321e1a842519f0c29f2e2b7188cdba36e81e06ada9019ab06ac7"
   }
  }
 },
 "nbformat": 4,
 "nbformat_minor": 2
}
