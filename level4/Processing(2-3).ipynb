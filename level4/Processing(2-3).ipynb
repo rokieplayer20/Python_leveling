{
 "cells": [
  {
   "cell_type": "markdown",
   "metadata": {},
   "source": [
    "ProcessPoolExecutor: 추상화 패키지 <br>\n",
    "as_complete, futures, timeout, dict <br>\n",
    "Futures object: 예약된 작업이다. 실행이 아니다."
   ]
  },
  {
   "cell_type": "code",
   "execution_count": 4,
   "metadata": {},
   "outputs": [],
   "source": [
    "from concurrent.futures import ProcessPoolExecutor, as_completed\n",
    "import time, random\n",
    "import urllib.request\n",
    "\n",
    "# 조회 URL\n",
    "URLs = [\n",
    "    'https://www.daum.net',\n",
    "    'https://www.cnn.con',\n",
    "    'https://naver.com',\n",
    "    'https://ruliweb',\n",
    "    'https://some-made-up-domain.com'\n",
    "] \n",
    "\n",
    "# 실행함수\n",
    "def load_url(url, timeout):\n",
    "    \n",
    "    with urllib.request.urlopen(url, timeout=timeout) as conn:\n",
    "\n",
    "        return conn.read()\n",
    "\n",
    "def main():\n",
    "    \n",
    "    # ProcessPool Context 영역\n",
    "    with ProcessPoolExecutor(max_workers = 5) as executor:\n",
    "        # Future 로드, 아직 실행 안 한다. scheduling\n",
    "        future_to_url = {executor.submit(load_url, url, 60): url for url in URLs} \n",
    "        #(함수이름, 인자, timeout)\n",
    "        # 작업을 예약한 것이다. Futures object\n",
    "\n",
    "        # 중간확인\n",
    "        print(future_to_url)\n",
    "\n",
    "        for future in as_completed(future_to_url):\n",
    "\n",
    "            # key가 Future 객체다.\n",
    "            url = future_to_url[future] # url = future_to_url.get(future)\n",
    "\n",
    "            try:\n",
    "                data = future.result()\n",
    "\n",
    "            except Exception as exc:\n",
    "                print('%r generated an exception: %s ' % (url, exc))\n",
    "            else:\n",
    "                print('%r page is %d bytes' % (url, len(data)))\n",
    "\n"
   ]
  },
  {
   "cell_type": "markdown",
   "metadata": {},
   "source": [
    "set comprehenstion: {출력표현식 for 요소 in 입력Sequence [if 조건식]}  <br>\n",
    "dictionary comprehension: {Key:Value for 요소 in 입력Sequence [if 조건식]} <br>\n",
    "핵심인 :을 사용해서 key가 구분되면 다 된다. executor.submit()가 매번 다른 객체를 반환한다."
   ]
  },
  {
   "cell_type": "code",
   "execution_count": 5,
   "metadata": {},
   "outputs": [
    {
     "name": "stdout",
     "output_type": "stream",
     "text": [
      "{<Future at 0x19241f38820 state=running>: 'https://www.daum.net', <Future at 0x19241f4ce20 state=pending>: 'https://www.cnn.con', <Future at 0x19241f4cee0 state=pending>: 'https://naver.com', <Future at 0x19241ec9eb0 state=pending>: 'https://ruliweb', <Future at 0x19241fe5070 state=pending>: 'https://some-made-up-domain.com'}\n",
      "'https://www.daum.net' generated an exception: A process in the process pool was terminated abruptly while the future was running or pending. \n",
      "'https://www.cnn.con' generated an exception: A process in the process pool was terminated abruptly while the future was running or pending. \n",
      "'https://naver.com' generated an exception: A process in the process pool was terminated abruptly while the future was running or pending. \n",
      "'https://ruliweb' generated an exception: A process in the process pool was terminated abruptly while the future was running or pending. \n",
      "'https://some-made-up-domain.com' generated an exception: A process in the process pool was terminated abruptly while the future was running or pending. \n"
     ]
    }
   ],
   "source": [
    "if __name__ == '__main__':\n",
    "    \n",
    "    main()\n",
    "\n",
    "# 그냥 py file로는 잘 실행되지만 주피터노트북에서만 안 되고 있는 것이다. 코드의 문제가 아니다."
   ]
  },
  {
   "cell_type": "code",
   "execution_count": null,
   "metadata": {},
   "outputs": [],
   "source": []
  },
  {
   "cell_type": "code",
   "execution_count": null,
   "metadata": {},
   "outputs": [],
   "source": []
  },
  {
   "cell_type": "code",
   "execution_count": null,
   "metadata": {},
   "outputs": [],
   "source": []
  },
  {
   "cell_type": "code",
   "execution_count": null,
   "metadata": {},
   "outputs": [],
   "source": []
  }
 ],
 "metadata": {
  "kernelspec": {
   "display_name": "Python 3.8.10 ('ai')",
   "language": "python",
   "name": "python3"
  },
  "language_info": {
   "codemirror_mode": {
    "name": "ipython",
    "version": 3
   },
   "file_extension": ".py",
   "mimetype": "text/x-python",
   "name": "python",
   "nbconvert_exporter": "python",
   "pygments_lexer": "ipython3",
   "version": "3.8.10"
  },
  "orig_nbformat": 4,
  "vscode": {
   "interpreter": {
    "hash": "6270e6d8b5fb321e1a842519f0c29f2e2b7188cdba36e81e06ada9019ab06ac7"
   }
  }
 },
 "nbformat": 4,
 "nbformat_minor": 2
}
