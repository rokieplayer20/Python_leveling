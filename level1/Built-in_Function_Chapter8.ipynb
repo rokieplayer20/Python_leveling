{
 "cells": [
  {
   "cell_type": "markdown",
   "metadata": {},
   "source": [
    "파이썬 내장함수들\n",
    "\n",
    "abs() 절댓값\n",
    "\n",
    "all() : iterable element 검사해서 모든 요소가 참이면 True 하나라도 거짓이면 False이다.\n",
    "        and 조건\n",
    "\n",
    "any() : 하나라도 True가 있으면 True다. or 조건"
   ]
  },
  {
   "cell_type": "code",
   "execution_count": 1,
   "metadata": {},
   "outputs": [
    {
     "name": "stdout",
     "output_type": "stream",
     "text": [
      "<built-in function print>\n"
     ]
    }
   ],
   "source": [
    "print(print)"
   ]
  },
  {
   "cell_type": "code",
   "execution_count": 4,
   "metadata": {},
   "outputs": [
    {
     "name": "stdout",
     "output_type": "stream",
     "text": [
      "False\n",
      "False\n",
      "True\n"
     ]
    }
   ],
   "source": [
    "print(all([1, 2, '']))\n",
    "print(all((1, 0, 3)))\n",
    "print(any((1, 0, 3)))"
   ]
  },
  {
   "cell_type": "markdown",
   "metadata": {},
   "source": [
    "enumerate : index, iterable 객체 반환 (iterable object) -> index, element\n",
    "\n",
    "filter : 반복가능한 객체 요소를 지정한 함수 조건에 맞는 값만 추출한다.\n",
    "        (function_name, iterable object) -> filter object\n",
    "        따라서 결과값을 형변환해야 한다.\n",
    "\n",
    "id : pointer, 리눅스의 inode\n",
    "\n",
    "len: iterable 객체 속 요소들의 수\n",
    "\n",
    "max, min: 최대최소, 문자열은 아스키 코드 기준으로 정렬함\n",
    "\n"
   ]
  },
  {
   "cell_type": "code",
   "execution_count": 5,
   "metadata": {},
   "outputs": [
    {
     "name": "stdout",
     "output_type": "stream",
     "text": [
      "0 a\n",
      "1 b\n",
      "2 c\n",
      "3 d\n"
     ]
    }
   ],
   "source": [
    "for idx, element in enumerate(['a', 'b', 'c', 'd']):\n",
    "    print(idx, element)"
   ]
  },
  {
   "cell_type": "code",
   "execution_count": 9,
   "metadata": {},
   "outputs": [
    {
     "name": "stdout",
     "output_type": "stream",
     "text": [
      "<filter object at 0x000001F3B9F0D8E0>\n",
      "[-4, -8, 100]\n",
      "[-7, 8]\n"
     ]
    }
   ],
   "source": [
    "def conv_pos(x) -> bool: # filter에 넣을 함수는 bool를 반환해야 함\n",
    "    return abs(x) > 2\n",
    "\n",
    "# 첫 인수로 함수를 넣는다. ()를 붙이면 함수 호출이다.\n",
    "print(filter(conv_pos, [1, 2, -4, -8, 100]))\n",
    "\n",
    "print(list(filter(conv_pos, [1, 2, -4, -8, 100])))\n",
    "\n",
    "print(list(filter((lambda t: abs(t)>2), [1, -7, 8])))"
   ]
  },
  {
   "cell_type": "markdown",
   "metadata": {},
   "source": [
    "map : iterable object의 요소를 지정한 함수에 적용시킨 후 추출함\n",
    "        (function_name, iterable_object) -> map object\n",
    "\n"
   ]
  },
  {
   "cell_type": "code",
   "execution_count": 11,
   "metadata": {},
   "outputs": [
    {
     "name": "stdout",
     "output_type": "stream",
     "text": [
      "<map object at 0x000001F3B9F0DFD0>\n",
      "[1, 1, 3, 7, 9]\n"
     ]
    }
   ],
   "source": [
    "print(map((lambda x: abs(x)), [1, -1, 3, -7, 9]))\n",
    "\n",
    "print(list(map((lambda x: abs(x)), [1, -1, 3, -7, 9])))"
   ]
  },
  {
   "cell_type": "code",
   "execution_count": 13,
   "metadata": {},
   "outputs": [
    {
     "name": "stdout",
     "output_type": "stream",
     "text": [
      "256\n",
      "range(1, 10, 2)\n",
      "[1, 3, 5, 7, 9]\n"
     ]
    }
   ],
   "source": [
    "# pow() 제곱 함수\n",
    "\n",
    "print(pow(2, 8))\n",
    "\n",
    "# range: iterable object를 반환한다. -> range object니까 형변환해야\n",
    "\n",
    "print(range(1, 10, 2))\n",
    "print(list(range(1, 10, 2)))"
   ]
  },
  {
   "cell_type": "markdown",
   "metadata": {},
   "source": [
    "round: 반올림 함수 (number, 유효자릿수) -> number\n",
    "자릿수 없으면 int로 반올림함\n",
    "\n",
    "sorted: iterable object를 넣어 요소들을 정렬해서 새 객체를 반환함\n",
    "        입력한 객체를 변경하지 않고 새 객체를 준다는 것이다.\n",
    "(iterable_object, reverse=False) -> iterable_object\n",
    "\n",
    "reversed: iterable_object를 넣고 요소들의 순서를 뒤집어서 새 객체를 반환함\n",
    "\n",
    "sum: iterable object를 넣어서 요소들의 합을 반환한다.\n",
    "\n",
    "type: datatype을 반환한다. (object) -> string\n",
    "\n"
   ]
  },
  {
   "cell_type": "code",
   "execution_count": 18,
   "metadata": {},
   "outputs": [
    {
     "name": "stdout",
     "output_type": "stream",
     "text": [
      "2.346\n",
      "[-1, -1, 0, 3, 4, 6, 12]\n",
      "2500\n"
     ]
    }
   ],
   "source": [
    "print(round(2.34566, 3))\n",
    "p = sorted([6, 3, 12, 4, -1, 0, -1])\n",
    "print(p)\n",
    "\n",
    "print(sum(range(1, 101, 2)))"
   ]
  },
  {
   "cell_type": "markdown",
   "metadata": {},
   "source": [
    "list, set, tuple, dictionary -> iterable_object\n",
    "\n",
    "zip : iterable_object의 요소를 index별로 순서대로 묶어서 반환한다.\n",
    "\n",
    "(iterable_object1, iterable_object2, ...) -> zip_object :형변환 필수"
   ]
  },
  {
   "cell_type": "code",
   "execution_count": 21,
   "metadata": {},
   "outputs": [
    {
     "name": "stdout",
     "output_type": "stream",
     "text": [
      "<zip object at 0x000001F3B9217500>\n",
      "[(10, 1), (20, 2), (30, 3)]\n",
      "[(10, 1), (20, 2)]\n"
     ]
    }
   ],
   "source": [
    "print(zip([10, 20, 30], [1, 2, 3]))\n",
    "\n",
    "print(list(zip([10, 20, 30], [1, 2, 3])))\n",
    "\n",
    "print(list(zip([10, 20, 30], [1, 2]))) \n",
    "# 만약에 짝이 안 맞는 것이 있다면 맞는 것만 반환한다."
   ]
  },
  {
   "cell_type": "markdown",
   "metadata": {},
   "source": [
    "수업 외로 조사한 것들\n",
    "\n",
    "eval (evaluate expression): \n",
    "        문자열로 된 파이썬 표현식을 받아서 그 표현식의 결과를 반환한다.\n",
    "        보안의 문제가 생길 수 있으니 문자열을 검사해 보고 사용해야 한다.\n",
    "\n",
    "\n",
    "exec (executing statements): \n",
    "        문자열로 된 명령어를 받아서 코드 그대로 수행한다.\n",
    "\n",
    "locals : 해당 block-level의 지역변수들을 딕셔너리 형태로 반환한다. \n",
    "        변경은 못하고 새로이 변수를 추가하는 것은 가능하다.\n",
    "        () -> dictionary\n",
    "\n",
    "globals : 특정 모듈 내의 전역변수를 딕셔너리 형태로 반환한다.\n",
    "                () -> dictionary\n",
    "\n",
    "iter : iterable_object를 받아서 iterable_object를 반환한다.\n",
    "        (iterable_object) -> input_object의 iterator object\n",
    "\n",
    "next : iterator를 받아서 요소들을 순서대로 반환한다.\n",
    "        C++의 for(auto a: v) cout << a << '\\n'; \n",
    "        (iterable_object) -> element\n",
    "        \n",
    "        요소들의 수보다 많이 실행하면 StopIteration Exception 발생함"
   ]
  },
  {
   "cell_type": "code",
   "execution_count": 23,
   "metadata": {},
   "outputs": [
    {
     "name": "stdout",
     "output_type": "stream",
     "text": [
      "6\n",
      "9\n"
     ]
    }
   ],
   "source": [
    "# eval\n",
    "ret = eval('3+3')\n",
    "print(ret)\n",
    "\n",
    "# 현재 모듈을 기준으로 변수를 찾는다.\n",
    "a1 = 4\n",
    "a2 = 5\n",
    "A = 'a1 + a2'\n",
    "print(eval(A))"
   ]
  },
  {
   "cell_type": "code",
   "execution_count": 29,
   "metadata": {},
   "outputs": [
    {
     "name": "stdout",
     "output_type": "stream",
     "text": [
      "12345\n"
     ]
    }
   ],
   "source": [
    "# exec\n",
    "password = 12345\n",
    "my_order = input('May I help you?')\n",
    "\n",
    "exec(my_order)\n",
    "\n",
    "\"\"\"\n",
    "여기에서 print(password)를 누르면 그 명령어를 그대로 실행한다.\n",
    "역시나 보안의 문제가 있다.\n",
    "\n",
    "eval은 주어진 표현식의 결과값이나 코드 속에 있는 속성값을 반환 받을 수 있다면\n",
    "이것은 내가 원하는 코드를 바로 실행할 수 있다.\n",
    "\n",
    "\"\"\""
   ]
  },
  {
   "cell_type": "code",
   "execution_count": 25,
   "metadata": {},
   "outputs": [
    {
     "name": "stdout",
     "output_type": "stream",
     "text": [
      "<list_iterator object at 0x000001F3B931DD00> <tuple_iterator object at 0x000001F3B931D0D0>\n"
     ]
    }
   ],
   "source": [
    "# iter, next\n",
    "l1 = [1, 2, 3, 4]\n",
    "l2 = (1, 2, 3)\n",
    "iter_l1 = iter(l1)\n",
    "iter_l2 = iter(l2)\n",
    "print(iter_l1, iter_l2)"
   ]
  },
  {
   "cell_type": "markdown",
   "metadata": {},
   "source": [
    "dir : 리눅스에선 디렉토리 안의 모든 파일을 출력하는 명령어다.\n",
    "    (object) -> method와 property의 list\n",
    "    __xxx__ : special method(named method) 연산자나 다른 함수들이 대신 호출한다.\n",
    "\n",
    "    나머지가 메소드인지 값인지 알기 위해 help를 쓰자"
   ]
  },
  {
   "cell_type": "code",
   "execution_count": 27,
   "metadata": {},
   "outputs": [
    {
     "name": "stdout",
     "output_type": "stream",
     "text": [
      "['__add__', '__class__', '__contains__', '__delattr__', '__dir__', '__doc__', '__eq__', '__format__', '__ge__', '__getattribute__', '__getitem__', '__getnewargs__', '__gt__', '__hash__', '__init__', '__init_subclass__', '__iter__', '__le__', '__len__', '__lt__', '__mod__', '__mul__', '__ne__', '__new__', '__reduce__', '__reduce_ex__', '__repr__', '__rmod__', '__rmul__', '__setattr__', '__sizeof__', '__str__', '__subclasshook__', 'capitalize', 'casefold', 'center', 'count', 'encode', 'endswith', 'expandtabs', 'find', 'format', 'format_map', 'index', 'isalnum', 'isalpha', 'isascii', 'isdecimal', 'isdigit', 'isidentifier', 'islower', 'isnumeric', 'isprintable', 'isspace', 'istitle', 'isupper', 'join', 'ljust', 'lower', 'lstrip', 'maketrans', 'partition', 'replace', 'rfind', 'rindex', 'rjust', 'rpartition', 'rsplit', 'rstrip', 'split', 'splitlines', 'startswith', 'strip', 'swapcase', 'title', 'translate', 'upper', 'zfill']\n",
      "Help on built-in function title:\n",
      "\n",
      "title() method of builtins.str instance\n",
      "    Return a version of the string where each word is titlecased.\n",
      "    \n",
      "    More specifically, words start with uppercased characters and all remaining\n",
      "    cased characters have lower case.\n",
      "\n"
     ]
    }
   ],
   "source": [
    "# dir\n",
    "\n",
    "a = 'fff'\n",
    "print(dir(a))\n",
    "\n",
    "help(a.title)"
   ]
  },
  {
   "cell_type": "code",
   "execution_count": 13,
   "metadata": {},
   "outputs": [
    {
     "name": "stdout",
     "output_type": "stream",
     "text": [
      "{'a': 2, 'b': True}\n",
      "====================================================================================================\n",
      "{'__name__': '__main__', '__doc__': 'Automatically created module for IPython interactive environment', '__package__': None, '__loader__': None, '__spec__': None, '__builtin__': <module 'builtins' (built-in)>, '__builtins__': <module 'builtins' (built-in)>, '_ih': ['', 'locals()', 'locals()\\n\\nglobals()', \"locals()\\nprint('='*100)\\nglobals()\", \"locals()\\nprint('='*100)\\n#globals()\", \"locals()\\nprint('='*100)\\n#globals()\", \"if True:\\n    a = 3\\n    locals()\\nprint('='*100)\\nglobals()\", \"a = 3\\nlocals()\\nprint('='*100)\\nglobals()\", \"def testing():\\n    a = 2\\n    b = True\\n    locals()\\ntesting()\\nprint('='*100)\\nglobals()\", 'locals()', 'def testing():\\n    a = 2\\n    b = True\\n    locals()\\ntesting()', 'def testing():\\n    a = 2\\n    b = True\\n    locals()\\ntesting()', 'def testing():\\n    a = 2\\n    b = True\\n    print(locals())\\n    \\ntesting()', \"def testing() -> dict:\\n    a = 2\\n    b = True\\n    return locals()\\nprint(testing())\\nprint('='*100)\\nprint(globals())\"], '_oh': {1: {...}, 2: {...}, 3: {...}, 6: {...}, 7: {...}, 8: {...}, 9: {...}}, '_dh': ['c:\\\\Users\\\\rokie\\\\AlgorithmStudy\\\\inflearnPython\\\\level1'], 'In': ['', 'locals()', 'locals()\\n\\nglobals()', \"locals()\\nprint('='*100)\\nglobals()\", \"locals()\\nprint('='*100)\\n#globals()\", \"locals()\\nprint('='*100)\\n#globals()\", \"if True:\\n    a = 3\\n    locals()\\nprint('='*100)\\nglobals()\", \"a = 3\\nlocals()\\nprint('='*100)\\nglobals()\", \"def testing():\\n    a = 2\\n    b = True\\n    locals()\\ntesting()\\nprint('='*100)\\nglobals()\", 'locals()', 'def testing():\\n    a = 2\\n    b = True\\n    locals()\\ntesting()', 'def testing():\\n    a = 2\\n    b = True\\n    locals()\\ntesting()', 'def testing():\\n    a = 2\\n    b = True\\n    print(locals())\\n    \\ntesting()', \"def testing() -> dict:\\n    a = 2\\n    b = True\\n    return locals()\\nprint(testing())\\nprint('='*100)\\nprint(globals())\"], 'Out': {1: {...}, 2: {...}, 3: {...}, 6: {...}, 7: {...}, 8: {...}, 9: {...}}, 'get_ipython': <bound method InteractiveShell.get_ipython of <ipykernel.zmqshell.ZMQInteractiveShell object at 0x0000025176DAC130>>, 'exit': <IPython.core.autocall.ZMQExitAutocall object at 0x0000025176E68D90>, 'quit': <IPython.core.autocall.ZMQExitAutocall object at 0x0000025176E68D90>, '_': {...}, '__': {...}, '___': {...}, 'os': <module 'os' from 'c:\\\\Users\\\\rokie\\\\anaconda3\\\\envs\\\\ai\\\\lib\\\\os.py'>, 'sys': <module 'sys' (built-in)>, '__vsc_ipynb_file__': 'c:\\\\Users\\\\rokie\\\\AlgorithmStudy\\\\inflearnPython\\\\level1\\\\Built-in_Function_Chapter8.ipynb', '_i': 'def testing():\\n    a = 2\\n    b = True\\n    print(locals())\\n    \\ntesting()', '_ii': 'def testing():\\n    a = 2\\n    b = True\\n    locals()\\ntesting()', '_iii': 'def testing():\\n    a = 2\\n    b = True\\n    locals()\\ntesting()', '_i1': 'locals()', '_1': {...}, '_i2': 'locals()\\n\\nglobals()', '_2': {...}, '_i3': \"locals()\\nprint('='*100)\\nglobals()\", '_3': {...}, '_i4': \"locals()\\nprint('='*100)\\n#globals()\", '_i5': \"locals()\\nprint('='*100)\\n#globals()\", '_i6': \"if True:\\n    a = 3\\n    locals()\\nprint('='*100)\\nglobals()\", 'a': 3, '_6': {...}, '_i7': \"a = 3\\nlocals()\\nprint('='*100)\\nglobals()\", '_7': {...}, '_i8': \"def testing():\\n    a = 2\\n    b = True\\n    locals()\\ntesting()\\nprint('='*100)\\nglobals()\", 'testing': <function testing at 0x0000025176EBB940>, '_8': {...}, '_i9': 'locals()', '_9': {...}, '_i10': 'def testing():\\n    a = 2\\n    b = True\\n    locals()\\ntesting()', '_i11': 'def testing():\\n    a = 2\\n    b = True\\n    locals()\\ntesting()', '_i12': 'def testing():\\n    a = 2\\n    b = True\\n    print(locals())\\n    \\ntesting()', '_i13': \"def testing() -> dict:\\n    a = 2\\n    b = True\\n    return locals()\\nprint(testing())\\nprint('='*100)\\nprint(globals())\"}\n"
     ]
    }
   ],
   "source": [
    "def testing() -> dict:\n",
    "    a = 2\n",
    "    b = True\n",
    "    return locals()\n",
    "print(testing())\n",
    "print('='*100)\n",
    "print(globals())\n"
   ]
  },
  {
   "cell_type": "code",
   "execution_count": 12,
   "metadata": {},
   "outputs": [
    {
     "name": "stdout",
     "output_type": "stream",
     "text": [
      "{'a': 2, 'b': True}\n"
     ]
    }
   ],
   "source": []
  }
 ],
 "metadata": {
  "kernelspec": {
   "display_name": "Python 3.8.10 ('ai')",
   "language": "python",
   "name": "python3"
  },
  "language_info": {
   "codemirror_mode": {
    "name": "ipython",
    "version": 3
   },
   "file_extension": ".py",
   "mimetype": "text/x-python",
   "name": "python",
   "nbconvert_exporter": "python",
   "pygments_lexer": "ipython3",
   "version": "3.8.10"
  },
  "orig_nbformat": 4,
  "vscode": {
   "interpreter": {
    "hash": "6270e6d8b5fb321e1a842519f0c29f2e2b7188cdba36e81e06ada9019ab06ac7"
   }
  }
 },
 "nbformat": 4,
 "nbformat_minor": 2
}
