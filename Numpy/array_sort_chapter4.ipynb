{
 "cells": [
  {
   "cell_type": "markdown",
   "metadata": {},
   "source": [
    "np.sort(ndarray, axis: int | None)\n",
    "np.argsort(ndarray, axis: int | None)"
   ]
  },
  {
   "cell_type": "code",
   "execution_count": 19,
   "metadata": {},
   "outputs": [
    {
     "name": "stdout",
     "output_type": "stream",
     "text": [
      "[8 5 5 6 6 7 3 0 7 1]\n"
     ]
    }
   ],
   "source": [
    "import numpy as np\n",
    "\n",
    "arr = np.random.randint(low=0, high=10, size=10)\n",
    "print(arr)"
   ]
  },
  {
   "cell_type": "code",
   "execution_count": 20,
   "metadata": {},
   "outputs": [
    {
     "name": "stdout",
     "output_type": "stream",
     "text": [
      "[8 5 5 6 6 7 3 0 7 1]\n",
      "[0 1 3 5 5 6 6 7 7 8]\n",
      "[8 7 7 6 6 5 5 3 1 0]\n"
     ]
    }
   ],
   "source": [
    "arr2 = np.sort(arr) # (ndarray) -> ndarray\n",
    "print(arr) # 원본은 그대로\n",
    "print(arr2) # 디폴트 오름차순\n",
    "print(np.sort(arr)[::-1]) # 내림차순\n"
   ]
  },
  {
   "cell_type": "code",
   "execution_count": 21,
   "metadata": {},
   "outputs": [
    {
     "name": "stdout",
     "output_type": "stream",
     "text": [
      "[8 5 5 6 6 7 3 0 7 1]\n",
      "[0 1 3 5 5 6 6 7 7 8]\n"
     ]
    }
   ],
   "source": [
    "print(arr)\n",
    "arr.sort()\n",
    "print(arr)\n",
    "# C++ 함수형식과 객체지향 메소드의 차이이다.\n",
    "# 함수의 새 봔환값과 본체가 바뀐다."
   ]
  },
  {
   "cell_type": "code",
   "execution_count": 22,
   "metadata": {},
   "outputs": [
    {
     "name": "stdout",
     "output_type": "stream",
     "text": [
      "[[ 4  3  6 11]\n",
      " [10  5 13  2]\n",
      " [ 5  1 13  2]]\n"
     ]
    }
   ],
   "source": [
    "# 2차원배열\n",
    "arr = np.random.randint(0, 15, size=(3,4))\n",
    "print(arr)"
   ]
  },
  {
   "cell_type": "code",
   "execution_count": 23,
   "metadata": {},
   "outputs": [
    {
     "name": "stdout",
     "output_type": "stream",
     "text": [
      "[[ 3  4  6 11]\n",
      " [ 2  5 10 13]\n",
      " [ 1  2  5 13]]\n",
      "[[ 4  1  6  2]\n",
      " [ 5  3 13  2]\n",
      " [10  5 13 11]]\n"
     ]
    }
   ],
   "source": [
    "print(np.sort(arr)) # default axis=1\n",
    "print(np.sort(arr, axis=0))"
   ]
  },
  {
   "cell_type": "code",
   "execution_count": 24,
   "metadata": {},
   "outputs": [
    {
     "name": "stdout",
     "output_type": "stream",
     "text": [
      "[ 1  2  2  3  4  5  5  6 10 11 13 13]\n"
     ]
    }
   ],
   "source": [
    "print(np.sort(arr, axis= None)) # 2차원 -> 1차원 배열로 바꾸어 다 정렬함"
   ]
  },
  {
   "cell_type": "code",
   "execution_count": 27,
   "metadata": {},
   "outputs": [
    {
     "name": "stdout",
     "output_type": "stream",
     "text": [
      "[[ 3  4  6 11]\n",
      " [ 2  5 10 13]\n",
      " [ 1  2  5 13]]\n",
      "[[1 0 2 3]\n",
      " [3 1 0 2]\n",
      " [1 3 0 2]]\n",
      "[[0 2 0 1]\n",
      " [2 0 1 2]\n",
      " [1 1 2 0]]\n",
      "[ 9  7 11  1  0  5  8  2  4  3  6 10]\n"
     ]
    }
   ],
   "source": [
    "# argsort() : 원래 배열을 정렬한 뒤에 그 값의 원래 위치 index를 배열에 담는다.\n",
    "print(np.sort(arr, axis=1))\n",
    "print(np.argsort(arr, axis=1))\n",
    "print(np.argsort(arr, axis=0)) # axis=0을 기준으로 index를 책정했다.\n",
    "print(np.argsort(arr, axis=None))"
   ]
  },
  {
   "cell_type": "code",
   "execution_count": null,
   "metadata": {},
   "outputs": [],
   "source": []
  },
  {
   "cell_type": "code",
   "execution_count": null,
   "metadata": {},
   "outputs": [],
   "source": []
  }
 ],
 "metadata": {
  "kernelspec": {
   "display_name": "Python 3.8.10 ('ai')",
   "language": "python",
   "name": "python3"
  },
  "language_info": {
   "codemirror_mode": {
    "name": "ipython",
    "version": 3
   },
   "file_extension": ".py",
   "mimetype": "text/x-python",
   "name": "python",
   "nbconvert_exporter": "python",
   "pygments_lexer": "ipython3",
   "version": "3.8.10"
  },
  "orig_nbformat": 4,
  "vscode": {
   "interpreter": {
    "hash": "6270e6d8b5fb321e1a842519f0c29f2e2b7188cdba36e81e06ada9019ab06ac7"
   }
  }
 },
 "nbformat": 4,
 "nbformat_minor": 2
}
