{
 "cells": [
  {
   "cell_type": "markdown",
   "metadata": {},
   "source": [
    "Futures(동시성) <br>\n",
    "\n",
    "비동기 작업 실행의 A-> B\n",
    "    동기작업이면 A를 완전히 끝낼 때까지 기다렸다가 B를 실행한다.\n",
    "    비동기면 A를 하면서 B도 수행할 수 있다.\n",
    "\n",
    "지연시간(Block): CPU 및 리소스 낭비를 방지한다. -> fileIO, networkIO에서 권장한다. <br>\n",
    "비동기 작업과 적함한 프로그램일 경우 압도적으로 성능이 향상된다. <br>\n",
    "\n",
    "2가지 패턴 <br>\n",
    "futures: 비동기 실행을 위한 API를 high-level로 쉽게 사용할 수 있도록 개선된 패키지이다.<br>\n",
    "1. multi-threading/multi-processing API가 통일되었다. 매우 사용하기 쉬움.\n",
    "2. 실행 중인 작업 취소(interrupt), 완료 여부 체크, 타임아웃 옵션(timeout), 콜백 추가(callback), 동기화 코드(synchronized code)를 쉽게 작성할 수 있다.\n",
    "-> promise 개념\n",
    "- concurrent.futures map 사용법1\n",
    "- concurrent.futures wait, as_completed 사용법2"
   ]
  },
  {
   "cell_type": "markdown",
   "metadata": {},
   "source": [
    "GIL(Global Interpreter Lock) : 2개 이상의 thread가 동시에 실행하면서 하나의  자원을 접근하는 경우일 때, <br>\n",
    "문제를 방지하기 위해 GIL이 실행된다. 리소스 전체에 락이 걸린다. <br>\n",
    "Context-switching cost 증가 <br>\n",
    "GIL 우회: 멀티프로세싱 사용, Cpython 사용 <br>"
   ]
  },
  {
   "cell_type": "code",
   "execution_count": 3,
   "metadata": {},
   "outputs": [],
   "source": [
    "import os, time\n",
    "from concurrent import futures\n",
    "\n",
    "WORK_LIST = [10000, 100000, 1000000, 10000000]\n",
    "\n"
   ]
  },
  {
   "cell_type": "code",
   "execution_count": 4,
   "metadata": {},
   "outputs": [],
   "source": [
    "# 동시성 합계 계산 메인 함수\n",
    "# 누적 합계 함수(generator)\n",
    "\n",
    "def sum_generator(n):\n",
    "    return sum(n for n in range(1, n+1))"
   ]
  },
  {
   "cell_type": "code",
   "execution_count": 5,
   "metadata": {},
   "outputs": [
    {
     "name": "stdout",
     "output_type": "stream",
     "text": [
      "<generator object <genexpr> at 0x0000021924B457B0>\n"
     ]
    }
   ],
   "source": [
    "print(n for n in range(1, 10))\n",
    "# tuple comprehension unpacking\n"
   ]
  },
  {
   "cell_type": "code",
   "execution_count": 6,
   "metadata": {},
   "outputs": [],
   "source": [
    "def main():\n",
    "    # Worker count\n",
    "    worker = min(10, len(WORK_LIST))\n",
    "\n",
    "    start_tm = time.time() # 시작\n",
    "\n",
    "    # 결과 건수\n",
    "    # ThreadPoolExecuter() 또는 ProcessPoolExecutor() 같은 방식으로 사용함\n",
    "    with futures.ThreadPoolExecutor() as executor:\n",
    "        result = executor.map(sum_generator, WORK_LIST)\n",
    "        # 그냥 map처럼 (함수, target_list) -> list\n",
    "        # map은 작업 순서를 유지하고 즉시 실행한다.\n",
    "        # 모든 결과가 생성되어서야 list에 담아낸다.\n",
    "\n",
    "\n",
    "    end_tm = time.time() - start_tm # 끝\n",
    "\n",
    "    msg = '\\n Result - > {} Time : {:.2f}s'\n",
    "\n",
    "    print(msg.format(list(result), end_tm))"
   ]
  },
  {
   "cell_type": "code",
   "execution_count": 7,
   "metadata": {},
   "outputs": [
    {
     "name": "stdout",
     "output_type": "stream",
     "text": [
      "\n",
      " Result - > [50005000, 5000050000, 500000500000, 50000005000000] Time : 0.93s\n"
     ]
    }
   ],
   "source": [
    "# 실행\n",
    "if __name__ == '__main__':\n",
    "    main()"
   ]
  },
  {
   "cell_type": "code",
   "execution_count": 8,
   "metadata": {},
   "outputs": [],
   "source": [
    "def main2():\n",
    "    # Worker count\n",
    "    worker = min(10, len(WORK_LIST))\n",
    "\n",
    "    start_tm = time.time() # 시작\n",
    "\n",
    "    # 결과 건수\n",
    "    # ThreadPoolExecuter() 또는 ProcessPoolExecutor() 같은 방식으로 사용함\n",
    "    with futures.ProcessPoolExecutor(max_workers= worker) as executor:\n",
    "        result = executor.map(sum_generator, WORK_LIST)\n",
    "        # 그냥 map처럼 (함수, target_list)\n",
    "        # map은 작업 순서를 유지하고 즉시 실행한다.\n",
    "\n",
    "\n",
    "\n",
    "    end_tm = time.time() - start_tm # 끝\n",
    "\n",
    "    msg = '\\n Result - > {} Time : {:.2f}s'\n",
    "\n",
    "    print(msg.format(list(result), end_tm))"
   ]
  },
  {
   "cell_type": "markdown",
   "metadata": {},
   "source": [
    "multi-processing에선 CPU 사양이나 OS 환경에 따라서 max_worker의 한계가 있다.  <br>\n",
    "BrokenProcessPool: A process in the process pool was terminated abruptly while the future was running or pending.<br>\n",
    "이런 오류가 발생할 수 있으니 최대 코어 수를 줄여라. 내 컴퓨터는 사양이 낮아서 안 된다. <br>\n",
    "leve4의 multiprocesss를 참고하자."
   ]
  },
  {
   "cell_type": "code",
   "execution_count": 9,
   "metadata": {},
   "outputs": [
    {
     "ename": "BrokenProcessPool",
     "evalue": "A process in the process pool was terminated abruptly while the future was running or pending.",
     "output_type": "error",
     "traceback": [
      "\u001b[1;31m---------------------------------------------------------------------------\u001b[0m",
      "\u001b[1;31mBrokenProcessPool\u001b[0m                         Traceback (most recent call last)",
      "\u001b[1;32m<ipython-input-9-9ab1ad78c985>\u001b[0m in \u001b[0;36m<module>\u001b[1;34m\u001b[0m\n\u001b[0;32m      1\u001b[0m \u001b[1;32mif\u001b[0m \u001b[0m__name__\u001b[0m \u001b[1;33m==\u001b[0m \u001b[1;34m'__main__'\u001b[0m\u001b[1;33m:\u001b[0m\u001b[1;33m\u001b[0m\u001b[1;33m\u001b[0m\u001b[0m\n\u001b[1;32m----> 2\u001b[1;33m     \u001b[0mmain2\u001b[0m\u001b[1;33m(\u001b[0m\u001b[1;33m)\u001b[0m\u001b[1;33m\u001b[0m\u001b[1;33m\u001b[0m\u001b[0m\n\u001b[0m",
      "\u001b[1;32m<ipython-input-8-629e34b08d79>\u001b[0m in \u001b[0;36mmain2\u001b[1;34m()\u001b[0m\n\u001b[0;32m     18\u001b[0m     \u001b[0mmsg\u001b[0m \u001b[1;33m=\u001b[0m \u001b[1;34m'\\n Result - > {} Time : {:.2f}s'\u001b[0m\u001b[1;33m\u001b[0m\u001b[1;33m\u001b[0m\u001b[0m\n\u001b[0;32m     19\u001b[0m \u001b[1;33m\u001b[0m\u001b[0m\n\u001b[1;32m---> 20\u001b[1;33m     \u001b[0mprint\u001b[0m\u001b[1;33m(\u001b[0m\u001b[0mmsg\u001b[0m\u001b[1;33m.\u001b[0m\u001b[0mformat\u001b[0m\u001b[1;33m(\u001b[0m\u001b[0mlist\u001b[0m\u001b[1;33m(\u001b[0m\u001b[0mresult\u001b[0m\u001b[1;33m)\u001b[0m\u001b[1;33m,\u001b[0m \u001b[0mend_tm\u001b[0m\u001b[1;33m)\u001b[0m\u001b[1;33m)\u001b[0m\u001b[1;33m\u001b[0m\u001b[1;33m\u001b[0m\u001b[0m\n\u001b[0m",
      "\u001b[1;32mc:\\Users\\rokie\\anaconda3\\envs\\ai\\lib\\concurrent\\futures\\process.py\u001b[0m in \u001b[0;36m_chain_from_iterable_of_lists\u001b[1;34m(iterable)\u001b[0m\n\u001b[0;32m    482\u001b[0m     \u001b[0mcareful\u001b[0m \u001b[1;32mnot\u001b[0m \u001b[0mto\u001b[0m \u001b[0mkeep\u001b[0m \u001b[0mreferences\u001b[0m \u001b[0mto\u001b[0m \u001b[0myielded\u001b[0m \u001b[0mobjects\u001b[0m\u001b[1;33m.\u001b[0m\u001b[1;33m\u001b[0m\u001b[1;33m\u001b[0m\u001b[0m\n\u001b[0;32m    483\u001b[0m     \"\"\"\n\u001b[1;32m--> 484\u001b[1;33m     \u001b[1;32mfor\u001b[0m \u001b[0melement\u001b[0m \u001b[1;32min\u001b[0m \u001b[0miterable\u001b[0m\u001b[1;33m:\u001b[0m\u001b[1;33m\u001b[0m\u001b[1;33m\u001b[0m\u001b[0m\n\u001b[0m\u001b[0;32m    485\u001b[0m         \u001b[0melement\u001b[0m\u001b[1;33m.\u001b[0m\u001b[0mreverse\u001b[0m\u001b[1;33m(\u001b[0m\u001b[1;33m)\u001b[0m\u001b[1;33m\u001b[0m\u001b[1;33m\u001b[0m\u001b[0m\n\u001b[0;32m    486\u001b[0m         \u001b[1;32mwhile\u001b[0m \u001b[0melement\u001b[0m\u001b[1;33m:\u001b[0m\u001b[1;33m\u001b[0m\u001b[1;33m\u001b[0m\u001b[0m\n",
      "\u001b[1;32mc:\\Users\\rokie\\anaconda3\\envs\\ai\\lib\\concurrent\\futures\\_base.py\u001b[0m in \u001b[0;36mresult_iterator\u001b[1;34m()\u001b[0m\n\u001b[0;32m    617\u001b[0m                     \u001b[1;31m# Careful not to keep a reference to the popped future\u001b[0m\u001b[1;33m\u001b[0m\u001b[1;33m\u001b[0m\u001b[1;33m\u001b[0m\u001b[0m\n\u001b[0;32m    618\u001b[0m                     \u001b[1;32mif\u001b[0m \u001b[0mtimeout\u001b[0m \u001b[1;32mis\u001b[0m \u001b[1;32mNone\u001b[0m\u001b[1;33m:\u001b[0m\u001b[1;33m\u001b[0m\u001b[1;33m\u001b[0m\u001b[0m\n\u001b[1;32m--> 619\u001b[1;33m                         \u001b[1;32myield\u001b[0m \u001b[0mfs\u001b[0m\u001b[1;33m.\u001b[0m\u001b[0mpop\u001b[0m\u001b[1;33m(\u001b[0m\u001b[1;33m)\u001b[0m\u001b[1;33m.\u001b[0m\u001b[0mresult\u001b[0m\u001b[1;33m(\u001b[0m\u001b[1;33m)\u001b[0m\u001b[1;33m\u001b[0m\u001b[1;33m\u001b[0m\u001b[0m\n\u001b[0m\u001b[0;32m    620\u001b[0m                     \u001b[1;32melse\u001b[0m\u001b[1;33m:\u001b[0m\u001b[1;33m\u001b[0m\u001b[1;33m\u001b[0m\u001b[0m\n\u001b[0;32m    621\u001b[0m                         \u001b[1;32myield\u001b[0m \u001b[0mfs\u001b[0m\u001b[1;33m.\u001b[0m\u001b[0mpop\u001b[0m\u001b[1;33m(\u001b[0m\u001b[1;33m)\u001b[0m\u001b[1;33m.\u001b[0m\u001b[0mresult\u001b[0m\u001b[1;33m(\u001b[0m\u001b[0mend_time\u001b[0m \u001b[1;33m-\u001b[0m \u001b[0mtime\u001b[0m\u001b[1;33m.\u001b[0m\u001b[0mmonotonic\u001b[0m\u001b[1;33m(\u001b[0m\u001b[1;33m)\u001b[0m\u001b[1;33m)\u001b[0m\u001b[1;33m\u001b[0m\u001b[1;33m\u001b[0m\u001b[0m\n",
      "\u001b[1;32mc:\\Users\\rokie\\anaconda3\\envs\\ai\\lib\\concurrent\\futures\\_base.py\u001b[0m in \u001b[0;36mresult\u001b[1;34m(self, timeout)\u001b[0m\n\u001b[0;32m    435\u001b[0m                     \u001b[1;32mraise\u001b[0m \u001b[0mCancelledError\u001b[0m\u001b[1;33m(\u001b[0m\u001b[1;33m)\u001b[0m\u001b[1;33m\u001b[0m\u001b[1;33m\u001b[0m\u001b[0m\n\u001b[0;32m    436\u001b[0m                 \u001b[1;32melif\u001b[0m \u001b[0mself\u001b[0m\u001b[1;33m.\u001b[0m\u001b[0m_state\u001b[0m \u001b[1;33m==\u001b[0m \u001b[0mFINISHED\u001b[0m\u001b[1;33m:\u001b[0m\u001b[1;33m\u001b[0m\u001b[1;33m\u001b[0m\u001b[0m\n\u001b[1;32m--> 437\u001b[1;33m                     \u001b[1;32mreturn\u001b[0m \u001b[0mself\u001b[0m\u001b[1;33m.\u001b[0m\u001b[0m__get_result\u001b[0m\u001b[1;33m(\u001b[0m\u001b[1;33m)\u001b[0m\u001b[1;33m\u001b[0m\u001b[1;33m\u001b[0m\u001b[0m\n\u001b[0m\u001b[0;32m    438\u001b[0m \u001b[1;33m\u001b[0m\u001b[0m\n\u001b[0;32m    439\u001b[0m                 \u001b[0mself\u001b[0m\u001b[1;33m.\u001b[0m\u001b[0m_condition\u001b[0m\u001b[1;33m.\u001b[0m\u001b[0mwait\u001b[0m\u001b[1;33m(\u001b[0m\u001b[0mtimeout\u001b[0m\u001b[1;33m)\u001b[0m\u001b[1;33m\u001b[0m\u001b[1;33m\u001b[0m\u001b[0m\n",
      "\u001b[1;32mc:\\Users\\rokie\\anaconda3\\envs\\ai\\lib\\concurrent\\futures\\_base.py\u001b[0m in \u001b[0;36m__get_result\u001b[1;34m(self)\u001b[0m\n\u001b[0;32m    387\u001b[0m         \u001b[1;32mif\u001b[0m \u001b[0mself\u001b[0m\u001b[1;33m.\u001b[0m\u001b[0m_exception\u001b[0m\u001b[1;33m:\u001b[0m\u001b[1;33m\u001b[0m\u001b[1;33m\u001b[0m\u001b[0m\n\u001b[0;32m    388\u001b[0m             \u001b[1;32mtry\u001b[0m\u001b[1;33m:\u001b[0m\u001b[1;33m\u001b[0m\u001b[1;33m\u001b[0m\u001b[0m\n\u001b[1;32m--> 389\u001b[1;33m                 \u001b[1;32mraise\u001b[0m \u001b[0mself\u001b[0m\u001b[1;33m.\u001b[0m\u001b[0m_exception\u001b[0m\u001b[1;33m\u001b[0m\u001b[1;33m\u001b[0m\u001b[0m\n\u001b[0m\u001b[0;32m    390\u001b[0m             \u001b[1;32mfinally\u001b[0m\u001b[1;33m:\u001b[0m\u001b[1;33m\u001b[0m\u001b[1;33m\u001b[0m\u001b[0m\n\u001b[0;32m    391\u001b[0m                 \u001b[1;31m# Break a reference cycle with the exception in self._exception\u001b[0m\u001b[1;33m\u001b[0m\u001b[1;33m\u001b[0m\u001b[1;33m\u001b[0m\u001b[0m\n",
      "\u001b[1;31mBrokenProcessPool\u001b[0m: A process in the process pool was terminated abruptly while the future was running or pending."
     ]
    }
   ],
   "source": [
    "if __name__ == '__main__':\n",
    "    main2()"
   ]
  },
  {
   "cell_type": "markdown",
   "metadata": {},
   "source": [
    "[10000, 100000, 1000000, 10000000] <br>\n",
    "각각 필요한 시간이 다르고 잘 끝날 지 알 수 없다. <br>\n",
    "(fs, timeout=None, return_when=ALL_COMPLETED) -> done, not_done : set <br>\n",
    "\n",
    "FIRST_COMPLETED: 어느 하나라도 끝나거나 취소될 때 함수가 반환된다. <br>\n",
    "FIRST_EXCEPTION: 어느 하나라도 예외로 완료되면 반환되며 예외 없으면 ALL_COMPLETED와 동일하다<br>\n",
    "ALL_COMPLETED: 모든 future가 끝나거나 취소되면 함수가 반환된다. <br>"
   ]
  },
  {
   "cell_type": "code",
   "execution_count": null,
   "metadata": {},
   "outputs": [],
   "source": [
    "from concurrent.futures import ThreadPoolExecutor, ProcessPoolExecutor, wait, as_completed\n",
    "# 따로 가져와야 한다.\n",
    "\n",
    "\n",
    "def main2():\n",
    "    # Worker count\n",
    "    worker = min(10, len(WORK_LIST))\n",
    "\n",
    "    start_tm = time.time() # 시작\n",
    "\n",
    "    futures_list = []\n",
    "    with futures.ThreadPoolExecutor(max_workers= worker) as executor:\n",
    "        for work in WORK_LIST:\n",
    "            # future만 반환하지 실행되지 않는다.\n",
    "            # 미래의 할 일을 반환할 뿐이다.\n",
    "            future = executor.submit(sum_generator, work)\n",
    "            # scheduling\n",
    "            futures_list.append(future)\n",
    "            print(f'Scheduled for {work} : {future}')\n",
    "            \n",
    "    \n",
    "\n",
    "        result = wait(futures_list, timeout=7)\n",
    "        # 스케쥴링된 리스트를 7초 안에 끝내라, 실행 단계\n",
    "        #(fs, timeout=None, return_when=ALL_COMPLETED)\n",
    "\n",
    "        print(f'Completed Tasks : ' + str(result.done))\n",
    "        # 성공한 것만 가져오게 한다.\n",
    "\n",
    "        print(f'Pending ones after waiting {str(result.not_done)}')\n",
    "        # 실패한 것들\n",
    "\n",
    "        print([future.result() for future in result.done])\n",
    "        # 결과들\n",
    " \n",
    "\n",
    "    msg = '\\n Result - > {} Time : {:.2f}s'\n",
    "\n",
    "    end_tm = time.time() - start_tm # 끝\n",
    "\n",
    "    print(msg.format(list(result), end_tm))\n",
    "\n"
   ]
  },
  {
   "cell_type": "code",
   "execution_count": null,
   "metadata": {},
   "outputs": [
    {
     "name": "stdout",
     "output_type": "stream",
     "text": [
      "Scheduled for 10000 : <Future at 0x128f980a640 state=finished returned int>\n",
      "Scheduled for 100000 : <Future at 0x128f8a13be0 state=pending>\n",
      "Scheduled for 1000000 : <Future at 0x128f980ac70 state=running>\n",
      "Scheduled for 10000000 : <Future at 0x128f980af70 state=pending>\n",
      "Completed Tasks : {<Future at 0x128f980af70 state=finished returned int>, <Future at 0x128f980a640 state=finished returned int>, <Future at 0x128f8a13be0 state=finished returned int>, <Future at 0x128f980ac70 state=finished returned int>}\n",
      "Pending ones after waiting set()\n",
      "[50000005000000, 50005000, 5000050000, 500000500000]\n",
      "\n",
      " Result - > [{<Future at 0x128f980af70 state=finished returned int>, <Future at 0x128f980a640 state=finished returned int>, <Future at 0x128f8a13be0 state=finished returned int>, <Future at 0x128f980ac70 state=finished returned int>}, set()] Time : 1.03s\n",
      "====================================================================================================\n"
     ]
    }
   ],
   "source": [
    "main2()\n",
    "print('='*100)\n",
    "#type(futures_list[0]) -> <class 'concurrent.futures._base.Future'>\n",
    "#type(result[0]) -> <class 'set'>"
   ]
  },
  {
   "cell_type": "markdown",
   "metadata": {},
   "source": [
    "as_completed(fs, timeout=None) <br>\n",
    "먼저 완료되거나 취소되는 순서대로 반환한다. generator <br>\n",
    "작업량이 매우 불균일하게 분할되거나 한 작업이 오래 걸릴 경우에 먼저 되는 것들을 받아서\n",
    "먼저 작업하기에 적합하다. <br>\n"
   ]
  },
  {
   "cell_type": "code",
   "execution_count": null,
   "metadata": {},
   "outputs": [],
   "source": [
    "def main3():\n",
    "    # Worker count\n",
    "    worker = min(10, len(WORK_LIST))\n",
    "\n",
    "    start_tm = time.time() # 시작\n",
    "\n",
    "    futures_list = []\n",
    "    \n",
    "    with ThreadPoolExecutor() as executor:\n",
    "\n",
    "        for work in WORK_LIST:\n",
    "\n",
    "            future = executor.submit(sum_generator, work)\n",
    "            # scheduling\n",
    "            futures_list.append(future)\n",
    "\n",
    "            print(f'Scheduled for {work} : {future}')\n",
    "\n",
    "        for future in as_completed(futures_list):\n",
    "            # as_completed 말그대로 먼저 끝나는 대로 반환된다.\n",
    "            result = future.result()\n",
    "            done = future.done()\n",
    "            cancelled = future.cancelled()\n",
    "\n",
    "            print(f'Future Result : {result}, Done : {done}')\n",
    "            print(f'Future Cancelled : {cancelled}')\n",
    "\n",
    " \n",
    "\n",
    "    msg = '\\n Time : {:.2f}s'\n",
    "\n",
    "    end_tm = time.time() - start_tm # 끝\n",
    "\n",
    "    print(msg.format(end_tm))"
   ]
  },
  {
   "cell_type": "code",
   "execution_count": null,
   "metadata": {},
   "outputs": [
    {
     "name": "stdout",
     "output_type": "stream",
     "text": [
      "Scheduled for 10000 : <Future at 0x128f980a700 state=finished returned int>\n",
      "Scheduled for 100000 : <Future at 0x128f980ab50 state=pending>\n",
      "Scheduled for 1000000 : <Future at 0x128f8a13490 state=running>\n",
      "Scheduled for 10000000 : <Future at 0x128f8a13af0 state=running>\n",
      "Future Result : 5000050000, Done : True\n",
      "Future Cancelled : False\n",
      "Future Result : 50005000, Done : True\n",
      "Future Cancelled : False\n",
      "Future Result : 500000500000, Done : True\n",
      "Future Cancelled : False\n",
      "Future Result : 50000005000000, Done : True\n",
      "Future Cancelled : False\n",
      "\n",
      " Time : 1.11s\n"
     ]
    }
   ],
   "source": [
    "main3()"
   ]
  },
  {
   "cell_type": "code",
   "execution_count": null,
   "metadata": {},
   "outputs": [],
   "source": []
  }
 ],
 "metadata": {
  "kernelspec": {
   "display_name": "Python 3.8.10 ('ai')",
   "language": "python",
   "name": "python3"
  },
  "language_info": {
   "codemirror_mode": {
    "name": "ipython",
    "version": 3
   },
   "file_extension": ".py",
   "mimetype": "text/x-python",
   "name": "python",
   "nbconvert_exporter": "python",
   "pygments_lexer": "ipython3",
   "version": "3.8.10"
  },
  "orig_nbformat": 4,
  "vscode": {
   "interpreter": {
    "hash": "6270e6d8b5fb321e1a842519f0c29f2e2b7188cdba36e81e06ada9019ab06ac7"
   }
  }
 },
 "nbformat": 4,
 "nbformat_minor": 2
}
