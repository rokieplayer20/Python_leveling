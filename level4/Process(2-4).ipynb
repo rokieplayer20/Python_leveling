{
 "cells": [
  {
   "cell_type": "markdown",
   "metadata": {},
   "source": [
    "Sharing state <br>\n",
    "keyword: memory sharing, array sharing, value sharing"
   ]
  },
  {
   "cell_type": "code",
   "execution_count": 4,
   "metadata": {},
   "outputs": [],
   "source": [
    "from multiprocessing import Process, current_process\n",
    "import os\n",
    "\n",
    "# 프로세스 메모리 공유하지 않는 예제\n",
    "\n",
    "#실행함수\n",
    "def generate_update_number(v: int):\n",
    "    for _ in range(50):\n",
    "        v += 1\n",
    "\n",
    "    print(current_process().name, \"data\", v)\n",
    "\n",
    "def main():\n",
    "    \n",
    "    # 부모 프로세스 id\n",
    "    parent_process_id = os.getpid()\n",
    "\n",
    "    print(f'Parent process ID: {parent_process_id}')\n",
    "\n",
    "    # 프로세스 리스트 선언\n",
    "    processes = list()\n",
    "\n",
    "    # 프로세스 메모리 공유 변수\n",
    "    share_value = 0\n",
    "\n",
    "    for _ in range(1, 10):\n",
    "        # 생성\n",
    "        p = Process(target= generate_update_number, args =(share_value,))\n",
    "        # 배열에 담기\n",
    "        processes.append(p)\n",
    "        #실행\n",
    "        p.start()\n",
    "\n",
    "\n",
    "\n",
    "    for p in processes:\n",
    "        p.join()\n",
    "\n",
    "    # 최종 프로세스 부모 변수 확인\n",
    "    print(f'Final Data in Parent process: {share_value}')"
   ]
  },
  {
   "cell_type": "markdown",
   "metadata": {},
   "source": [
    "각 process에 share_value가 들어갔음에도\n",
    "각 프로세스는 개별적으로 메모리를 할당 받기 때문에\n",
    "parent process의 변수는 변하지 않았다."
   ]
  },
  {
   "cell_type": "code",
   "execution_count": 5,
   "metadata": {},
   "outputs": [
    {
     "name": "stdout",
     "output_type": "stream",
     "text": [
      "Parent process ID: 21088\n",
      "Final Data in Parent process: 0\n"
     ]
    }
   ],
   "source": [
    "if __name__ == \"__main__\":\n",
    "    main()\n",
    "\n"
   ]
  },
  {
   "cell_type": "markdown",
   "metadata": {},
   "source": [
    "Value: 단일값 하나만 공유할 때, Array: list로 공요할 때 사용한다. <br>\n",
    "멀티프로세싱은 매우 엄격하기 때문에 자료형도 입력해줘야 한다. <br>\n",
    "Value(type: str, value: type) -> <class 'multiprocessing.sharedctypes.Synchronized'><br>\n",
    "i: int, c: char, f: float, l: long <br>"
   ]
  },
  {
   "cell_type": "code",
   "execution_count": 7,
   "metadata": {},
   "outputs": [],
   "source": [
    "# 프로세스 메모리 공유 예제\n",
    "\n",
    "from multiprocessing import Value, Array"
   ]
  },
  {
   "cell_type": "code",
   "execution_count": 15,
   "metadata": {},
   "outputs": [],
   "source": [
    "#실행함수\n",
    "def generate_update_number(v: Value):\n",
    "    # 이전 예제와 다르게 int가 아니고 Value 객체가 들어온다.\n",
    "    for _ in range(50):\n",
    "        v.value += 1\n",
    "\n",
    "    print(current_process().name, \"data\", v.value)\n",
    "\n",
    "\n",
    "def main2():\n",
    "    \n",
    "    # 부모 프로세스 id\n",
    "    parent_process_id = os.getpid()\n",
    "\n",
    "    print(f'Parent process ID: {parent_process_id}')\n",
    "\n",
    "    # 프로세스 리스트 선언\n",
    "    processes = list()\n",
    "\n",
    "    # 프로세스 메모리 공유 변수\n",
    "    share_numbers = Array('i', range(0, 50))\n",
    "    share_value = Value('i' ,0)\n",
    "\n",
    "    for _ in range(1, 10):\n",
    "        # 생성\n",
    "        p = Process(target= generate_update_number, args =(share_value,))\n",
    "        # 배열에 담기\n",
    "        processes.append(p)\n",
    "        #실행\n",
    "        p.start()\n",
    "\n",
    "\n",
    "\n",
    "    for p in processes:\n",
    "        p.join()\n",
    "\n",
    "    # 최종 프로세스 부모 변수 확인\n",
    "    print(f'Final Data in Parent process: {share_value.value}')"
   ]
  },
  {
   "cell_type": "code",
   "execution_count": 16,
   "metadata": {},
   "outputs": [
    {
     "name": "stdout",
     "output_type": "stream",
     "text": [
      "Parent process ID: 21088\n",
      "Final Data in Parent process: 0\n"
     ]
    }
   ],
   "source": [
    "if __name__ == \"__main__\":\n",
    "    main2()"
   ]
  },
  {
   "cell_type": "markdown",
   "metadata": {},
   "source": [
    "Parent process ID: 45772 <br>\n",
    "Process-1 data 50<br>\n",
    "Process-2 data 100<br>\n",
    "Process-3 data 150<br>\n",
    "Process-4 data 200<br>\n",
    "Process-6 data 250<br>\n",
    "Process-5 data 300<br>\n",
    "Process-8 data 350<br>\n",
    "Process-7Process-9  data 400<br>\n",
    "data 418<br>\n",
    "Final Data in Parent process: 418<br>\n",
    "py file에서 실행하면 잘 나온다. 이전에는 Final Data in Parent process: 0이었으냐 418이 되었다. 의도한 것이 450이라면 잘못된 것이다."
   ]
  },
  {
   "cell_type": "code",
   "execution_count": 10,
   "metadata": {},
   "outputs": [
    {
     "name": "stdout",
     "output_type": "stream",
     "text": [
      "<class 'multiprocessing.sharedctypes.Synchronized'>\n"
     ]
    }
   ],
   "source": [
    "print(type(Value('i', 3)))"
   ]
  },
  {
   "cell_type": "markdown",
   "metadata": {},
   "source": [
    "from multiprocessing import shared_memory  파이썬 3.8 이상<br>\n",
    "from multiprocessing import Manager <br>\n",
    "공식문서: https://docs.python.org/ko/3/library/multiprocessing.shared_memory.html\n",
    "\n"
   ]
  },
  {
   "cell_type": "code",
   "execution_count": null,
   "metadata": {},
   "outputs": [],
   "source": []
  }
 ],
 "metadata": {
  "kernelspec": {
   "display_name": "Python 3.8.10 ('ai')",
   "language": "python",
   "name": "python3"
  },
  "language_info": {
   "codemirror_mode": {
    "name": "ipython",
    "version": 3
   },
   "file_extension": ".py",
   "mimetype": "text/x-python",
   "name": "python",
   "nbconvert_exporter": "python",
   "pygments_lexer": "ipython3",
   "version": "3.8.10"
  },
  "orig_nbformat": 4,
  "vscode": {
   "interpreter": {
    "hash": "6270e6d8b5fb321e1a842519f0c29f2e2b7188cdba36e81e06ada9019ab06ac7"
   }
  }
 },
 "nbformat": 4,
 "nbformat_minor": 2
}
