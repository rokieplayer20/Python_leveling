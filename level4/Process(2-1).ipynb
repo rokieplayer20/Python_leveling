{
 "cells": [
  {
   "cell_type": "markdown",
   "metadata": {},
   "source": [
    "process 간의 통신은 비용이 크기 때문에 그럴 거면 mulitprocess를 쓸지 고민해라. <br>\n",
    "\n",
    "1. Parrallelism\n",
    "    - 완전히 동일한 시점에 task를 실행한다.\n",
    "    - 다양한 부분으로 나눠서 실행한다.\n",
    "    - 멀티프로세싱에서 CPU가 single-core이면 불가능하다.\n",
    "    - 딥러닝, 비트코인 채굴 등\n",
    "2. Process VS thread\n",
    "    - 독립된 메모리(프로세스), 공유메모리(스레드)\n",
    "    - 많은 메모리 필요(프로세스), 공유메모리(스레드)\n",
    "    - Zombie (Dead) process 생성 가능성 있음, 좀비 (데스) 스레드 생성은 쉽지 않다.\n",
    "    - overhead 크다 (프로세스), 오버헤드 작다 (스레드)\n",
    "    - 생성/소멸 다소 느리다 (프로세스), 생성/소멸이 빠르다 (스레드)\n",
    "    - 코드 작성이 쉬우나 디버깅이 어렵다 (프로세스), 코드 작성 어렵고 디버깅도 어려움 (스레드)\n",
    "    "
   ]
  },
  {
   "cell_type": "code",
   "execution_count": 3,
   "metadata": {},
   "outputs": [],
   "source": [
    "from multiprocessing import Process # 대문자 주의\n",
    "import logging, time\n",
    "\n",
    "\n",
    "def proc_func(name):\n",
    "    print(f'Sub-Process {name}: starting')\n",
    "    time.sleep(2)\n",
    "    print(f'Sub-Process {name}: finishing')\n",
    "\n",
    "\n"
   ]
  },
  {
   "cell_type": "code",
   "execution_count": 6,
   "metadata": {},
   "outputs": [],
   "source": [
    "def main():\n",
    "    # Logging format 설정\n",
    "    format = \"%(asctime)s: %(message)s\"\n",
    "    logging.basicConfig(format=format, level=logging.INFO, datefmt=\"%H:%M:%S\")\n",
    "\n",
    "    # 함수 인자 확인\n",
    "    P = Process(target=proc_func, args=('First',))\n",
    "\n",
    "    logging.info('Main-Process: before creating Process')\n",
    "\n",
    "    # 프로세스\n",
    "    P.start()\n",
    "    logging.info('Main-Process: during Process')\n",
    "\n",
    "    # 즉각 종료\n",
    "    #logging.info('Main-Process: Terminated Process')\n",
    "    #P.terminate()\n",
    "\n",
    "\n",
    "    logging.info('Main-Process: Joining Process')\n",
    "    P.join()\n",
    "\n",
    "    # 프로세스 상태 확인\n",
    "    print(f'Process P is alive: {P.is_alive()}')\n",
    "    # join 이후에는 dead state"
   ]
  },
  {
   "cell_type": "code",
   "execution_count": 7,
   "metadata": {},
   "outputs": [
    {
     "name": "stderr",
     "output_type": "stream",
     "text": [
      "2022-08-20 12:09:13,024: Main-Process: before creating Process\n",
      "2022-08-20 12:09:13,073: Main-Process: during Process\n",
      "2022-08-20 12:09:13,074: Main-Process: Joining Process\n"
     ]
    },
    {
     "name": "stdout",
     "output_type": "stream",
     "text": [
      "Process P is alive: False\n"
     ]
    }
   ],
   "source": [
    "if __name__ =='__main__':\n",
    "    main()"
   ]
  },
  {
   "cell_type": "code",
   "execution_count": null,
   "metadata": {},
   "outputs": [],
   "source": []
  },
  {
   "cell_type": "code",
   "execution_count": null,
   "metadata": {},
   "outputs": [],
   "source": []
  },
  {
   "cell_type": "code",
   "execution_count": null,
   "metadata": {},
   "outputs": [],
   "source": []
  },
  {
   "cell_type": "code",
   "execution_count": null,
   "metadata": {},
   "outputs": [],
   "source": []
  },
  {
   "cell_type": "code",
   "execution_count": null,
   "metadata": {},
   "outputs": [],
   "source": []
  }
 ],
 "metadata": {
  "kernelspec": {
   "display_name": "Python 3.8.10 ('ai')",
   "language": "python",
   "name": "python3"
  },
  "language_info": {
   "codemirror_mode": {
    "name": "ipython",
    "version": 3
   },
   "file_extension": ".py",
   "mimetype": "text/x-python",
   "name": "python",
   "nbconvert_exporter": "python",
   "pygments_lexer": "ipython3",
   "version": "3.8.10"
  },
  "orig_nbformat": 4,
  "vscode": {
   "interpreter": {
    "hash": "6270e6d8b5fb321e1a842519f0c29f2e2b7188cdba36e81e06ada9019ab06ac7"
   }
  }
 },
 "nbformat": 4,
 "nbformat_minor": 2
}
