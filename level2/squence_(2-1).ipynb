{
 "cells": [
  {
   "cell_type": "markdown",
   "metadata": {},
   "source": [
    "선언할 때 *, **는 packing이고 <br>\n",
    "그 외에는 unpacking이다."
   ]
  },
  {
   "cell_type": "code",
   "execution_count": 2,
   "metadata": {},
   "outputs": [
    {
     "name": "stdout",
     "output_type": "stream",
     "text": [
      "(50, 0)\n",
      "(50, 0)\n",
      "50 0\n"
     ]
    }
   ],
   "source": [
    "a =1\n",
    "b = 3\n",
    "a, b = b, a # 이것도 unpacking이다. \n",
    "\n",
    "print(divmod(100, 2))\n",
    "print(divmod(*(100, 2)))\n",
    "print(*divmod(100,2)) "
   ]
  },
  {
   "cell_type": "code",
   "execution_count": 7,
   "metadata": {},
   "outputs": [
    {
     "name": "stdout",
     "output_type": "stream",
     "text": [
      "0 1 [2, 3, 4, 5, 6, 7, 8, 9]\n",
      "0 1 []\n",
      "1 2 [3, 4, 5]\n"
     ]
    }
   ],
   "source": [
    "x, y, *rest = range(10) # 전부 list로 packing된다.\n",
    "print(x, y, rest)\n",
    "\n",
    "x, y, *rest = range(2)\n",
    "print(x, y, rest)\n",
    "\n",
    "x, y, *rest = 1, 2, 3, 4, 5 # (1, 2, 3, 4, 5)로 여긴다.\n",
    "print(x, y, rest)"
   ]
  },
  {
   "cell_type": "code",
   "execution_count": 9,
   "metadata": {},
   "outputs": [
    {
     "name": "stdout",
     "output_type": "stream",
     "text": [
      "(15, 20, 25) 2612466931328\n",
      "[15, 20, 25] 2612466889152\n",
      "(15, 20, 25, 15, 20, 25) 2612455482176\n",
      "[15, 20, 25, 15, 20, 25] 2612455760512\n"
     ]
    }
   ],
   "source": [
    "# Mutable VS Immutable\n",
    "\n",
    "l = (15, 20, 25)\n",
    "m = [15, 20, 25]\n",
    "\n",
    "print(l, id(l))\n",
    "print(m, id(m))\n",
    "\n",
    "l = l *2\n",
    "m = m *2\n",
    "print(l, id(l)) # 새로운 변수가 되어 버렸다.\n",
    "print(m, id(m)) # 내용이 변해도 시작 주소(pointer)는 같다.\n"
   ]
  },
  {
   "cell_type": "code",
   "execution_count": 10,
   "metadata": {},
   "outputs": [
    {
     "name": "stdout",
     "output_type": "stream",
     "text": [
      "(15, 20, 25, 15, 20, 25, 15, 20, 25, 15, 20, 25) 2612468198128\n",
      "[15, 20, 25, 15, 20, 25, 15, 20, 25, 15, 20, 25] 2612455760512\n"
     ]
    }
   ],
   "source": [
    "l *=2\n",
    "m *=2\n",
    "print(l, id(l))\n",
    "print(m, id(m))\n",
    "# 위와 같은 논리로 같은 결과가 나온다.\n",
    "\n",
    "# 만일 튜플로 수정하고 연산하면 메모리 낭비가 매우 심해진다."
   ]
  },
  {
   "cell_type": "markdown",
   "metadata": {},
   "source": [
    "sort VS sorted <br>\n",
    "\n",
    "options: reverse, key=len, key = str.lower, key=사용자함수 .... <br>\n",
    "\n",
    "sorted : 정렬한 새 객체를 반환한다. <br>\n",
    "sort : 원본만 수정된다. 객체의 메소드 <br>"
   ]
  },
  {
   "cell_type": "code",
   "execution_count": 14,
   "metadata": {},
   "outputs": [
    {
     "name": "stdout",
     "output_type": "stream",
     "text": [
      "['apple', 'coconut', 'lemon', 'mango', 'orange', 'papaya', 'strawberry']\n",
      "['orange', 'apple', 'mango', 'papaya', 'lemon', 'coconut', 'strawberry']\n",
      "['strawberry', 'papaya', 'orange', 'mango', 'lemon', 'coconut', 'apple']\n",
      "['apple', 'mango', 'lemon', 'orange', 'papaya', 'coconut', 'strawberry']\n",
      "['papaya', 'orange', 'apple', 'lemon', 'mango', 'coconut', 'strawberry']\n"
     ]
    }
   ],
   "source": [
    "f_list = ['orange', 'apple', 'mango', 'papaya', 'lemon', 'coconut', 'strawberry']\n",
    "\n",
    "\n",
    "print(sorted(f_list))\n",
    "print(f_list)\n",
    "\n",
    "print(sorted(f_list, reverse=True))\n",
    "print(sorted(f_list, key = len))\n",
    "# key의 default는 len이다.\n",
    "\n",
    "\n",
    "print(sorted(f_list, key= lambda x: x[-1])) # 끝글자 기준"
   ]
  },
  {
   "cell_type": "code",
   "execution_count": 16,
   "metadata": {},
   "outputs": [
    {
     "name": "stdout",
     "output_type": "stream",
     "text": [
      "['apple', 'coconut', 'lemon', 'mango', 'orange', 'papaya', 'strawberry']\n",
      "['strawberry', 'papaya', 'orange', 'mango', 'lemon', 'coconut', 'apple']\n",
      "['papaya', 'orange', 'apple', 'lemon', 'mango', 'coconut', 'strawberry']\n"
     ]
    }
   ],
   "source": [
    "f_list.sort() # 반환 없다 None\n",
    "print(f_list)\n",
    "\n",
    "f_list.sort(reverse=True)\n",
    "print(f_list)\n",
    "\n",
    "f_list.sort(key= lambda x : x[-1])\n",
    "print(f_list)"
   ]
  },
  {
   "cell_type": "code",
   "execution_count": null,
   "metadata": {},
   "outputs": [],
   "source": []
  },
  {
   "cell_type": "code",
   "execution_count": null,
   "metadata": {},
   "outputs": [],
   "source": []
  }
 ],
 "metadata": {
  "kernelspec": {
   "display_name": "Python 3.8.10 ('ai')",
   "language": "python",
   "name": "python3"
  },
  "language_info": {
   "codemirror_mode": {
    "name": "ipython",
    "version": 3
   },
   "file_extension": ".py",
   "mimetype": "text/x-python",
   "name": "python",
   "nbconvert_exporter": "python",
   "pygments_lexer": "ipython3",
   "version": "3.8.10"
  },
  "orig_nbformat": 4,
  "vscode": {
   "interpreter": {
    "hash": "6270e6d8b5fb321e1a842519f0c29f2e2b7188cdba36e81e06ada9019ab06ac7"
   }
  }
 },
 "nbformat": 4,
 "nbformat_minor": 2
}
