{
 "cells": [
  {
   "cell_type": "markdown",
   "metadata": {},
   "source": []
  },
  {
   "cell_type": "code",
   "execution_count": 2,
   "metadata": {},
   "outputs": [
    {
     "name": "stdout",
     "output_type": "stream",
     "text": [
      "[0 1 2 3 4 5 6 7 8 9]\n",
      "3\n",
      "9\n"
     ]
    }
   ],
   "source": [
    "import numpy as np\n",
    "# 1차원 배열 인덱스 접근\n",
    "arr = np.arange(0, 10)\n",
    "\n",
    "print(arr)\n",
    "print(arr[3])\n",
    "print(arr[-1]) # 파이썬처럼 접근 가능하다."
   ]
  },
  {
   "cell_type": "code",
   "execution_count": 3,
   "metadata": {},
   "outputs": [
    {
     "name": "stdout",
     "output_type": "stream",
     "text": [
      "[[ 1  2  3  4]\n",
      " [ 5  6  7  8]\n",
      " [ 9 10 11 12]]\n",
      "(3, 4)\n",
      "2\n",
      "[[ 1  2  3  4]\n",
      " [ 5  6  7  8]\n",
      " [ 9 10 11 12]]\n",
      "(3, 4)\n",
      "2\n",
      "[1 2 3 4] row 0 list\n",
      "4 (0, 3) value\n"
     ]
    }
   ],
   "source": [
    "# 2차원 배열\n",
    "# aragne == array_range\n",
    "arr = np.array([range(1,5), range(5, 9), range(9, 13)])\n",
    "arr2 = np.array([np.arange(1,5), np.arange(5, 9), np.arange(9, 13)])\n",
    "print(arr, arr.shape, arr.ndim, sep='\\n')\n",
    "print(arr2, arr2.shape, arr2.ndim, sep='\\n')\n",
    "\n",
    "print(arr[0], \"row 0 list\")\n",
    "print(arr[0][3], \"(0, 3) value\")"
   ]
  },
  {
   "cell_type": "code",
   "execution_count": 4,
   "metadata": {},
   "outputs": [
    {
     "name": "stdout",
     "output_type": "stream",
     "text": [
      "[3 4 5 6 7]\n",
      "[3 5 7 9]\n"
     ]
    }
   ],
   "source": [
    "arr = np.arange(0, 10)\n",
    "print(arr[3:8]) # python slicing operation\n",
    "print(arr[3::2])"
   ]
  },
  {
   "cell_type": "code",
   "execution_count": 5,
   "metadata": {},
   "outputs": [
    {
     "name": "stdout",
     "output_type": "stream",
     "text": [
      "[1 2 3 4]\n",
      "[[ 5  7]\n",
      " [ 9 11]]\n"
     ]
    }
   ],
   "source": [
    "arr = np.array([range(1,5), range(5, 9), range(9, 13)])\n",
    "\n",
    "print(arr[0, :]) # 0행, 모든 열\n",
    "print(arr[1:3, ::2]) # 1-2행, 모든 열에서 2칸씩 띄우기"
   ]
  },
  {
   "cell_type": "code",
   "execution_count": 6,
   "metadata": {},
   "outputs": [
    {
     "name": "stdout",
     "output_type": "stream",
     "text": [
      "[ 5 15 25]\n"
     ]
    }
   ],
   "source": [
    "# Fancy indexing: 특정 인덱스를 여러개 선택해서 탐색하는 방법\n",
    "\n",
    "# 1 차원\n",
    "arr = np.array([5, 10, 15, 20, 25, 30])\n",
    "print(arr[[0, 2, 4]]) # ndarray[]에 index를 담은 리스트를 넣는다."
   ]
  },
  {
   "cell_type": "code",
   "execution_count": 7,
   "metadata": {},
   "outputs": [
    {
     "name": "stdout",
     "output_type": "stream",
     "text": [
      "[[ 5 10 15 20]\n",
      " [25 30 35 40]\n",
      " [45 50 55 60]]\n",
      "[[15 20]\n",
      " [55 60]]\n",
      "[[35 40]\n",
      " [55 60]]\n"
     ]
    },
    {
     "data": {
      "text/plain": [
       "'\\nndarray[0축, 1축]\\n[0, 2] 0행과 2행,  2: 2열부터 끝까지 출력\\n\\n\\n'"
      ]
     },
     "execution_count": 7,
     "metadata": {},
     "output_type": "execute_result"
    }
   ],
   "source": [
    "# 2차원\n",
    "arr = np.array([np.arange(5,21,5), np.arange(25, 41, 5), np.arange(45, 61, 5)])\n",
    "print(arr)\n",
    "\n",
    "print(arr[[0, 2], 2:]) \n",
    "print(arr[1:, [2, 3]])\n",
    "\"\"\"\n",
    "ndarray[0축, 1축]\n",
    "[0, 2] 0행과 2행,  2: 2열부터 끝까지 출력\n",
    "\n",
    "\n",
    "\"\"\""
   ]
  },
  {
   "cell_type": "code",
   "execution_count": 8,
   "metadata": {},
   "outputs": [
    {
     "name": "stdout",
     "output_type": "stream",
     "text": [
      "[1 3 4]\n",
      "[[1 2 3 4]\n",
      " [5 6 7 8]]\n",
      "[[1 2 3 4]]\n"
     ]
    }
   ],
   "source": [
    "# boolean indexing: 참거짓으로 탐색함\n",
    "\n",
    "arr = np.array([1, 2, 3, 4])\n",
    "print(arr[[True, False, True, True]])\n",
    "\n",
    "arr = np.array([np.arange(1, 5), np.arange(5, 9)])\n",
    "print(arr)\n",
    "print(arr[[True, False], True])"
   ]
  },
  {
   "cell_type": "code",
   "execution_count": 9,
   "metadata": {},
   "outputs": [
    {
     "name": "stdout",
     "output_type": "stream",
     "text": [
      "[5 6 7 8]\n",
      "[1 2]\n"
     ]
    }
   ],
   "source": [
    "# 조건 연산자로 가져오기\n",
    "\n",
    "print(arr[arr > 4])\n",
    "print(arr[arr <= 2])"
   ]
  },
  {
   "cell_type": "code",
   "execution_count": 10,
   "metadata": {},
   "outputs": [
    {
     "name": "stdout",
     "output_type": "stream",
     "text": [
      "['this' 'name']\n",
      "1\n",
      "['T', '__abs__', '__add__', '__and__', '__array__', '__array_interface__', '__array_priority__', '__array_struct__', '__array_wrap__', '__bool__', '__class__', '__contains__', '__copy__', '__deepcopy__', '__delattr__', '__dir__', '__divmod__', '__doc__', '__eq__', '__float__', '__floordiv__', '__format__', '__ge__', '__getattribute__', '__getitem__', '__getnewargs__', '__gt__', '__hash__', '__init__', '__init_subclass__', '__int__', '__invert__', '__iter__', '__le__', '__len__', '__lshift__', '__lt__', '__mod__', '__mul__', '__ne__', '__neg__', '__new__', '__or__', '__pos__', '__pow__', '__radd__', '__rand__', '__rdivmod__', '__reduce__', '__reduce_ex__', '__repr__', '__rfloordiv__', '__rlshift__', '__rmod__', '__rmul__', '__ror__', '__rpow__', '__rrshift__', '__rshift__', '__rsub__', '__rtruediv__', '__rxor__', '__setattr__', '__setstate__', '__sizeof__', '__str__', '__sub__', '__subclasshook__', '__truediv__', '__xor__', 'all', 'any', 'argmax', 'argmin', 'argsort', 'astype', 'base', 'byteswap', 'capitalize', 'casefold', 'center', 'choose', 'clip', 'compress', 'conj', 'conjugate', 'copy', 'count', 'cumprod', 'cumsum', 'data', 'diagonal', 'dtype', 'dump', 'dumps', 'encode', 'endswith', 'expandtabs', 'fill', 'find', 'flags', 'flat', 'flatten', 'format', 'format_map', 'getfield', 'imag', 'index', 'isalnum', 'isalpha', 'isascii', 'isdecimal', 'isdigit', 'isidentifier', 'islower', 'isnumeric', 'isprintable', 'isspace', 'istitle', 'isupper', 'item', 'itemset', 'itemsize', 'join', 'ljust', 'lower', 'lstrip', 'maketrans', 'max', 'mean', 'min', 'nbytes', 'ndim', 'newbyteorder', 'nonzero', 'partition', 'prod', 'ptp', 'put', 'ravel', 'real', 'repeat', 'replace', 'reshape', 'resize', 'rfind', 'rindex', 'rjust', 'round', 'rpartition', 'rsplit', 'rstrip', 'searchsorted', 'setfield', 'setflags', 'shape', 'size', 'sort', 'split', 'splitlines', 'squeeze', 'startswith', 'std', 'strides', 'strip', 'sum', 'swapaxes', 'swapcase', 'take', 'title', 'tobytes', 'tofile', 'tolist', 'tostring', 'trace', 'translate', 'transpose', 'upper', 'var', 'view', 'zfill']\n",
      "1\n"
     ]
    }
   ],
   "source": [
    "arr = np.array([\"12\", \"this\", 'name'], dtype=str)\n",
    "print(arr[[x for x, v in enumerate(arr) if len(v) >2]], arr.ndim, sep='\\n')\n",
    "print(dir(arr[0]), arr[0].size, sep='\\n')"
   ]
  },
  {
   "cell_type": "markdown",
   "metadata": {},
   "source": [
    "Boolean indexing:\n",
    "numpy.array에 Boolean 연산자를 쓰면 각 요소에 참거짓을 담은 배열이 반환된다."
   ]
  },
  {
   "cell_type": "code",
   "execution_count": 26,
   "metadata": {},
   "outputs": [
    {
     "name": "stdout",
     "output_type": "stream",
     "text": [
      "[[False False]\n",
      " [ True  True]]\n",
      "<class 'numpy.ndarray'>\n"
     ]
    }
   ],
   "source": [
    "arr = np.array([[1,2], [3,4]])\n",
    "print(arr > 2)\n",
    "print(type(arr > 2))"
   ]
  },
  {
   "cell_type": "markdown",
   "metadata": {},
   "source": [
    "Fancy indexing:\n",
    "numpy.array의 index로 index를 표시하는 int, boolean 값을 넣어 특정 요소만 선택할 수 있다."
   ]
  },
  {
   "cell_type": "code",
   "execution_count": 17,
   "metadata": {},
   "outputs": [
    {
     "name": "stdout",
     "output_type": "stream",
     "text": [
      "[3]\n"
     ]
    }
   ],
   "source": [
    "print(arr[[1], [True, False]]) # [0 axis, 1 axis] == [1, 0]"
   ]
  },
  {
   "cell_type": "markdown",
   "metadata": {},
   "source": [
    "둘을 동시에 사용하자. <br>\n",
    "Boolean indexing -> Fancy indexing <br>\n",
    "이 순서대로 사용하면 된다. <br>"
   ]
  },
  {
   "cell_type": "code",
   "execution_count": 27,
   "metadata": {},
   "outputs": [
    {
     "name": "stdout",
     "output_type": "stream",
     "text": [
      "[2 4]\n"
     ]
    }
   ],
   "source": [
    "print(arr[arr[:][1] > 1, [1]])\n",
    "# Boolean indexing이 넘파이배열을 반환하기 때문에 바로 팬시 인덱싱에 넣을 수 있다."
   ]
  }
 ],
 "metadata": {
  "kernelspec": {
   "display_name": "Python 3.8.10 ('ai')",
   "language": "python",
   "name": "python3"
  },
  "language_info": {
   "codemirror_mode": {
    "name": "ipython",
    "version": 3
   },
   "file_extension": ".py",
   "mimetype": "text/x-python",
   "name": "python",
   "nbconvert_exporter": "python",
   "pygments_lexer": "ipython3",
   "version": "3.8.10"
  },
  "orig_nbformat": 4,
  "vscode": {
   "interpreter": {
    "hash": "6270e6d8b5fb321e1a842519f0c29f2e2b7188cdba36e81e06ada9019ab06ac7"
   }
  }
 },
 "nbformat": 4,
 "nbformat_minor": 2
}
