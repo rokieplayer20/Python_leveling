{
 "cells": [
  {
   "cell_type": "markdown",
   "metadata": {},
   "source": [
    "배열의 연산은 기본적으로 shape이 같아야 한다.\n",
    "다를 때는 broadcasting을 써야 한다."
   ]
  },
  {
   "cell_type": "code",
   "execution_count": 6,
   "metadata": {},
   "outputs": [
    {
     "name": "stdout",
     "output_type": "stream",
     "text": [
      "[[2 2 2]\n",
      " [2 2 2]\n",
      " [2 2 2]]\n"
     ]
    }
   ],
   "source": [
    "import numpy as np\n",
    "\n",
    "arr1 = np.array([range(1,4), range(4,7), range(7,10)], dtype=int)\n",
    "arr2 = np.array([[2, 2, 2],[2,2,2],[2,2,2]], dtype=int)\n"
   ]
  },
  {
   "cell_type": "code",
   "execution_count": 7,
   "metadata": {},
   "outputs": [
    {
     "name": "stdout",
     "output_type": "stream",
     "text": [
      "[[ 3  4  5]\n",
      " [ 6  7  8]\n",
      " [ 9 10 11]]\n"
     ]
    }
   ],
   "source": [
    "# 기본적으로 연산자 오버라이딩이 되어 있다.\n",
    "arr3 = arr1 + arr2\n",
    "print(arr3)\n",
    "print(np.add(arr1, arr2)) # JAVA처럼 객체지향의 메스도 형식으로도 가능하다."
   ]
  },
  {
   "cell_type": "code",
   "execution_count": 10,
   "metadata": {},
   "outputs": [
    {
     "name": "stdout",
     "output_type": "stream",
     "text": [
      "[[-1  0  1]\n",
      " [ 2  3  4]\n",
      " [ 5  6  7]]\n",
      "[[-1  0  1]\n",
      " [ 2  3  4]\n",
      " [ 5  6  7]]\n"
     ]
    }
   ],
   "source": [
    "arr3 = arr1 - arr2\n",
    "print(arr3)\n",
    "print(np.subtract(arr1, arr2))"
   ]
  },
  {
   "cell_type": "code",
   "execution_count": 11,
   "metadata": {},
   "outputs": [
    {
     "name": "stdout",
     "output_type": "stream",
     "text": [
      "[[ 2  4  6]\n",
      " [ 8 10 12]\n",
      " [14 16 18]]\n",
      "[[ 2  4  6]\n",
      " [ 8 10 12]\n",
      " [14 16 18]]\n"
     ]
    }
   ],
   "source": [
    "# 곱셈\n",
    "# 주의!! 행렬곱이 아니고 원소별로 산술곱이다.\n",
    "\n",
    "arr3= arr1 * arr2\n",
    "print(arr3)\n",
    "print(np.multiply(arr1, arr2))"
   ]
  },
  {
   "cell_type": "code",
   "execution_count": 12,
   "metadata": {},
   "outputs": [
    {
     "name": "stdout",
     "output_type": "stream",
     "text": [
      "[[0.5 1.  1.5]\n",
      " [2.  2.5 3. ]\n",
      " [3.5 4.  4.5]]\n",
      "[[0.5 1.  1.5]\n",
      " [2.  2.5 3. ]\n",
      " [3.5 4.  4.5]]\n"
     ]
    }
   ],
   "source": [
    "# 나눗셈, 이 또한 원소별로 산술나눗셈이다.\n",
    "\n",
    "arr3= arr1/arr2\n",
    "print(arr3)\n",
    "print(np.divide(arr1,arr2))\n",
    "# int32였으나 나누면 자동으로 float로 바뀐다.\n",
    "# python에선 /은 실수나눗셈인 점을 일관성 있게 유지한 것이다."
   ]
  },
  {
   "cell_type": "code",
   "execution_count": 16,
   "metadata": {},
   "outputs": [
    {
     "name": "stdout",
     "output_type": "stream",
     "text": [
      "[[ 1  4  9]\n",
      " [16 25 36]\n",
      " [49 64 81]]\n",
      "[[4 4 4]\n",
      " [4 4 4]\n",
      " [4 4 4]]\n",
      "[[ 1  4  9]\n",
      " [16 25 36]\n",
      " [49 64 81]]\n",
      "[[1.         1.41421356 1.73205081]\n",
      " [2.         2.23606798 2.44948974]\n",
      " [2.64575131 2.82842712 3.        ]]\n"
     ]
    }
   ],
   "source": [
    "# 제곱\n",
    "#  곱셈도 산술곱이었기 때문에 제곱도 원소 각각의 제곱이다.\n",
    "print(arr1**2)\n",
    "print(arr2**2)\n",
    "print(np.square(arr1))\n",
    "\n",
    "# 제곱근 square_root\n",
    "print(np.sqrt(arr1))"
   ]
  },
  {
   "cell_type": "code",
   "execution_count": 18,
   "metadata": {},
   "outputs": [
    {
     "name": "stdout",
     "output_type": "stream",
     "text": [
      "[[0 1 1]\n",
      " [2 2 3]\n",
      " [3 4 4]]\n",
      "[[0 1 1]\n",
      " [2 2 3]\n",
      " [3 4 4]]\n",
      "[[1 0 1]\n",
      " [0 1 0]\n",
      " [1 0 1]]\n",
      "[[1 0 1]\n",
      " [0 1 0]\n",
      " [1 0 1]]\n"
     ]
    }
   ],
   "source": [
    "# 몫\n",
    "print(arr1//2) # 정수나눗셈\n",
    "print(arr1 // arr2)\n",
    "\n",
    "# 나머지 modular 연산자\n",
    "print(arr1 % 2)\n",
    "print(arr1 % arr2)"
   ]
  },
  {
   "cell_type": "code",
   "execution_count": 20,
   "metadata": {},
   "outputs": [
    {
     "name": "stdout",
     "output_type": "stream",
     "text": [
      "20\n",
      "[[ 1  8]\n",
      " [ 3 18]]\n"
     ]
    }
   ],
   "source": [
    "# Dot product, 내적\n",
    "\n",
    "#1차원\n",
    "arr1 = np.array([2,3,4])\n",
    "arr2 = np.array([1, 2, 3])\n",
    "# (1*n) * (n * 1) = 1 그냥 스칼라 값\n",
    "print(np.dot(arr1, arr2))\n",
    "\n",
    "# 2 차원\n",
    "arr1 = np.array([[1,2], [3,4]])\n",
    "arr2 = np.array([[1,2], [0,3]])\n",
    "print(np.dot(arr1, arr2))"
   ]
  },
  {
   "cell_type": "code",
   "execution_count": 29,
   "metadata": {},
   "outputs": [
    {
     "name": "stdout",
     "output_type": "stream",
     "text": [
      "[[1 2]\n",
      " [4 5]]\n",
      "arr1 == \n",
      "[[ 1.9321 -2.23  ]\n",
      " [-4.32    5.11  ]].\n",
      "np.ceil(arr1) == \n",
      " [[ 2. -2.]\n",
      " [-4.  6.]]\n",
      "np.floor(arr1) == \n",
      " [[ 1. -3.]\n",
      " [-5.  5.]]\n",
      "np.round(arr1) == \n",
      " [[ 2. -2.]\n",
      " [-4.  5.]]\n",
      "np.trunc(arr1) == \n",
      " [[ 1. -2.]\n",
      " [-4.  5.]]\n"
     ]
    }
   ],
   "source": [
    "# 절댓값\n",
    "arr1= np.array([[1, -2], [-4, 5]])\n",
    "print(np.abs(arr1))\n",
    "\n",
    "# 올림\n",
    "arr1 = np.array([[1.9321, -2.23], [-4.32, 5.11]])\n",
    "print(f'arr1 == \\n{arr1}.')\n",
    "print(\"np.ceil(arr1) == \\n\",np.ceil(arr1))\n",
    "# 내림 : 대상값보다 작은 정수 중 가장 큰 정수, <- 0 <- \n",
    "print(\"np.floor(arr1) == \\n\", np.floor(arr1))\n",
    "# 반올림\n",
    "print(\"np.round(arr1) == \\n\", np.round(arr1))\n",
    "# 버림: 소숫점 부분을 글자 그대로 떼어버린다,  -> 0 <- \n",
    "print(\"np.trunc(arr1) == \\n\", np.trunc(arr1))"
   ]
  },
  {
   "cell_type": "code",
   "execution_count": 34,
   "metadata": {},
   "outputs": [
    {
     "name": "stdout",
     "output_type": "stream",
     "text": [
      "0 0\n",
      "[0 1 3]\n",
      "[1 0]\n",
      "[1 2 4] [3 4]\n"
     ]
    }
   ],
   "source": [
    "# min(), max() 최대최소값\n",
    "\n",
    "arr = np.array([[1, 2, 3], [0,1,4]])\n",
    "print(np.min(arr), arr.min())\n",
    "print(arr.min(axis=0)) # 축 방향으로 가장 작은 값들 추출\n",
    "print(arr.min(axis=1))\n",
    "\n",
    "print(np.max(arr, axis=0), arr.max(axis=1))"
   ]
  },
  {
   "cell_type": "code",
   "execution_count": 42,
   "metadata": {},
   "outputs": [
    {
     "name": "stdout",
     "output_type": "stream",
     "text": [
      "11 11\n",
      "[1 3 7] [6 5]\n",
      "1.8333333333333333 1.8333333333333333\n",
      "[0.5 1.5 3.5] [2.         1.66666667]\n",
      "1.343709624716425 1.343709624716425\n",
      "[0.5 0.5 0.5] [0.81649658 1.69967317]\n",
      "[ 1  3  6  6  7 11] [ 1  3  6  6  7 11]\n",
      "[[1 2 3]\n",
      " [1 3 7]] [[1 3 6]\n",
      " [0 1 5]]\n"
     ]
    }
   ],
   "source": [
    "# sum 합\n",
    "print(np.sum(arr), arr.sum())\n",
    "print(np.sum(arr, axis=0), arr.sum(axis=1))\n",
    "\n",
    "# mean 산술평균\n",
    "print(np.mean(arr), arr.mean())\n",
    "print(np.mean(arr, axis=0), arr.mean(axis=1))\n",
    "\n",
    "# std 표준편차, var 분산\n",
    "print(np.std(arr), arr.std())\n",
    "print(np.std(arr, axis=0), arr.std(axis=1))\n",
    "\n",
    "# cumsum 누적합\n",
    "print(np.cumsum(arr), arr.cumsum())\n",
    "print(np.cumsum(arr, axis=0), arr.cumsum(axis=1))"
   ]
  },
  {
   "cell_type": "code",
   "execution_count": 46,
   "metadata": {},
   "outputs": [
    {
     "name": "stdout",
     "output_type": "stream",
     "text": [
      "1.5\n",
      "[0.5 1.5 3.5]\n"
     ]
    }
   ],
   "source": [
    "# median 중앙값\n",
    "# 원소 개수가 짝수이면 중앙에 있는 2개의 값의 중간값\n",
    "print(np.median(arr))\n",
    "print(np.median(arr, axis=0))\n",
    "# median은 객체 메소드가 없다. arr.median() 없더라"
   ]
  },
  {
   "cell_type": "code",
   "execution_count": 51,
   "metadata": {},
   "outputs": [
    {
     "name": "stdout",
     "output_type": "stream",
     "text": [
      "arr1 == arr2 :\n",
      "[[ True False  True]\n",
      " [ True False False]]\n",
      "arr1 < arr2 :\n",
      "[[False False False]\n",
      " [False False  True]]\n",
      "np.array_equal(arr1, arr2) == False\n"
     ]
    }
   ],
   "source": [
    "# 비교 연산 -> boolean\n",
    "\n",
    "arr1 = np.array([[1, 2, 3], [4, 5, 6]])\n",
    "arr2 = np.array([[1,0,3], [4, -2, 9]])\n",
    "\n",
    "# <, >, ==, <=, >= 각각의 원소끼리 비교한다.\n",
    "print(f'arr1 == arr2 :\\n{arr1 == arr2}')\n",
    "print(f'arr1 < arr2 :\\n{arr1 < arr2}')\n",
    "\n",
    "# 진짜 배열 전체로 비교해서 같은 배열인지 비교하는 방법\n",
    "print(f\"np.array_equal(arr1, arr2) == {np.array_equal(arr1, arr2)}\")"
   ]
  },
  {
   "cell_type": "code",
   "execution_count": 53,
   "metadata": {},
   "outputs": [
    {
     "name": "stdout",
     "output_type": "stream",
     "text": [
      "[[ 0.84147098  0.90929743  0.14112001]\n",
      " [-0.7568025  -0.95892427 -0.2794155 ]]\n",
      "[[ 0.54030231 -0.41614684 -0.9899925 ]\n",
      " [-0.65364362  0.28366219  0.96017029]]\n",
      "[[ 1.55740772 -2.18503986 -0.14254654]\n",
      " [ 0.          1.55740772  1.15782128]]\n",
      "3.141592653589793\n"
     ]
    }
   ],
   "source": [
    "# 삼각함수\n",
    "arr1 = np.array([[1, 2, 3], [4, 5, 6]])\n",
    "# 각각의 원소들의 삼각함수 값\n",
    "print(np.sin(arr1), np.cos(arr1), np.tan(arr), sep='\\n') \n",
    "print(np.pi)"
   ]
  },
  {
   "cell_type": "markdown",
   "metadata": {},
   "source": [
    "![nn](./broadcasting.jpg) <br>\n",
    "![nn](./broadcasting2.jpg) <br>\n",
    "shape이 안 맞던 작은 행렬을 확장해서 모양을 맞춘다."
   ]
  },
  {
   "cell_type": "code",
   "execution_count": 56,
   "metadata": {},
   "outputs": [
    {
     "name": "stdout",
     "output_type": "stream",
     "text": [
      "[[5 6 7]\n",
      " [6 7 8]\n",
      " [7 8 9]]\n",
      "[[1 1 1]\n",
      " [2 2 2]\n",
      " [3 3 3]]\n"
     ]
    }
   ],
   "source": [
    "# broadcasting\n",
    "# case1\n",
    "arr1 = np.array([[0,0,0],\n",
    "                [1,1,1],\n",
    "                [2,2,2]])\n",
    "arr2 = np.array([5,6,7])\n",
    "\n",
    "print(arr1 + arr2) # 2번째 행렬이 확장된다.\n",
    "\n",
    "# case2\n",
    "arr1 = np.array([[1,1,1]]) # 아래로 확장\n",
    "arr2 = np.array([[0],[1],[2]]) # 옆으로 확장\n",
    "\n",
    "print(arr1 + arr2)"
   ]
  },
  {
   "cell_type": "markdown",
   "metadata": {},
   "source": [
    "벡터 연산의 속도 차이를 보는 파트"
   ]
  },
  {
   "cell_type": "code",
   "execution_count": 60,
   "metadata": {},
   "outputs": [
    {
     "name": "stderr",
     "output_type": "stream",
     "text": [
      "<ipython-input-60-8acf1d7737b2>:8: RuntimeWarning: overflow encountered in long_scalars\n",
      "  sum += i\n"
     ]
    },
    {
     "name": "stdout",
     "output_type": "stream",
     "text": [
      "787459713 22.603886127471924 sec\n"
     ]
    }
   ],
   "source": [
    "import time\n",
    "\n",
    "arr = np.arange(99999999)\n",
    "sum =0\n",
    "before = time.time()\n",
    "# 일반 파이썬\n",
    "for i in arr:\n",
    "    sum += i\n",
    "after = time.time()\n",
    "print(sum, after- before, \"sec\")"
   ]
  },
  {
   "cell_type": "code",
   "execution_count": 61,
   "metadata": {},
   "outputs": [
    {
     "name": "stdout",
     "output_type": "stream",
     "text": [
      "787459713 0.05001401901245117 sec\n"
     ]
    }
   ],
   "source": [
    "# 벡터 연산\n",
    "before = time.time()\n",
    "sum = np.sum(arr)\n",
    "after = time.time()\n",
    "print(sum, after - before, \"sec\")\n",
    "# numpy가 어마어마 하게 빠르다."
   ]
  },
  {
   "cell_type": "code",
   "execution_count": 63,
   "metadata": {},
   "outputs": [
    {
     "name": "stderr",
     "output_type": "stream",
     "text": [
      "<ipython-input-63-e67704ce07ba>:6: RuntimeWarning: overflow encountered in long_scalars\n",
      "  sum += i*j\n"
     ]
    },
    {
     "name": "stdout",
     "output_type": "stream",
     "text": [
      "-1295478593 19.34899616241455 sec\n"
     ]
    }
   ],
   "source": [
    "arr1 = np.arange(9999999)\n",
    "arr2 = np.arange(9999999)\n",
    "sum=0\n",
    "before = time.time()\n",
    "for i, j in zip(arr1, arr2):\n",
    "    sum += i*j\n",
    "after = time.time()\n",
    "print(sum, after - before, 'sec')\n"
   ]
  },
  {
   "cell_type": "code",
   "execution_count": 64,
   "metadata": {},
   "outputs": [
    {
     "name": "stdout",
     "output_type": "stream",
     "text": [
      "-1295478593 0.018002033233642578 sec\n"
     ]
    }
   ],
   "source": [
    "sum=0\n",
    "before = time.time()\n",
    "sum = np.dot(arr1, arr2)\n",
    "after = time.time()\n",
    "print(sum, after - before, 'sec')"
   ]
  },
  {
   "cell_type": "code",
   "execution_count": null,
   "metadata": {},
   "outputs": [],
   "source": []
  }
 ],
 "metadata": {
  "kernelspec": {
   "display_name": "Python 3.8.10 ('ai')",
   "language": "python",
   "name": "python3"
  },
  "language_info": {
   "codemirror_mode": {
    "name": "ipython",
    "version": 3
   },
   "file_extension": ".py",
   "mimetype": "text/x-python",
   "name": "python",
   "nbconvert_exporter": "python",
   "pygments_lexer": "ipython3",
   "version": "3.8.10"
  },
  "orig_nbformat": 4,
  "vscode": {
   "interpreter": {
    "hash": "6270e6d8b5fb321e1a842519f0c29f2e2b7188cdba36e81e06ada9019ab06ac7"
   }
  }
 },
 "nbformat": 4,
 "nbformat_minor": 2
}
