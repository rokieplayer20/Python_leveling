{
 "cells": [
  {
   "cell_type": "markdown",
   "metadata": {},
   "source": [
    "I/O-Bound: Threading, Multiprocessing, AsyncIO"
   ]
  },
  {
   "cell_type": "code",
   "execution_count": 19,
   "metadata": {},
   "outputs": [],
   "source": [
    "import requests, time\n",
    "import concurrent.futures\n",
    "import threading\n",
    "\n",
    "\n",
    "# 각 스레드에서 생성되는 객체, 이것도 하나의 coding pattern이다.\n",
    "\n",
    "thread_local = threading.local()\n",
    "\n",
    "# 전역에 같은 이름으로 선언했지만 각 스레드마다 독립적인 메모리를 할당 받을 수 있도록 한다.\n",
    "# 독립된 namespace를 사용한다.\n",
    "\n",
    "def get_session():\n",
    "    print(thread_local.__dict__) \n",
    "    if not hasattr(thread_local, \"session\"):\n",
    "        thread_local.session = requests.Session()\n",
    "        # dictionary 형태\n",
    "\n",
    "    return thread_local.session\n",
    "    # max_worker의 값대로 독립된 session을 할당 받는다.\n",
    "\n",
    "# 실행함수1 다운로드\n",
    "def request_site(url):\n",
    "\n",
    "    # 세션 획득\n",
    "    # 이전처럼 매개변수로 session을 받아오면 thread가 공유해서 문제가 생길 수 있다.\n",
    "    session = get_session()\n",
    "\n",
    "    with session.get(url) as response:\n",
    "        print(f'[Read contents: {len(response.content)}, Status Code: {response.status_code}] from {url}')\n",
    "\n",
    "\n",
    "# 실행함수2 요청\n",
    "def request_all_sites(urls):\n",
    "\n",
    "    # 멀티스레드 실행\n",
    "    # 반스시 max_worker 개수 조절 후 session 객체 확인\n",
    "    with concurrent.futures.ThreadPoolExecutor(max_workers=4) as executor:\n",
    "        executor.map(request_site, urls)\n",
    "\n",
    "\n",
    "\n",
    "\n",
    "\n",
    "# sync blocking IO, 순서대로 방문한다.\n",
    "def main():\n",
    "    # test URLs\n",
    "    urls = [\n",
    "        'https://www.jython.org',\n",
    "        'https://olympus.realpython.org/dice',\n",
    "        'https://realpython.com',\n",
    "    ] *3\n",
    "\n",
    "    # 실행시간 측정\n",
    "    start_time = time.time()\n",
    "\n",
    "    # 실행\n",
    "    request_all_sites(urls)\n",
    "\n",
    "    # 실행 시간 종료\n",
    "    duration = time.time() - start_time\n",
    "\n",
    "    # 결과 출력\n",
    "    print()\n",
    "    print(f'Downloaded {len(urls)} sites in {duration} seconds')"
   ]
  },
  {
   "cell_type": "markdown",
   "metadata": {},
   "source": [
    "각 스레드별로 namespace가 다르게 나오기 때문에 {}로 표시된다. GIL 있지만 IO 작업이 무겁지만 않으면 효과적이다."
   ]
  },
  {
   "cell_type": "code",
   "execution_count": 20,
   "metadata": {},
   "outputs": [
    {
     "name": "stdout",
     "output_type": "stream",
     "text": [
      "{}\n",
      "{}\n",
      "{}{}\n",
      "\n",
      "[Read contents: 10782, Status Code: 200] from https://www.jython.org\n",
      "{'session': <requests.sessions.Session object at 0x00000148CE4D62B0>}\n",
      "[Read contents: 10782, Status Code: 200] from https://www.jython.org\n",
      "{'session': <requests.sessions.Session object at 0x00000148CDB6BF40>}\n",
      "{'session': <requests.sessions.Session object at 0x00000148CE4D6040>}\n",
      "[Read contents: 10782, Status Code: 200] from https://www.jython.org\n",
      "{'session': <requests.sessions.Session object at 0x00000148CE4D6040>}\n",
      "{'session': <requests.sessions.Session object at 0x00000148CE4D62B0>}\n",
      "[Read contents: 56718, Status Code: 200] from https://realpython.com\n",
      "[Read contents: 56718, Status Code: 200] from https://realpython.com\n",
      "[Read contents: 56716, Status Code: 200] from https://realpython.com\n",
      "\n",
      "Downloaded 9 sites in 2.155684471130371 seconds\n"
     ]
    }
   ],
   "source": [
    "if __name__ == '__main__':\n",
    "    main()"
   ]
  },
  {
   "cell_type": "code",
   "execution_count": 21,
   "metadata": {},
   "outputs": [],
   "source": [
    "import multiprocessing\n",
    "\n",
    "# 각 프로세스 메모리 영역에 생성되는 객체는 독럽적이다.\n",
    "# 그래서 함수 실행마다 객체를 생성하지 않는 것이 좋다. 각 프로세스마다 할당한다.\n",
    "\n",
    "session = None\n",
    "\n",
    "def set_global_session():\n",
    "    global session \n",
    "    # global이 아니면 그때그때 객체가 만들어진다.\n",
    "    # 각 process마다 다른 객체가 생성된다.\n",
    "\n",
    "    #print(session)\n",
    "    if not session:\n",
    "        session = requests.Session()\n",
    "\n",
    "\n",
    "# 실행함수1 다운로드\n",
    "def request_site(url):\n",
    "\n",
    "    print(f'what is session? {session} \\n')\n",
    "\n",
    "    with session.get(url) as response:\n",
    "        name = multiprocessing.current_process().name\n",
    "        print(f'[{name} -> Read contents: {len(response.content)}, Status Code: {response.status_code}] from {url}')\n",
    "\n",
    "\n",
    "# 실행함수2 요청\n",
    "def request_all_sites(urls):\n",
    "\n",
    "    # 멀티프로세싱 실행\n",
    "    # 반스시 processes 개수 조절 후 session 객체 확인\n",
    "    with multiprocessing.Pool(initializer = set_global_session, processes=4) as pool:\n",
    "        pool.map(request_site, urls)\n",
    "\n",
    "\n",
    "\n",
    "\n",
    "\n",
    "# sync blocking IO, 순서대로 방문한다.\n",
    "def main():\n",
    "    # test URLs\n",
    "    urls = [\n",
    "        'https://www.jython.org',\n",
    "        'https://olympus.realpython.org/dice',\n",
    "        'https://realpython.com',\n",
    "    ] *3\n",
    "\n",
    "    # 실행시간 측정\n",
    "    start_time = time.time()\n",
    "\n",
    "    # 실행\n",
    "    request_all_sites(urls)\n",
    "\n",
    "    # 실행 시간 종료\n",
    "    duration = time.time() - start_time\n",
    "\n",
    "    # 결과 출력\n",
    "    print()\n",
    "    print(f'Downloaded {len(urls)} sites in {duration} seconds')"
   ]
  },
  {
   "cell_type": "code",
   "execution_count": 22,
   "metadata": {},
   "outputs": [],
   "source": [
    "if __name__ == '__main__':\n",
    "    #main()\n",
    "    pass\n",
    "# 주피터에서 멀티프로세싱은 안 되더라 방법을 찾자"
   ]
  },
  {
   "cell_type": "markdown",
   "metadata": {},
   "source": [
    "AsyncIO: 동시 프로그래밍 paradigm으로 변화했다. <br>\n",
    "싱글 코어 -> 속도 향상에 미미해졌다. -> 비동기 프로그래밍이 필요해짐 -> CPU연산, DB연동, API 호출 등 대기 시간이 늘어났다. <br>\n",
    "그래서 non-blocking과 async가 필요하다. <br>\n",
    "파이썬 3.4에서 asyncio가 표준 라이브러리로 등장했다."
   ]
  },
  {
   "cell_type": "code",
   "execution_count": 23,
   "metadata": {},
   "outputs": [],
   "source": [
    "import asyncio\n",
    "\n",
    "# def만으로 함수를 선언하면 동기함수이다.\n",
    "# async def function() 이렇게 선언하면 비동기 함수이며\n",
    "# 비동기 함수 안에서 비동기함수를 실행하면 그 앞에 반드시 await를 써야 한다.\n",
    "# 안 쓰면 동기처리가 되거나 예외가 발생한다.\n",
    "\n",
    "\n",
    "# async가 붙은 함수는 coroutine이 반환된다. promise object가 반환된다는 것이다.\n",
    "\n",
    "def exe_calculate_sync(name, n):\n",
    "    \n",
    "    for i in range(1, n+1):\n",
    "        print(f'{name} -> {i} of {n} is calculating...')\n",
    "        time.sleep(1)\n",
    "\n",
    "    print(f'{name} - {n} works are done!')\n",
    "\n",
    "def process_sync():\n",
    "    \n",
    "    start = time.time()\n",
    "    \n",
    "    exe_calculate_sync('One', 3)\n",
    "    exe_calculate_sync('Two', 2)\n",
    "    exe_calculate_sync('Three', 1)\n",
    "\n",
    "    end = time.time()\n",
    "\n",
    "    print(f'>>> total seconds: {end - start}')\n",
    "\n",
    "\n",
    "\n",
    "\n",
    "\n",
    "\n"
   ]
  },
  {
   "cell_type": "code",
   "execution_count": 24,
   "metadata": {},
   "outputs": [
    {
     "name": "stdout",
     "output_type": "stream",
     "text": [
      "One -> 1 of 3 is calculating...\n",
      "One -> 2 of 3 is calculating...\n",
      "One -> 3 of 3 is calculating...\n",
      "One - 3 works are done!\n",
      "Two -> 1 of 2 is calculating...\n",
      "Two -> 2 of 2 is calculating...\n",
      "Two - 2 works are done!\n",
      "Three -> 1 of 1 is calculating...\n",
      "Three - 1 works are done!\n",
      ">>> total seconds: 6.0451061725616455\n"
     ]
    }
   ],
   "source": [
    "if __name__ == '__main__':\n",
    "    # sync 실행\n",
    "    process_sync()"
   ]
  },
  {
   "cell_type": "code",
   "execution_count": 25,
   "metadata": {},
   "outputs": [],
   "source": [
    "import asyncio, time\n",
    "\n",
    "async def exe_calculate_async(name, n):\n",
    "    \n",
    "    for i in range(1, n+1):\n",
    "        print(f'{name} -> {i} of {n} is calculating...')\n",
    "        #time.sleep(1)  #async가 없는 동기함수이다.\n",
    "        \n",
    "        await asyncio.sleep(1)\n",
    "\n",
    "    print(f'{name} - {n} works are done!')\n",
    "\n",
    "\n",
    "async def process_async():\n",
    "    \n",
    "    start = time.time()\n",
    "    \n",
    "    # 여러개일 때는 묶을 수 있고, 한 개라면 await function 이렇게 써도 된다.\n",
    "    await asyncio.wait([\n",
    "        exe_calculate_async('One', 3),\n",
    "        exe_calculate_async('Two', 2),\n",
    "        exe_calculate_async('Three', 1),\n",
    "        ])\n",
    "\n",
    "    # 만약 비동기 함수 내부에서 동기함수를 사용하면\n",
    "    # RuntimeError: asyncio.run() cannot be called from a running event loop 예외 발생\n",
    "\n",
    "    end = time.time()\n",
    "\n",
    "    print(f'>>> total seconds: {end - start}')"
   ]
  },
  {
   "cell_type": "code",
   "execution_count": 26,
   "metadata": {},
   "outputs": [
    {
     "name": "stdout",
     "output_type": "stream",
     "text": [
      "One -> 1 of 3 is calculating...\n",
      "Three -> 1 of 1 is calculating...\n",
      "Two -> 1 of 2 is calculating...\n",
      "One -> 2 of 3 is calculating...\n",
      "Three - 1 works are done!\n",
      "Two -> 2 of 2 is calculating...\n",
      "One -> 3 of 3 is calculating...\n",
      "Two - 2 works are done!\n",
      "One - 3 works are done!\n",
      ">>> total seconds: 3.0309979915618896\n"
     ]
    }
   ],
   "source": [
    "# Async 실행\n",
    "# 파이선 3.7 이상\n",
    "\n",
    "if __name__ == '__main__':\n",
    "    await process_async() # 주피터 노트북에서는 이렇게 실행해야 한다.\n",
    "    #asyncio.run(process_async()) # 3.7 이상이며 py file 혹은 구버전 IPython에서는 이렇게 해야 한다.\n",
    "    #asyncio.get_envet_loop().run_until_complete(process_sync) # 3.7 이하\n",
    "\n",
    "# 실행시간이 6초에서 3초로 줄어들었다.\n"
   ]
  },
  {
   "cell_type": "code",
   "execution_count": 27,
   "metadata": {},
   "outputs": [
    {
     "name": "stdout",
     "output_type": "stream",
     "text": [
      "Requirement already satisfied: aiohttp in c:\\users\\rokie\\anaconda3\\envs\\ai\\lib\\site-packages (3.7.4)\n",
      "Requirement already satisfied: chardet<4.0,>=2.0 in c:\\users\\rokie\\anaconda3\\envs\\ai\\lib\\site-packages (from aiohttp) (3.0.4)\n",
      "Requirement already satisfied: async-timeout<4.0,>=3.0 in c:\\users\\rokie\\anaconda3\\envs\\ai\\lib\\site-packages (from aiohttp) (3.0.1)\n",
      "Requirement already satisfied: multidict<7.0,>=4.5 in c:\\users\\rokie\\anaconda3\\envs\\ai\\lib\\site-packages (from aiohttp) (5.1.0)\n",
      "Requirement already satisfied: typing-extensions>=3.6.5 in c:\\users\\rokie\\anaconda3\\envs\\ai\\lib\\site-packages (from aiohttp) (3.7.4.3)\n",
      "Requirement already satisfied: yarl<2.0,>=1.0 in c:\\users\\rokie\\anaconda3\\envs\\ai\\lib\\site-packages (from aiohttp) (1.6.3)\n",
      "Requirement already satisfied: attrs>=17.3.0 in c:\\users\\rokie\\anaconda3\\envs\\ai\\lib\\site-packages (from aiohttp) (21.2.0)\n",
      "Requirement already satisfied: idna>=2.0 in c:\\users\\rokie\\anaconda3\\envs\\ai\\lib\\site-packages (from yarl<2.0,>=1.0->aiohttp) (2.10)\n"
     ]
    },
    {
     "name": "stderr",
     "output_type": "stream",
     "text": [
      "WARNING: Ignoring invalid distribution -ycrypto (c:\\users\\rokie\\anaconda3\\envs\\ai\\lib\\site-packages)\n",
      "WARNING: Ignoring invalid distribution -ycrypto (c:\\users\\rokie\\anaconda3\\envs\\ai\\lib\\site-packages)\n",
      "WARNING: Ignoring invalid distribution -ycrypto (c:\\users\\rokie\\anaconda3\\envs\\ai\\lib\\site-packages)\n",
      "WARNING: Ignoring invalid distribution -ycrypto (c:\\users\\rokie\\anaconda3\\envs\\ai\\lib\\site-packages)\n",
      "WARNING: Ignoring invalid distribution -ycrypto (c:\\users\\rokie\\anaconda3\\envs\\ai\\lib\\site-packages)\n",
      "WARNING: Ignoring invalid distribution -ycrypto (c:\\users\\rokie\\anaconda3\\envs\\ai\\lib\\site-packages)\n"
     ]
    }
   ],
   "source": [
    "!pip install aiohttp\n",
    "# requests 대신에 비동기 패키지를 설치한다."
   ]
  },
  {
   "cell_type": "code",
   "execution_count": 36,
   "metadata": {},
   "outputs": [],
   "source": [
    "# asyncio가 threading보다 더 생각할 거리가 많다.\n",
    "# 비동기함수인지 신경써야 하고 기존 패키지가 비동기를 지원하는지도 따져야 한다.\n",
    "\n",
    "# request 패키지는 동기식으로 처리된다.\n",
    "import aiohttp\n",
    "\n",
    "\n",
    "\n",
    "\n",
    "\n",
    "\n",
    "# 실행함수1 다운로드\n",
    "async def request_site(url, session):\n",
    "\n",
    "    print(f'what is session? {session} \\n')\n",
    "    \n",
    "    async with session.get(url) as response:\n",
    "        print(f\"Read Contents {response.content_length}, from {url}.\")\n",
    "\n",
    "\n",
    "# 실행함수2 요청\n",
    "async def request_all_sites(urls):\n",
    "\n",
    "    # 비동기에서 with문을 사용하면 async를 붙인다.\n",
    "    async with aiohttp.ClientSession() as session:\n",
    "\n",
    "        #작업목록\n",
    "        tasks = []\n",
    "        for url in urls:\n",
    "            task = asyncio.ensure_future(request_site(session, url))\n",
    "            tasks.append(task)\n",
    "\n",
    "        # tasks 확인\n",
    "        #print(*task)\n",
    "        #print(task)\n",
    "\n",
    "        await asyncio.gather(*tasks, return_exceptions= True)\n",
    "        # 모든 사이트에 접속한다는 보장이 없기 때문에 미리 예외 True를 했다.\n",
    "   \n",
    "\n",
    "\n",
    "async def main():\n",
    "    # test URLs\n",
    "    urls = [\n",
    "        'https://www.jython.org',\n",
    "        'https://olympus.realpython.org/dice',\n",
    "        'https://realpython.com',\n",
    "    ] *3\n",
    "\n",
    "    # 실행시간 측정\n",
    "    start_time = time.time()\n",
    "\n",
    "    # run이 있는 영역은 비동기를 시작하는 곳이므로 main함수 앞에 async를 붙이든 말든 상관없다.\n",
    "    #asyncio.run(request_all_sites(urls))\n",
    "    await request_all_sites(urls)\n",
    "    #asyncio.get_event_loop().run_until_complete(request_all_sites(urls))\n",
    "\n",
    "\n",
    "    duration = time.time() - start_time\n",
    "\n",
    "    # 결과 출력\n",
    "    print()\n",
    "    print(f'Downloaded {len(urls)} sites in {duration} seconds')"
   ]
  },
  {
   "cell_type": "code",
   "execution_count": 37,
   "metadata": {},
   "outputs": [
    {
     "name": "stdout",
     "output_type": "stream",
     "text": [
      "what is session? https://www.jython.org \n",
      "\n",
      "what is session? https://olympus.realpython.org/dice \n",
      "\n",
      "what is session? https://realpython.com \n",
      "\n",
      "what is session? https://www.jython.org \n",
      "\n",
      "what is session? https://olympus.realpython.org/dice \n",
      "\n",
      "what is session? https://realpython.com \n",
      "\n",
      "what is session? https://www.jython.org \n",
      "\n",
      "what is session? https://olympus.realpython.org/dice \n",
      "\n",
      "what is session? https://realpython.com \n",
      "\n",
      "\n",
      "Downloaded 9 sites in 0.0030024051666259766 seconds\n"
     ]
    }
   ],
   "source": [
    "if __name__ == '__main__':\n",
    "    await main()"
   ]
  },
  {
   "cell_type": "markdown",
   "metadata": {},
   "source": []
  },
  {
   "cell_type": "code",
   "execution_count": null,
   "metadata": {},
   "outputs": [],
   "source": []
  },
  {
   "cell_type": "code",
   "execution_count": null,
   "metadata": {},
   "outputs": [],
   "source": []
  },
  {
   "cell_type": "code",
   "execution_count": null,
   "metadata": {},
   "outputs": [],
   "source": []
  }
 ],
 "metadata": {
  "kernelspec": {
   "display_name": "Python 3.8.10 ('ai')",
   "language": "python",
   "name": "python3"
  },
  "language_info": {
   "codemirror_mode": {
    "name": "ipython",
    "version": 3
   },
   "file_extension": ".py",
   "mimetype": "text/x-python",
   "name": "python",
   "nbconvert_exporter": "python",
   "pygments_lexer": "ipython3",
   "version": "3.8.10"
  },
  "orig_nbformat": 4,
  "vscode": {
   "interpreter": {
    "hash": "6270e6d8b5fb321e1a842519f0c29f2e2b7188cdba36e81e06ada9019ab06ac7"
   }
  }
 },
 "nbformat": 4,
 "nbformat_minor": 2
}
