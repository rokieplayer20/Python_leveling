{
 "cells": [
  {
   "cell_type": "markdown",
   "metadata": {},
   "source": [
    "JAVA의 Has-a relationship을 사용하고 싶으면 별도의 setter, getter를 스스로 만들어야 한다."
   ]
  },
  {
   "cell_type": "code",
   "execution_count": 1,
   "metadata": {},
   "outputs": [],
   "source": [
    "class Grade:\n",
    "\n",
    "    def __init__(self):\n",
    "        print(f'init of {self}')\n",
    "        self._value = 0\n",
    "\n",
    "    def __get__(self, inst, inst_type):\n",
    "        print(f'get method of {inst}')\n",
    "        return self._value\n",
    "    \n",
    "    def __set__(self, inst, value):\n",
    "        print(f'set method of {inst}')\n",
    "        if not (0 <= value <= 100):\n",
    "            raise ValueError(f\"!\")\n",
    "\n",
    "        self._value = value\n",
    "\n",
    "    "
   ]
  },
  {
   "cell_type": "code",
   "execution_count": 2,
   "metadata": {},
   "outputs": [],
   "source": [
    "class yee:\n",
    "    def __init__(self):\n",
    "        self.a1 = Grade()\n",
    "        self.a2 = Grade()\n",
    "\n",
    "\n",
    "        self._a3 = Grade()\n",
    "        self.__a4 = Grade()\n",
    "\n",
    "    def modify__a4(self, value):\n",
    "        self.__a4.__set__(self, value)\n",
    "\n",
    "    def get__a4(self):\n",
    "        return self.__a4.__get__(self, type(self))\n",
    "\n",
    "   \n",
    "    \n",
    "\n",
    "    def puedomodify__a4(self, value):\n",
    "\n",
    "        self.__a4 = value # 원래대로면 Grade의 __set__이 호출되어야 하지만 그렇지 않다.\n",
    "\n",
    "    def puedoget__a4(self):\n",
    "        return self.__a4 # 이것 또한 Grade의 __get__이 호출되어야 하지만 그냥 해당 instance만 반환한다.\n",
    "    \"\"\"\n",
    "    @property\n",
    "    def a4(self):\n",
    "        return self.__a4\n",
    "    \n",
    "    이것을 실행하면 kernel 충돌이 발생한다. 아마도 closure에서 함수를 너무 중첩시켜 실행하는 꼴이 되는 모양이다.\n",
    "    \n",
    "    \"\"\"\n"
   ]
  },
  {
   "cell_type": "code",
   "execution_count": 3,
   "metadata": {},
   "outputs": [
    {
     "name": "stdout",
     "output_type": "stream",
     "text": [
      "init of <__main__.Grade object at 0x00000161DD125190>\n",
      "init of <__main__.Grade object at 0x00000161DD1305E0>\n",
      "init of <__main__.Grade object at 0x00000161DD130DC0>\n",
      "init of <__main__.Grade object at 0x00000161DD130670>\n",
      "init of <__main__.Grade object at 0x00000161DD125130>\n",
      "init of <__main__.Grade object at 0x00000161DDD06250>\n",
      "init of <__main__.Grade object at 0x00000161DDD06220>\n",
      "init of <__main__.Grade object at 0x00000161DDD06160>\n"
     ]
    }
   ],
   "source": [
    "y1 = yee()\n",
    "y2 = yee()\n"
   ]
  },
  {
   "cell_type": "code",
   "execution_count": 4,
   "metadata": {},
   "outputs": [
    {
     "name": "stdout",
     "output_type": "stream",
     "text": [
      "get method of <__main__.yee object at 0x00000161DD125970>\n",
      "0\n",
      "set method of <__main__.yee object at 0x00000161DD125970>\n",
      "get method of <__main__.yee object at 0x00000161DD125970>\n",
      "4\n"
     ]
    }
   ],
   "source": [
    "print(y1.get__a4())\n",
    "y1.modify__a4(4)\n",
    "print(y1.get__a4())\n",
    "\n",
    "# getter, setter를 거쳐 가도 object의 id가 변하지 않았다. 성공적이다.\n"
   ]
  },
  {
   "cell_type": "code",
   "execution_count": 5,
   "metadata": {},
   "outputs": [
    {
     "name": "stdout",
     "output_type": "stream",
     "text": [
      "get method of <__main__.yee object at 0x00000161DD125370>\n",
      "0\n",
      "set method of <__main__.yee object at 0x00000161DD125370>\n",
      "get method of <__main__.yee object at 0x00000161DD125370>\n",
      "44\n"
     ]
    }
   ],
   "source": [
    "print(y2.get__a4())\n",
    "y2.modify__a4(44)\n",
    "print(y2.get__a4())"
   ]
  },
  {
   "cell_type": "code",
   "execution_count": 6,
   "metadata": {},
   "outputs": [
    {
     "name": "stdout",
     "output_type": "stream",
     "text": [
      "111\n"
     ]
    }
   ],
   "source": [
    "y1.puedomodify__a4(111)\n",
    "print(y1.puedoget__a4())\n",
    "\n",
    "# Grade class에 있는 print들이 사용되지 않는다.\n",
    "# 이것은 y1.__a4가 가리키는 객체가 Grade() instance에서 int instance로 바뀌어 버렸다.\n"
   ]
  },
  {
   "cell_type": "code",
   "execution_count": 8,
   "metadata": {},
   "outputs": [
    {
     "name": "stdout",
     "output_type": "stream",
     "text": [
      "['__class__', '__delattr__', '__dict__', '__dir__', '__doc__', '__eq__', '__format__', '__ge__', '__getattribute__', '__gt__', '__hash__', '__init__', '__init_subclass__', '__le__', '__lt__', '__module__', '__ne__', '__new__', '__reduce__', '__reduce_ex__', '__repr__', '__setattr__', '__sizeof__', '__str__', '__subclasshook__', '__weakref__', '_a3', '_yee__a4', 'a1', 'a2', 'get__a4', 'modify__a4', 'puedoget__a4', 'puedomodify__a4']\n",
      "{'a1': <__main__.Grade object at 0x00000161DD125190>, 'a2': <__main__.Grade object at 0x00000161DD1305E0>, '_a3': <__main__.Grade object at 0x00000161DD130DC0>, '_yee__a4': 111}\n"
     ]
    }
   ],
   "source": [
    "print(dir(y1))\n",
    "print(y1.__dict__)\n",
    "\n",
    "# 진짜로 y1.__a4는 int 객체를 가리키고 있다."
   ]
  }
 ],
 "metadata": {
  "kernelspec": {
   "display_name": "Python 3.8.10 ('ai')",
   "language": "python",
   "name": "python3"
  },
  "language_info": {
   "codemirror_mode": {
    "name": "ipython",
    "version": 3
   },
   "file_extension": ".py",
   "mimetype": "text/x-python",
   "name": "python",
   "nbconvert_exporter": "python",
   "pygments_lexer": "ipython3",
   "version": "3.8.10"
  },
  "orig_nbformat": 4,
  "vscode": {
   "interpreter": {
    "hash": "6270e6d8b5fb321e1a842519f0c29f2e2b7188cdba36e81e06ada9019ab06ac7"
   }
  }
 },
 "nbformat": 4,
 "nbformat_minor": 2
}
