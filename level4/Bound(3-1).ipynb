{
 "cells": [
  {
   "cell_type": "markdown",
   "metadata": {},
   "source": [
    "Concurrency (동시성)\n",
    "\n",
    "    - CPU 가용성을 극대화하기 위해 Parrallelism의 단점 및 어려움을 구현 레벨에서 해결하기 위한 방법\n",
    "    - 동시 작업에서 일정양 처리 후에 다음 작업으로 넘기는 방식\n",
    "    - 제어권을 주고 받는 작업 처리 패턴, 병렬적은 아니지만 유사한 처리 방식이다.\n",
    "\n",
    "Concurrency VS Parrallelism (병렬성)\n",
    "\n",
    "- 동시성: 논리적, 동시 실행 패턴, 싱글코어 및 멀티코어에서 실행가능, 한 개의 작업 공유 처리, 디버깅이 매우 어려움, mutex, deadlock \n",
    "- 병렬성: 물리적으로 동실 실행, 멀티코에서 구현 가능함, 주로 별개의 작업 처리, 디버깅 어려움, openMD, MPI, CUDA\n",
    "\n"
   ]
  },
  {
   "cell_type": "markdown",
   "metadata": {},
   "source": [
    "Blocking IO vs Non-blocking IO\n",
    "<br><br>\n",
    "Blocking IO\n",
    "\n",
    "    - system call -> kernel IO 작업 완료까지 응답을 대기함\n",
    "    - 제어권이 IO작업에 있다. -> kernel이 소유함 -> response 전까지 대기 (block) -> 다른 작업을 수행할 수 없다.\n",
    "    \n",
    "Non-blocking IO\n",
    "\n",
    "    - system call -> kernel이 IO 작업 완료에 무관하게 즉시 응답한다.\n",
    "    - 제어권이 IO 작업에 있다 -> user process -> 다른 작업을 수행할 수 있다. -> 주기적으로 시스템 콜을 통해서 IO 작업 완료 여부를 확인한다.\n",
    "    \n",
    "Async vs Sync\n",
    "\n",
    "    Async: IO 작업 완료 여부에 대한 Noty는 호출되는 함수 (kernel)에서 호출하는 함수 (user process)로 간다.\n",
    "    Sync: IO 작업 완료 여부에 대한 Noty는 호출하는 함수 (user process)에서 호출되는 함수 (kernel)로 간다.\n",
    "\n",
    "    \n"
   ]
  },
  {
   "cell_type": "markdown",
   "metadata": {},
   "source": [
    "![nn](./IO1.jpg) <br>\n",
    "![nn](./IO2.jpg) <br>\n",
    "![nn](./IO3.png) <br>\n",
    "reference: https://limdongjin.github.io/concepts/blocking-non-blocking-io.html"
   ]
  },
  {
   "cell_type": "markdown",
   "metadata": {},
   "source": [
    "CPU bound vs I/O bound\n",
    "\n",
    "    CPU bound\n",
    "\n",
    "    - process 진행이 CPU 속도에 의해 제한된다. -> 행렬곱, 고속연산, 파일 압축, 집합 연산 등등\n",
    "    - CPU연산 위주 작업\n",
    "\n",
    "    I/O bound\n",
    "    \n",
    "    - 파일쓰기, 디스크 작업, 네트워크 통신, 시리얼 포트 송수신 -> 작업에 의해서 병목에 의해 시간이 결정된다.\n",
    "    - CPU 성능이 수행시간 단축으로 크게 영향을 끼치지 않는다.\n",
    "\n",
    "Memory binding, cache bounding <br>\n",
    "작업 목적에 따라서 적절한 동시성 라이브러리 선택이 중요하다.  \n",
    "최종비교 \n",
    "\n",
    "    - Multiprocessing: Multiple process, 고가용성 CPU Utilization -> CPU-Bound -> 10개의 부엌에 10명의 요리사가 있고 10개의 요리를 한다. 각각 자원끼리 작업끼리 독립적이다.\n",
    "\n",
    "    - threading: In Single(Multi) process and multiple threads, OS decides task switching -> Fast I/O bound -> 1개의 부엌, 10명의 요리사, 10개의 요리\n",
    "    \n",
    "    - AsyncIO: In Single process and single thread and cooperative multitasking, tasks cooperatively decide switching -> Slow I/O-Bound -> 1개의 부엌, 1명 요리사가 10개의 요리를 한다."
   ]
  },
  {
   "cell_type": "markdown",
   "metadata": {},
   "source": [
    "Synchronous, I/O bound, requests package\n",
    "\n"
   ]
  },
  {
   "cell_type": "code",
   "execution_count": 10,
   "metadata": {},
   "outputs": [],
   "source": [
    "# requests는 서버에서 정보를 가져오는 패키지이다.\n",
    "# !pip install requests\n",
    "import requests\n",
    "import time\n",
    "\n",
    "# 실행함수1 다운로드\n",
    "def request_site(url, session):\n",
    "    # session 확인\n",
    "    print(session)\n",
    "    print(session.headers)\n",
    "    \"\"\"\n",
    "    SSLError: HTTPSConnectionPool\n",
    "    신뢰할 수 있는 SSL 인증서로 인해서 발생한다.\n",
    "    get에 verify를 false로 바꾼다.\n",
    "    \n",
    "    또는 \n",
    "\n",
    "    openssl, urllib3 등등의 버전이 맞지 않기 때문일 수 있다.\n",
    "\n",
    "    py file로도 안 되는 것을 보면 ai 가상환경을 다시 버전에 맞게 만들어 봐야겠다.\n",
    "    \"\"\"\n",
    "    with session.get(url, verify=False) as response:\n",
    "        print(f'[Read contents: {len(response.content)}, Status Code: {response.status_code}] from {url}')\n",
    "\n",
    "\n",
    "# 실행함수2 요청\n",
    "def request_all_sites(urls):\n",
    "    # 서버에 접속한 시점에서 웹브라우저에서 정보를 가져옴\n",
    "    with requests.Session() as session:\n",
    "        for url in urls:\n",
    "\n",
    "            request_site(url, session)\n",
    "\n",
    "  \n",
    "\n",
    "\n",
    "# sync blocking IO, 순서대로 방문한다.\n",
    "def main():\n",
    "    # test URLs\n",
    "    urls = [\n",
    "        'https://www.jython.org',\n",
    "        'http://olympus.realpython.org/dice', # https로 쓰면 SSL 오류 나더라 ㅋㅋㅋㅋ\n",
    "        'https://realpython.com',\n",
    "    ] *3\n",
    "\n",
    "    # 실행시간 측정\n",
    "    start_time = time.time()\n",
    "\n",
    "    # 실행\n",
    "    request_all_sites(urls)\n",
    "\n",
    "    # 실행 시간 종료\n",
    "    duration = time.time() - start_time\n",
    "\n",
    "    # 결과 출력\n",
    "    print()\n",
    "    print(f'Downloaded {len(urls)} sites in {duration} seconds')\n",
    "\n",
    "\n",
    "\n",
    "# 우리가 생각 없이 코드를 작성하면 작성자에 의해서 sync blocking IO이다.\n",
    "# 단지, 패키지나 low level에서 다르게 작성한다면 그거에 맞춰서 움직일 것이다."
   ]
  },
  {
   "cell_type": "code",
   "execution_count": 11,
   "metadata": {},
   "outputs": [
    {
     "name": "stdout",
     "output_type": "stream",
     "text": [
      "<requests.sessions.Session object at 0x0000029DF3F73CA0>\n",
      "{'User-Agent': 'python-requests/2.25.1', 'Accept-Encoding': 'gzip, deflate', 'Accept': '*/*', 'Connection': 'keep-alive'}\n"
     ]
    },
    {
     "name": "stderr",
     "output_type": "stream",
     "text": [
      "c:\\Users\\rokie\\anaconda3\\envs\\ai\\lib\\site-packages\\urllib3\\connectionpool.py:1013: InsecureRequestWarning: Unverified HTTPS request is being made to host 'www.jython.org'. Adding certificate verification is strongly advised. See: https://urllib3.readthedocs.io/en/latest/advanced-usage.html#ssl-warnings\n",
      "  warnings.warn(\n"
     ]
    },
    {
     "name": "stdout",
     "output_type": "stream",
     "text": [
      "[Read contents: 10782, Status Code: 200] from https://www.jython.org\n",
      "<requests.sessions.Session object at 0x0000029DF3F73CA0>\n",
      "{'User-Agent': 'python-requests/2.25.1', 'Accept-Encoding': 'gzip, deflate', 'Accept': '*/*', 'Connection': 'keep-alive'}\n",
      "[Read contents: 275, Status Code: 200] from http://olympus.realpython.org/dice\n",
      "<requests.sessions.Session object at 0x0000029DF3F73CA0>\n",
      "{'User-Agent': 'python-requests/2.25.1', 'Accept-Encoding': 'gzip, deflate', 'Accept': '*/*', 'Connection': 'keep-alive'}\n"
     ]
    },
    {
     "name": "stderr",
     "output_type": "stream",
     "text": [
      "c:\\Users\\rokie\\anaconda3\\envs\\ai\\lib\\site-packages\\urllib3\\connectionpool.py:1013: InsecureRequestWarning: Unverified HTTPS request is being made to host 'realpython.com'. Adding certificate verification is strongly advised. See: https://urllib3.readthedocs.io/en/latest/advanced-usage.html#ssl-warnings\n",
      "  warnings.warn(\n"
     ]
    },
    {
     "name": "stdout",
     "output_type": "stream",
     "text": [
      "[Read contents: 57145, Status Code: 200] from https://realpython.com\n",
      "<requests.sessions.Session object at 0x0000029DF3F73CA0>\n",
      "{'User-Agent': 'python-requests/2.25.1', 'Accept-Encoding': 'gzip, deflate', 'Accept': '*/*', 'Connection': 'keep-alive'}\n",
      "[Read contents: 10782, Status Code: 200] from https://www.jython.org\n",
      "<requests.sessions.Session object at 0x0000029DF3F73CA0>\n",
      "{'User-Agent': 'python-requests/2.25.1', 'Accept-Encoding': 'gzip, deflate', 'Accept': '*/*', 'Connection': 'keep-alive'}\n",
      "[Read contents: 275, Status Code: 200] from http://olympus.realpython.org/dice\n",
      "<requests.sessions.Session object at 0x0000029DF3F73CA0>\n",
      "{'User-Agent': 'python-requests/2.25.1', 'Accept-Encoding': 'gzip, deflate', 'Accept': '*/*', 'Connection': 'keep-alive'}\n"
     ]
    },
    {
     "name": "stderr",
     "output_type": "stream",
     "text": [
      "c:\\Users\\rokie\\anaconda3\\envs\\ai\\lib\\site-packages\\urllib3\\connectionpool.py:1013: InsecureRequestWarning: Unverified HTTPS request is being made to host 'www.jython.org'. Adding certificate verification is strongly advised. See: https://urllib3.readthedocs.io/en/latest/advanced-usage.html#ssl-warnings\n",
      "  warnings.warn(\n",
      "c:\\Users\\rokie\\anaconda3\\envs\\ai\\lib\\site-packages\\urllib3\\connectionpool.py:1013: InsecureRequestWarning: Unverified HTTPS request is being made to host 'realpython.com'. Adding certificate verification is strongly advised. See: https://urllib3.readthedocs.io/en/latest/advanced-usage.html#ssl-warnings\n",
      "  warnings.warn(\n"
     ]
    },
    {
     "name": "stdout",
     "output_type": "stream",
     "text": [
      "[Read contents: 57146, Status Code: 200] from https://realpython.com\n",
      "<requests.sessions.Session object at 0x0000029DF3F73CA0>\n",
      "{'User-Agent': 'python-requests/2.25.1', 'Accept-Encoding': 'gzip, deflate', 'Accept': '*/*', 'Connection': 'keep-alive'}\n",
      "[Read contents: 10782, Status Code: 200] from https://www.jython.org\n",
      "<requests.sessions.Session object at 0x0000029DF3F73CA0>\n",
      "{'User-Agent': 'python-requests/2.25.1', 'Accept-Encoding': 'gzip, deflate', 'Accept': '*/*', 'Connection': 'keep-alive'}\n"
     ]
    },
    {
     "name": "stderr",
     "output_type": "stream",
     "text": [
      "c:\\Users\\rokie\\anaconda3\\envs\\ai\\lib\\site-packages\\urllib3\\connectionpool.py:1013: InsecureRequestWarning: Unverified HTTPS request is being made to host 'www.jython.org'. Adding certificate verification is strongly advised. See: https://urllib3.readthedocs.io/en/latest/advanced-usage.html#ssl-warnings\n",
      "  warnings.warn(\n"
     ]
    },
    {
     "name": "stdout",
     "output_type": "stream",
     "text": [
      "[Read contents: 275, Status Code: 200] from http://olympus.realpython.org/dice\n",
      "<requests.sessions.Session object at 0x0000029DF3F73CA0>\n",
      "{'User-Agent': 'python-requests/2.25.1', 'Accept-Encoding': 'gzip, deflate', 'Accept': '*/*', 'Connection': 'keep-alive'}\n"
     ]
    },
    {
     "name": "stderr",
     "output_type": "stream",
     "text": [
      "c:\\Users\\rokie\\anaconda3\\envs\\ai\\lib\\site-packages\\urllib3\\connectionpool.py:1013: InsecureRequestWarning: Unverified HTTPS request is being made to host 'realpython.com'. Adding certificate verification is strongly advised. See: https://urllib3.readthedocs.io/en/latest/advanced-usage.html#ssl-warnings\n",
      "  warnings.warn(\n"
     ]
    },
    {
     "name": "stdout",
     "output_type": "stream",
     "text": [
      "[Read contents: 57146, Status Code: 200] from https://realpython.com\n",
      "\n",
      "Downloaded 9 sites in 3.4102303981781006 seconds\n"
     ]
    }
   ],
   "source": [
    "if __name__ == '__main__':\n",
    "    main()"
   ]
  },
  {
   "cell_type": "code",
   "execution_count": null,
   "metadata": {},
   "outputs": [],
   "source": []
  },
  {
   "cell_type": "code",
   "execution_count": null,
   "metadata": {},
   "outputs": [],
   "source": []
  },
  {
   "cell_type": "code",
   "execution_count": null,
   "metadata": {},
   "outputs": [],
   "source": []
  }
 ],
 "metadata": {
  "kernelspec": {
   "display_name": "Python 3.8.10 ('ai')",
   "language": "python",
   "name": "python3"
  },
  "language_info": {
   "codemirror_mode": {
    "name": "ipython",
    "version": 3
   },
   "file_extension": ".py",
   "mimetype": "text/x-python",
   "name": "python",
   "nbconvert_exporter": "python",
   "pygments_lexer": "ipython3",
   "version": "3.8.10"
  },
  "orig_nbformat": 4,
  "vscode": {
   "interpreter": {
    "hash": "6270e6d8b5fb321e1a842519f0c29f2e2b7188cdba36e81e06ada9019ab06ac7"
   }
  }
 },
 "nbformat": 4,
 "nbformat_minor": 2
}
