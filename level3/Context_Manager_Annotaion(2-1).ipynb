{
 "cells": [
  {
   "cell_type": "markdown",
   "metadata": {},
   "source": [
    "저번 context manager는 class 형태였고 이번에는 함수형태이다. <br>\n",
    "keyword : @contextlib.contextmanager, __enter__, __exit__ <br>\n",
    "Contextlib decorator를 사용할 것이다. <br>"
   ]
  },
  {
   "cell_type": "code",
   "execution_count": 5,
   "metadata": {},
   "outputs": [],
   "source": [
    "#ex1\n",
    "import contextlib\n",
    "import time\n",
    "\n",
    "@contextlib.contextmanager\n",
    "def my_file_writer(file_name, method):\n",
    "    # 바로 여기서부터 __enter__\n",
    "    f = open(file_name, method)\n",
    "    yield f # __enter__ as로 넘기는 부분\n",
    "\n",
    "    # __exit__\n",
    "    f.close()\n"
   ]
  },
  {
   "cell_type": "code",
   "execution_count": 6,
   "metadata": {},
   "outputs": [],
   "source": [
    "with my_file_writer('./textfile4.txt', 'w') as f:\n",
    "\n",
    "    f.write('Context Manager test4. \\nContextlib text4')\n"
   ]
  },
  {
   "cell_type": "code",
   "execution_count": 11,
   "metadata": {},
   "outputs": [],
   "source": [
    "# ex2\n",
    "\n",
    "@contextlib.contextmanager\n",
    "def ExcuteTimerDc(msg):\n",
    "    start = time.monotonic()\n",
    "\n",
    "    # __enter__\n",
    "    try:\n",
    "        yield start\n",
    "\n",
    "    except BaseException as e:\n",
    "        print(f'Logging exception {msg} : {e}')\n",
    "        raise\n",
    "        # raise를 써서 예외가 있으면 상위클래스로 던지기\n",
    "    else: # __exit__\n",
    "        print(f'{msg} : {time.monotonic() - start}s')\n"
   ]
  },
  {
   "cell_type": "code",
   "execution_count": 12,
   "metadata": {},
   "outputs": [
    {
     "name": "stdout",
     "output_type": "stream",
     "text": [
      "Received start monotonic2 : 89794.328\n",
      "Logging exception Start Job!! : Occured.\n"
     ]
    },
    {
     "ename": "ValueError",
     "evalue": "Occured.",
     "output_type": "error",
     "traceback": [
      "\u001b[1;31m---------------------------------------------------------------------------\u001b[0m",
      "\u001b[1;31mValueError\u001b[0m                                Traceback (most recent call last)",
      "\u001b[1;32m<ipython-input-12-0c591b54adf6>\u001b[0m in \u001b[0;36m<module>\u001b[1;34m\u001b[0m\n\u001b[0;32m      5\u001b[0m     \u001b[1;32mfor\u001b[0m \u001b[0mi\u001b[0m \u001b[1;32min\u001b[0m \u001b[0mrange\u001b[0m\u001b[1;33m(\u001b[0m\u001b[1;36m10000000\u001b[0m\u001b[1;33m)\u001b[0m\u001b[1;33m:\u001b[0m\u001b[1;33m\u001b[0m\u001b[1;33m\u001b[0m\u001b[0m\n\u001b[0;32m      6\u001b[0m         \u001b[1;32mpass\u001b[0m\u001b[1;33m\u001b[0m\u001b[1;33m\u001b[0m\u001b[0m\n\u001b[1;32m----> 7\u001b[1;33m     \u001b[1;32mraise\u001b[0m \u001b[0mValueError\u001b[0m\u001b[1;33m(\u001b[0m\u001b[1;34m'Occured.'\u001b[0m\u001b[1;33m)\u001b[0m\u001b[1;33m\u001b[0m\u001b[1;33m\u001b[0m\u001b[0m\n\u001b[0m",
      "\u001b[1;31mValueError\u001b[0m: Occured."
     ]
    }
   ],
   "source": [
    "with ExcuteTimerDc('Start Job!!') as v:\n",
    "    print(f'Received start monotonic2 : {v}')\n",
    "\n",
    "    # Excute job\n",
    "    for i in range(10000000):\n",
    "        pass\n",
    "    raise ValueError('Occured.')"
   ]
  },
  {
   "cell_type": "code",
   "execution_count": null,
   "metadata": {},
   "outputs": [],
   "source": []
  },
  {
   "cell_type": "code",
   "execution_count": null,
   "metadata": {},
   "outputs": [],
   "source": []
  }
 ],
 "metadata": {
  "kernelspec": {
   "display_name": "Python 3.8.10 ('ai')",
   "language": "python",
   "name": "python3"
  },
  "language_info": {
   "codemirror_mode": {
    "name": "ipython",
    "version": 3
   },
   "file_extension": ".py",
   "mimetype": "text/x-python",
   "name": "python",
   "nbconvert_exporter": "python",
   "pygments_lexer": "ipython3",
   "version": "3.8.10"
  },
  "orig_nbformat": 4,
  "vscode": {
   "interpreter": {
    "hash": "6270e6d8b5fb321e1a842519f0c29f2e2b7188cdba36e81e06ada9019ab06ac7"
   }
  }
 },
 "nbformat": 4,
 "nbformat_minor": 2
}
