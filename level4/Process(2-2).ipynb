{
 "cells": [
  {
   "cell_type": "markdown",
   "metadata": {},
   "source": [
    "keyword: process id, process naming, parallel processing <br>\n"
   ]
  },
  {
   "cell_type": "code",
   "execution_count": 3,
   "metadata": {},
   "outputs": [],
   "source": [
    "from multiprocessing import Process, current_process\n",
    "import os, random, time\n",
    "\n",
    "\n",
    "def square(n):\n",
    "    time.sleep(random.randint(1,3))\n",
    "    process_id = os.getpid()\n",
    "    process_name = current_process().namm\n",
    "\n",
    "    result = n**2\n",
    "\n",
    "    print(f'Process_ID: {process_id}, process_name: {process_name}, result: {result}')\n",
    "\n",
    "    \n"
   ]
  },
  {
   "cell_type": "code",
   "execution_count": 4,
   "metadata": {},
   "outputs": [
    {
     "name": "stdout",
     "output_type": "stream",
     "text": [
      "Parent process ID: 29724\n",
      "Main-Processing Done!\n"
     ]
    }
   ],
   "source": [
    "if __name__ == \"__main__\":\n",
    "    # 부모 프로세스 id\n",
    "    parent_process_id = os.getpid()\n",
    "\n",
    "    print(f'Parent process ID: {parent_process_id}')\n",
    "\n",
    "    # process list 선언\n",
    "    processes = list()\n",
    "\n",
    "    # 프로세스 실행 및 실행\n",
    "    for i in range(1,3):\n",
    "        # 생성\n",
    "        t = Process(name=str(i), target = square, args = (i,))\n",
    "        \n",
    "        # 배열에 담기\n",
    "        processes.append(t)\n",
    "\n",
    "        # 시작\n",
    "        t.start()\n",
    "        # 실행시켰다가 한 번에 join하기 위해서 list에 담았다.\n",
    "  \n",
    "    for proc in processes:\n",
    "        proc.join()\n",
    "\n",
    "    #종료\n",
    "    print(f'Main-Processing Done!')\n",
    "\n",
    "\n",
    "# code에 문제는 없으나 t.start() 부분이 실행되지 않는다. 컴퓨터 실정인지 사양인지 모르겠다.\n"
   ]
  },
  {
   "cell_type": "code",
   "execution_count": null,
   "metadata": {},
   "outputs": [],
   "source": []
  },
  {
   "cell_type": "code",
   "execution_count": null,
   "metadata": {},
   "outputs": [],
   "source": []
  },
  {
   "cell_type": "code",
   "execution_count": null,
   "metadata": {},
   "outputs": [],
   "source": []
  },
  {
   "cell_type": "code",
   "execution_count": null,
   "metadata": {},
   "outputs": [],
   "source": []
  },
  {
   "cell_type": "code",
   "execution_count": null,
   "metadata": {},
   "outputs": [],
   "source": []
  }
 ],
 "metadata": {
  "kernelspec": {
   "display_name": "Python 3.8.10 ('ai')",
   "language": "python",
   "name": "python3"
  },
  "language_info": {
   "codemirror_mode": {
    "name": "ipython",
    "version": 3
   },
   "file_extension": ".py",
   "mimetype": "text/x-python",
   "name": "python",
   "nbconvert_exporter": "python",
   "pygments_lexer": "ipython3",
   "version": "3.8.10"
  },
  "orig_nbformat": 4,
  "vscode": {
   "interpreter": {
    "hash": "6270e6d8b5fb321e1a842519f0c29f2e2b7188cdba36e81e06ada9019ab06ac7"
   }
  }
 },
 "nbformat": 4,
 "nbformat_minor": 2
}
