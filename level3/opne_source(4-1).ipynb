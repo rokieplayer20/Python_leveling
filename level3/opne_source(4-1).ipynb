{
 "cells": [
  {
   "cell_type": "markdown",
   "metadata": {},
   "source": [
    "나만의 패키지 만들어 보기, png(jpg) to gif, pil, image <br>\n",
    "정적이미지를 애니메이션 이미지로 변환하기"
   ]
  },
  {
   "cell_type": "code",
   "execution_count": 3,
   "metadata": {},
   "outputs": [
    {
     "name": "stdout",
     "output_type": "stream",
     "text": [
      "<PIL.PngImagePlugin.PngImageFile image mode=RGBA size=300x247 at 0x1DD46C47BB0>\n"
     ]
    }
   ],
   "source": [
    "import glob # 작업 폴더에 있는 파일을 리스트로 한 번에 가져오기\n",
    "from PIL import Image # Python Image Library\n",
    "\n",
    "# 이미지, 결과 생성 경로\n",
    "\n",
    "path_in = './project/images/*.png'\n",
    "path_out = './project/image_out/result.gif'\n",
    "\n",
    "# 첫번째 이미지 & 모든 이미지 리스트 팩킹\n",
    "\n",
    "#img, *images = [Image.open(f) for f in sorted(glob.glob(path_in))]\n",
    "\n",
    "#print(img)\n"
   ]
  },
  {
   "cell_type": "code",
   "execution_count": 5,
   "metadata": {},
   "outputs": [],
   "source": [
    "# resize 필요한 경우\n",
    "\n",
    "\n",
    "img, *images = [Image.open(f).resize((320,240), Image.ANTIALIAS) for f in sorted(glob.glob(path_in))]\n",
    "\n",
    "\n",
    "\n",
    "# 이미지 저장\n",
    "\n",
    "img.save(\n",
    "    fp = path_out,\n",
    "    format = 'GIF',\n",
    "    append_images = images,\n",
    "    save_all= True,\n",
    "    duration = 500,\n",
    "    loop = 0\n",
    ")\n",
    "\n"
   ]
  },
  {
   "cell_type": "code",
   "execution_count": 14,
   "metadata": {},
   "outputs": [
    {
     "name": "stdout",
     "output_type": "stream",
     "text": [
      "./project/images/*.png ./project/image_out/result.gif (320, 240)\n"
     ]
    }
   ],
   "source": [
    "from open_source import GifConverter\n",
    "\n",
    "c = GifConverter('./project/images/*.png', './project/image_out/result.gif', (320, 240))\n",
    "c.convert_gif()"
   ]
  },
  {
   "cell_type": "code",
   "execution_count": null,
   "metadata": {},
   "outputs": [],
   "source": []
  },
  {
   "cell_type": "code",
   "execution_count": null,
   "metadata": {},
   "outputs": [],
   "source": []
  }
 ],
 "metadata": {
  "kernelspec": {
   "display_name": "Python 3.8.10 ('ai')",
   "language": "python",
   "name": "python3"
  },
  "language_info": {
   "codemirror_mode": {
    "name": "ipython",
    "version": 3
   },
   "file_extension": ".py",
   "mimetype": "text/x-python",
   "name": "python",
   "nbconvert_exporter": "python",
   "pygments_lexer": "ipython3",
   "version": "3.8.10"
  },
  "orig_nbformat": 4,
  "vscode": {
   "interpreter": {
    "hash": "6270e6d8b5fb321e1a842519f0c29f2e2b7188cdba36e81e06ada9019ab06ac7"
   }
  }
 },
 "nbformat": 4,
 "nbformat_minor": 2
}
