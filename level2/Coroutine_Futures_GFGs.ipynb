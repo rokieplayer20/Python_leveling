{
 "cells": [
  {
   "cell_type": "markdown",
   "metadata": {},
   "source": [
    "reference: https://www.geeksforgeeks.org/coroutine-in-python/?ref=gcse <br>\n",
    "# Coroutine in Python"
   ]
  },
  {
   "cell_type": "markdown",
   "metadata": {},
   "source": [
    "함수는 명령어들의 서열이다. 그리고 subroutine들은 main함수에 의해서 호출된다.\n",
    "그리고 subroutine은 단일 진입점(entry point)을 갖는다."
   ]
  },
  {
   "cell_type": "markdown",
   "metadata": {},
   "source": [
    "Coroutines are generalizations of subroutines.\n",
    "- Unlike subroutines, coroutines have many entry points for suspending and resuming execution. Coroutine can suspend its execution and transfer control to other coroutine and can resume again execution from the point it left off.\n",
    "- Unlike subroutines, there is no main function to call coroutines in a particular order and coordinate the results. Coroutines are cooperative that means they link together to form a pipeline. One coroutine may consume input data and send it to other that process it. Finally, there may be a coroutine to display the result.\n",
    "![](./coroutine.png)"
   ]
  },
  {
   "cell_type": "markdown",
   "metadata": {},
   "source": [
    "Coroutine VS Threads <br>\n",
    "둘의 차이는 threads는 OS 혹은 환경이 scheduler를 통해서 전환한다면 <br>\n",
    "coroutine은 프로그래머 혹은 언어가 전환할 시점을 정한다. <br>\n"
   ]
  },
  {
   "cell_type": "markdown",
   "metadata": {},
   "source": [
    "coroutine은 pipeline을 만들기 위해 사용될 수 있다. <br>\n",
    "source(producer)는 주로 coroutine은 아니고 간단한 함수지만 전체 파이프라인을 시작한다. <br>\n",
    "sink는 endpoint로 모든 데이터를 모으거나 표시한다. <br>\n",
    "![nn](./pipeline.png)\n",
    "![nn](./pipeline2.png)"
   ]
  },
  {
   "cell_type": "code",
   "execution_count": 9,
   "metadata": {},
   "outputs": [],
   "source": [
    "# coroutine chaining\n",
    "\n",
    "def producer(sentence, next_coroutine):\n",
    "    '''\n",
    "    producer는 단지 문자열을 쪼개서\n",
    "    pattern_filter에 하나씩 먹인다.\n",
    "    '''\n",
    "    tokens = sentence.split(\" \")\n",
    "    for token in tokens:\n",
    "        next_coroutine.send(token)\n",
    "    next_coroutine.close()\n",
    "    # 다음 코루틴이 GeneratorExit 예외를 발생시키면 도미노처럼 닫힌다.\n",
    "\n",
    "def pattern_filter(pattern=\"ing\", next_coroutine=None):\n",
    "    '''\n",
    "    수신한 토큰에서 패턴을 찾고 패턴과 일치하는 것이 있으면\n",
    "    print_token() coroutine으로 송신한다.\n",
    "    '''\n",
    "\n",
    "    print(f'Searching for {pattern}')\n",
    "    try:\n",
    "        while True:\n",
    "            token = yield\n",
    "            \n",
    "            if pattern in token:\n",
    "                next_coroutine.send(token)\n",
    "    except GeneratorExit:\n",
    "        print(\"Done with filtering!\")\n",
    "        next_coroutine.close()\n",
    "        # 명확하게 뒷부분을 끝내기 위해 추가로 내가 작성해 넣었다.\n",
    "        \n",
    "\n",
    "def print_token():\n",
    "    '''\n",
    "    sink로 작용하며 받은 토큰들을 출력한다.\n",
    "    '''\n",
    "    print('this is a sink and prints tokens')\n",
    "    try:\n",
    "        while True:\n",
    "            token = (yield) # tuple unpacking 때문에 () 쓰든 말든 결과가 똑같다. \n",
    "            print(token)\n",
    "    except GeneratorExit:\n",
    "        print(\"Done with printing!\")\n",
    "    \n"
   ]
  },
  {
   "cell_type": "code",
   "execution_count": 10,
   "metadata": {},
   "outputs": [
    {
     "name": "stdout",
     "output_type": "stream",
     "text": [
      "this is a sink and prints tokens\n",
      "Searching for ing\n",
      "running\n",
      "moving\n",
      "Done with filtering!\n",
      "Done with printing!\n"
     ]
    }
   ],
   "source": [
    "pt = print_token()\n",
    "next(pt)\n",
    "pf = pattern_filter(next_coroutine = pt)\n",
    "next(pf)\n",
    "\n",
    "sentence = \"Bob is running behind a fast moving car\"\n",
    "producer(sentence, pf)"
   ]
  }
 ],
 "metadata": {
  "kernelspec": {
   "display_name": "Python 3.8.10 ('ai')",
   "language": "python",
   "name": "python3"
  },
  "language_info": {
   "codemirror_mode": {
    "name": "ipython",
    "version": 3
   },
   "file_extension": ".py",
   "mimetype": "text/x-python",
   "name": "python",
   "nbconvert_exporter": "python",
   "pygments_lexer": "ipython3",
   "version": "3.8.10"
  },
  "orig_nbformat": 4,
  "vscode": {
   "interpreter": {
    "hash": "6270e6d8b5fb321e1a842519f0c29f2e2b7188cdba36e81e06ada9019ab06ac7"
   }
  }
 },
 "nbformat": 4,
 "nbformat_minor": 2
}
