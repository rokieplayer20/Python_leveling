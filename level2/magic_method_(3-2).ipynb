{
 "cells": [
  {
   "cell_type": "markdown",
   "metadata": {},
   "source": [
    "데이터 모델 설계, NamedTuple, Model Unpacking <br>\n",
    "\n",
    "instance -> abstraction of data in python <br>\n",
    "객체는 파이썬의 데이터를 추상화한다. <br>\n",
    "instance -> id, type -> value <br>\n",
    "모든 객체는 id로 구분되며 type은 값이다. <br>"
   ]
  },
  {
   "cell_type": "code",
   "execution_count": 51,
   "metadata": {},
   "outputs": [
    {
     "name": "stdout",
     "output_type": "stream",
     "text": [
      "3.8078865529319543\n"
     ]
    }
   ],
   "source": [
    "# 일반적인 튜플\n",
    "pt1 = (1.0, 5.0)\n",
    "pt2 = (2.5, 1.5)\n",
    "from math import sqrt\n",
    "\n",
    "l_leng1 = sqrt((pt1[0] - pt2[0])**2 + (pt1[1]-pt2[1])**2)\n",
    "print(l_leng1)"
   ]
  },
  {
   "cell_type": "markdown",
   "metadata": {},
   "source": [
    "namedtuple <br>\n",
    "Collections module 아래에 있으며 튜플이 딕셔너리 성질을 갖고 있다. <br>\n",
    "key와 value가 짝짓지만 튜플처럼 index로도 접근 가능하다. <br>\n",
    "선언하는 방법이 5가지가 있다.<br>\n",
    "\n",
    "\n",
    "Point2 = namedtuple('Point', ['x', 'y']) <br>\n",
    "\n",
    "class명은 Point로 나온다. 그러나 Point2로 쓰든 Point2로 쓰든\n",
    "똑같이 작동한다. 일종의 alias인 것이다.\n"
   ]
  },
  {
   "cell_type": "code",
   "execution_count": 52,
   "metadata": {},
   "outputs": [
    {
     "name": "stdout",
     "output_type": "stream",
     "text": [
      "Point(x=1.0, y=5.0) Point(x=2.5, y=1.5)\n",
      "1.0 5.0\n",
      "1.0 5.0\n",
      "<class '__main__.Point'>\n"
     ]
    }
   ],
   "source": [
    "from collections import namedtuple\n",
    "\n",
    "# 방법\n",
    "# (tuple_name:str, 띄어 쓰기로 구분된 key들)\n",
    "# (tuple_name:str, ,로 구분된 key들)\n",
    "# (tuple_name:str, keys: list)\n",
    "# (tuple_name:str, 예약어가 포함된 keys, rename=True)\n",
    "# Dict to Unpacking\n",
    "\n",
    "Point = namedtuple('Point', 'x y')\n",
    "# class 형식으로 추상화하고 있다.\n",
    "# 마치 JavaScript의 prototypal class 선언처럼 행동한다.\n",
    "\n",
    "\n",
    "pt3 = Point(1.0, 5.0)\n",
    "pt4 = Point(2.5, 1.5)\n",
    "print(pt3, pt4)\n",
    "print(pt3[0], pt3[1]) # index로 접근한다.\n",
    "print(pt3.x, pt3.y) # key를 instance의 attribute로 접근한다.\n",
    "print(Point)"
   ]
  },
  {
   "cell_type": "code",
   "execution_count": 53,
   "metadata": {},
   "outputs": [
    {
     "name": "stdout",
     "output_type": "stream",
     "text": [
      "3.8078865529319543\n"
     ]
    }
   ],
   "source": [
    "l_leng2 = sqrt((pt3.x - pt4.x)**2 + (pt3.y-pt4.y)**2)\n",
    "print(l_leng2)"
   ]
  },
  {
   "cell_type": "markdown",
   "metadata": {},
   "source": [
    "namedTuple 또한 tuple처럼 불변의 특성을 지니고 있기 때문에 중복될 수 없고, 당연히 \"class\"와 같은 예약어 들은 인스턴스 변수처럼 지정할 수 없습니다.\n",
    "✔️ 따라서 아래와 같은 code는 x값이 중복되어 있고, class라는 예약어가 선언 시 사용되었기 때문에 에러를 발생시킵니다.\n",
    "\n",
    "🔎 Point4 = namedtuple('Point', 'x y x class') 👈 x중복, class 예약어\n",
    "✔️ 이럴 경우, rename 옵션을 True로 활성화하면 중복되는 값 또는 예약어 등의 잘못된 변수로 선언 시 사용해도 오류를 반환하지 않고, 랜덤한 변수에 데이터를 할당해줍니다.\n",
    "✔️ 뿐만아니라 더블아스타(**)를 사용해 딕셔너리의 형태도 언팩킹 해줍니다. <br>\n",
    "출처: https://velog.io/@jewon119/Python-%EC%8B%AC%ED%99%94-NamedTuple"
   ]
  },
  {
   "cell_type": "code",
   "execution_count": 54,
   "metadata": {},
   "outputs": [],
   "source": [
    "Point1 = namedtuple('Point', 'x y')\n",
    "Point2 = namedtuple('Point', ['x', 'y'])\n",
    "Point3 = namedtuple('Point', 'x, y')\n",
    "Point4 = namedtuple('Point', 'x y x class', rename=True)\n",
    "# 예약어나 중복key를 덮을 쓸 때, 사용함. False가 default다.\n",
    "# 중복된 x, 예약어 class에 값이 들어오면 _2, _3처럼 인덱스에 관련되는 이름으로 변형됨 \n"
   ]
  },
  {
   "cell_type": "code",
   "execution_count": 55,
   "metadata": {},
   "outputs": [
    {
     "name": "stdout",
     "output_type": "stream",
     "text": [
      "<class '__main__.Point'>\n",
      "<class '__main__.Point'>\n",
      "<class '__main__.Point'>\n",
      "<class '__main__.Point'>\n"
     ]
    }
   ],
   "source": [
    "print(Point) \n",
    "print(Point2)\n",
    "print(Point3)\n",
    "print(Point4)\n",
    "# <class '__main__.Point'> \n",
    "# 방금 전의 print(Point)와 동일하다."
   ]
  },
  {
   "cell_type": "code",
   "execution_count": 56,
   "metadata": {},
   "outputs": [
    {
     "name": "stdout",
     "output_type": "stream",
     "text": [
      "Point(x=-2, y=7) Point(x=20, y=40) Point(x=3, y=5) Point(x=10, y=20, _2=30, _3=40)\n",
      "p0 == Point(x=1, y=9)\n"
     ]
    }
   ],
   "source": [
    "# 객체 생성\n",
    "p0 = Point(x=1, y = 9)\n",
    "p1 = Point1(x=-2, y = 7)\n",
    "p2 = Point1(20, 40)\n",
    "p3 = Point1(3, y = 5)\n",
    "p4 = Point4(10, 20, 30, 40)\n",
    "print(p1, p2, p3, p4)\n",
    "print(f'p0 == {p0}')"
   ]
  },
  {
   "cell_type": "code",
   "execution_count": 57,
   "metadata": {},
   "outputs": [
    {
     "name": "stdout",
     "output_type": "stream",
     "text": [
      "Point(x=75, y=55)\n"
     ]
    }
   ],
   "source": [
    "# Dict to Unpacking\n",
    "\n",
    "temp_dict = {'x': 75, 'y':55}\n",
    "p5 = Point3(**temp_dict)\n",
    "print(p5)"
   ]
  },
  {
   "cell_type": "code",
   "execution_count": 58,
   "metadata": {},
   "outputs": [
    {
     "name": "stdout",
     "output_type": "stream",
     "text": [
      "38\n",
      "3 5\n"
     ]
    }
   ],
   "source": [
    "# 이용\n",
    "print(p1.x + p2.y)\n",
    "\n",
    "x, y = p3 # 네임드튜플도 튜플이다.\n",
    "\n",
    "print(x, y)"
   ]
  },
  {
   "cell_type": "markdown",
   "metadata": {},
   "source": [
    "namedtuple method <br>\n",
    "공통적으로 맨앞에 _가 들어간다. <br>\n",
    "_make(list) -> namedtuple <br>\n",
    "\n",
    "_fields: 메소드 아님. class의 field를 조회할 수 있다. key들만 있는 tuple이다. <br>\n",
    "\n",
    "_asdict() -> OrderedDict(3.7 이하 버전), Dict(3.8 이후)  <br>"
   ]
  },
  {
   "cell_type": "code",
   "execution_count": 59,
   "metadata": {},
   "outputs": [
    {
     "name": "stdout",
     "output_type": "stream",
     "text": [
      "Point(x=52, y=38)\n",
      "('x', 'y')\n"
     ]
    }
   ],
   "source": [
    "temp = [52, 38]\n",
    "\n",
    "p4= Point1._make(temp)\n",
    "print(p4)\n",
    "print(p4._fields)"
   ]
  },
  {
   "cell_type": "code",
   "execution_count": 60,
   "metadata": {},
   "outputs": [
    {
     "name": "stdout",
     "output_type": "stream",
     "text": [
      "{'x': -2, 'y': 7} <class 'dict'>\n"
     ]
    }
   ],
   "source": [
    "print(p1._asdict(), type(p1._asdict()))"
   ]
  },
  {
   "cell_type": "code",
   "execution_count": 63,
   "metadata": {},
   "outputs": [
    {
     "name": "stdout",
     "output_type": "stream",
     "text": [
      "[Classes(rank='A', number='1'), Classes(rank='A', number='2'), Classes(rank='A', number='3'), Classes(rank='A', number='4'), Classes(rank='A', number='5'), Classes(rank='A', number='6'), Classes(rank='A', number='7'), Classes(rank='A', number='8'), Classes(rank='A', number='9'), Classes(rank='A', number='10'), Classes(rank='A', number='11'), Classes(rank='A', number='12'), Classes(rank='A', number='13'), Classes(rank='A', number='14'), Classes(rank='A', number='15'), Classes(rank='A', number='16'), Classes(rank='A', number='17'), Classes(rank='A', number='18'), Classes(rank='A', number='19'), Classes(rank='A', number='20'), Classes(rank='B', number='1'), Classes(rank='B', number='2'), Classes(rank='B', number='3'), Classes(rank='B', number='4'), Classes(rank='B', number='5'), Classes(rank='B', number='6'), Classes(rank='B', number='7'), Classes(rank='B', number='8'), Classes(rank='B', number='9'), Classes(rank='B', number='10'), Classes(rank='B', number='11'), Classes(rank='B', number='12'), Classes(rank='B', number='13'), Classes(rank='B', number='14'), Classes(rank='B', number='15'), Classes(rank='B', number='16'), Classes(rank='B', number='17'), Classes(rank='B', number='18'), Classes(rank='B', number='19'), Classes(rank='B', number='20'), Classes(rank='C', number='1'), Classes(rank='C', number='2'), Classes(rank='C', number='3'), Classes(rank='C', number='4'), Classes(rank='C', number='5'), Classes(rank='C', number='6'), Classes(rank='C', number='7'), Classes(rank='C', number='8'), Classes(rank='C', number='9'), Classes(rank='C', number='10'), Classes(rank='C', number='11'), Classes(rank='C', number='12'), Classes(rank='C', number='13'), Classes(rank='C', number='14'), Classes(rank='C', number='15'), Classes(rank='C', number='16'), Classes(rank='C', number='17'), Classes(rank='C', number='18'), Classes(rank='C', number='19'), Classes(rank='C', number='20'), Classes(rank='D', number='1'), Classes(rank='D', number='2'), Classes(rank='D', number='3'), Classes(rank='D', number='4'), Classes(rank='D', number='5'), Classes(rank='D', number='6'), Classes(rank='D', number='7'), Classes(rank='D', number='8'), Classes(rank='D', number='9'), Classes(rank='D', number='10'), Classes(rank='D', number='11'), Classes(rank='D', number='12'), Classes(rank='D', number='13'), Classes(rank='D', number='14'), Classes(rank='D', number='15'), Classes(rank='D', number='16'), Classes(rank='D', number='17'), Classes(rank='D', number='18'), Classes(rank='D', number='19'), Classes(rank='D', number='20')] 80\n"
     ]
    }
   ],
   "source": [
    "# 실습\n",
    "# 반 20명, 4개의 반(A, B, C, D)\n",
    "Classes = namedtuple('Classes', ['rank', 'number'])\n",
    "\n",
    "numbers = [str(n) for n in range(1, 21)]\n",
    "\n",
    "ranks = 'A B C D'.split(' ') # ' ' 기준으로 문자열 분리시킨 리스트 반환\n",
    "\n",
    "students = [Classes(i, j) for i in ranks for j in numbers]\n",
    "\n",
    "print(students, len(students))\n",
    "\n",
    "\n",
    "\n"
   ]
  },
  {
   "cell_type": "code",
   "execution_count": 65,
   "metadata": {},
   "outputs": [
    {
     "name": "stdout",
     "output_type": "stream",
     "text": [
      "[Classes(rank='A', number='1'), Classes(rank='A', number='2'), Classes(rank='A', number='3'), Classes(rank='A', number='4'), Classes(rank='A', number='5'), Classes(rank='A', number='6'), Classes(rank='A', number='7'), Classes(rank='A', number='8'), Classes(rank='A', number='9'), Classes(rank='A', number='10'), Classes(rank='A', number='11'), Classes(rank='A', number='12'), Classes(rank='A', number='13'), Classes(rank='A', number='14'), Classes(rank='A', number='15'), Classes(rank='A', number='16'), Classes(rank='A', number='17'), Classes(rank='A', number='18'), Classes(rank='A', number='19'), Classes(rank='A', number='20'), Classes(rank='B', number='1'), Classes(rank='B', number='2'), Classes(rank='B', number='3'), Classes(rank='B', number='4'), Classes(rank='B', number='5'), Classes(rank='B', number='6'), Classes(rank='B', number='7'), Classes(rank='B', number='8'), Classes(rank='B', number='9'), Classes(rank='B', number='10'), Classes(rank='B', number='11'), Classes(rank='B', number='12'), Classes(rank='B', number='13'), Classes(rank='B', number='14'), Classes(rank='B', number='15'), Classes(rank='B', number='16'), Classes(rank='B', number='17'), Classes(rank='B', number='18'), Classes(rank='B', number='19'), Classes(rank='B', number='20'), Classes(rank='C', number='1'), Classes(rank='C', number='2'), Classes(rank='C', number='3'), Classes(rank='C', number='4'), Classes(rank='C', number='5'), Classes(rank='C', number='6'), Classes(rank='C', number='7'), Classes(rank='C', number='8'), Classes(rank='C', number='9'), Classes(rank='C', number='10'), Classes(rank='C', number='11'), Classes(rank='C', number='12'), Classes(rank='C', number='13'), Classes(rank='C', number='14'), Classes(rank='C', number='15'), Classes(rank='C', number='16'), Classes(rank='C', number='17'), Classes(rank='C', number='18'), Classes(rank='C', number='19'), Classes(rank='C', number='20'), Classes(rank='D', number='1'), Classes(rank='D', number='2'), Classes(rank='D', number='3'), Classes(rank='D', number='4'), Classes(rank='D', number='5'), Classes(rank='D', number='6'), Classes(rank='D', number='7'), Classes(rank='D', number='8'), Classes(rank='D', number='9'), Classes(rank='D', number='10'), Classes(rank='D', number='11'), Classes(rank='D', number='12'), Classes(rank='D', number='13'), Classes(rank='D', number='14'), Classes(rank='D', number='15'), Classes(rank='D', number='16'), Classes(rank='D', number='17'), Classes(rank='D', number='18'), Classes(rank='D', number='19'), Classes(rank='D', number='20')]\n"
     ]
    }
   ],
   "source": [
    "# 추천, 가독성을 추구하자\n",
    "# 여기의 띄어쓰기 들여쓰기는 가독성을 위한 것이지 문법 사항이 아니다.\n",
    "students2 = [\n",
    "    Classes(rank, number)\n",
    "    for rank in 'A B C D'.split(' ')\n",
    "        for number in [str(n)\n",
    "            for n in range(1, 21)]\n",
    "]\n",
    "print(students2)"
   ]
  },
  {
   "cell_type": "code",
   "execution_count": null,
   "metadata": {},
   "outputs": [],
   "source": []
  }
 ],
 "metadata": {
  "kernelspec": {
   "display_name": "Python 3.8.10 ('ai')",
   "language": "python",
   "name": "python3"
  },
  "language_info": {
   "codemirror_mode": {
    "name": "ipython",
    "version": 3
   },
   "file_extension": ".py",
   "mimetype": "text/x-python",
   "name": "python",
   "nbconvert_exporter": "python",
   "pygments_lexer": "ipython3",
   "version": "3.8.10"
  },
  "orig_nbformat": 4,
  "vscode": {
   "interpreter": {
    "hash": "6270e6d8b5fb321e1a842519f0c29f2e2b7188cdba36e81e06ada9019ab06ac7"
   }
  }
 },
 "nbformat": 4,
 "nbformat_minor": 2
}
