{
 "cells": [
  {
   "cell_type": "code",
   "execution_count": 4,
   "metadata": {},
   "outputs": [
    {
     "name": "stdout",
     "output_type": "stream",
     "text": [
      "{'a': '1', 'b': '12'}\n",
      "<__main__.Mine object at 0x000001E161AB8400>\n"
     ]
    }
   ],
   "source": [
    "class Mine:\n",
    "    def __init__(self, n1, n2):\n",
    "        self.n1 = n1\n",
    "        self.n2 = n2\n",
    "\n",
    "\n",
    "name: str = \"john\"\n",
    "age: int = 25\n",
    "emails: list = [1, '3', False]\n",
    "address: dict = {\"a\": \"1\", \"b\":\"12\"}\n",
    "pos: Mine = Mine(2, 0.1)\n",
    "print(address)\n",
    "print(pos)\n",
    "# 기본적인 hinting은 다 된다.\n",
    "# 사용자 정의 클래스 또한 기본적으로 다 가능하다."
   ]
  },
  {
   "cell_type": "code",
   "execution_count": 2,
   "metadata": {},
   "outputs": [
    {
     "name": "stdout",
     "output_type": "stream",
     "text": [
      "(25, 'AA', [1.0, 0.9])\n"
     ]
    }
   ],
   "source": [
    "# 강의엔 없지만 typing module을 알아보자.\n",
    "# 더 세세하게 타입을 지정할 수 있다.\n",
    "\n",
    "from typing import List, Set, Dict, Tuple\n",
    "\n",
    "nums: List[int] = [1, 2, 3]\n",
    "visions: Dict[str, float] = {'left':1.0, 'right': 2.0}\n",
    "ali: Tuple[int, str, List[float]] = (25, \"AA\", [1.0, 0.9])\n",
    "print(ali)"
   ]
  },
  {
   "cell_type": "markdown",
   "metadata": {},
   "source": [
    "간단한 Hangman 게임을 만들 것이다.\n",
    "\n"
   ]
  },
  {
   "cell_type": "code",
   "execution_count": 20,
   "metadata": {},
   "outputs": [
    {
     "name": "stdout",
     "output_type": "stream",
     "text": [
      "..,,,124,,,aerew....34,,,,\n",
      "4,,,aerew....34\n",
      "124,,,aerew....34,,,, \n",
      " ..,,,124,,,aerew....34\n"
     ]
    }
   ],
   "source": [
    "# string에서 좌우에 특정 문자들을 제거하는 메소드\n",
    "# 입력한 문자열 속의 문자 하나하나 각자 있는 대로 없앤다.\n",
    "# [',', '.', '1', '2'] 이런 게 입력해 하나하나 없애라고 한 거다.\n",
    "# 입력하지 않는 문자가 나오면 멈춘다.\n",
    "text = \" ..,,,124,,,aerew....34,,,, \"\n",
    "\n",
    "print(text.strip()) # 디폴트 ' ' 공백 문자\n",
    "print(text.strip(\" .,123.p \")) \n",
    "print(text.lstrip(\" ,.\"))\n",
    "print(text.rstrip(\" ,.\"))"
   ]
  },
  {
   "cell_type": "code",
   "execution_count": 30,
   "metadata": {},
   "outputs": [
    {
     "name": "stdout",
     "output_type": "stream",
     "text": [
      "Hi  t Time to play hangman game!\n",
      "Start Loading....\n"
     ]
    }
   ],
   "source": [
    "import time, random, csv, winsound\n",
    "\n",
    "name = input('What is your name? ')\n",
    "\n",
    "print('Hi ', name, 'Time to play hangman game!')\n",
    "\n",
    "time.sleep(1)\n",
    "print(\"Start Loading....\")\n",
    "time.sleep(0.5)\n",
    "\n",
    "#CSV 단어 리스트\n",
    "words = []\n",
    "\n",
    "# 문제 CSV 파일 로드\n",
    "\n",
    "with open('./resource/word_list.csv', 'r', encoding='UTF-8') as f:\n",
    "    reader = csv.reader(f)\n",
    "    # header skip\n",
    "    next(reader)\n",
    "\n",
    "    for c in reader:\n",
    "        words.append(c)\n",
    "\n",
    "random.shuffle(words)\n",
    "\n",
    "q = random.choice(words)\n",
    "\n",
    "\n",
    "# 정답\n",
    "word = q[0].strip()\n",
    "hint = q[1].strip()\n",
    "# 추측단어\n",
    "guesses = ''\n",
    "# 기회\n",
    "turns = 5\n",
    "\n"
   ]
  },
  {
   "cell_type": "code",
   "execution_count": 31,
   "metadata": {},
   "outputs": [
    {
     "name": "stdout",
     "output_type": "stream",
     "text": [
      "_ _ _ _ _ \n",
      "Hint is fruit.\n",
      "Oops! Wrong!\n",
      "Your have  4\n",
      "_ _ _ _ _ \n",
      "Hint is fruit.\n",
      "Oops! Wrong!\n",
      "Your have  3\n",
      "_ _ _ _ _ \n",
      "Hint is fruit.\n",
      "Oops! Wrong!\n",
      "Your have  2\n",
      "_ _ _ _ _ \n",
      "Hint is fruit.\n",
      "Oops! Wrong!\n",
      "Your have  1\n",
      "_ _ _ _ _ \n",
      "Hint is fruit.\n",
      "Oops! Wrong!\n",
      "Your have  0\n",
      "You fail!\n",
      "The answer is melon!\n"
     ]
    }
   ],
   "source": [
    "#핵심 while loop\n",
    "\n",
    "while turns:\n",
    "    # 실패 횟수(단어 매치 수)\n",
    "    failed = 0\n",
    "\n",
    "    #정답 단어 반복\n",
    "    for char in word:\n",
    "        # 정답 단어 내에 추측 문자가 포함되어 있는 경우\n",
    "        if char in guesses:\n",
    "            # 추측 단어 출력\n",
    "            print(char, end=' ')\n",
    "        else:\n",
    "            print('_', end=' ')\n",
    "            failed +=1\n",
    "    # 단어 추측이 성공한 경우\n",
    "    if failed == 0:\n",
    "        print('\\n \\n')\n",
    "        winsound.PlaySound('./sound/good.wav', winsound.SND_FILENAME)\n",
    "        print('Congratulations! The Guessesi s correct.')\n",
    "        break\n",
    "\n",
    "    print()\n",
    "\n",
    "    #추측단어 문자 단위 임력\n",
    "    print(f'Hint is {hint}.')\n",
    "    guess = input('guess a charactor. ')\n",
    "    \n",
    "    if guess not in word:\n",
    "        turns -= 1\n",
    "        print('Oops! Wrong!')\n",
    "        print(\"Your have \", turns)\n",
    "\n",
    "        if turns == 0:\n",
    "            winsound.PlaySound('./sound/bad.wav', winsound.SND_FILENAME) # SND_FILENAME이면 파일이름을 기준으로 재생한다.\n",
    "            print('You fail!')\n",
    "            print(f\"The answer is {word}!\")\n",
    "    else:\n",
    "        # 단어 더하기\n",
    "        guesses += guess\n"
   ]
  },
  {
   "cell_type": "code",
   "execution_count": null,
   "metadata": {},
   "outputs": [],
   "source": []
  },
  {
   "cell_type": "code",
   "execution_count": null,
   "metadata": {},
   "outputs": [],
   "source": []
  },
  {
   "cell_type": "code",
   "execution_count": null,
   "metadata": {},
   "outputs": [],
   "source": []
  },
  {
   "cell_type": "code",
   "execution_count": null,
   "metadata": {},
   "outputs": [],
   "source": []
  },
  {
   "cell_type": "code",
   "execution_count": null,
   "metadata": {},
   "outputs": [],
   "source": []
  },
  {
   "cell_type": "code",
   "execution_count": null,
   "metadata": {},
   "outputs": [],
   "source": []
  }
 ],
 "metadata": {
  "kernelspec": {
   "display_name": "Python 3.8.10 ('ai')",
   "language": "python",
   "name": "python3"
  },
  "language_info": {
   "codemirror_mode": {
    "name": "ipython",
    "version": 3
   },
   "file_extension": ".py",
   "mimetype": "text/x-python",
   "name": "python",
   "nbconvert_exporter": "python",
   "pygments_lexer": "ipython3",
   "version": "3.8.10"
  },
  "orig_nbformat": 4,
  "vscode": {
   "interpreter": {
    "hash": "6270e6d8b5fb321e1a842519f0c29f2e2b7188cdba36e81e06ada9019ab06ac7"
   }
  }
 },
 "nbformat": 4,
 "nbformat_minor": 2
}
