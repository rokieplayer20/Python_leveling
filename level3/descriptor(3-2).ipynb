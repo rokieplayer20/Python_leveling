{
 "cells": [
  {
   "cell_type": "markdown",
   "metadata": {},
   "source": [
    "descriptor<br>\n",
    "\n",
    "keyword: descriptor, set, get, del, property <br>\n",
    "1. 객체에서 서로 다른 객체를 속성값으로 가지는 것, Has-A relationship\n",
    "2. read, write, delete 등을 미리 정의 가능\n",
    "3. data descriptor(set, del), non-data descriptor(get)\n",
    "4. 읽기 전용 객체 생성 장점, 클래스를 의도하는 방향으로 생성 가능"
   ]
  },
  {
   "cell_type": "code",
   "execution_count": 1,
   "metadata": {},
   "outputs": [],
   "source": [
    "#ex1\n",
    "# 기본적인 descriptor 예제\n",
    "\n",
    "class DescriptorEx1():\n",
    "\n",
    "    def __init__(self, name='Default'):\n",
    "        self.name = name\n",
    "\n",
    "    def __get__(self, obj, objtype):\n",
    "\n",
    "        return f'get method called {self}, {obj}, {objtype}, {self.name}'\n",
    "\n",
    "    def __set__(self, obj, name):\n",
    "        print('set method called')\n",
    "\n",
    "        if isinstance(name, str):\n",
    "            self.name = name\n",
    "        else:\n",
    "            raise TypeError('Name should be str')\n",
    "\n",
    "    def __delete__(self, obj):\n",
    "\n",
    "        print('Delete method called')\n",
    "\n",
    "        self.name = None\n",
    "        \n",
    "    # name = property(__get__, __set__, __delete__, '')\n"
   ]
  },
  {
   "cell_type": "markdown",
   "metadata": {},
   "source": []
  },
  {
   "cell_type": "code",
   "execution_count": 2,
   "metadata": {},
   "outputs": [],
   "source": [
    "class Sample1():\n",
    "    name = DescriptorEx1()\n",
    "    # 위에서 만든 디스크립터 클래스 안에 있는 메소드가 알아서 호출된다.\n",
    "    # 이전 getter, setter는 변수별로 하나씩 따로 만들었어야 했다.\n"
   ]
  },
  {
   "cell_type": "code",
   "execution_count": 3,
   "metadata": {},
   "outputs": [
    {
     "name": "stdout",
     "output_type": "stream",
     "text": [
      "set method called\n",
      "set method called\n",
      "get method called <__main__.DescriptorEx1 object at 0x0000028A664FB9D0>, <__main__.Sample1 object at 0x0000028A672EE940>, <class '__main__.Sample1'>, 2 \n",
      " get method called <__main__.DescriptorEx1 object at 0x0000028A664FB9D0>, <__main__.Sample1 object at 0x0000028A672EECA0>, <class '__main__.Sample1'>, 2\n",
      "get method called <__main__.DescriptorEx1 object at 0x0000028A664FB9D0>, None, <class '__main__.Sample1'>, 2\n",
      "duck duck\n"
     ]
    }
   ],
   "source": [
    "ee1 = Sample1()\n",
    "ee2 = Sample1()\n",
    "ee1.name = '1'\n",
    "ee2.name = '2'\n",
    "print(ee1.name,'\\n' ,ee2.name)\n",
    "print(Sample1.name)\n",
    "\n",
    "# 여기선 값이 연동된다.\n",
    "# 조심해라 공유되냐 마냐 문제가 있다.\n",
    "\n",
    "Sample1.name = 'duck'\n",
    "print(ee1.name, ee2.name)\n",
    "\n"
   ]
  },
  {
   "cell_type": "code",
   "execution_count": 4,
   "metadata": {},
   "outputs": [
    {
     "name": "stdout",
     "output_type": "stream",
     "text": [
      "Descript test1\n"
     ]
    }
   ],
   "source": [
    "s1 = Sample1()\n",
    "s1.name = 'Descript test1'\n",
    "\n",
    "print(s1.name)\n",
    "\n"
   ]
  },
  {
   "cell_type": "code",
   "execution_count": 5,
   "metadata": {},
   "outputs": [
    {
     "name": "stdout",
     "output_type": "stream",
     "text": [
      "ex1 > duck\n"
     ]
    }
   ],
   "source": [
    "# __delete__ 호출\n",
    "\n",
    "del s1.name\n",
    "\n",
    "print(f'ex1 > {s1.name}')"
   ]
  },
  {
   "cell_type": "markdown",
   "metadata": {},
   "source": [
    "class property(fget=None, fset=None, fdel=None, doc=None)\n",
    "(getter, setter, delete, doc: str)"
   ]
  },
  {
   "cell_type": "code",
   "execution_count": 6,
   "metadata": {},
   "outputs": [],
   "source": [
    "# ex2\n",
    "# property 클래스 사용 descriptor 직접 구현\n",
    "\n",
    "# 구현 클래스와 사용 클래스가 동일함\n",
    "class DescriptorEx2():\n",
    "\n",
    "    def __init__(self, value):\n",
    "        self._name = value\n",
    "\n",
    "    def getVal(self):\n",
    "        return f'get method called {self}, {self._name}'\n",
    "\n",
    "    def setVal(self, value):\n",
    "\n",
    "        print('set method called')\n",
    "        if isinstance(value, str):\n",
    "            self._name = value\n",
    "        else:\n",
    "            raise TypeError('Name should be str')\n",
    "\n",
    "    def delVal(self):\n",
    "        print('delete method called')\n",
    "        self._name = None\n",
    "\n",
    "        \n",
    "    name = property(getVal, setVal, delVal, 'property method example')\n",
    "    #property class 호출\n",
    "\n",
    "    \"\"\"\n",
    "    name = property()에서 name 말고 name2 같이 다른 이름으로 바꾸면 진짜 attribute는\n",
    "    name2라는 이름을 갖는다.\n",
    "    \n",
    "    \n",
    "    \"\"\"\n"
   ]
  },
  {
   "cell_type": "code",
   "execution_count": 7,
   "metadata": {},
   "outputs": [
    {
     "name": "stdout",
     "output_type": "stream",
     "text": [
      "get method called <__main__.DescriptorEx2 object at 0x0000028A664FBBB0>, 1\n",
      "set method called\n",
      "get method called <__main__.DescriptorEx2 object at 0x0000028A664FBFD0>, 2\n",
      "get method called <__main__.DescriptorEx2 object at 0x0000028A664FBBB0>, 8\n"
     ]
    }
   ],
   "source": [
    "ss1 = DescriptorEx2('1')\n",
    "ss2 = DescriptorEx2('2')\n",
    "print(ss1.name)\n",
    "ss1.name = '8'\n",
    "print(ss2.name)\n",
    "print(ss1.name)\n",
    "\n",
    "# 이 실험 결과에서 name은 class의 모든 객체가 공유하는 변수가 아니고 instance 변수임을 증명했다."
   ]
  },
  {
   "cell_type": "code",
   "execution_count": 8,
   "metadata": {},
   "outputs": [
    {
     "name": "stdout",
     "output_type": "stream",
     "text": [
      "ex2 > get method called <__main__.DescriptorEx2 object at 0x0000028A672EEFA0>, Descriptor test2\n",
      "set method called\n",
      "ex2 > get method called <__main__.DescriptorEx2 object at 0x0000028A672EEFA0>, Descriptor test2 method\n",
      "delete method called\n",
      "ex2 > property method example\n"
     ]
    }
   ],
   "source": [
    "# 최초값 확인\n",
    "\n",
    "s2 = DescriptorEx2('Descriptor test2')\n",
    "\n",
    "print(f'ex2 > {s2.name}')\n",
    "\n",
    "s2.name = 'Descriptor test2 method'\n",
    "\n",
    "print(f'ex2 > {s2.name}')\n",
    "\n",
    "del s2.name\n",
    "\n",
    "print(f'ex2 > {DescriptorEx2.name.__doc__}')\n",
    "\n"
   ]
  },
  {
   "cell_type": "markdown",
   "metadata": {},
   "source": [
    "descriptor(low level) vs property(high level)"
   ]
  },
  {
   "cell_type": "code",
   "execution_count": 9,
   "metadata": {},
   "outputs": [],
   "source": [
    "class DescriptorEx3():\n",
    "\n",
    "    def __init__(self, value):\n",
    "        self.name = value\n",
    "\n",
    "    def getVal(self):\n",
    "        return f'get method called {self}, {self.name}'\n",
    "\n",
    "    def setVal(self, value):\n",
    "\n",
    "        print('set method called')\n",
    "        if isinstance(value, str):\n",
    "            self.name = value\n",
    "        else:\n",
    "            raise TypeError('Name should be str')\n",
    "\n",
    "    def delVal(self):\n",
    "        print('delete method called')\n",
    "        self.name = None\n",
    "\n",
    "        \n",
    "    name2 = property(getVal, setVal, delVal, 'property method example')\n",
    "    "
   ]
  },
  {
   "cell_type": "code",
   "execution_count": 10,
   "metadata": {},
   "outputs": [
    {
     "name": "stdout",
     "output_type": "stream",
     "text": [
      "ex3 > Descriptor test3\n",
      "ex3 > Descriptor test3 method\n"
     ]
    }
   ],
   "source": [
    "# 최초값 확인\n",
    "\n",
    "s3 = DescriptorEx3('Descriptor test3')\n",
    "\n",
    "print(f'ex3 > {s3.name}')\n",
    "\n",
    "s3.name = 'Descriptor test3 method'\n",
    "\n",
    "print(f'ex3 > {s3.name}')\n",
    "\n",
    "del s3.name\n",
    "\n",
    "\n",
    "\n",
    "# 내가 만든 getter, setter가 호출되는 것이 아니다.\n",
    "# init이 만든 name과 property의 name2가 따로 있는 것이다."
   ]
  },
  {
   "cell_type": "markdown",
   "metadata": {},
   "source": [
    "디스크립터\n",
    "1. 상황에 맞는 메소드 구현을 통한 객체 지향 프로그래밍 구현\n",
    "2. property와 달리 reuse(재사용) 가능\n",
    "3. ORM Framework에서 사용\n"
   ]
  },
  {
   "cell_type": "code",
   "execution_count": 11,
   "metadata": {},
   "outputs": [],
   "source": [
    "# ex1\n",
    "\n",
    "import os\n",
    "\n",
    "class DirectoryFileCount:\n",
    "    \n",
    "    def __get__(self, obj, objtype=None):\n",
    "        #print(os.listdir(obj.dirname))\n",
    "        return len(os.listdir(obj.dirname))\n",
    "\n",
    "\n",
    "class DirectoryPath:\n",
    "    # descriptor instance\n",
    "\n",
    "    size = DirectoryFileCount()\n",
    "\n",
    "    def __init__(self, dirname):\n",
    "        self.dirname = dirname\n",
    "\n",
    "    "
   ]
  },
  {
   "cell_type": "code",
   "execution_count": 12,
   "metadata": {},
   "outputs": [
    {
     "name": "stdout",
     "output_type": "stream",
     "text": [
      "22 13\n"
     ]
    }
   ],
   "source": [
    "# 현재 경로\n",
    "\n",
    "s = DirectoryPath('./')\n",
    "\n",
    "g = DirectoryPath('../')\n",
    "\n",
    "print(s.size, g.size)\n",
    "\n"
   ]
  },
  {
   "cell_type": "code",
   "execution_count": 13,
   "metadata": {},
   "outputs": [
    {
     "name": "stdout",
     "output_type": "stream",
     "text": [
      "ex1 > ['__class__', '__delattr__', '__dict__', '__dir__', '__doc__', '__eq__', '__format__', '__ge__', '__getattribute__', '__gt__', '__hash__', '__init__', '__init_subclass__', '__le__', '__lt__', '__module__', '__ne__', '__new__', '__reduce__', '__reduce_ex__', '__repr__', '__setattr__', '__sizeof__', '__str__', '__subclasshook__', '__weakref__', 'size']\n",
      "ex1 > ['__class__', '__contains__', '__delattr__', '__dir__', '__doc__', '__eq__', '__format__', '__ge__', '__getattribute__', '__getitem__', '__gt__', '__hash__', '__init__', '__init_subclass__', '__iter__', '__le__', '__len__', '__lt__', '__ne__', '__new__', '__reduce__', '__reduce_ex__', '__repr__', '__setattr__', '__sizeof__', '__str__', '__subclasshook__', 'copy', 'get', 'items', 'keys', 'values']\n"
     ]
    }
   ],
   "source": [
    "print(f'ex1 > {dir(DirectoryPath)}')\n",
    "print(f'ex1 > {dir(DirectoryPath.__dict__)}')"
   ]
  },
  {
   "cell_type": "code",
   "execution_count": 14,
   "metadata": {},
   "outputs": [
    {
     "name": "stdout",
     "output_type": "stream",
     "text": [
      "ex1 > ['__class__', '__delattr__', '__dict__', '__dir__', '__doc__', '__eq__', '__format__', '__ge__', '__getattribute__', '__gt__', '__hash__', '__init__', '__init_subclass__', '__le__', '__lt__', '__module__', '__ne__', '__new__', '__reduce__', '__reduce_ex__', '__repr__', '__setattr__', '__sizeof__', '__str__', '__subclasshook__', '__weakref__', 'dirname', 'size']\n",
      "ex1 > {'dirname': './'}\n"
     ]
    }
   ],
   "source": [
    "print(f'ex1 > {dir(s)}')\n",
    "\n",
    "print(f'ex1 > {s.__dict__}')\n"
   ]
  },
  {
   "cell_type": "code",
   "execution_count": 15,
   "metadata": {},
   "outputs": [],
   "source": [
    "# ex2\n",
    "# log\n",
    "\n",
    "import logging\n",
    "\n",
    "logging.basicConfig(\n",
    "    format='%(asctime)s %(message)s',\n",
    "    level = logging.INFO,\n",
    "    datefmt = '%Y-%m-%d %H:%M:%S'\n",
    ")\n",
    "\n",
    "class LoggedScoreAccess:\n",
    "\n",
    "    def __init__(self, value=50):\n",
    "        self.value = value\n",
    "\n",
    "    def __get__(self, obj, objtype=None):\n",
    "\n",
    "        logging.info('Accessing %r giving %r', 'score', self.value)\n",
    "        return self.value\n",
    "\n",
    "    def __set__(self, obj, value):\n",
    "        logging.info('Updating %r giving %r', 'score', self.value)\n",
    "        self.value = value\n",
    "\n",
    "class Student:\n",
    "    # descriptor instance\n",
    "    score = LoggedScoreAccess()\n",
    "\n",
    "    def __init__(self, name):\n",
    "        self.name = name\n",
    "        # regular instance attribute\n",
    "\n"
   ]
  },
  {
   "cell_type": "code",
   "execution_count": 16,
   "metadata": {},
   "outputs": [
    {
     "name": "stderr",
     "output_type": "stream",
     "text": [
      "2022-08-07 23:49:28 Accessing 'score' giving 50\n"
     ]
    },
    {
     "name": "stdout",
     "output_type": "stream",
     "text": [
      "ex2 > 50\n"
     ]
    }
   ],
   "source": [
    "s1 = Student('Kim')\n",
    "s2 = Student('Lee')\n",
    "\n",
    "print(f'ex2 > {s1.score}')"
   ]
  },
  {
   "cell_type": "code",
   "execution_count": 17,
   "metadata": {},
   "outputs": [
    {
     "name": "stderr",
     "output_type": "stream",
     "text": [
      "2022-08-07 23:49:28 Accessing 'score' giving 50\n",
      "2022-08-07 23:49:28 Updating 'score' giving 50\n",
      "2022-08-07 23:49:28 Accessing 'score' giving 70\n"
     ]
    },
    {
     "name": "stdout",
     "output_type": "stream",
     "text": [
      "ex2 > 70\n"
     ]
    }
   ],
   "source": [
    "s1.score += 20 # get -> set 차례로 실행되는 코드다.\n",
    "print(f'ex2 > {s1.score}')\n"
   ]
  },
  {
   "cell_type": "code",
   "execution_count": 18,
   "metadata": {},
   "outputs": [
    {
     "name": "stdout",
     "output_type": "stream",
     "text": [
      "ex2 > {'name': 'Kim'}\n",
      "ex2 > {'name': 'Kim'}\n"
     ]
    }
   ],
   "source": [
    "# __dict__\n",
    "\n",
    "print(f'ex2 > {vars(s1)}')\n",
    "print(f'ex2 > {s1.__dict__}')"
   ]
  }
 ],
 "metadata": {
  "kernelspec": {
   "display_name": "Python 3.8.10 ('ai')",
   "language": "python",
   "name": "python3"
  },
  "language_info": {
   "codemirror_mode": {
    "name": "ipython",
    "version": 3
   },
   "file_extension": ".py",
   "mimetype": "text/x-python",
   "name": "python",
   "nbconvert_exporter": "python",
   "pygments_lexer": "ipython3",
   "version": "3.8.10"
  },
  "orig_nbformat": 4,
  "vscode": {
   "interpreter": {
    "hash": "6270e6d8b5fb321e1a842519f0c29f2e2b7188cdba36e81e06ada9019ab06ac7"
   }
  }
 },
 "nbformat": 4,
 "nbformat_minor": 2
}
