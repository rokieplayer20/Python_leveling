{
 "cells": [
  {
   "cell_type": "markdown",
   "metadata": {},
   "source": [
    "Method_Overriding <br>\n",
    "keyword: Overriding, OOP, Polymorphism <br>\n",
    "\n",
    "효과\n",
    "1. Subclass에서 SuperClass를 호출한 후 사용\n",
    "2. method를 재정의한 후 사용 가능함\n",
    "3. 부모클래스의 메소드를 추상화한 후에 사용 가능하다. (구조적 접근)\n",
    "4. 확장 가능, 다형성\n",
    "5. 가독성 증가, 잠재적 오류를 방지함, 메소드 이름을 절약함 -> 유지보수 용이"
   ]
  },
  {
   "cell_type": "code",
   "execution_count": 3,
   "metadata": {},
   "outputs": [
    {
     "name": "stdout",
     "output_type": "stream",
     "text": [
      "ex1 > 5\n"
     ]
    }
   ],
   "source": [
    "#ex1\n",
    "# 기본 Overriding 예제\n",
    "class ParentEx1():\n",
    "\n",
    "    def __init__(self):\n",
    "        self.value = 5\n",
    "\n",
    "    def get_value(self):\n",
    "        return self.value\n",
    "    \n",
    "class ChildEx1(ParentEx1):\n",
    "    pass\n",
    "    # 부모클래스의 모든 것을 그대로 가져옴\n",
    "\n",
    "c1 = ChildEx1()\n",
    "p1 = ParentEx1()\n",
    "\n",
    "# 부모클래스 메소드 호출\n",
    "print(f'ex1 > {c1.get_value()}')"
   ]
  },
  {
   "cell_type": "code",
   "execution_count": 4,
   "metadata": {},
   "outputs": [
    {
     "name": "stdout",
     "output_type": "stream",
     "text": [
      "['__class__', '__delattr__', '__dict__', '__dir__', '__doc__', '__eq__', '__format__', '__ge__', '__getattribute__', '__gt__', '__hash__', '__init__', '__init_subclass__', '__le__', '__lt__', '__module__', '__ne__', '__new__', '__reduce__', '__reduce_ex__', '__repr__', '__setattr__', '__sizeof__', '__str__', '__subclasshook__', '__weakref__', 'get_value', 'value']\n"
     ]
    }
   ],
   "source": [
    "# c1의 모든 속성 출력\n",
    "print(dir(c1))"
   ]
  },
  {
   "cell_type": "code",
   "execution_count": 5,
   "metadata": {},
   "outputs": [
    {
     "name": "stdout",
     "output_type": "stream",
     "text": [
      "ex1 > ['__class__', '__delattr__', '__dict__', '__dir__', '__doc__', '__eq__', '__format__', '__ge__', '__getattribute__', '__gt__', '__hash__', '__init__', '__init_subclass__', '__le__', '__lt__', '__module__', '__ne__', '__new__', '__reduce__', '__reduce_ex__', '__repr__', '__setattr__', '__sizeof__', '__str__', '__subclasshook__', '__weakref__', 'get_value']\n",
      "ex1 > ['__class__', '__delattr__', '__dict__', '__dir__', '__doc__', '__eq__', '__format__', '__ge__', '__getattribute__', '__gt__', '__hash__', '__init__', '__init_subclass__', '__le__', '__lt__', '__module__', '__ne__', '__new__', '__reduce__', '__reduce_ex__', '__repr__', '__setattr__', '__sizeof__', '__str__', '__subclasshook__', '__weakref__', 'get_value']\n"
     ]
    }
   ],
   "source": [
    "# 부모와 자식 모든 속성 출력\n",
    "\n",
    "print(f'ex1 > {dir(ParentEx1)}')\n",
    "print(f'ex1 > {dir(ChildEx1)}')"
   ]
  },
  {
   "cell_type": "markdown",
   "metadata": {},
   "source": [
    "자식클래스는 상속받는 내용물을 객체가 만들어질 때에 부모클래스를 참조해서 만든다. <br>\n",
    "함수 재정의는 자기와 부모가 다르니 그건 담길 것이다."
   ]
  },
  {
   "cell_type": "code",
   "execution_count": 6,
   "metadata": {},
   "outputs": [
    {
     "name": "stdout",
     "output_type": "stream",
     "text": [
      "ex1 > {'__module__': '__main__', '__init__': <function ParentEx1.__init__ at 0x0000028AEF6779D0>, 'get_value': <function ParentEx1.get_value at 0x0000028AEF677A60>, '__dict__': <attribute '__dict__' of 'ParentEx1' objects>, '__weakref__': <attribute '__weakref__' of 'ParentEx1' objects>, '__doc__': None}\n",
      "ex1 > {'__module__': '__main__', '__doc__': None}\n"
     ]
    }
   ],
   "source": [
    "# namespace 조회\n",
    "print(f'ex1 > {ParentEx1.__dict__}')\n",
    "print(f'ex1 > {ChildEx1.__dict__}')"
   ]
  },
  {
   "cell_type": "code",
   "execution_count": 7,
   "metadata": {},
   "outputs": [
    {
     "name": "stdout",
     "output_type": "stream",
     "text": [
      "ex2 > 50\n"
     ]
    }
   ],
   "source": [
    "#ex2 Method 재정의\n",
    "\n",
    "class ChildEx2(ParentEx1):\n",
    "\n",
    "    def get_value(self):\n",
    "        return self.value * 10\n",
    "\n",
    "\n",
    "c2 = ChildEx2()\n",
    "print(f'ex2 > {c2.get_value()}')"
   ]
  },
  {
   "cell_type": "markdown",
   "metadata": {},
   "source": [
    "def __init__(self): <br>\n",
    "    super().__init__() <br>\n",
    "\n",
    "첫줄은 init의 선언문이니 self를 써줘야 하고\n",
    "두번째 줄은 부모클래스의 init를 사용하는 것이니 self를 넣으면 안 된다. "
   ]
  },
  {
   "cell_type": "code",
   "execution_count": 10,
   "metadata": {},
   "outputs": [],
   "source": [
    "# ex3 다형성\n",
    "\n",
    "import datetime\n",
    "\n",
    "class Logger:\n",
    "\n",
    "    def log(self, msg):\n",
    "        print(msg)\n",
    "\n",
    "class TimestampLogger(Logger):\n",
    "\n",
    "    def log(self, msg):\n",
    "        message = f'{datetime.datetime.now()} {msg}'\n",
    "        super().log(message)\n",
    "        #super(TimestampLogger, self).log(message)\n",
    "\n",
    "\n",
    "class DateLogger(Logger):\n",
    "    def log(self, msg):\n",
    "        message = f'{datetime.datetime.now().strftime(\"%Y-%m-%d\")} {msg}'\n",
    "        super().log(message)"
   ]
  },
  {
   "cell_type": "code",
   "execution_count": null,
   "metadata": {},
   "outputs": [],
   "source": [
    "super(type, obj) -> 부모클래스의 함수를 불러온다."
   ]
  },
  {
   "cell_type": "code",
   "execution_count": 14,
   "metadata": {},
   "outputs": [
    {
     "name": "stdout",
     "output_type": "stream",
     "text": [
      "Called logger.\n",
      "ex3 > None\n",
      "2022-07-31 13:04:34.973176 Called Timestamp logger.\n",
      "ex3 > None\n",
      "2022-07-31 Called Date logger.\n",
      "ex3 > None\n"
     ]
    }
   ],
   "source": [
    "l = Logger()\n",
    "t = TimestampLogger()\n",
    "d = DateLogger()\n",
    "\n",
    "print(f\"ex3 > {l.log('Called logger.')}\")\n",
    "print(f\"ex3 > {t.log('Called Timestamp logger.')}\")\n",
    "print(f\"ex3 > {d.log('Called Date logger.')}\")"
   ]
  },
  {
   "cell_type": "code",
   "execution_count": null,
   "metadata": {},
   "outputs": [],
   "source": []
  }
 ],
 "metadata": {
  "kernelspec": {
   "display_name": "Python 3.8.10 ('ai')",
   "language": "python",
   "name": "python3"
  },
  "language_info": {
   "codemirror_mode": {
    "name": "ipython",
    "version": 3
   },
   "file_extension": ".py",
   "mimetype": "text/x-python",
   "name": "python",
   "nbconvert_exporter": "python",
   "pygments_lexer": "ipython3",
   "version": "3.8.10"
  },
  "orig_nbformat": 4,
  "vscode": {
   "interpreter": {
    "hash": "6270e6d8b5fb321e1a842519f0c29f2e2b7188cdba36e81e06ada9019ab06ac7"
   }
  }
 },
 "nbformat": 4,
 "nbformat_minor": 2
}
