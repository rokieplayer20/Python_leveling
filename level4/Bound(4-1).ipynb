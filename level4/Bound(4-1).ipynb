{
 "cells": [
  {
   "cell_type": "markdown",
   "metadata": {},
   "source": [
    "CPU Bound <br>\n"
   ]
  },
  {
   "cell_type": "code",
   "execution_count": 1,
   "metadata": {},
   "outputs": [],
   "source": [
    "# synchronous\n",
    "\n",
    "import time\n",
    "\n",
    "# 실행함수1 계산\n",
    "def cpu_bound(number):\n",
    "    return sum(i*i for i in range(number))\n",
    "\n",
    "# 실행함수2 \n",
    "def find_sums(numbers):\n",
    "    result = []\n",
    "\n",
    "    for number in numbers:\n",
    "        result.append(cpu_bound(number))\n",
    "\n",
    "    return result\n",
    "\n",
    "\n",
    "def main():\n",
    "    numbers = [3_000_000 + x for x in range(30) ] # 파이썬에선 _도 자릿수로 인식된다. 3,000,000\n",
    "\n",
    "    print(numbers)\n",
    "\n",
    "    start_time = time.time()\n",
    "\n",
    "    # 실행\n",
    "    total = find_sums(numbers)\n",
    "    print()\n",
    "\n",
    "    print(f'Total list: {total}')\n",
    "    print(f'Sum: {sum(total)}')\n",
    "\n",
    "    duration = time.time() - start_time\n",
    "\n",
    "    print(f'Duration: {duration} seconds')\n"
   ]
  },
  {
   "cell_type": "code",
   "execution_count": 2,
   "metadata": {},
   "outputs": [
    {
     "name": "stdout",
     "output_type": "stream",
     "text": [
      "[3000000, 3000001, 3000002, 3000003, 3000004, 3000005, 3000006, 3000007, 3000008, 3000009, 3000010, 3000011, 3000012, 3000013, 3000014, 3000015, 3000016, 3000017, 3000018, 3000019, 3000020, 3000021, 3000022, 3000023, 3000024, 3000025, 3000026, 3000027, 3000028, 3000029]\n",
      "\n",
      "Total list: [8999995500000500000, 9000004500000500000, 9000013500006500001, 9000022500018500005, 9000031500036500014, 9000040500060500030, 9000049500090500055, 9000058500126500091, 9000067500168500140, 9000076500216500204, 9000085500270500285, 9000094500330500385, 9000103500396500506, 9000112500468500650, 9000121500546500819, 9000130500630501015, 9000139500720501240, 9000148500816501496, 9000157500918501785, 9000166501026502109, 9000175501140502470, 9000184501260502870, 9000193501386503311, 9000202501518503795, 9000211501656504324, 9000220501800504900, 9000229501950505525, 9000238502106506201, 9000247502268506930, 9000256502436507714]\n",
      "Sum: 270003780024375058870\n",
      "Duration: 13.154690980911255 seconds\n"
     ]
    }
   ],
   "source": [
    "if __name__ == '__main__':\n",
    "    main()"
   ]
  },
  {
   "cell_type": "markdown",
   "metadata": {},
   "source": [
    "CPU-Bound multiprocessing"
   ]
  },
  {
   "cell_type": "code",
   "execution_count": 6,
   "metadata": {},
   "outputs": [],
   "source": [
    "from multiprocessing import current_process, Array, Manager, Process, freeze_support\n",
    "import os\n",
    "\n",
    "\n",
    "# 실행함수 계산\n",
    "def cpu_bound(number, total_list):\n",
    "    process_id = os.getpid()\n",
    "    process_name = current_process().name\n",
    "\n",
    "    print(f'Process ID: {process_id}, Process Name: {process_name}')\n",
    "    \n",
    "\n",
    "    total_list.append(sum(i*i for i in range(number)))\n",
    "\n",
    "\n",
    "def main():\n",
    "    numbers = [3_000_000 + x for x in range(30) ] # 파이썬에선 _도 자릿수로 인식된다. 3,000,000\n",
    "\n",
    "    print(numbers)\n",
    "\n",
    "    # 프로세스 리스트 선언\n",
    "    processes = list()\n",
    "\n",
    "    # 프로세스 공유 매니저\n",
    "    manager = Manager()\n",
    "\n",
    "    # 리스트 획득(프로세스 공유)\n",
    "    total_list = manager.list() # 리스트는 리스트인데 프로세스 사이에서 공유되는 리스트\n",
    "\n",
    "    start_time = time.time()\n",
    "\n",
    "    \n",
    "    # 프로세스 생성 및 실행\n",
    "    for i in numbers: \n",
    "\n",
    "        # 생성\n",
    "        t = Process(name=str(i), target=cpu_bound, args=(i, total_list,))\n",
    "\n",
    "        # 배열에 담기\n",
    "        processes.append(t)\n",
    "\n",
    "        # 시작\n",
    "        t.start()\n",
    "\n",
    "    for process in processes:\n",
    "        process.join()\n",
    "\n",
    "\n",
    "    print()\n",
    "\n",
    "    print(f'Total list: {total_list}')\n",
    "    print(f'Sum: {sum(total_list)}')\n",
    "\n",
    "    duration = time.time() - start_time\n",
    "\n",
    "    print(f'Duration: {duration} seconds')\n",
    "\n"
   ]
  },
  {
   "cell_type": "code",
   "execution_count": 8,
   "metadata": {},
   "outputs": [
    {
     "name": "stdout",
     "output_type": "stream",
     "text": [
      "[3000000, 3000001, 3000002, 3000003, 3000004, 3000005, 3000006, 3000007, 3000008, 3000009, 3000010, 3000011, 3000012, 3000013, 3000014, 3000015, 3000016, 3000017, 3000018, 3000019, 3000020, 3000021, 3000022, 3000023, 3000024, 3000025, 3000026, 3000027, 3000028, 3000029]\n",
      "\n",
      "Total list: []\n",
      "Sum: 0\n",
      "Duration: 4.609500408172607 seconds\n"
     ]
    }
   ],
   "source": [
    "if __name__ == '__main__':\n",
    "    # 윈도우 예외가 있다면\n",
    "    #freeze_support()\n",
    "    main()"
   ]
  },
  {
   "cell_type": "code",
   "execution_count": null,
   "metadata": {},
   "outputs": [],
   "source": []
  }
 ],
 "metadata": {
  "kernelspec": {
   "display_name": "Python 3.8.10 ('ai')",
   "language": "python",
   "name": "python3"
  },
  "language_info": {
   "codemirror_mode": {
    "name": "ipython",
    "version": 3
   },
   "file_extension": ".py",
   "mimetype": "text/x-python",
   "name": "python",
   "nbconvert_exporter": "python",
   "pygments_lexer": "ipython3",
   "version": "3.8.10"
  },
  "orig_nbformat": 4,
  "vscode": {
   "interpreter": {
    "hash": "6270e6d8b5fb321e1a842519f0c29f2e2b7188cdba36e81e06ada9019ab06ac7"
   }
  }
 },
 "nbformat": 4,
 "nbformat_minor": 2
}
