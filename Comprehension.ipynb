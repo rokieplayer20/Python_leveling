{
 "cells": [
  {
   "cell_type": "markdown",
   "metadata": {},
   "source": [
    "# Comprehension rule\n",
    "\n",
    " 1. list: 다른 comprehension에 동일하게 적용된다. <br>\n",
    "- if-else를 쓸 거면 for 앞에 있어야 한다. <br>\n",
    "- if만 사용할 거면 for 앞에 있으면 안 된다. <br>\n",
    "- 위의 사항을 어겨 for 앞뒤로 옮겨 놓아 보면 문법오류가 나온다.\n",
    "\n",
    " 2. tuple <br>\n",
    "- 튜플 ()형식으로 하면 제너레이터가 나온다.\n",
    "그래서 튜플로 진행하고 싶으면 tuple()을 꼭 써야 한다. \n",
    "\n",
    " 3. dict\n",
    "\n",
    "- {key:value for (key, value) in zip(keys, values)}\n",
    "\n",
    " 4. Not comprehension but return expression\n",
    "\n",
    " - return문 뒤에 if-else를 써서 나타낼 수 있다.\n"
   ]
  },
  {
   "cell_type": "code",
   "execution_count": 16,
   "metadata": {},
   "outputs": [
    {
     "name": "stdout",
     "output_type": "stream",
     "text": [
      "[0, 2, 4, 6, 8, 10, 12, 14, 16, 18, 20, 22, 24, 26, 28, 30, 32, 34, 36, 38, 40, 42, 44, 46, 48, 50, 52, 54, 56, 58, 60, 62, 64, 66, 68, 70, 72, 74, 76, 78, 80, 82, 84, 86, 88, 90, 92, 94, 96, 98]\n",
      "[0, -1, 2, -1, 4, -1, 6, -1, 8, -1, 10, -1, 12, -1, 14, -1, 16, -1, 18, -1, 20, -1, 22, -1, 24, -1, 26, -1, 28, -1, 30, -1, 32, -1, 34, -1, 36, -1, 38, -1, 40, -1, 42, -1, 44, -1, 46, -1, 48, -1, 50, -1, 52, -1, 54, -1, 56, -1, 58, -1, 60, -1, 62, -1, 64, -1, 66, -1, 68, -1, 70, -1, 72, -1, 74, -1, 76, -1, 78, -1, 80, -1, 82, -1, 84, -1, 86, -1, 88, -1, 90, -1, 92, -1, 94, -1, 96, -1, 98, -1]\n"
     ]
    }
   ],
   "source": [
    "# list\n",
    "list1 = [x for x in range(100) if x % 2==0]\n",
    "print(list1)\n",
    "list2 = [x if x % 2==0 else -1 for x in range(100)]\n",
    "print(list2)"
   ]
  },
  {
   "cell_type": "code",
   "execution_count": 17,
   "metadata": {},
   "outputs": [
    {
     "name": "stdout",
     "output_type": "stream",
     "text": [
      "<generator object <genexpr> at 0x000001F2C7D19E40>\n",
      "(1, 3, 5, 7, 9)\n"
     ]
    }
   ],
   "source": [
    "# tuple\n",
    "gn1 = (x for x in range(10) if x %2)\n",
    "print(gn1)\n",
    "gn2 = tuple(x for x in range(10) if x %2)\n",
    "print(gn2)"
   ]
  },
  {
   "cell_type": "code",
   "execution_count": 14,
   "metadata": {},
   "outputs": [
    {
     "name": "stdout",
     "output_type": "stream",
     "text": [
      "{0: 0, 1: -1, 2: 8, 3: -3, 4: 64, 5: -5, 6: 216, 7: -7, 8: 512, 9: -9}\n",
      "{'a': 1, 'b': 2, 'c': 3}\n"
     ]
    }
   ],
   "source": [
    "# dict\n",
    "\n",
    "newdict = {x: x**3 if x**3 % 4 == 0 else x*(-1) for x in range(10)}\n",
    "# newdict = {x: x**3 for x in range(10) if x**3 % 4 == 0}\n",
    "print(newdict)\n",
    "\n",
    "keys = ['a', 'b', 'c']\n",
    "values = [1,2,3]\n",
    "\n",
    "MyDict = {k:v for (k, v) in zip(keys, values)}\n",
    "\n",
    "print(MyDict)"
   ]
  },
  {
   "cell_type": "code",
   "execution_count": 20,
   "metadata": {},
   "outputs": [
    {
     "name": "stdout",
     "output_type": "stream",
     "text": [
      "0\n",
      "minus\n",
      "2\n",
      "minus\n",
      "4\n",
      "minus\n",
      "6\n",
      "minus\n",
      "8\n",
      "minus\n",
      "10\n",
      "minus\n",
      "12\n",
      "minus\n",
      "14\n",
      "minus\n",
      "16\n",
      "minus\n",
      "18\n",
      "minus\n",
      "20\n",
      "minus\n",
      "22\n",
      "minus\n",
      "24\n",
      "minus\n",
      "26\n",
      "minus\n",
      "28\n",
      "minus\n",
      "30\n",
      "minus\n",
      "32\n",
      "minus\n",
      "34\n",
      "minus\n",
      "36\n",
      "minus\n",
      "38\n",
      "minus\n",
      "40\n",
      "minus\n",
      "42\n",
      "minus\n",
      "44\n",
      "minus\n",
      "46\n",
      "minus\n",
      "48\n",
      "minus\n",
      "50\n",
      "minus\n",
      "52\n",
      "minus\n",
      "54\n",
      "minus\n",
      "56\n",
      "minus\n",
      "58\n",
      "minus\n",
      "60\n",
      "minus\n",
      "62\n",
      "minus\n",
      "64\n",
      "minus\n",
      "66\n",
      "minus\n",
      "68\n",
      "minus\n",
      "70\n",
      "minus\n",
      "72\n",
      "minus\n",
      "74\n",
      "minus\n",
      "76\n",
      "minus\n",
      "78\n",
      "minus\n",
      "80\n",
      "minus\n",
      "82\n",
      "minus\n",
      "84\n",
      "minus\n",
      "86\n",
      "minus\n",
      "88\n",
      "minus\n",
      "90\n",
      "minus\n",
      "92\n",
      "minus\n",
      "94\n",
      "minus\n",
      "96\n",
      "minus\n",
      "98\n",
      "minus\n"
     ]
    }
   ],
   "source": [
    "# return\n",
    "\n",
    "def func(x):\n",
    "    return x if x >= 0 else 'minus'\n",
    "\n",
    "for p in list2:\n",
    "    print(func(p))"
   ]
  }
 ],
 "metadata": {
  "kernelspec": {
   "display_name": "Python 3.8.13 ('ai')",
   "language": "python",
   "name": "python3"
  },
  "language_info": {
   "codemirror_mode": {
    "name": "ipython",
    "version": 3
   },
   "file_extension": ".py",
   "mimetype": "text/x-python",
   "name": "python",
   "nbconvert_exporter": "python",
   "pygments_lexer": "ipython3",
   "version": "3.8.13"
  },
  "orig_nbformat": 4,
  "vscode": {
   "interpreter": {
    "hash": "6270e6d8b5fb321e1a842519f0c29f2e2b7188cdba36e81e06ada9019ab06ac7"
   }
  }
 },
 "nbformat": 4,
 "nbformat_minor": 2
}
