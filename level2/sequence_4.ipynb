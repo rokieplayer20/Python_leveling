{
 "cells": [
  {
   "cell_type": "markdown",
   "metadata": {},
   "source": [
    "dict, set : 중복을 허용하지 않는다. <br>\n"
   ]
  },
  {
   "cell_type": "code",
   "execution_count": 4,
   "metadata": {},
   "outputs": [
    {
     "name": "stdout",
     "output_type": "stream",
     "text": [
      "{'key1': 'value1'} 2319825907776\n",
      "{'key1': 'value1'} 2319812660768\n"
     ]
    }
   ],
   "source": [
    "# immutable dict\n",
    "# 원래 dict는 mutable이다.\n",
    "\n",
    "from types import MappingProxyType\n",
    "\n",
    "d = {'key1':'value1'}\n",
    "\n",
    "# Read-only\n",
    "d_frozen = MappingProxyType(d) # 그래도 unhashable이다.\n",
    "\n",
    "print(d, id(d)) \n",
    "print(d_frozen, id(d_frozen))\n",
    "\n"
   ]
  },
  {
   "cell_type": "code",
   "execution_count": 6,
   "metadata": {},
   "outputs": [
    {
     "name": "stdout",
     "output_type": "stream",
     "text": [
      "{'Apple', 'Kiwi', 'Orange'}\n",
      "frozenset({'Apple', 'Kiwi', 'Orange'}) <class 'frozenset'> False\n"
     ]
    }
   ],
   "source": [
    "# frozenset : immutable set\n",
    "# 원래 set은 mutable이다.\n",
    "\n",
    "s1 = {'Apple', 'Orange', 'Apple', 'Orange', 'Kiwi'}\n",
    "print(s1)\n",
    "s2 = set(['Apple', 'Orange', 'Apple', 'Orange', 'Kiwi'])\n",
    "s3 = {3}\n",
    "s4 = set() # mutable\n",
    "\n",
    "s5 = frozenset(s1) # immutable\n",
    "print(s5, type(s5), s5 is s1)\n",
    "\n",
    "s1.add('Melon')"
   ]
  },
  {
   "cell_type": "code",
   "execution_count": 8,
   "metadata": {},
   "outputs": [
    {
     "name": "stdout",
     "output_type": "stream",
     "text": [
      "-------\n",
      "  1           0 LOAD_CONST               0 (10)\n",
      "              2 BUILD_SET                1\n",
      "              4 RETURN_VALUE\n",
      "None\n",
      "---------------\n",
      "  1           0 LOAD_NAME                0 (set)\n",
      "              2 LOAD_CONST               0 (10)\n",
      "              4 BUILD_LIST               1\n",
      "              6 CALL_FUNCTION            1\n",
      "              8 RETURN_VALUE\n",
      "None\n"
     ]
    }
   ],
   "source": [
    "# 선언 최적화\n",
    "# 바이트 코드 -> 파이썬 인터프리터 실행\n",
    "from dis import dis\n",
    "\n",
    "print('-------')\n",
    "print(dis('{10}')) # {} set 선언\n",
    "print('---------------')\n",
    "\n",
    "print(dis('set([10])'))\n",
    "# 더 단계가 많다."
   ]
  },
  {
   "cell_type": "code",
   "execution_count": 10,
   "metadata": {},
   "outputs": [
    {
     "name": "stdout",
     "output_type": "stream",
     "text": [
      "{'', 'LATIN CAPITAL LETTER O WITH ACUTE', 'LATIN CAPITAL LETTER W', 'LATIN SMALL LETTER A WITH TILDE', 'RIGHT-POINTING DOUBLE ANGLE QUOTATION MARK', 'RIGHT PARENTHESIS', 'LATIN SMALL LETTER Q', 'LATIN CAPITAL LETTER O WITH STROKE', 'LEFT CURLY BRACKET', 'LATIN CAPITAL LETTER A WITH CIRCUMFLEX', 'LATIN CAPITAL LETTER A WITH ACUTE', 'LATIN SMALL LETTER S', 'COPYRIGHT SIGN', 'ACUTE ACCENT', 'NOT SIGN', 'LATIN SMALL LETTER E WITH ACUTE', 'LATIN CAPITAL LETTER O', 'LATIN CAPITAL LETTER B', 'INVERTED EXCLAMATION MARK', 'LATIN SMALL LETTER U WITH DIAERESIS', 'LATIN SMALL LETTER Y WITH ACUTE', 'LATIN SMALL LETTER E WITH DIAERESIS', 'NUMBER SIGN', 'DIGIT FIVE', 'DOLLAR SIGN', 'LATIN SMALL LETTER C', 'LATIN CAPITAL LETTER U WITH DIAERESIS', 'LEFT SQUARE BRACKET', 'SOFT HYPHEN', 'LATIN CAPITAL LETTER F', 'SUPERSCRIPT ONE', 'LATIN CAPITAL LETTER G', 'LATIN SMALL LETTER I', 'LATIN CAPITAL LETTER M', 'LATIN CAPITAL LETTER U WITH CIRCUMFLEX', 'LATIN SMALL LETTER A WITH ACUTE', 'LATIN CAPITAL LETTER H', 'LATIN CAPITAL LETTER C WITH CEDILLA', 'LATIN SMALL LETTER X', 'LATIN CAPITAL LETTER I WITH DIAERESIS', 'LATIN SMALL LETTER M', 'REGISTERED SIGN', 'LATIN CAPITAL LETTER E WITH DIAERESIS', 'DIGIT THREE', 'HYPHEN-MINUS', 'LATIN CAPITAL LETTER Y', 'GRAVE ACCENT', 'LATIN CAPITAL LETTER O WITH DIAERESIS', 'LATIN CAPITAL LETTER N', 'VULGAR FRACTION THREE QUARTERS', 'LATIN CAPITAL LETTER I WITH CIRCUMFLEX', 'LATIN SMALL LETTER AE', 'DIGIT SIX', 'LATIN CAPITAL LETTER K', 'PERCENT SIGN', 'LATIN CAPITAL LETTER X', 'LATIN SMALL LETTER I WITH ACUTE', 'MIDDLE DOT', 'LATIN CAPITAL LETTER D', 'EQUALS SIGN', 'DIGIT SEVEN', 'LATIN CAPITAL LETTER E', 'LATIN SMALL LETTER U WITH CIRCUMFLEX', 'POUND SIGN', 'LATIN CAPITAL LETTER Q', 'FEMININE ORDINAL INDICATOR', 'LATIN SMALL LETTER A WITH RING ABOVE', 'LATIN CAPITAL LETTER Z', 'LATIN SMALL LETTER O', 'LATIN SMALL LETTER N', 'LATIN SMALL LETTER U WITH GRAVE', 'LATIN SMALL LETTER I WITH GRAVE', 'LATIN SMALL LETTER O WITH STROKE', 'APOSTROPHE', 'RIGHT SQUARE BRACKET', 'LATIN SMALL LETTER N WITH TILDE', 'TILDE', 'SEMICOLON', 'LESS-THAN SIGN', 'LATIN SMALL LETTER THORN', 'LATIN SMALL LETTER I WITH CIRCUMFLEX', 'QUOTATION MARK', 'LATIN CAPITAL LETTER T', 'LATIN SMALL LETTER B', 'LATIN SMALL LETTER I WITH DIAERESIS', 'LATIN SMALL LETTER A', 'LATIN CAPITAL LETTER I WITH GRAVE', 'DIGIT EIGHT', 'DIGIT FOUR', 'LATIN CAPITAL LETTER AE', 'LATIN SMALL LETTER C WITH CEDILLA', 'LATIN SMALL LETTER V', 'LATIN CAPITAL LETTER V', 'LATIN CAPITAL LETTER S', 'SOLIDUS', 'LATIN CAPITAL LETTER U WITH GRAVE', 'LATIN SMALL LETTER Y', 'PILCROW SIGN', 'FULL STOP', 'LATIN CAPITAL LETTER O WITH GRAVE', 'VERTICAL LINE', 'DEGREE SIGN', 'EXCLAMATION MARK', 'LATIN SMALL LETTER K', 'LATIN CAPITAL LETTER ETH', 'LATIN SMALL LETTER O WITH GRAVE', 'CIRCUMFLEX ACCENT', 'VULGAR FRACTION ONE HALF', 'LATIN SMALL LETTER ETH', 'YEN SIGN', 'COLON', 'NO-BREAK SPACE', 'CENT SIGN', 'AMPERSAND', 'DIGIT NINE', 'LATIN CAPITAL LETTER N WITH TILDE', 'LATIN CAPITAL LETTER I', 'MICRO SIGN', 'LATIN SMALL LETTER A WITH CIRCUMFLEX', 'CEDILLA', 'LATIN SMALL LETTER U', 'LATIN SMALL LETTER O WITH DIAERESIS', 'LATIN CAPITAL LETTER A WITH TILDE', 'LATIN CAPITAL LETTER C', 'LATIN SMALL LETTER R', 'SUPERSCRIPT TWO', 'LATIN SMALL LETTER O WITH ACUTE', 'LATIN SMALL LETTER G', 'LATIN SMALL LETTER F', 'LATIN CAPITAL LETTER I WITH ACUTE', 'LATIN SMALL LETTER T', 'LATIN CAPITAL LETTER E WITH GRAVE', 'LATIN CAPITAL LETTER R', 'LATIN CAPITAL LETTER U WITH ACUTE', 'LATIN SMALL LETTER E WITH CIRCUMFLEX', 'DIGIT ZERO', 'QUESTION MARK', 'LATIN CAPITAL LETTER J', 'LATIN SMALL LETTER J', 'PLUS-MINUS SIGN', 'LATIN CAPITAL LETTER A WITH RING ABOVE', 'LATIN CAPITAL LETTER E WITH CIRCUMFLEX', 'LATIN CAPITAL LETTER Y WITH ACUTE', 'LATIN SMALL LETTER O WITH CIRCUMFLEX', 'SECTION SIGN', 'DIGIT ONE', 'LATIN CAPITAL LETTER O WITH TILDE', 'LATIN SMALL LETTER A WITH DIAERESIS', 'PLUS SIGN', 'LATIN SMALL LETTER SHARP S', 'GREATER-THAN SIGN', 'LATIN CAPITAL LETTER A', 'DIGIT TWO', 'LATIN CAPITAL LETTER L', 'LATIN CAPITAL LETTER A WITH DIAERESIS', 'INVERTED QUESTION MARK', 'LEFT PARENTHESIS', 'LATIN CAPITAL LETTER A WITH GRAVE', 'LATIN CAPITAL LETTER U', 'MACRON', 'MASCULINE ORDINAL INDICATOR', 'LATIN SMALL LETTER O WITH TILDE', 'LATIN SMALL LETTER Z', 'LATIN SMALL LETTER W', 'LATIN SMALL LETTER A WITH GRAVE', 'DIVISION SIGN', 'CURRENCY SIGN', 'DIAERESIS', 'LATIN SMALL LETTER D', 'LATIN SMALL LETTER Y WITH DIAERESIS', 'LOW LINE', 'REVERSE SOLIDUS', 'MULTIPLICATION SIGN', 'SPACE', 'LATIN SMALL LETTER P', 'LEFT-POINTING DOUBLE ANGLE QUOTATION MARK', 'LATIN SMALL LETTER U WITH ACUTE', 'LATIN SMALL LETTER L', 'SUPERSCRIPT THREE', 'VULGAR FRACTION ONE QUARTER', 'BROKEN BAR', 'LATIN SMALL LETTER E WITH GRAVE', 'RIGHT CURLY BRACKET', 'LATIN CAPITAL LETTER THORN', 'LATIN CAPITAL LETTER O WITH CIRCUMFLEX', 'LATIN CAPITAL LETTER E WITH ACUTE', 'LATIN SMALL LETTER E', 'LATIN SMALL LETTER H', 'COMMA', 'ASTERISK', 'LATIN CAPITAL LETTER P', 'COMMERCIAL AT'}\n"
     ]
    }
   ],
   "source": [
    "# 지능형 집합 Set Comprehension \n",
    "\n",
    "from unicodedata import name\n",
    "\n",
    "print({name(chr(i), '') for i in range(0,256)})\n",
    "\n",
    "# name(문자:str, default:str) -> str\n",
    "# 문자를 넣고 유니코드에서 해당하는 이름을 반환한다. 없으면 디폴트"
   ]
  },
  {
   "cell_type": "code",
   "execution_count": 12,
   "metadata": {},
   "outputs": [
    {
     "name": "stdout",
     "output_type": "stream",
     "text": [
      "<class 'list'> <class 'generator'> <class 'dict'> <class 'set'>\n",
      "[0, 2, 4, 6, 8, 10, 12, 14, 16, 18, 20, 22, 24, 26, 28, 30, 32, 34, 36, 38, 40, 42, 44, 46, 48, 50, 52, 54, 56, 58, 60, 62, 64, 66, 68, 70, 72, 74, 76, 78, 80, 82, 84, 86, 88, 90, 92, 94, 96, 98, 100, 102, 104, 106, 108, 110, 112, 114, 116, 118, 120, 122, 124, 126, 128, 130, 132, 134, 136, 138, 140, 142, 144, 146, 148, 150, 152, 154, 156, 158, 160, 162, 164, 166, 168, 170, 172, 174, 176, 178, 180, 182, 184, 186, 188, 190, 192, 194, 196, 198, 200, 202, 204, 206, 208, 210, 212, 214, 216, 218, 220, 222, 224, 226, 228, 230, 232, 234, 236, 238, 240, 242, 244, 246, 248, 250, 252, 254] <generator object <genexpr> at 0x0000021C2064DC80> {'k1': 'val2', 'k2': 'val5'} {'k2', 'k1'}\n"
     ]
    }
   ],
   "source": [
    "# list comprehension\n",
    "# 조건 제시법, 리스트 반환\n",
    "\n",
    "ex1 = [x for x in range(0,256) if x %2==0]\n",
    "# 0 이상 256 미만의 수 중에서 짝수인 x를 리스트에 모은다.\n",
    "\n",
    "# tuple comprehension\n",
    "\n",
    "ex2 = (x for x in range(0,256) if x %2==0)\n",
    "# generator를 만든다. 반복문에 넣으면 결국 ex1과 같아지지만 최적화 이슈가 있어서 선호할 수 있다. \n",
    "# 미리 값을 만들어둔 것이 아니고 그때그때의 것만 만들고 알고 있다.\n",
    "\n",
    "# dict comprehension\n",
    "\n",
    "source = (('k1', 'val1'),\n",
    "            ('k1', 'val2'),\n",
    "            ('k2', 'val3'),\n",
    "            ('k2', 'val4'),\n",
    "            ('k2', 'val5'))\n",
    "ex3 = {k: v for k, v in source}\n",
    "# 똑같이 반복을 수행하면서 ex3[k] = v를 수행하면서 딕셔너리를 확장한다.\n",
    "#  key : value 형태이다. ,를 쓰지 않는다.\n",
    "\n",
    "# set comprehension\n",
    "\n",
    "ex4 = {k for k, _ in source}\n",
    "# dict comprehension처럼 짝을 짓지 않으면 된다.\n",
    "\n",
    "print(type(ex1), type(ex2), type(ex3), type(ex4))\n",
    "print(ex1, ex2, ex3, ex4)"
   ]
  },
  {
   "cell_type": "code",
   "execution_count": null,
   "metadata": {},
   "outputs": [],
   "source": []
  }
 ],
 "metadata": {
  "kernelspec": {
   "display_name": "Python 3.8.10 ('ai')",
   "language": "python",
   "name": "python3"
  },
  "language_info": {
   "codemirror_mode": {
    "name": "ipython",
    "version": 3
   },
   "file_extension": ".py",
   "mimetype": "text/x-python",
   "name": "python",
   "nbconvert_exporter": "python",
   "pygments_lexer": "ipython3",
   "version": "3.8.10"
  },
  "orig_nbformat": 4,
  "vscode": {
   "interpreter": {
    "hash": "6270e6d8b5fb321e1a842519f0c29f2e2b7188cdba36e81e06ada9019ab06ac7"
   }
  }
 },
 "nbformat": 4,
 "nbformat_minor": 2
}
