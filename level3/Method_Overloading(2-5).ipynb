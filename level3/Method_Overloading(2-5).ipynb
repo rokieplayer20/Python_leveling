{
 "cells": [
  {
   "cell_type": "markdown",
   "metadata": {},
   "source": [
    "Method Overloading: 같은 이름의 함수가 parameter의 개수와 타입이 다른 경우<br>\n",
    "keyword: overloading, oop, multiple dispatch\n",
    "\n",
    "1. 동일 메소드를 재정의\n",
    "2. 네이밍 기능 예측\n",
    "3. 코드 절약, 가독성 향상\n",
    "4. 메소드 파라미터 기반 호출 방식\n"
   ]
  },
  {
   "cell_type": "code",
   "execution_count": null,
   "metadata": {},
   "outputs": [],
   "source": [
    "# ex1\n",
    "# 동일 이름 메소드 사용 예제\n",
    "# 동적 타입 검사 -> 런타임에 실행(타입 에러가 실행시에 발견된다.)\n",
    "\n",
    "class SampleA():\n",
    "\n",
    "    def add(self, x, y):\n",
    "        return x + y\n",
    "\n",
    "    def add(self, x, y, z):\n",
    "        return x+y+z\n",
    "\n",
    "\n",
    "a = SampleA()\n",
    "# multiple dispatch가 없으면 뒤의 것으로 덮어쓰인다.\n",
    "#print(f'ex1 > {a.add(2, 3)}')\n"
   ]
  },
  {
   "cell_type": "code",
   "execution_count": 6,
   "metadata": {},
   "outputs": [
    {
     "name": "stdout",
     "output_type": "stream",
     "text": [
      "ex2 > 11\n",
      "ex2 > hello world\n"
     ]
    }
   ],
   "source": [
    "# ex2\n",
    "# 동일 이름 메소드 사용 예제\n",
    "# 자료형에 따른 분기 처리\n",
    "\n",
    "class SampleB:\n",
    "\n",
    "    def add(self, datatype, *args):\n",
    "        if datatype == 'int':\n",
    "            return sum(args)\n",
    "\n",
    "        if datatype == 'str':\n",
    "            return ' '.join(args)\n",
    "\n",
    "b = SampleB()\n",
    "\n",
    "print(f\"ex2 > {b.add('int', 5, 6)}\")\n",
    "print(f\"ex2 > {b.add('str', 'hello', 'world')}\")"
   ]
  },
  {
   "cell_type": "code",
   "execution_count": null,
   "metadata": {},
   "outputs": [],
   "source": [
    "!pip install multipledispatch"
   ]
  },
  {
   "cell_type": "code",
   "execution_count": 9,
   "metadata": {},
   "outputs": [
    {
     "name": "stdout",
     "output_type": "stream",
     "text": [
      "ex3 > 16\n",
      "ex3 > 40\n",
      "ex3 > 10.205\n"
     ]
    }
   ],
   "source": [
    "#ex3 multipledispatch package를 이용하기\n",
    "\n",
    "from multipledispatch import dispatch\n",
    "\n",
    "class SampleC():\n",
    "\n",
    "    @dispatch(int, int)\n",
    "    def product(x, y):\n",
    "        return x*y\n",
    "\n",
    "    @dispatch(int, int, int)\n",
    "    def product(x, y, z):\n",
    "        return x*y*z\n",
    "    @dispatch(float, float, float)\n",
    "    def product(x, y, z):\n",
    "        return x*y*z\n",
    "\n",
    "\n",
    "c = SampleC()\n",
    "\n",
    "print(f\"ex3 > {c.product(2, 8)}\")\n",
    "print(f\"ex3 > {c.product(2,4,5)}\")\n",
    "print(f\"ex3 > {c.product(2.5, 1.3, 3.14)}\")\n",
    "\n"
   ]
  },
  {
   "cell_type": "code",
   "execution_count": null,
   "metadata": {},
   "outputs": [],
   "source": []
  },
  {
   "cell_type": "code",
   "execution_count": null,
   "metadata": {},
   "outputs": [],
   "source": []
  }
 ],
 "metadata": {
  "kernelspec": {
   "display_name": "Python 3.8.10 ('ai')",
   "language": "python",
   "name": "python3"
  },
  "language_info": {
   "codemirror_mode": {
    "name": "ipython",
    "version": 3
   },
   "file_extension": ".py",
   "mimetype": "text/x-python",
   "name": "python",
   "nbconvert_exporter": "python",
   "pygments_lexer": "ipython3",
   "version": "3.8.10"
  },
  "orig_nbformat": 4,
  "vscode": {
   "interpreter": {
    "hash": "6270e6d8b5fb321e1a842519f0c29f2e2b7188cdba36e81e06ada9019ab06ac7"
   }
  }
 },
 "nbformat": 4,
 "nbformat_minor": 2
}
