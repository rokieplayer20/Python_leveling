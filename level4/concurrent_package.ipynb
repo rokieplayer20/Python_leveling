{
 "cells": [
  {
   "cell_type": "markdown",
   "metadata": {},
   "source": [
    "reference: https://docs.python.org/ko/3/library/concurrent.futures.html#module-concurrent.futures <br>\n",
    "공식문서 읽고 써보기."
   ]
  },
  {
   "cell_type": "markdown",
   "metadata": {},
   "source": [
    "submit(fn, *args, **kwargs) -> Future object, fn is callable (function) <br>\n",
    "map(func, *iterables, timeout=None, chunksize=1)  <br>\n",
    "iterables를 즉시 수집된다. timeout은 정수, 실수 다 된다. 만일 멀티프로세스라면 chunksize를 1보다 크게 하면 속도가 빨라질 수 있으나 멀티스레드는 소용 없다. <br>\n"
   ]
  },
  {
   "cell_type": "code",
   "execution_count": 11,
   "metadata": {},
   "outputs": [
    {
     "name": "stdout",
     "output_type": "stream",
     "text": [
      "1024 <class 'concurrent.futures._base.Future'> <class 'concurrent.futures.thread.ThreadPoolExecutor'>\n"
     ]
    }
   ],
   "source": [
    "from concurrent.futures import ThreadPoolExecutor, ProcessPoolExecutor\n",
    "import shutil\n",
    "\n",
    "with ThreadPoolExecutor(max_workers = 2) as executor:\n",
    "    future = executor.submit((lambda x, y: x**y), 2, 10)\n",
    "    \n",
    "    print(future.result(), type(future), type(executor))"
   ]
  },
  {
   "cell_type": "markdown",
   "metadata": {},
   "source": [
    "shutdown(wait=True, cancel_futures=False) -> None <br>\n",
    "cancel_futures는 3.9부터 추가되었다. 아직 실행되지 않고 계획만 되어 있는 future를 취소한다. <br>\n",
    "wait=True이면 계류 중인 future를 작업이 끝나고 자원이 할당해제 될 때까지 기다린다.<bt>\n",
    "shutdown(wait=True)는 with문을 사용한 것과 같은 효과가 난다. <br>\n",
    "False이면 바로 기다리지 않고 해제한다. <br>\n"
   ]
  },
  {
   "cell_type": "code",
   "execution_count": 12,
   "metadata": {},
   "outputs": [
    {
     "name": "stdout",
     "output_type": "stream",
     "text": [
      "<generator object Executor.map.<locals>.result_iterator at 0x000001F3F1B61AC0>\n"
     ]
    }
   ],
   "source": [
    "with ThreadPoolExecutor(max_workers = 2) as executor:\n",
    "    future = executor.map((lambda x, y: x**y), (2, 10))\n",
    "    executor.shutdown(wait= True) # cancel_future= True\n",
    "    \n",
    "    print(future)"
   ]
  },
  {
   "cell_type": "markdown",
   "metadata": {},
   "source": [
    "ThreadPoolExecutor(max_workers=None, mp_context=None, initializer=None, initargs=()) <br>\n",
    "ProcessPoolExecutor(max_workers=None, mp_context=None, initializer=None, initargs=()) <br>\n",
    "initializer는 callable로 각 프로세스가 시작하면서 발동한다. 이때 인자로써 initargs 튜플을 전달한다. <br>\n"
   ]
  },
  {
   "cell_type": "code",
   "execution_count": 14,
   "metadata": {},
   "outputs": [],
   "source": [
    "import concurrent.futures\n",
    "import math\n",
    "\n",
    "PRIMES = [\n",
    "    112272535095293,\n",
    "    112582705942171,\n",
    "    112272535095293,\n",
    "    115280095190773,\n",
    "    115797848077099,\n",
    "    1099726899285419]\n",
    "\n",
    "def is_prime(n):\n",
    "    if n<2:\n",
    "        return False\n",
    "    if n==2:\n",
    "        return True\n",
    "    if n%2 ==0:\n",
    "        return False\n",
    "    \n",
    "    sqrt_n = int(math.floor(math.sqrt(n)))\n",
    "    for i in range(3, sqrt_n+1, 2):\n",
    "        if n % i ==0:\n",
    "            return False\n",
    "    return True\n",
    "\n",
    "def main():\n",
    "    with concurrent.futures.ProcessPoolExecutor() as executor:\n",
    "        for number, prime in zip(PRIMES, executor.map(is_prime, PRIMES)):\n",
    "            print(f'{number} is prime? -> {prime}')\n",
    "\n",
    "\n",
    "if __name__ == '__main__':\n",
    "    #main() 주피터노트북에서는 안 된다.\n",
    "    pass"
   ]
  },
  {
   "cell_type": "markdown",
   "metadata": {},
   "source": [
    "# Future object\n",
    "The Future class encapsulates the asynchronous execution of a callable. Future instances are created by Executor.submit(). <br>\n",
    "Future 클래스는 콜러블 객체의 비동기 실행을 캡슐화합니다. Future 인스턴스는 Executor.submit() 에 의해 생성됩니다. <br>"
   ]
  },
  {
   "cell_type": "code",
   "execution_count": null,
   "metadata": {},
   "outputs": [],
   "source": [
    "\"\"\"\n",
    "concurrent.futures.Future의 methods\n",
    "\n",
    "Future_obj.cancel() -> bool, 취소를 직접 한다. 호출을 잘 취소하면 True 반환한다. 이미 종료했거나 취소할 수 없으면 False를 반환한다.\n",
    "\n",
    "Future_obj.cancelled() -> bool, 상태가 취소 상태이면 True를 반환한다.\n",
    "\n",
    "Future_obj.running() -> bool, 현재 실행 중이고 취소할 수 없는 경우 True를 반환한다.\n",
    "\n",
    "Future_obj.done() -> bool, 실행이 완료되었거나 잘 취소되어 있다면 True를 반환한다.\n",
    "\n",
    "Future_obj.result(timeout=None) -> object, 호출이 반환한 값을 호출한다.\n",
    "그러나 시간 내로 완료되지 않으면 concurrent.futures.TimeoutError을 반환하고 완료되기 전에 취소되면 CancelledError를 반환한다.\n",
    "\n",
    "\n",
    "Future_obj.exeception(timeout=None) -> exception_object, 호출이 일으킨 예외를 반환한다.\n",
    "\n",
    "Future_obj.add_done_callback(fn) -> None\n",
    "callable fn을 future에 연결한다. future가 취소되거나 실행이 종료되면 future가 fn읜 인자가 되어 실행된다.\n",
    "실행이 끝나면 곧바로 실행할 callback 함수를 정하는 것이다.\n",
    "\n",
    "\n",
    "\n",
    "\"\"\""
   ]
  },
  {
   "cell_type": "markdown",
   "metadata": {},
   "source": [
    "# Module function"
   ]
  },
  {
   "cell_type": "code",
   "execution_count": null,
   "metadata": {},
   "outputs": [],
   "source": [
    "\"\"\"\n",
    "\n",
    "concurrent.futures.wait(fs, timeout=None, return_when=ALL_COMPLETED) -> done: set, not_done: set\n",
    "\n",
    "done은 취소되거나 완료된 future object가 있는 집합이고 not_done은 running 또는 pending 상태이다.\n",
    "\n",
    "FIRST_COMPLETED: future가 어느 하나라도 끝나거나 취소되면 반환한다.\n",
    "FIRST_EXCEPTION: 한 future가 예외를 일으켜 완료되면 반환된다. 만일 예외가 없다면 ALL_COMPLETED와 동일하다.\n",
    "ALL_COMPLETED: 모든 future가 끝나거나 취소되면 함수가 반환한다.\n",
    "\n",
    "concurrent.futures.as_completed(fs, timeout=None) -> Future_generator\n",
    "\n",
    "future들이 완료되는 대로 yield하는 future의 generator를 반환한다.\n",
    "fs에 중복되는 future가 있으면 한 번만 반환한다.\n",
    "\n",
    "\n",
    "\n",
    "\n",
    "\n",
    "\"\"\""
   ]
  }
 ],
 "metadata": {
  "kernelspec": {
   "display_name": "Python 3.8.10 ('ai')",
   "language": "python",
   "name": "python3"
  },
  "language_info": {
   "codemirror_mode": {
    "name": "ipython",
    "version": 3
   },
   "file_extension": ".py",
   "mimetype": "text/x-python",
   "name": "python",
   "nbconvert_exporter": "python",
   "pygments_lexer": "ipython3",
   "version": "3.8.10"
  },
  "orig_nbformat": 4,
  "vscode": {
   "interpreter": {
    "hash": "6270e6d8b5fb321e1a842519f0c29f2e2b7188cdba36e81e06ada9019ab06ac7"
   }
  }
 },
 "nbformat": 4,
 "nbformat_minor": 2
}
