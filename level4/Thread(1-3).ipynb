{
 "cells": [
  {
   "cell_type": "markdown",
   "metadata": {},
   "source": [
    "Lock, Deadlock, Race condition, Thread synchronization <br>\n",
    "용어 설명<br>\n",
    "1. Semaphore: 프로세스 간 공유된 자원에 접근하면 문제가 생길 수 있으므로 한 개의 프로세스만 접근할 수 있도록 한다. (경쟁 상태 예방)\n",
    "2. Mutex: 공유된 자원의 데이터를 여러 thread가 접근하는 것을 막는다. 경쟁 상태를 예방한다.\n",
    "3. Lock: 상호 배제를 위한 잠금 처리 -> 데이터 경쟁\n",
    "4. Deadlock: 프로세가 자원을 획득하지 못해 다음 처리를 못하는 무한 대기 상황 (교착상태)\n",
    "5. Thread synchronization: 안정적으로 동작하게 하기 위해 동기화한다. 동기화 메소드, 동기화 블락\n",
    "6. Semaphore와 Mutex의 차이\n",
    "    - Semaphore는 Mutex가 될 수 있지만 그 반대는 안 된다.\n",
    "    - mutex는 단일 thread가 리소스 또는 중요 섹션을 소비하도록 한다.\n",
    "    - semaphore는 리소스에 대한 제한된 수의 동시 접근을 허용한다."
   ]
  },
  {
   "cell_type": "code",
   "execution_count": 1,
   "metadata": {},
   "outputs": [],
   "source": [
    "import logging\n",
    "from concurrent.futures import ThreadPoolExecutor\n",
    "import time"
   ]
  },
  {
   "cell_type": "code",
   "execution_count": 2,
   "metadata": {},
   "outputs": [
    {
     "name": "stderr",
     "output_type": "stream",
     "text": [
      "12:10:44: Testing update. Starting value is 0\n",
      "12:10:44: Thread First: starting update\n",
      "12:10:44: Thread Second: starting update\n",
      "12:10:44: Thread Second: finishing update\n",
      "12:10:44: Thread First: finishing update\n",
      "12:10:44: Thread Third: starting update\n",
      "12:10:44: Thread Third: finishing update\n",
      "12:10:44: Testing update. Ending value is 2\n"
     ]
    }
   ],
   "source": [
    "# 문제편\n",
    "\n",
    "class FakeDataStore:\n",
    "    \n",
    "    # 공유변수(value): code, heap, data 영역\n",
    "    # stack 영역만 각자 갖는다. 즉, 각 스레드는 실행된 함수 영역이 다르다.\n",
    "\n",
    "    def __init__(self):\n",
    "        \n",
    "        self.value = 0\n",
    "\n",
    "    def update(self, n):\n",
    "        logging.info(f'Thread {n}: starting update')\n",
    "\n",
    "        # mutex & lock 등 동기화가 필요한 곳이다.\n",
    "        local_copy = self.value\n",
    "\n",
    "        local_copy += 1\n",
    "        time.sleep(0.1)\n",
    "        self.value = local_copy\n",
    "\n",
    "        logging.info(f'Thread {n}: finishing update')\n",
    "\n",
    "if __name__ == \"__main__\":\n",
    "    # Logging format 설정\n",
    "    format = \"%(asctime)s: %(message)s\"\n",
    "    logging.basicConfig(format=format, level=logging.INFO, datefmt=\"%H:%M:%S\")\n",
    "    \n",
    "    # class 인스턴스화\n",
    "    store = FakeDataStore()\n",
    "\n",
    "    logging.info(f'Testing update. Starting value is {store.value}')\n",
    "\n",
    "    # with context 시작\n",
    "    with ThreadPoolExecutor(max_workers=2) as executor:\n",
    "\n",
    "        for n in ['First', 'Second', 'Third']:\n",
    "            executor.submit(store.update, n)\n",
    "\n",
    "\n",
    "    logging.info(f'Testing update. Ending value is {store.value}')\n",
    "    # 결과가 3이 되어야 한다."
   ]
  },
  {
   "cell_type": "code",
   "execution_count": 3,
   "metadata": {},
   "outputs": [
    {
     "name": "stderr",
     "output_type": "stream",
     "text": [
      "12:10:44: Testing update. Starting value is 0\n",
      "12:10:44: Thread First: starting update\n",
      "12:10:44: Thread Second: starting update\n",
      "12:10:44: Thread First has lock.\n",
      "12:10:44: Thread First releases lock.\n",
      "12:10:44: Thread First: finishing update\n",
      "12:10:44: Thread Second has lock.\n",
      "12:10:44: Thread Third: starting update\n",
      "12:10:44: Thread Second releases lock.\n",
      "12:10:44: Thread Second: finishing update\n",
      "12:10:44: Thread Third has lock.\n",
      "12:10:44: Thread Third releases lock.\n",
      "12:10:44: Thread Third: finishing update\n",
      "12:10:44: Testing update. Ending value is 3\n"
     ]
    }
   ],
   "source": [
    "import threading\n",
    "\n",
    "# 해결편\n",
    "\n",
    "class FakeDataStore:\n",
    "    \n",
    "    # 공유변수(value): code, heap, data 영역\n",
    "    # stack 영역만 각자 갖는다. 즉, 각 스레드는 실행된 함수 영역이 다르다.\n",
    "\n",
    "    def __init__(self):\n",
    "        \n",
    "        self.value = 0\n",
    "        self._lock = threading.Lock()\n",
    "\n",
    "    def update(self, n):\n",
    "        logging.info(f'Thread {n}: starting update')\n",
    "\n",
    "        # mutex & lock 등 동기화가 필요한 곳이다.\n",
    "\n",
    "        # Lock 획득 (방법1)\n",
    "        self._lock.acquire()\n",
    "        logging.info(f'Thread {n} has lock.')\n",
    "        local_copy = self.value\n",
    "\n",
    "        local_copy += 1\n",
    "        time.sleep(0.1)\n",
    "        self.value = local_copy\n",
    "        # lock 반환\n",
    "        logging.info(f'Thread {n} releases lock.')\n",
    "        self._lock.release()\n",
    "\n",
    "\n",
    "        logging.info(f'Thread {n}: finishing update')\n",
    "\n",
    "if __name__ == \"__main__\":\n",
    "    # Logging format 설정\n",
    "    format = \"%(asctime)s: %(message)s\"\n",
    "    logging.basicConfig(format=format, level=logging.INFO, datefmt=\"%H:%M:%S\")\n",
    "    \n",
    "    # class 인스턴스화\n",
    "    store = FakeDataStore()\n",
    "\n",
    "    logging.info(f'Testing update. Starting value is {store.value}')\n",
    "\n",
    "    # with context 시작\n",
    "    with ThreadPoolExecutor(max_workers=2) as executor:\n",
    "\n",
    "        for n in ['First', 'Second', 'Third']:\n",
    "            executor.submit(store.update, n)\n",
    "\n",
    "\n",
    "    logging.info(f'Testing update. Ending value is {store.value}')\n",
    "    # 결과가 3이 되어야 한다."
   ]
  },
  {
   "cell_type": "code",
   "execution_count": 4,
   "metadata": {},
   "outputs": [
    {
     "name": "stderr",
     "output_type": "stream",
     "text": [
      "12:10:45: Testing update. Starting value is 0\n",
      "12:10:45: Thread First: starting update\n",
      "12:10:45: Thread Second: starting update\n",
      "12:10:45: Thread First has lock.\n",
      "12:10:45: Thread First releases lock.\n",
      "12:10:45: Thread First: finishing update\n",
      "12:10:45: Thread Second has lock.\n",
      "12:10:45: Thread Third: starting update\n",
      "12:10:45: Thread Second releases lock.\n",
      "12:10:45: Thread Second: finishing update\n",
      "12:10:45: Thread Third has lock.\n",
      "12:10:45: Thread Third releases lock.\n",
      "12:10:45: Thread Third: finishing update\n",
      "12:10:45: Testing update. Ending value is 3\n"
     ]
    }
   ],
   "source": [
    "import threading\n",
    "\n",
    "# 해결편\n",
    "\n",
    "class FakeDataStore:\n",
    "    \n",
    "    # 공유변수(value): code, heap, data 영역\n",
    "    # stack 영역만 각자 갖는다. 즉, 각 스레드는 실행된 함수 영역이 다르다.\n",
    "\n",
    "    def __init__(self):\n",
    "        \n",
    "        self.value = 0\n",
    "        self._lock = threading.Lock()\n",
    "\n",
    "    def update(self, n):\n",
    "        logging.info(f'Thread {n}: starting update')\n",
    "\n",
    "        # mutex & lock 등 동기화가 필요한 곳이다.\n",
    "\n",
    "        # Lock 획득 (방법2)\n",
    "        \n",
    "        with self._lock:\n",
    "            logging.info(f'Thread {n} has lock.')\n",
    "            local_copy = self.value\n",
    "            local_copy += 1\n",
    "            time.sleep(0.1)\n",
    "            self.value = local_copy\n",
    "            logging.info(f'Thread {n} releases lock.')\n",
    "\n",
    "\n",
    "        logging.info(f'Thread {n}: finishing update')\n",
    "\n",
    "if __name__ == \"__main__\":\n",
    "    # Logging format 설정\n",
    "    format = \"%(asctime)s: %(message)s\"\n",
    "    logging.basicConfig(format=format, level=logging.INFO, datefmt=\"%H:%M:%S\")\n",
    "    \n",
    "    # class 인스턴스화\n",
    "    store = FakeDataStore()\n",
    "\n",
    "    logging.info(f'Testing update. Starting value is {store.value}')\n",
    "\n",
    "    # with context 시작\n",
    "    with ThreadPoolExecutor(max_workers=2) as executor:\n",
    "\n",
    "        for n in ['First', 'Second', 'Third']:\n",
    "            executor.submit(store.update, n)\n",
    "\n",
    "\n",
    "    logging.info(f'Testing update. Ending value is {store.value}')\n",
    "    # 결과가 3이 되어야 한다."
   ]
  },
  {
   "cell_type": "code",
   "execution_count": null,
   "metadata": {},
   "outputs": [],
   "source": []
  },
  {
   "cell_type": "code",
   "execution_count": null,
   "metadata": {},
   "outputs": [],
   "source": []
  },
  {
   "cell_type": "code",
   "execution_count": null,
   "metadata": {},
   "outputs": [],
   "source": []
  },
  {
   "cell_type": "code",
   "execution_count": null,
   "metadata": {},
   "outputs": [],
   "source": []
  },
  {
   "cell_type": "code",
   "execution_count": null,
   "metadata": {},
   "outputs": [],
   "source": []
  }
 ],
 "metadata": {
  "kernelspec": {
   "display_name": "Python 3.8.10 ('ai')",
   "language": "python",
   "name": "python3"
  },
  "language_info": {
   "codemirror_mode": {
    "name": "ipython",
    "version": 3
   },
   "file_extension": ".py",
   "mimetype": "text/x-python",
   "name": "python",
   "nbconvert_exporter": "python",
   "pygments_lexer": "ipython3",
   "version": "3.8.10"
  },
  "orig_nbformat": 4,
  "vscode": {
   "interpreter": {
    "hash": "6270e6d8b5fb321e1a842519f0c29f2e2b7188cdba36e81e06ada9019ab06ac7"
   }
  }
 },
 "nbformat": 4,
 "nbformat_minor": 2
}
