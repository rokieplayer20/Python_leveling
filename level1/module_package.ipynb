{
 "cells": [
  {
   "cell_type": "code",
   "execution_count": null,
   "metadata": {},
   "outputs": [],
   "source": [
    "import sys\n",
    "\n",
    "print(sys.path)\n",
    "# package, module을 이 경로에서 검색한다.\n",
    "# 별도의 경로를 지정하지 않으면 이 경로를 검색한다.\n",
    "# 모듈이 모이면 패키지가 된다.\n",
    "\n",
    "print(type(sys.path))  # list\n",
    "\n",
    "#sys.path.append('C:\\\\Users\\\\rokie\\\\AlgorithmStudy\\\\inflearnPython\\\\level1\\\\module_test')\n",
    "# 생대 경로: './module_test/'\n",
    "# 일시적으로 경로를 등록하는 것이다. \\\\ or /  둘 다 사용할 수 있다.\n",
    "\n",
    "\n",
    "import Module_Chapter6 as M # pylance에 등록된 주소와 달라서 나오는 것뿐이다.\n",
    "# 모듈 사용\n",
    "print(M.power(2, 7))\n",
    "\n",
    " "
   ]
  },
  {
   "cell_type": "markdown",
   "metadata": {},
   "source": [
    "import 과정에서 안에 있는 함수들의 내용만 가져와야 하는데 print가 자동으로 실행된다.\n",
    "\n",
    "가만 보면 sys.path에 c, C 드라이브 둘 다 있고 내가 등록하지 않았지만\n",
    "지금 이 파일의 위치가 등록되어 있다. 그래서 같은 폴더에 있으면 바로 쓸 수 있지만\n",
    "실습해본 거다. "
   ]
  },
  {
   "cell_type": "code",
   "execution_count": null,
   "metadata": {},
   "outputs": [],
   "source": [
    "from module_test import Module_Chapter6 as M2\n",
    "\n",
    "\n",
    "\n",
    "print(M2.add(2, 2))\n",
    "\n"
   ]
  },
  {
   "cell_type": "markdown",
   "metadata": {},
   "source": [
    "경로가 등록되어 있는 폴더 중에서 하위폴더를 탐색해 임포트한다.\n",
    "\n",
    "from 하위폴더(\"./하위폴더\"라는 package 뜻) import my_module\n",
    "\n",
    "그동안은 from을 생략한 것이다. 디폴트가 \"from ./\"였기 때문이다.\n",
    "\n",
    "또는 from을 특정 모듈(py 파일)에서 특정 클래스나 함수만 가져요는 용도로도 쓸 수 있다.\n"
   ]
  },
  {
   "cell_type": "code",
   "execution_count": null,
   "metadata": {},
   "outputs": [],
   "source": [
    "import Class_Chapter6\n",
    "print(Class_Chapter6.Dog)   # namespace.class_name\n",
    "\n",
    "# 사실 경로를 sys.path에 새로 등록하지 않아도\n",
    "# 코드 파일과 동일한 폴더는 기본적으로 sys.path에 등록되어 있다."
   ]
  },
  {
   "cell_type": "code",
   "execution_count": null,
   "metadata": {},
   "outputs": [],
   "source": [
    "# package: module을 모아놓은 폴더\n",
    "# module: block coding을 가능케 하는 python file\n",
    "import sub.sub1.module1 \n",
    "\n",
    "import sub.sub2.module2"
   ]
  },
  {
   "cell_type": "markdown",
   "metadata": {},
   "source": [
    "현재 code파일과 같은 위치에 있으면 import로 바로 접근할 수 있다.\n",
    "sub 폴더(package)에는 내용이 동일한 sub1, sub2 module이 있다."
   ]
  },
  {
   "cell_type": "code",
   "execution_count": null,
   "metadata": {},
   "outputs": [],
   "source": [
    "sub.sub1.module1.mod1_test1()"
   ]
  },
  {
   "cell_type": "markdown",
   "metadata": {},
   "source": [
    " 폴더.폴더.폴더.모듈  이런 식으로 탐색기처럼 file system을 나열하는 건\n",
    " 번거롭고 가독성이 떨어지기 때문에 from을 쓴다. </br>\n",
    "\n",
    " from 모듈 import 클래스, 함수 </br>\n",
    " 이런 형태도 된다."
   ]
  },
  {
   "cell_type": "code",
   "execution_count": 1,
   "metadata": {},
   "outputs": [
    {
     "name": "stdout",
     "output_type": "stream",
     "text": [
      "Module1 -> Test1\n",
      "Path :  c:\\Users\\rokie\\AlgorithmStudy\\inflearnPython\\level1\\sub\\sub1\\module1.py\n",
      "Module2 -> Test2\n",
      "Path :  c:\\Users\\rokie\\AlgorithmStudy\\inflearnPython\\level1\\sub\\sub2\\module2.py\n"
     ]
    }
   ],
   "source": [
    "from sub.sub1 import module1 as m1 # alias\n",
    "from sub.sub2 import *              # ./sub/sub2/* (리눅스 방식)  sys.path에 들어 있는 시작점 중에 .이 하나 있다고 봐라.\n",
    "\n",
    "m1.mod1_test1()\n",
    "module2.mod2_test2()"
   ]
  },
  {
   "cell_type": "markdown",
   "metadata": {},
   "source": [
    "__pycache__ : 파이썬 실행 기록을 남겨서 나중에 실행할 때 속도를 증가시킨다.\n",
    "\n",
    "__init__.py: 각 package마다 있다. header file 역할\n",
    "\n",
    "3.3부터는 이게 없어도 패키지로 인식한다. 단, 하위호환을 위해 작성을 추천한다.\n",
    "내용물:\n",
    "__all__ = ['module1', 'module2'] \n",
    "\n",
    "__all__ list에 해당하는 것만 모듈로서 허가한다.\n"
   ]
  },
  {
   "cell_type": "code",
   "execution_count": null,
   "metadata": {},
   "outputs": [],
   "source": []
  }
 ],
 "metadata": {
  "kernelspec": {
   "display_name": "Python 3.8.10 ('ai')",
   "language": "python",
   "name": "python3"
  },
  "language_info": {
   "codemirror_mode": {
    "name": "ipython",
    "version": 3
   },
   "file_extension": ".py",
   "mimetype": "text/x-python",
   "name": "python",
   "nbconvert_exporter": "python",
   "pygments_lexer": "ipython3",
   "version": "3.8.10"
  },
  "orig_nbformat": 4,
  "vscode": {
   "interpreter": {
    "hash": "6270e6d8b5fb321e1a842519f0c29f2e2b7188cdba36e81e06ada9019ab06ac7"
   }
  }
 },
 "nbformat": 4,
 "nbformat_minor": 2
}
