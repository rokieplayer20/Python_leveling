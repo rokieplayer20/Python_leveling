{
 "cells": [
  {
   "cell_type": "markdown",
   "metadata": {},
   "source": [
    "Meta Class <br>\n",
    "keyword: class of class, Type, Meta Class, Custom Meta Class <br>\n",
    "1. class를 만드는 역할 -> 의도하는 방향으로 클래스를 만들기 위해\n",
    "2. framework 작성시 필수다. 예) flask, tensorflow, pytorch...\n",
    "3. 동적 생성(type), 커스텀 생성(type) 함수\n",
    "4. custom class -> 검증클래스\n",
    "5. 엄격한 Class 사용 요구, 메소드 오버라이드 요구"
   ]
  },
  {
   "cell_type": "code",
   "execution_count": 5,
   "metadata": {},
   "outputs": [
    {
     "name": "stdout",
     "output_type": "stream",
     "text": [
      "Ex1 > <class '__main__.SampleA'>\n",
      "Ex1 > <class '__main__.SampleA'>\n",
      "Ex1 > <class 'type'>\n"
     ]
    }
   ],
   "source": [
    "# ex1 \n",
    "# type 예제\n",
    "\n",
    "class SampleA(object): #python에서 Class == Object\n",
    "    pass\n",
    "\n",
    "obj1 = SampleA() # 변수에 할당, 복사 가능, 새로운 속성, 함수의 인자로 넘기기 가능\n",
    "\n",
    "\n",
    "print(f'Ex1 > {obj1.__class__}')\n",
    "# Ex1 > <class '__main__.SampleA'>: namespace.class_name\n",
    "\n",
    "print(f'Ex1 > {type(obj1)}')\n",
    "\n",
    "\n",
    "print(f'Ex1 > {obj1.__class__.__class__}')\n",
    "# 모든 클래스의 원형(Meta)은 type이다.\n",
    "# 동적(런타임)으로 함수, 속성, 클래스, 상속 등을 추가할 수 있다."
   ]
  },
  {
   "cell_type": "markdown",
   "metadata": {},
   "source": [
    "모든 class의 원형은 type class이다. 따라서 모든 class는 객체이다."
   ]
  },
  {
   "cell_type": "code",
   "execution_count": 7,
   "metadata": {},
   "outputs": [
    {
     "name": "stdout",
     "output_type": "stream",
     "text": [
      "Ex1 > True\n",
      "Ex1 > True\n",
      "<class 'type'>\n"
     ]
    }
   ],
   "source": [
    "# obj1 -> SampleA intance\n",
    "# SampleA -> type metaclass\n",
    "# type -> thpe meta class\n",
    "\n",
    "print(f'Ex1 > {type(obj1) is obj1.__class__}')\n",
    "print(f'Ex1 > {obj1.__class__.__class__ is type(obj1).__class__}')\n",
    "print(type.__class__)\n",
    "# type의 metaclass도 type이다."
   ]
  },
  {
   "cell_type": "code",
   "execution_count": 9,
   "metadata": {},
   "outputs": [
    {
     "name": "stdout",
     "output_type": "stream",
     "text": [
      "ex2 > <class 'int'> True <class 'type'>\n",
      "ex2 > <class 'dict'> True <class 'type'>\n",
      "ex2 > <class '__main__.SampleB'> True <class 'type'>\n"
     ]
    }
   ],
   "source": [
    "# ex2\n",
    "# type meta 증명\n",
    "\n",
    "n =10\n",
    "d = dict(a=1, b=2)\n",
    "\n",
    "class SampleB():\n",
    "    pass\n",
    "\n",
    "obj2 = SampleB()\n",
    "\n",
    "for o in (n, d, obj2):\n",
    "    print(f'ex2 > {type(o)} {type(o) is o.__class__} {o.__class__.__class__}')\n"
   ]
  },
  {
   "cell_type": "code",
   "execution_count": 10,
   "metadata": {},
   "outputs": [
    {
     "name": "stdout",
     "output_type": "stream",
     "text": [
      "ex2 <class 'type'>\n",
      "ex2 <class 'type'>\n",
      "ex2 <class 'type'>\n",
      "ex2 <class 'type'>\n",
      "<class 'type'>\n"
     ]
    }
   ],
   "source": [
    "for t in int, float, list, tuple:\n",
    "    print(f'ex2 {type(t)}')\n",
    "\n",
    "print(type(type))"
   ]
  },
  {
   "cell_type": "code",
   "execution_count": 12,
   "metadata": {},
   "outputs": [
    {
     "name": "stdout",
     "output_type": "stream",
     "text": [
      "ex <function func1 at 0x000002065FE5EE50> <class 'function'> <class 'type'>\n"
     ]
    }
   ],
   "source": [
    "def func1():\n",
    "    return\n",
    "\n",
    "print(f'ex {func1} {func1.__class__} {func1.__class__.__class__}')\n",
    "# 함수는 함수 클래스가 있고 그 클래스의 메타도 type이다.\n",
    "# function class -> type class"
   ]
  },
  {
   "cell_type": "markdown",
   "metadata": {},
   "source": [
    "type(name: str, base: tuple, dct: dict), Dynamic metaclass\n",
    "1. metaclass를 동적으로 생성\n",
    "2. 동적 생성한 메타클래스로 커스텀 메타클래스를 생성한다.\n",
    "3. 의도하는 방향으로 직접 클래스 생성에 관여할 수 있는 큰 장점"
   ]
  },
  {
   "cell_type": "code",
   "execution_count": 20,
   "metadata": {},
   "outputs": [
    {
     "name": "stdout",
     "output_type": "stream",
     "text": [
      "ex1 > <class '__main__.Sample1'>\n",
      "<class 'type'>\n",
      "ex1 > <class 'object'>\n",
      "ex1 > {'__module__': '__main__', '__dict__': <attribute '__dict__' of 'Sample1' objects>, '__weakref__': <attribute '__weakref__' of 'Sample1' objects>, '__doc__': None}\n",
      "ex2 > <class '__main__.Sample2'>\n",
      "ex2 > <class 'type'>\n",
      "ex2 > <class '__main__.Parent1'>\n",
      "ex2 > {'attr1': 100, 'attr2': 'hi', '__module__': '__main__', '__doc__': None}\n",
      "ex2 > (100, 'hi')\n"
     ]
    }
   ],
   "source": [
    "# ex2 \n",
    "# type 동적 클래스 생성 예제\n",
    "\n",
    "# Name(이름), Bases(상속), Dst(속성,메소드)\n",
    "\n",
    "s1 = type('Sample1', (), {})\n",
    "\n",
    "print(f'ex1 > {s1}') # 이것 자체로 class를 만든 것이다.\n",
    "print(type(s1))\n",
    "print(f'ex1 > {s1.__base__}') # 모든 클래스는 object class를 상속 받는다.\n",
    "print(f'ex1 > {s1.__dict__}')\n",
    "\n",
    "# 동적 생성 + 상속\n",
    "\n",
    "class Parent1:\n",
    "    pass\n",
    "\n",
    "s2 = type('Sample2', (Parent1, ), dict(attr1=100, attr2= 'hi'))\n",
    "\n",
    "print(f'ex2 > {s2}')\n",
    "print(f'ex2 > {type(s2)}')\n",
    "print(f'ex2 > {s2.__base__}')\n",
    "print(f'ex2 > {s2.__dict__}')\n",
    "print(f'ex2 > {s2.attr1, s2.attr2}')\n",
    "\n",
    "\n"
   ]
  },
  {
   "cell_type": "code",
   "execution_count": 22,
   "metadata": {},
   "outputs": [
    {
     "name": "stdout",
     "output_type": "stream",
     "text": [
      "ex2 > 30\n",
      "ex2 > 100\n",
      "ex2 > 3\n",
      "ex2 > 24\n"
     ]
    }
   ],
   "source": [
    "# ex2\n",
    "# method 동적으로 만들기\n",
    "\n",
    "class SampleEx:\n",
    "    attr1 = 30\n",
    "    attr2 = 100\n",
    "\n",
    "    def add(self, n,m):\n",
    "        return n+m\n",
    "    \n",
    "    def mul(self, m, n):\n",
    "        return m*n\n",
    "\n",
    "s3 = type(\n",
    "    'Sample3',\n",
    "    (object, ),\n",
    "    dict(attr1=30, attr2=100, add = lambda x, y: x+y, mul = lambda x, y: x*y)\n",
    "    # {'attr1':30, 'attr2':100, 'add': lambda x, y: x+y, 'mul' : lambda x, y: x*y}\n",
    "    )\n",
    "\n",
    "print(f'ex2 > {s3.attr1}')\n",
    "print(f'ex2 > {s3.attr2}')\n",
    "print(f'ex2 > {s3.add(1, 2)}')\n",
    "print(f'ex2 > {s3.mul(3, 8)}')"
   ]
  },
  {
   "cell_type": "markdown",
   "metadata": {},
   "source": [
    "metaclass inheritance\n",
    "1. type class 상속\n",
    "2. metaclass 속성 사용\n",
    "3. custom metaclass 생성\n",
    "    - class 생성 가로채기(intercept)\n",
    "    - class 수정하기 (modify)\n",
    "    - class 개선하기 (improve)\n",
    "    - 수정된 class를 반환하기"
   ]
  },
  {
   "cell_type": "code",
   "execution_count": 1,
   "metadata": {},
   "outputs": [],
   "source": [
    "# ex1 \n",
    "# 커스텀 메타클래스 생성 예제 (type 상속 없이)\n",
    "\n",
    "def cus_mul(self, d):\n",
    "    for i in range(len(self)):\n",
    "        self[i] = self[i] * d\n",
    "\n",
    "def cus_replace(self, old, new):\n",
    "    while old in self:\n",
    "        self[self.index(old)] = new\n",
    "\n",
    "# self를 쓰는 함수를 외부에 만들어 놓으면 내 메타클래스를 만들 때마다 쓸 수 있다.\n",
    "\n",
    "# list를 상속 받음, 메소드 2개 추가\n",
    "\n",
    "CustomList1 = type(\n",
    "    'CustomList1',\n",
    "    (list,),\n",
    "    {\n",
    "        'desc': '커스텀 리스트1',\n",
    "        'cus_mul':cus_mul,\n",
    "        'cus_replace':cus_replace\n",
    "    }\n",
    "    )\n"
   ]
  },
  {
   "cell_type": "code",
   "execution_count": 4,
   "metadata": {},
   "outputs": [
    {
     "name": "stdout",
     "output_type": "stream",
     "text": [
      "ex1 > [1000, 2000, 3000, 4000, 5000, 6000, 7000, 8000, 9000]\n",
      "ex1 > [7777, 2000, 3000, 4000, 5000, 6000, 7000, 8000, 9000]\n",
      "ex1 > ['__add__', '__class__', '__contains__', '__delattr__', '__delitem__', '__dict__', '__dir__', '__doc__', '__eq__', '__format__', '__ge__', '__getattribute__', '__getitem__', '__gt__', '__hash__', '__iadd__', '__imul__', '__init__', '__init_subclass__', '__iter__', '__le__', '__len__', '__lt__', '__module__', '__mul__', '__ne__', '__new__', '__reduce__', '__reduce_ex__', '__repr__', '__reversed__', '__rmul__', '__setattr__', '__setitem__', '__sizeof__', '__str__', '__subclasshook__', '__weakref__', 'append', 'clear', 'copy', 'count', 'cus_mul', 'cus_replace', 'desc', 'extend', 'index', 'insert', 'pop', 'remove', 'reverse', 'sort']\n"
     ]
    }
   ],
   "source": [
    "c1 = CustomList1([1,2,3,4,5,6,7,8,9]) # 안에 들어 있는 것이 self 역할을 하는 것이다.\n",
    "c1.cus_mul(1000)\n",
    "print(f'ex1 > {c1}')\n",
    "# 이미 list를 상속 받았기 때문에 list에서 사용 가능한 것은 다 사용할 수 있다.\n",
    "\n",
    "c1.cus_replace(1000, 7777)\n",
    "print(f'ex1 > {c1}')\n",
    "print(f'ex1 > {dir(c1)}')"
   ]
  },
  {
   "cell_type": "markdown",
   "metadata": {},
   "source": [
    "class MyMetaClass(type):\n",
    "    def __new__(metacls, name, bases, namespace):\n",
    "\n",
    "name: class 이름, bases: 상속 받을 클래스,  namespace: 변수와 메소드가 들어 있다."
   ]
  },
  {
   "cell_type": "code",
   "execution_count": 10,
   "metadata": {},
   "outputs": [],
   "source": [
    "# ex2\n",
    "# custom metaclass 생성 예제 (type 상속 있음)\n",
    "\n",
    "# 실행순서 new -> init -> call\n",
    "class CustomListMeta(type):\n",
    "    # class의 instance가 생성된다. 메모리 초기화\n",
    "    def __new__(metacls, name, bases, namespace):\n",
    "        namespace['desc'] = '커스텀 클래스2'\n",
    "        namespace['cus_mul'] = cus_mul\n",
    "        namespace['cus_replace'] = cus_replace\n",
    "        \n",
    "\n",
    "        return type.__new__(metacls, name, bases, namespace)\n",
    "\n",
    "    # 이미 생성된 instance의 초기화\n",
    "    def __init__(self, object_or_name, bases, dct):\n",
    "        print(f'__init__ -> {self}, {object_or_name}, {bases}, {dct}')\n",
    "        super().__init__(object_or_name, bases, dct)\n",
    "\n",
    "    # 인스턴스 실행\n",
    "    def __call__(self, *args, **kwargs):\n",
    "        # type의 인자와 동등한 것을 넣어야 해서\n",
    "        print(f'__call__ -> {self}, {args}, {kwargs}')\n",
    "        return super().__call__(*args, **kwargs)"
   ]
  },
  {
   "cell_type": "code",
   "execution_count": 13,
   "metadata": {},
   "outputs": [
    {
     "name": "stdout",
     "output_type": "stream",
     "text": [
      "__init__ -> <class '__main__.CustomList2'>, CustomList2, (<class 'list'>,), {'desc': '커스텀 클래스2', 'cus_mul': <function cus_mul at 0x000001AD86F6B670>, 'cus_replace': <function cus_replace at 0x000001AD86F6B9D0>}\n",
      "__call__ -> <class '__main__.CustomList2'>, ([0, 1, 2, 3, 4, 5, 6, 7, 8, 9],), {}\n",
      "====================================================================================================\n",
      "ex2 > [0, 888, 2000, 3000, 4000, 5000, 6000, 7000, 8000, 9000]\n",
      "ex2 > 커스텀 클래스2\n"
     ]
    }
   ],
   "source": [
    "CustomList2 = CustomListMeta('CustomList2', (list,), {})\n",
    "# 나만의 type 함수를 만든 것이다.\n",
    "\n",
    "c2 = CustomList2([x for x in range(10)])\n",
    "print('='*100)\n",
    "c2.cus_mul(1000)\n",
    "c2.cus_replace(1000, 888)\n",
    "print(f'ex2 > {c2}')\n",
    "print(f'ex2 > {c2.desc}')"
   ]
  },
  {
   "cell_type": "code",
   "execution_count": 12,
   "metadata": {},
   "outputs": [
    {
     "name": "stdout",
     "output_type": "stream",
     "text": [
      "(<class '__main__.CustomList2'>, <class 'list'>, <class 'object'>)\n"
     ]
    }
   ],
   "source": [
    "# 상속 확인\n",
    "print(CustomList2.__mro__)"
   ]
  },
  {
   "cell_type": "markdown",
   "metadata": {},
   "source": []
  }
 ],
 "metadata": {
  "kernelspec": {
   "display_name": "Python 3.8.10 ('ai')",
   "language": "python",
   "name": "python3"
  },
  "language_info": {
   "codemirror_mode": {
    "name": "ipython",
    "version": 3
   },
   "file_extension": ".py",
   "mimetype": "text/x-python",
   "name": "python",
   "nbconvert_exporter": "python",
   "pygments_lexer": "ipython3",
   "version": "3.8.10"
  },
  "orig_nbformat": 4,
  "vscode": {
   "interpreter": {
    "hash": "6270e6d8b5fb321e1a842519f0c29f2e2b7188cdba36e81e06ada9019ab06ac7"
   }
  }
 },
 "nbformat": 4,
 "nbformat_minor": 2
}
