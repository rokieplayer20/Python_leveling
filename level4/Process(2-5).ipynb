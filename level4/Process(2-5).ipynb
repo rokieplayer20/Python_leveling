{
 "cells": [
  {
   "cell_type": "markdown",
   "metadata": {},
   "source": [
    "Queue, Pipe <br>\n",
    "Communications between processes"
   ]
  },
  {
   "cell_type": "code",
   "execution_count": 1,
   "metadata": {},
   "outputs": [],
   "source": [
    "from multiprocessing import Process, Queue, current_process\n",
    "import os, time\n",
    "# 프로세스 통신 구현 Queue\n",
    "\n",
    "def worker(id, base_number, q):\n",
    "    process_id = os.getpid()\n",
    "    process_name = current_process().name\n",
    "\n",
    "    # 누적\n",
    "    sub_total = 0\n",
    "\n",
    "    # 계산\n",
    "    for i in range(base_number):\n",
    "        sub_total +=1\n",
    "\n",
    "    # Producer\n",
    "    q.put(sub_total)\n",
    "\n",
    "    # 정보출력\n",
    "    print(f'Process ID: {process_id}, Process name: {process_name}, ID: {id}')\n",
    "    print(f'Result: {sub_total}')\n",
    "\n",
    "def main():\n",
    "    # 부모 프로세스 id\n",
    "    parent_process_id = os.getpid()\n",
    "    #출력\n",
    "    print(f'Parent process ID: {parent_process_id}')\n",
    "\n",
    "    # 프로세스 리스트 선언\n",
    "    processes = list()\n",
    "    # 시작시간\n",
    "    start_time = time.time()\n",
    "\n",
    "    # Queue 선언\n",
    "    q = Queue()\n",
    "\n",
    "    for i in range(5):\n",
    "        #생성\n",
    "        t = Process(name=str(i), target=worker, args=(1,100000000, q))\n",
    "\n",
    "        #배열에 담기\n",
    "        processes.append(t)\n",
    "        # 작업 시작\n",
    "        t.start()\n",
    "\n",
    "    for proc in processes:\n",
    "        proc.join()\n",
    "\n",
    "    # 순수 계산 시간\n",
    "    print(f'---{time.time() - start_time} seconds ---')\n",
    "\n",
    "    # 종료  flag\n",
    "    q.put('exit')\n",
    "\n",
    "    total = 0\n",
    "    # 대기\n",
    "    while True:\n",
    "        tmp = q.get()\n",
    "        if tmp == 'exit':\n",
    "            break\n",
    "        else:\n",
    "            total += tmp\n",
    "    print()\n",
    "    print(f'Main-Processing Total Count == {total}')\n",
    "    print('Main-Processing Done!')\n"
   ]
  },
  {
   "cell_type": "code",
   "execution_count": 2,
   "metadata": {},
   "outputs": [
    {
     "name": "stdout",
     "output_type": "stream",
     "text": [
      "Parent process ID: 40052\n",
      "---0.9979987144470215 seconds ---\n",
      "\n",
      "Main-Processing Total Count == 0\n",
      "Main-Processing Done!\n"
     ]
    }
   ],
   "source": [
    "if __name__ == \"__main__\":\n",
    "    main()"
   ]
  },
  {
   "cell_type": "markdown",
   "metadata": {},
   "source": [
    "Pipe: 1 대 1로 정보를 보내는 것이다.  <br>\n",
    "Queue는 대응을 사용자가 설계할 수 있다. <br>"
   ]
  },
  {
   "cell_type": "code",
   "execution_count": 3,
   "metadata": {},
   "outputs": [],
   "source": [
    "from multiprocessing import Process, Pipe, current_process\n",
    "import os, time\n",
    "# 프로세스 통신 구현 Queue\n",
    "\n",
    "def worker(id, base_number, conn):\n",
    "    process_id = os.getpid()\n",
    "    process_name = current_process().name\n",
    "\n",
    "    # 누적\n",
    "    sub_total = 0\n",
    "\n",
    "    # 계산\n",
    "    for i in range(base_number):\n",
    "        sub_total +=1\n",
    "\n",
    "    # Producer\n",
    "    conn.send(sub_total)\n",
    "    conn.close()\n",
    "    # 1 대 1이기 때문에 한 번 쓰면 다른 곳에서 쓰게끔 잠가야 한다.\n",
    "\n",
    "    # 정보출력\n",
    "    print(f'Process ID: {process_id}, Process name: {process_name}, ID: {id}')\n",
    "    print(f'Result: {sub_total}')\n",
    "\n",
    "def main():\n",
    "    # 부모 프로세스 id\n",
    "    parent_process_id = os.getpid()\n",
    "    #출력\n",
    "    print(f'Parent process ID: {parent_process_id}')\n",
    "\n",
    "    \n",
    "    # 시작시간\n",
    "    start_time = time.time()\n",
    "\n",
    "    # Pipe 선언\n",
    "    parent_conn, child_conn = Pipe()\n",
    "\n",
    "    \n",
    "    #생성\n",
    "    t = Process(name= 'pipe_ex', target=worker, args=(1,100000000, child_conn))\n",
    "\n",
    "    \n",
    "    # 작업 시작\n",
    "    t.start()\n",
    "\n",
    "    \n",
    "    t.join()\n",
    "\n",
    "    # 순수 계산 시간\n",
    "    print(f'---{time.time() - start_time} seconds ---')\n",
    "\n",
    "  \n",
    "    total = parent_conn.recv()\n",
    "   \n",
    "    print()\n",
    "    print(f'Main-Processing Total Count == {total}')\n",
    "    print('Main-Processing Done!')"
   ]
  },
  {
   "cell_type": "code",
   "execution_count": 4,
   "metadata": {},
   "outputs": [
    {
     "name": "stdout",
     "output_type": "stream",
     "text": [
      "Parent process ID: 40052\n",
      "---0.38099217414855957 seconds ---\n"
     ]
    }
   ],
   "source": [
    "if __name__ == '__main__':\n",
    "    main()\n",
    "\n",
    "# 주피터노트북이 안 되고 있고 py file로 실행하면 잘 된다."
   ]
  },
  {
   "cell_type": "code",
   "execution_count": null,
   "metadata": {},
   "outputs": [],
   "source": []
  },
  {
   "cell_type": "code",
   "execution_count": null,
   "metadata": {},
   "outputs": [],
   "source": []
  }
 ],
 "metadata": {
  "kernelspec": {
   "display_name": "Python 3.8.10 ('ai')",
   "language": "python",
   "name": "python3"
  },
  "language_info": {
   "codemirror_mode": {
    "name": "ipython",
    "version": 3
   },
   "file_extension": ".py",
   "mimetype": "text/x-python",
   "name": "python",
   "nbconvert_exporter": "python",
   "pygments_lexer": "ipython3",
   "version": "3.8.10"
  },
  "orig_nbformat": 4,
  "vscode": {
   "interpreter": {
    "hash": "6270e6d8b5fb321e1a842519f0c29f2e2b7188cdba36e81e06ada9019ab06ac7"
   }
  }
 },
 "nbformat": 4,
 "nbformat_minor": 2
}
