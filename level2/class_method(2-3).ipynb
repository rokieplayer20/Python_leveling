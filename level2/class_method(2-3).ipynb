{
 "cells": [
  {
   "cell_type": "markdown",
   "metadata": {},
   "source": [
    "self는 해당 class로부터 만들어진 객체를 말한다. <br>\n",
    "단, C++에서 this는 해당 클래스로부터 만들어진 객체의 포인터이다. <br>\n",
    "Instance method: 매개변수로 self를 넣는 함수 <br>\n",
    "\n",
    "Class method: <br>\n",
    "\n",
    "decorator를 선언하기 바로 윗줄에 해준다. <br>\n",
    "@classmethod <br>\n",
    "그리고 self 대신 첫 인자로 cls를 넣는다. <br> \n",
    "바로 해당 class(namespace or 객체 취급)을 의미한다. <br>\n",
    "\n",
    "\n",
    "\n",
    "Static method: <br>\n",
    "\n",
    "cls, self 어떤 것도 인자로 받지 않는다. <br>\n",
    "class 내부에 공통적인 함수를 만드는데 유연하게 만들고 싶을 때, 사용한다. <br>\n",
    "단, @staticmethod로 데코레이터는 작성해야 한다. <br>"
   ]
  },
  {
   "cell_type": "code",
   "execution_count": null,
   "metadata": {},
   "outputs": [],
   "source": []
  },
  {
   "cell_type": "code",
   "execution_count": 60,
   "metadata": {},
   "outputs": [],
   "source": [
    "class Car(object):\n",
    "    \"\"\"\n",
    "    Class, Static, Intance method\n",
    "    \n",
    "    \"\"\"\n",
    "   \n",
    "    # class variable == static public variable\n",
    "    price_per_raise = 1.0\n",
    "\n",
    "\n",
    "    def __init__(self, company, details):\n",
    "        # instance variable\n",
    "        self._company = company\n",
    "        self._details = details\n",
    "\n",
    "        \n",
    "    def __str__(self):\n",
    "        return f'str : {self._company} - {self._details}'\n",
    "\n",
    "    def __repr__(self):\n",
    "        return f'repr : {self._company} - {self._details}'\n",
    "\n",
    "\n",
    "\n",
    "    # self인자가 있는 것은 Instance Method\n",
    "    # self: 객체 고유의 속성 값을 사용한다.\n",
    "    def detail_info(self):\n",
    "        print(f'Current ID == {id(self)}')\n",
    "        print(f'Car Detail Info : {self._company} - {self._details.get(\"price\", -1)}')\n",
    "    \n",
    "    \n",
    "    # encapsulation을 위해서 getter, setter 함수를 만든다.\n",
    "\n",
    "    def get_price(self):\n",
    "        return f'Before Car Price -> company : {self._company}, price : {self._details.get(\"price\")}'\n",
    "\n",
    "    def get_price_calc(self):\n",
    "        return f'After Car Price -> company : {self._company}, price : {self._details.get(\"price\") * Car.price_per_raise}'\n",
    "\n",
    "    # class method\n",
    "    @classmethod\n",
    "    def raise_price(cls, per):\n",
    "        if per <= 1:\n",
    "            print('Please enter larger than 1')\n",
    "            return\n",
    "\n",
    "        cls.price_per_raise = per\n",
    "        print('Succeed! price increased!')\n",
    "\n",
    "    # static method\n",
    "    @staticmethod\n",
    "    def is_bmw(inst: Car) -> str:\n",
    "        if inst._company == 'Bmw':\n",
    "            return f'OK! This is {inst._company}!'\n",
    "        else:\n",
    "            return f'Sorry. This car is not Bmw.'\n",
    "    \n",
    "    "
   ]
  },
  {
   "cell_type": "code",
   "execution_count": 61,
   "metadata": {},
   "outputs": [],
   "source": [
    "car1 = Car('Ferrari', {'color': 'White', 'horsepower':400, 'price':8000})\n",
    "car2 = Car('Bmw', {'color': 'Black', 'horsepower':270, 'price':5000})\n",
    "car3 = Car('Audi', {'color': 'Silver', 'horsepower':300, 'price':6000})"
   ]
  },
  {
   "cell_type": "code",
   "execution_count": 62,
   "metadata": {},
   "outputs": [
    {
     "name": "stdout",
     "output_type": "stream",
     "text": [
      "Before Car Price -> company : Ferrari, price : 8000\n",
      "After Car Price -> company : Ferrari, price : 8000.0\n",
      "Before Car Price -> company : Ferrari, price : 8000\n",
      "After Car Price -> company : Ferrari, price : 11200.0\n"
     ]
    }
   ],
   "source": [
    "# getter\n",
    "print(car1.get_price())\n",
    "print(car1.get_price_calc())\n",
    "\n",
    "# class Varialbe에 직접 접근해서 캡슐화 원칙에 적합하지 않다.\n",
    "Car.price_per_raise = 1.4\n",
    "\n",
    "print(car1.get_price())\n",
    "print(car1.get_price_calc())"
   ]
  },
  {
   "cell_type": "code",
   "execution_count": 63,
   "metadata": {},
   "outputs": [
    {
     "name": "stdout",
     "output_type": "stream",
     "text": [
      "Succeed! price increased!\n",
      "After Car Price -> company : Ferrari, price : 12800.0\n"
     ]
    }
   ],
   "source": [
    "# class method를 사용해서 class variable에 접근할 수 있다.\n",
    "\n",
    "Car.raise_price(1.6)\n",
    "print(car1.get_price_calc())\n"
   ]
  },
  {
   "cell_type": "code",
   "execution_count": 64,
   "metadata": {},
   "outputs": [
    {
     "name": "stdout",
     "output_type": "stream",
     "text": [
      "Sorry. This car is not Bmw.\n",
      "OK! This is Bmw!\n",
      "Sorry. This car is not Bmw.\n"
     ]
    }
   ],
   "source": [
    "print(Car.is_bmw(car1))\n",
    "print(Car.is_bmw(car2))\n",
    "print(car1.is_bmw(car3))\n",
    "# instance or class로 바로 호출할 수 있지만\n",
    "# 이름이 헷갈리니 class로 호출하자"
   ]
  },
  {
   "cell_type": "markdown",
   "metadata": {},
   "source": [
    "잠시 패킹/언패킹, 힌트에 대해 생각한 것을 남긴다. <br>\n",
    "\n",
    "함수 선언시 def func(a, b, *c) <br>\n",
    "이것은 입력해 오는 다수의 변수를 패킹한다는 뜻이고 <br>\n",
    "함수를 호출할 때, func(1, 2, *t) <br>\n",
    "이말은 리스트이든 튜플이든 t를 언패킹해서 순서대로 입력하겠다는 뜻이다. <br>\n",
    "\n",
    "딕셔너리의 경우, * 한 번만하면 key만 추출된다. <br>\n",
    "함수 호출시, func(1, 2, **t)이면 <br>\n",
    "key1=1, key2=2 이런 식으로 언패킹된다. <br>\n",
    "반대로 함수 선언시 def func(a, b, **t)이면 <br>\n",
    "key1=1, key2=2 이렇게 들어오면 딕셔너리로 묶겠다는 뜻이다. <br>\n",
    "\n",
    "Python의 hint는 표식에 도움은 줘도 꼭 입력한 타입대로 넣어야 하는 것이 아니다."
   ]
  },
  {
   "cell_type": "code",
   "execution_count": 65,
   "metadata": {},
   "outputs": [
    {
     "name": "stdout",
     "output_type": "stream",
     "text": [
      "2 3\n",
      "{'p1': 1, 'p2': 2}\n",
      "p1 p2\n"
     ]
    }
   ],
   "source": [
    "pi = {'p1':1, 'p2':2}\n",
    "\n",
    "def tester(a, b, **p):\n",
    "    return (a+1, b+1, p)\n",
    "\n",
    "c, d, pp = tester(1, 2, **pi)\n",
    "print(c, d)\n",
    "print(pp)\n",
    "print(*pp) # key만 추출됨\n"
   ]
  },
  {
   "cell_type": "code",
   "execution_count": 66,
   "metadata": {},
   "outputs": [
    {
     "name": "stdout",
     "output_type": "stream",
     "text": [
      "({'a': 1, 'b': 2}, 8)\n"
     ]
    }
   ],
   "source": [
    "from typing import Tuple\n",
    "# 이 방식조차 강제성이 없다. 명시해 놓은 것과 다른 것이 들어가도\n",
    "# 코드는 정상적으로 돌아간다.\n",
    "def f() -> Tuple[dict, str]:\n",
    "    a = {'a':1, 'b':2}\n",
    "    b = 8\n",
    "    return a, b\n",
    "\n",
    "print(f())"
   ]
  },
  {
   "cell_type": "markdown",
   "metadata": {},
   "source": [
    "Geeks for Geeks에서 classmethod와 staticmethod의 사용례를 가져 왔다. <br>\n",
    "We generally use the class method to create factory methods. <br>\n",
    "Factory methods return class objects ( similar to a constructor ) for different use cases. <br>\n",
    "We generally use static methods to create utility functions. <br>\n",
    "\n",
    "classmethod는 constructor처럼 쓰고, staticmethod는 utility function으로 사용하라!"
   ]
  },
  {
   "cell_type": "code",
   "execution_count": 71,
   "metadata": {},
   "outputs": [],
   "source": [
    "from datetime import date\n",
    "\n",
    "class Person:\n",
    "\n",
    "    def __init__(self, name, age):\n",
    "        self._name = name\n",
    "        self._age = age\n",
    "\n",
    "    # JS처럼 prototypal 객체 생성함수를 만들 수 있다.\n",
    "    @classmethod\n",
    "    def from_birth_year(cls, name, year):\n",
    "        return cls(name, date.today().year - year)\n",
    "    \n",
    "    # utility function으로써 어른인지 아닌지만 체크한다.\n",
    "    @staticmethod\n",
    "    def is_adult(inst: Person):\n",
    "        return inst._age > 18\n",
    "\n",
    "\n"
   ]
  },
  {
   "cell_type": "code",
   "execution_count": 73,
   "metadata": {},
   "outputs": [
    {
     "name": "stdout",
     "output_type": "stream",
     "text": [
      "21 True\n",
      "<__main__.Person object at 0x000001F05E5D9D00>\n"
     ]
    }
   ],
   "source": [
    "person1 = Person('kim', 21)\n",
    "person2 = Person.from_birth_year('Lee', 1996)\n",
    "\n",
    "print(person1._age, Person.is_adult(person1))\n",
    "print(person2)"
   ]
  }
 ],
 "metadata": {
  "kernelspec": {
   "display_name": "Python 3.8.10 ('ai')",
   "language": "python",
   "name": "python3"
  },
  "language_info": {
   "codemirror_mode": {
    "name": "ipython",
    "version": 3
   },
   "file_extension": ".py",
   "mimetype": "text/x-python",
   "name": "python",
   "nbconvert_exporter": "python",
   "pygments_lexer": "ipython3",
   "version": "3.8.10"
  },
  "orig_nbformat": 4,
  "vscode": {
   "interpreter": {
    "hash": "6270e6d8b5fb321e1a842519f0c29f2e2b7188cdba36e81e06ada9019ab06ac7"
   }
  }
 },
 "nbformat": 4,
 "nbformat_minor": 2
}
