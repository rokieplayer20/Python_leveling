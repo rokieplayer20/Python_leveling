{
 "cells": [
  {
   "cell_type": "code",
   "execution_count": 2,
   "metadata": {},
   "outputs": [
    {
     "name": "stdout",
     "output_type": "stream",
     "text": [
      "dir of list:  ['__add__', '__class__', '__contains__', '__delattr__', '__delitem__', '__dir__', '__doc__', '__eq__', '__format__', '__ge__', '__getattribute__', '__getitem__', '__gt__', '__hash__', '__iadd__', '__imul__', '__init__', '__init_subclass__', '__iter__', '__le__', '__len__', '__lt__', '__mul__', '__ne__', '__new__', '__reduce__', '__reduce_ex__', '__repr__', '__reversed__', '__rmul__', '__setattr__', '__setitem__', '__sizeof__', '__str__', '__subclasshook__', 'append', 'clear', 'copy', 'count', 'extend', 'index', 'insert', 'pop', 'remove', 'reverse', 'sort']\n",
      "====================================================================================================\n",
      "dir of dictionary:  ['__class__', '__contains__', '__delattr__', '__delitem__', '__dir__', '__doc__', '__eq__', '__format__', '__ge__', '__getattribute__', '__getitem__', '__gt__', '__hash__', '__init__', '__init_subclass__', '__iter__', '__le__', '__len__', '__lt__', '__ne__', '__new__', '__reduce__', '__reduce_ex__', '__repr__', '__reversed__', '__setattr__', '__setitem__', '__sizeof__', '__str__', '__subclasshook__', 'clear', 'copy', 'fromkeys', 'get', 'items', 'keys', 'pop', 'popitem', 'setdefault', 'update', 'values']\n"
     ]
    }
   ],
   "source": [
    "print(\"dir of list: \", dir(list()))\n",
    "print('='*100)\n",
    "print(\"dir of dictionary: \", dir(dict()))\n",
    "\n",
    "# 둘 다 copy() method는 있는데 deepcopy method는 없다. copy module를 불러오면 copy, deepcopy 모두 사용할 수 있다."
   ]
  },
  {
   "cell_type": "markdown",
   "metadata": {},
   "source": [
    "\n",
    "\n",
    "얕은 복사와 깊은 복사의 차이점은 복합자료형 객체가 가변 자료형 element를 가지고 있는 경우에 적용된다.\n",
    "\n",
    "If the object which is complex data-type has a mutable element, the difference between shallow copy and deep copy could be adjusted.\n",
    "\n",
    "![nn](./shallow_copy1.png)\n",
    "![nn](./shallow_copy2.png)\n",
    "![nn](./deep_copy.png)"
   ]
  },
  {
   "cell_type": "markdown",
   "metadata": {},
   "source": [
    "이미 만들어져 있는 list, dict, str 이런 것들 말고\n",
    "내가 선언한 class는 어떻게 deepcopy, copy를 따질 수 있는가?\n",
    "\n",
    "named method를 사용자 클래스에서 override해야 한다.\n",
    "\n",
    "__copy__(), __deepcopy__()"
   ]
  },
  {
   "cell_type": "markdown",
   "metadata": {},
   "source": [
    "C++\n",
    "1) int a = 4;         \n",
    "2) int b; b=4;\n",
    "\n",
    "좌변이 주인공이기 때문에 2)처럼 변수 내용이 없어도 선언이 가능하다.\n",
    "\n",
    "4는 그저 비트값이고 객체가 아니다. int type에 맞는 메모리를 할당하고 그 이름을 a라고 했을 뿐이다. 그 공간에 비트를 넣는다.\n",
    "\n",
    "따라서 a, b는 pointer값이 다르다. \n",
    "\n",
    "a <--- 4  (방향)\n",
    "\n",
    "Python\n",
    "\n",
    "1) a = 4\n",
    "2) b = 4\n",
    "\n",
    "우변이 주인공이다. 왜냐하면 좌변에서 변수의 이름만 알 수 있기 때문이다.\n",
    "\n",
    "자바의 autoboxing처럼 값을 객체로 만들어 variable pool에 추가한다.\n",
    "\n",
    "4 --> int(4) object\n",
    "\n",
    "그리고 그 객체에 변수이름을 연결해준다.\n",
    "\n",
    "a --> int(4) : immutable variable(불변 변수)\n",
    "\n",
    "따라서 모든 4 값을 같는 변수는 int(4)를 참조하기 때문에 b도 int(4)를 참조한다. id(pointer)가 같다는 뜻\n",
    "\n",
    "파이썬의 이러한 파이썬의 속성을 \"Object References\"라고 한다."
   ]
  },
  {
   "cell_type": "code",
   "execution_count": 3,
   "metadata": {},
   "outputs": [
    {
     "name": "stdout",
     "output_type": "stream",
     "text": [
      "id(aa) == 2377443504192, id(bb) ==2377443806528 False\n",
      "id(aa[1]) == 140716531001264, id(bb[1]) ==140716531001264 True\n",
      "id(aa[2]) == 2377443806848, id(bb[2]) ==2377443803264 False\n"
     ]
    }
   ],
   "source": [
    "# 그러나 초기화를 따로따로 하면 다 깊은 복사가 된다.\n",
    "aa = [1, 2, [2]]\n",
    "bb = [1, 2, [2]]\n",
    "print(f\"id(aa) == {id(aa)}, id(bb) =={id(bb)}\", aa is bb)\n",
    "print(f\"id(aa[1]) == {id(aa[1])}, id(bb[1]) =={id(bb[1])}\", aa[1] is bb[1])\n",
    "print(f\"id(aa[2]) == {id(aa[2])}, id(bb[2]) =={id(bb[2])}\", aa[2] is bb[2])\n",
    "\n",
    "# 다시 우변에 모든 값을 일일이 써서 변수를 선언하기 때문에 이것을 복사로 보기 힘들고 각자 별개로 선언한 것이다.\n",
    "# aa =3, bb =3이라고 선언하면 id가 같은데 복합자료형을 일일이 다시 선언한 것은 id가 다른 거 같다."
   ]
  },
  {
   "cell_type": "code",
   "execution_count": 4,
   "metadata": {},
   "outputs": [
    {
     "name": "stdout",
     "output_type": "stream",
     "text": [
      "Before a is  3 [4, 5, 6]\n",
      "After a is  3 [4, 5, 6, 9]\n"
     ]
    }
   ],
   "source": [
    "a = 3\n",
    "b = [4, 5, 6]\n",
    "\n",
    "\n",
    "def edition(inner_variable, inner_list):\n",
    "\n",
    "    inner_variable += 9\n",
    "    inner_list.append(9)\n",
    "\n",
    "\n",
    "print(\"Before a and b are \", a, b)  # 3, [4, 5, 6]\n",
    "\n",
    "edition(a, b)\n",
    "\n",
    "print(\"After a and b are \", a, b)  # 3, [4, 5, 6, 9]\n",
    "\n",
    "# shallow_copy.png 그대로이다."
   ]
  }
 ],
 "metadata": {
  "kernelspec": {
   "display_name": "Python 3.8.10 ('ai')",
   "language": "python",
   "name": "python3"
  },
  "language_info": {
   "codemirror_mode": {
    "name": "ipython",
    "version": 3
   },
   "file_extension": ".py",
   "mimetype": "text/x-python",
   "name": "python",
   "nbconvert_exporter": "python",
   "pygments_lexer": "ipython3",
   "version": "3.8.10"
  },
  "orig_nbformat": 4,
  "vscode": {
   "interpreter": {
    "hash": "6270e6d8b5fb321e1a842519f0c29f2e2b7188cdba36e81e06ada9019ab06ac7"
   }
  }
 },
 "nbformat": 4,
 "nbformat_minor": 2
}
