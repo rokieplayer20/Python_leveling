{
 "cells": [
  {
   "cell_type": "markdown",
   "metadata": {},
   "source": [
    "C++은 {} block scope를 갖는다. <br>\n",
    "Python은 indentation을 기준으로 global, local을 구분해야 한다. <br>\n",
    "Keyword: scope, global, nonlocal, locals, globals <br>"
   ]
  },
  {
   "cell_type": "code",
   "execution_count": 3,
   "metadata": {},
   "outputs": [
    {
     "name": "stdout",
     "output_type": "stream",
     "text": [
      "ex > 10\n"
     ]
    }
   ],
   "source": [
    "# ex1\n",
    "\n",
    "a = 10 # global variable\n",
    "\n",
    "def foo():\n",
    "    print(f'ex > {a}')\n",
    "foo()"
   ]
  },
  {
   "cell_type": "markdown",
   "metadata": {},
   "source": [
    "파이썬에서 선언문과 대입연산자가 같은 형식을 같고 있기 때문에 발생하는 문제이다. <br>\n",
    "ex2처럼 함수 안에 따로 global이라고 명시하지 않으면 지역변수 선언문이 된다. <br>"
   ]
  },
  {
   "cell_type": "code",
   "execution_count": 8,
   "metadata": {},
   "outputs": [
    {
     "name": "stdout",
     "output_type": "stream",
     "text": [
      "140714272237488\n",
      "140714272238384\n",
      "ex2 > 30\n",
      "ex2 > 2\n"
     ]
    }
   ],
   "source": [
    "# ex2\n",
    "\n",
    "b = 2\n",
    "print(id(b))\n",
    "def bar():\n",
    "    b = 30 # local variable\n",
    "    print(id(b))\n",
    "    print(f'ex2 > {b}')\n",
    "bar()\n",
    "\"\"\"\n",
    "먼저 자신의 scope를 찾고 없으면 상위 범위를 찾는다.\n",
    "\n",
    "\"\"\"\n",
    "print(f'ex2 > {b}') # 같은 scope가 먼저이고 함수 안의 지역변수는 원래 참조 할 수 없다."
   ]
  },
  {
   "cell_type": "markdown",
   "metadata": {},
   "source": [
    "ex2와 같은 논리로 c = c+10은 따로 global이라고 명시하지 않았기 때문에 <br>\n",
    "지역변수 c를 사용하고자 한 것인데 선언문이 사전에 없어서 오류가 나왔다. <br>"
   ]
  },
  {
   "cell_type": "code",
   "execution_count": 7,
   "metadata": {},
   "outputs": [
    {
     "ename": "UnboundLocalError",
     "evalue": "local variable 'c' referenced before assignment",
     "output_type": "error",
     "traceback": [
      "\u001b[1;31m---------------------------------------------------------------------------\u001b[0m",
      "\u001b[1;31mUnboundLocalError\u001b[0m                         Traceback (most recent call last)",
      "\u001b[1;32m<ipython-input-7-903d417c6ca1>\u001b[0m in \u001b[0;36m<module>\u001b[1;34m\u001b[0m\n\u001b[0;32m      9\u001b[0m     \u001b[0mprint\u001b[0m\u001b[1;33m(\u001b[0m\u001b[1;34mf'ex3 > {c}'\u001b[0m\u001b[1;33m)\u001b[0m\u001b[1;33m\u001b[0m\u001b[1;33m\u001b[0m\u001b[0m\n\u001b[0;32m     10\u001b[0m \u001b[1;33m\u001b[0m\u001b[0m\n\u001b[1;32m---> 11\u001b[1;33m \u001b[0mfoobar\u001b[0m\u001b[1;33m(\u001b[0m\u001b[1;33m)\u001b[0m\u001b[1;33m\u001b[0m\u001b[1;33m\u001b[0m\u001b[0m\n\u001b[0m",
      "\u001b[1;32m<ipython-input-7-903d417c6ca1>\u001b[0m in \u001b[0;36mfoobar\u001b[1;34m()\u001b[0m\n\u001b[0;32m      3\u001b[0m \u001b[1;33m\u001b[0m\u001b[0m\n\u001b[0;32m      4\u001b[0m \u001b[1;32mdef\u001b[0m \u001b[0mfoobar\u001b[0m\u001b[1;33m(\u001b[0m\u001b[1;33m)\u001b[0m\u001b[1;33m:\u001b[0m\u001b[1;33m\u001b[0m\u001b[1;33m\u001b[0m\u001b[0m\n\u001b[1;32m----> 5\u001b[1;33m     \u001b[0mc\u001b[0m \u001b[1;33m=\u001b[0m \u001b[0mc\u001b[0m \u001b[1;33m+\u001b[0m \u001b[1;36m10\u001b[0m \u001b[1;31m# c += 10\u001b[0m\u001b[1;33m\u001b[0m\u001b[1;33m\u001b[0m\u001b[0m\n\u001b[0m\u001b[0;32m      6\u001b[0m \u001b[1;33m\u001b[0m\u001b[0m\n\u001b[0;32m      7\u001b[0m \u001b[1;33m\u001b[0m\u001b[0m\n",
      "\u001b[1;31mUnboundLocalError\u001b[0m: local variable 'c' referenced before assignment"
     ]
    }
   ],
   "source": [
    "# ex3\n",
    "c = 40\n",
    "\n",
    "def foobar():\n",
    "    c = c + 10 # c += 10\n",
    "\n",
    "    # UnboundLocalError: local variable 'c' referenced before assignment\n",
    "\n",
    "    print(f'ex3 > {c}')\n",
    "\n",
    "foobar()"
   ]
  },
  {
   "cell_type": "markdown",
   "metadata": {},
   "source": [
    "global variable을 함수 안에서 바로 수정하면 오류가 나오므로 명시해줘야 한다. <br>\n",
    "C++에선 namespace로 구분하는 작업으로 볼 수 있다."
   ]
  },
  {
   "cell_type": "code",
   "execution_count": 10,
   "metadata": {},
   "outputs": [
    {
     "name": "stdout",
     "output_type": "stream",
     "text": [
      "ex4 > 160\n",
      "ex4 > 160\n"
     ]
    }
   ],
   "source": [
    "# ex4\n",
    "d = 50\n",
    "\n",
    "def barfoo():\n",
    "    global d\n",
    "    d = 60\n",
    "    d += 100\n",
    "    print(f'ex4 > {d}')\n",
    "\n",
    "barfoo()\n",
    "print(f'ex4 > {d}')"
   ]
  },
  {
   "cell_type": "code",
   "execution_count": 12,
   "metadata": {},
   "outputs": [
    {
     "name": "stdout",
     "output_type": "stream",
     "text": [
      "ex5 > 80\n",
      "ex5 > 90\n"
     ]
    }
   ],
   "source": [
    "# ex5\n",
    "\n",
    "def outer():\n",
    "    e = 70\n",
    "\n",
    "    def inner():\n",
    "        nonlocal e # global 변수는 아니고 inner의 지역변수도 아니다.\n",
    "        e += 10 \n",
    "        print(f'ex5 > {e}')\n",
    "\n",
    "    return inner\n",
    "\n",
    "in_test = outer()\n",
    "in_test()\n",
    "in_test()"
   ]
  },
  {
   "cell_type": "markdown",
   "metadata": {},
   "source": [
    "파이썬에서 변수 선언은 해당 scope의 dict에 추가하는 것이다. <br>\n",
    "locals()['v1'] = 1, v1 = 1 <br>\n",
    "globals()['v2'] = 2, v2 = 2 <br>"
   ]
  },
  {
   "cell_type": "code",
   "execution_count": 14,
   "metadata": {},
   "outputs": [
    {
     "name": "stdout",
     "output_type": "stream",
     "text": [
      "func inner {'var': 'HI', 'x': 10, 'printer': <function func.<locals>.printer at 0x0000023143FD7C10>}\n"
     ]
    }
   ],
   "source": [
    "# ex6\n",
    "\n",
    "def func(var):\n",
    "    x = 10\n",
    "    # locals()['x'] = 10\n",
    "    def printer():\n",
    "        print('ex6> print func inner')\n",
    "    print('func inner', locals())\n",
    "\n",
    "func('HI')\n",
    "\n",
    "# locals()가 호출되는 scope의 지역변수들을 dict로 반환한다."
   ]
  },
  {
   "cell_type": "code",
   "execution_count": 16,
   "metadata": {},
   "outputs": [
    {
     "name": "stdout",
     "output_type": "stream",
     "text": [
      "ex7 > {'__name__': '__main__', '__doc__': '\\n먼저 자신의 scope를 찾고 없으면 상위 범위를 찾는다.\\n\\n', '__package__': None, '__loader__': None, '__spec__': None, '__builtin__': <module 'builtins' (built-in)>, '__builtins__': <module 'builtins' (built-in)>, '_ih': ['', \"# ex1\\n\\na = 10 # global variable\\n\\ndef foo():\\n    print(f'ex > {a}')\", \"# ex1\\n\\na = 10 # global variable\\n\\ndef foo():\\n    print(f'ex > {a}')\", \"# ex1\\n\\na = 10 # global variable\\n\\ndef foo():\\n    print(f'ex > {a}')\\nfoo()\", '# ex2\\n\\nb = 2\\n\\ndef bar():\\n    b = 30 # local variable\\n    print(f\\'ex2 > {b}\\')\\nbar()\\n\"\"\"\\n먼저 자신의 scope를 찾고 없으면 상위 범위를 찾는다.\\n\\n\"\"\"\\nprint(f\\'ex2 > {b}\\') # 같은 scope가 먼저이고 함수 안의 지역변수는 원래 참조 할 수 없다.', \"# ex3\\nc = 40\\n\\ndef foobar():\\n    c = c + 10 \\n    # =은 대입연산자이기 때문에 우에서 좌로 읽어라\\n    # 지역변수 c를 선언한 적이 없기 때문에 \\n    # global c에 10을 더한 후에 \\n\\n    print(f'ex3 > {c}')\\n\\nfoobar()\", \"# ex3\\nc = 40\\n\\ndef foobar():\\n    c = 10 \\n    # =은 대입연산자이기 때문에 우에서 좌로 읽어라\\n    # 지역변수 c를 선언한 적이 없기 때문에 \\n    # global c에 10을 더한 후에 \\n\\n    print(f'ex3 > {c}')\\n\\nfoobar()\", \"# ex3\\nc = 40\\n\\ndef foobar():\\n    c = c + 10 # c += 10\\n\\n    \\n\\n    print(f'ex3 > {c}')\\n\\nfoobar()\", '# ex2\\n\\nb = 2\\nprint(id(b))\\ndef bar():\\n    b = 30 # local variable\\n    print(id(b))\\n    print(f\\'ex2 > {b}\\')\\nbar()\\n\"\"\"\\n먼저 자신의 scope를 찾고 없으면 상위 범위를 찾는다.\\n\\n\"\"\"\\nprint(f\\'ex2 > {b}\\') # 같은 scope가 먼저이고 함수 안의 지역변수는 원래 참조 할 수 없다.', \"# ex4\\nd = 50\\n\\ndef barfoo():\\n    global d\\n    d = 60\\n    d += 100\\n    print(f'ex4 > {d}')\\n\\nbarfoo()\", \"# ex4\\nd = 50\\n\\ndef barfoo():\\n    global d\\n    d = 60\\n    d += 100\\n    print(f'ex4 > {d}')\\n\\nbarfoo()\\nprint(f'ex4 > {d}')\", \"# ex5\\n\\ndef outer():\\n    e = 70\\n\\n    def inner():\\n        nonlocal e # global 변수는 아니고 inner의 지역변수도 아니다.\\n        e += 10 \\n        print(f'ex5 > {e}')\\n\\n    return inner\\n\\nin_test = outer()\\nin_test()\", \"# ex5\\n\\ndef outer():\\n    e = 70\\n\\n    def inner():\\n        nonlocal e # global 변수는 아니고 inner의 지역변수도 아니다.\\n        e += 10 \\n        print(f'ex5 > {e}')\\n\\n    return inner\\n\\nin_test = outer()\\nin_test()\\nin_test()\", \"# ex6\\n\\ndef func(var):\\n    x = 10\\n    def printer():\\n        print(f'ex6> print func inner')\\n    print('func inner', locals())\\n\\nprint('Hi')\", \"# ex6\\n\\ndef func(var):\\n    x = 10\\n    def printer():\\n        print('ex6> print func inner')\\n    print('func inner', locals())\\n\\nfunc('HI')\", \"# ex7\\nprint(f'ex7 > {globals()}')\", \"# ex7\\nprint(f'ex7 > {globals()}') # global variable들을 dict형식으로 반환\\nglobals()['test_variable'] = 100 \\n# test_variable = 100 선언한 것의 원리\\nprint(f'ex7 > {globals()}') \"], '_oh': {}, '_dh': ['c:\\\\Users\\\\rokie\\\\AlgorithmStudy\\\\inflearnPython\\\\level3'], 'In': ['', \"# ex1\\n\\na = 10 # global variable\\n\\ndef foo():\\n    print(f'ex > {a}')\", \"# ex1\\n\\na = 10 # global variable\\n\\ndef foo():\\n    print(f'ex > {a}')\", \"# ex1\\n\\na = 10 # global variable\\n\\ndef foo():\\n    print(f'ex > {a}')\\nfoo()\", '# ex2\\n\\nb = 2\\n\\ndef bar():\\n    b = 30 # local variable\\n    print(f\\'ex2 > {b}\\')\\nbar()\\n\"\"\"\\n먼저 자신의 scope를 찾고 없으면 상위 범위를 찾는다.\\n\\n\"\"\"\\nprint(f\\'ex2 > {b}\\') # 같은 scope가 먼저이고 함수 안의 지역변수는 원래 참조 할 수 없다.', \"# ex3\\nc = 40\\n\\ndef foobar():\\n    c = c + 10 \\n    # =은 대입연산자이기 때문에 우에서 좌로 읽어라\\n    # 지역변수 c를 선언한 적이 없기 때문에 \\n    # global c에 10을 더한 후에 \\n\\n    print(f'ex3 > {c}')\\n\\nfoobar()\", \"# ex3\\nc = 40\\n\\ndef foobar():\\n    c = 10 \\n    # =은 대입연산자이기 때문에 우에서 좌로 읽어라\\n    # 지역변수 c를 선언한 적이 없기 때문에 \\n    # global c에 10을 더한 후에 \\n\\n    print(f'ex3 > {c}')\\n\\nfoobar()\", \"# ex3\\nc = 40\\n\\ndef foobar():\\n    c = c + 10 # c += 10\\n\\n    \\n\\n    print(f'ex3 > {c}')\\n\\nfoobar()\", '# ex2\\n\\nb = 2\\nprint(id(b))\\ndef bar():\\n    b = 30 # local variable\\n    print(id(b))\\n    print(f\\'ex2 > {b}\\')\\nbar()\\n\"\"\"\\n먼저 자신의 scope를 찾고 없으면 상위 범위를 찾는다.\\n\\n\"\"\"\\nprint(f\\'ex2 > {b}\\') # 같은 scope가 먼저이고 함수 안의 지역변수는 원래 참조 할 수 없다.', \"# ex4\\nd = 50\\n\\ndef barfoo():\\n    global d\\n    d = 60\\n    d += 100\\n    print(f'ex4 > {d}')\\n\\nbarfoo()\", \"# ex4\\nd = 50\\n\\ndef barfoo():\\n    global d\\n    d = 60\\n    d += 100\\n    print(f'ex4 > {d}')\\n\\nbarfoo()\\nprint(f'ex4 > {d}')\", \"# ex5\\n\\ndef outer():\\n    e = 70\\n\\n    def inner():\\n        nonlocal e # global 변수는 아니고 inner의 지역변수도 아니다.\\n        e += 10 \\n        print(f'ex5 > {e}')\\n\\n    return inner\\n\\nin_test = outer()\\nin_test()\", \"# ex5\\n\\ndef outer():\\n    e = 70\\n\\n    def inner():\\n        nonlocal e # global 변수는 아니고 inner의 지역변수도 아니다.\\n        e += 10 \\n        print(f'ex5 > {e}')\\n\\n    return inner\\n\\nin_test = outer()\\nin_test()\\nin_test()\", \"# ex6\\n\\ndef func(var):\\n    x = 10\\n    def printer():\\n        print(f'ex6> print func inner')\\n    print('func inner', locals())\\n\\nprint('Hi')\", \"# ex6\\n\\ndef func(var):\\n    x = 10\\n    def printer():\\n        print('ex6> print func inner')\\n    print('func inner', locals())\\n\\nfunc('HI')\", \"# ex7\\nprint(f'ex7 > {globals()}')\", \"# ex7\\nprint(f'ex7 > {globals()}') # global variable들을 dict형식으로 반환\\nglobals()['test_variable'] = 100 \\n# test_variable = 100 선언한 것의 원리\\nprint(f'ex7 > {globals()}') \"], 'Out': {}, 'get_ipython': <bound method InteractiveShell.get_ipython of <ipykernel.zmqshell.ZMQInteractiveShell object at 0x0000023143F99F70>>, 'exit': <IPython.core.autocall.ZMQExitAutocall object at 0x0000023144060A90>, 'quit': <IPython.core.autocall.ZMQExitAutocall object at 0x0000023144060A90>, '_': '', '__': '', '___': '', 'os': <module 'os' from 'c:\\\\Users\\\\rokie\\\\anaconda3\\\\envs\\\\ai\\\\lib\\\\os.py'>, 'sys': <module 'sys' (built-in)>, '__vsc_ipynb_file__': 'c:\\\\Users\\\\rokie\\\\AlgorithmStudy\\\\inflearnPython\\\\level3\\\\variable_scope(1-1).ipynb', '_i': \"# ex7\\nprint(f'ex7 > {globals()}')\", '_ii': \"# ex6\\n\\ndef func(var):\\n    x = 10\\n    def printer():\\n        print('ex6> print func inner')\\n    print('func inner', locals())\\n\\nfunc('HI')\", '_iii': \"# ex6\\n\\ndef func(var):\\n    x = 10\\n    def printer():\\n        print(f'ex6> print func inner')\\n    print('func inner', locals())\\n\\nprint('Hi')\", '_i1': \"# ex1\\n\\na = 10 # global variable\\n\\ndef foo():\\n    print(f'ex > {a}')\", 'a': 10, 'foo': <function foo at 0x00000231440A79D0>, '_i2': \"# ex1\\n\\na = 10 # global variable\\n\\ndef foo():\\n    print(f'ex > {a}')\", '_i3': \"# ex1\\n\\na = 10 # global variable\\n\\ndef foo():\\n    print(f'ex > {a}')\\nfoo()\", '_i4': '# ex2\\n\\nb = 2\\n\\ndef bar():\\n    b = 30 # local variable\\n    print(f\\'ex2 > {b}\\')\\nbar()\\n\"\"\"\\n먼저 자신의 scope를 찾고 없으면 상위 범위를 찾는다.\\n\\n\"\"\"\\nprint(f\\'ex2 > {b}\\') # 같은 scope가 먼저이고 함수 안의 지역변수는 원래 참조 할 수 없다.', 'b': 2, 'bar': <function bar at 0x0000023144D161F0>, '_i5': \"# ex3\\nc = 40\\n\\ndef foobar():\\n    c = c + 10 \\n    # =은 대입연산자이기 때문에 우에서 좌로 읽어라\\n    # 지역변수 c를 선언한 적이 없기 때문에 \\n    # global c에 10을 더한 후에 \\n\\n    print(f'ex3 > {c}')\\n\\nfoobar()\", 'c': 40, 'foobar': <function foobar at 0x0000023144D09DC0>, '_i6': \"# ex3\\nc = 40\\n\\ndef foobar():\\n    c = 10 \\n    # =은 대입연산자이기 때문에 우에서 좌로 읽어라\\n    # 지역변수 c를 선언한 적이 없기 때문에 \\n    # global c에 10을 더한 후에 \\n\\n    print(f'ex3 > {c}')\\n\\nfoobar()\", '_i7': \"# ex3\\nc = 40\\n\\ndef foobar():\\n    c = c + 10 # c += 10\\n\\n    \\n\\n    print(f'ex3 > {c}')\\n\\nfoobar()\", '_i8': '# ex2\\n\\nb = 2\\nprint(id(b))\\ndef bar():\\n    b = 30 # local variable\\n    print(id(b))\\n    print(f\\'ex2 > {b}\\')\\nbar()\\n\"\"\"\\n먼저 자신의 scope를 찾고 없으면 상위 범위를 찾는다.\\n\\n\"\"\"\\nprint(f\\'ex2 > {b}\\') # 같은 scope가 먼저이고 함수 안의 지역변수는 원래 참조 할 수 없다.', '_i9': \"# ex4\\nd = 50\\n\\ndef barfoo():\\n    global d\\n    d = 60\\n    d += 100\\n    print(f'ex4 > {d}')\\n\\nbarfoo()\", 'd': 160, 'barfoo': <function barfoo at 0x00000231440A7AF0>, '_i10': \"# ex4\\nd = 50\\n\\ndef barfoo():\\n    global d\\n    d = 60\\n    d += 100\\n    print(f'ex4 > {d}')\\n\\nbarfoo()\\nprint(f'ex4 > {d}')\", '_i11': \"# ex5\\n\\ndef outer():\\n    e = 70\\n\\n    def inner():\\n        nonlocal e # global 변수는 아니고 inner의 지역변수도 아니다.\\n        e += 10 \\n        print(f'ex5 > {e}')\\n\\n    return inner\\n\\nin_test = outer()\\nin_test()\", 'outer': <function outer at 0x0000023144D16430>, 'in_test': <function outer.<locals>.inner at 0x00000231440A7700>, '_i12': \"# ex5\\n\\ndef outer():\\n    e = 70\\n\\n    def inner():\\n        nonlocal e # global 변수는 아니고 inner의 지역변수도 아니다.\\n        e += 10 \\n        print(f'ex5 > {e}')\\n\\n    return inner\\n\\nin_test = outer()\\nin_test()\\nin_test()\", '_i13': \"# ex6\\n\\ndef func(var):\\n    x = 10\\n    def printer():\\n        print(f'ex6> print func inner')\\n    print('func inner', locals())\\n\\nprint('Hi')\", 'func': <function func at 0x0000023144D16280>, '_i14': \"# ex6\\n\\ndef func(var):\\n    x = 10\\n    def printer():\\n        print('ex6> print func inner')\\n    print('func inner', locals())\\n\\nfunc('HI')\", '_i15': \"# ex7\\nprint(f'ex7 > {globals()}')\", '_i16': \"# ex7\\nprint(f'ex7 > {globals()}') # global variable들을 dict형식으로 반환\\nglobals()['test_variable'] = 100 \\n# test_variable = 100 선언한 것의 원리\\nprint(f'ex7 > {globals()}') \"}\n",
      "ex7 > {'__name__': '__main__', '__doc__': '\\n먼저 자신의 scope를 찾고 없으면 상위 범위를 찾는다.\\n\\n', '__package__': None, '__loader__': None, '__spec__': None, '__builtin__': <module 'builtins' (built-in)>, '__builtins__': <module 'builtins' (built-in)>, '_ih': ['', \"# ex1\\n\\na = 10 # global variable\\n\\ndef foo():\\n    print(f'ex > {a}')\", \"# ex1\\n\\na = 10 # global variable\\n\\ndef foo():\\n    print(f'ex > {a}')\", \"# ex1\\n\\na = 10 # global variable\\n\\ndef foo():\\n    print(f'ex > {a}')\\nfoo()\", '# ex2\\n\\nb = 2\\n\\ndef bar():\\n    b = 30 # local variable\\n    print(f\\'ex2 > {b}\\')\\nbar()\\n\"\"\"\\n먼저 자신의 scope를 찾고 없으면 상위 범위를 찾는다.\\n\\n\"\"\"\\nprint(f\\'ex2 > {b}\\') # 같은 scope가 먼저이고 함수 안의 지역변수는 원래 참조 할 수 없다.', \"# ex3\\nc = 40\\n\\ndef foobar():\\n    c = c + 10 \\n    # =은 대입연산자이기 때문에 우에서 좌로 읽어라\\n    # 지역변수 c를 선언한 적이 없기 때문에 \\n    # global c에 10을 더한 후에 \\n\\n    print(f'ex3 > {c}')\\n\\nfoobar()\", \"# ex3\\nc = 40\\n\\ndef foobar():\\n    c = 10 \\n    # =은 대입연산자이기 때문에 우에서 좌로 읽어라\\n    # 지역변수 c를 선언한 적이 없기 때문에 \\n    # global c에 10을 더한 후에 \\n\\n    print(f'ex3 > {c}')\\n\\nfoobar()\", \"# ex3\\nc = 40\\n\\ndef foobar():\\n    c = c + 10 # c += 10\\n\\n    \\n\\n    print(f'ex3 > {c}')\\n\\nfoobar()\", '# ex2\\n\\nb = 2\\nprint(id(b))\\ndef bar():\\n    b = 30 # local variable\\n    print(id(b))\\n    print(f\\'ex2 > {b}\\')\\nbar()\\n\"\"\"\\n먼저 자신의 scope를 찾고 없으면 상위 범위를 찾는다.\\n\\n\"\"\"\\nprint(f\\'ex2 > {b}\\') # 같은 scope가 먼저이고 함수 안의 지역변수는 원래 참조 할 수 없다.', \"# ex4\\nd = 50\\n\\ndef barfoo():\\n    global d\\n    d = 60\\n    d += 100\\n    print(f'ex4 > {d}')\\n\\nbarfoo()\", \"# ex4\\nd = 50\\n\\ndef barfoo():\\n    global d\\n    d = 60\\n    d += 100\\n    print(f'ex4 > {d}')\\n\\nbarfoo()\\nprint(f'ex4 > {d}')\", \"# ex5\\n\\ndef outer():\\n    e = 70\\n\\n    def inner():\\n        nonlocal e # global 변수는 아니고 inner의 지역변수도 아니다.\\n        e += 10 \\n        print(f'ex5 > {e}')\\n\\n    return inner\\n\\nin_test = outer()\\nin_test()\", \"# ex5\\n\\ndef outer():\\n    e = 70\\n\\n    def inner():\\n        nonlocal e # global 변수는 아니고 inner의 지역변수도 아니다.\\n        e += 10 \\n        print(f'ex5 > {e}')\\n\\n    return inner\\n\\nin_test = outer()\\nin_test()\\nin_test()\", \"# ex6\\n\\ndef func(var):\\n    x = 10\\n    def printer():\\n        print(f'ex6> print func inner')\\n    print('func inner', locals())\\n\\nprint('Hi')\", \"# ex6\\n\\ndef func(var):\\n    x = 10\\n    def printer():\\n        print('ex6> print func inner')\\n    print('func inner', locals())\\n\\nfunc('HI')\", \"# ex7\\nprint(f'ex7 > {globals()}')\", \"# ex7\\nprint(f'ex7 > {globals()}') # global variable들을 dict형식으로 반환\\nglobals()['test_variable'] = 100 \\n# test_variable = 100 선언한 것의 원리\\nprint(f'ex7 > {globals()}') \"], '_oh': {}, '_dh': ['c:\\\\Users\\\\rokie\\\\AlgorithmStudy\\\\inflearnPython\\\\level3'], 'In': ['', \"# ex1\\n\\na = 10 # global variable\\n\\ndef foo():\\n    print(f'ex > {a}')\", \"# ex1\\n\\na = 10 # global variable\\n\\ndef foo():\\n    print(f'ex > {a}')\", \"# ex1\\n\\na = 10 # global variable\\n\\ndef foo():\\n    print(f'ex > {a}')\\nfoo()\", '# ex2\\n\\nb = 2\\n\\ndef bar():\\n    b = 30 # local variable\\n    print(f\\'ex2 > {b}\\')\\nbar()\\n\"\"\"\\n먼저 자신의 scope를 찾고 없으면 상위 범위를 찾는다.\\n\\n\"\"\"\\nprint(f\\'ex2 > {b}\\') # 같은 scope가 먼저이고 함수 안의 지역변수는 원래 참조 할 수 없다.', \"# ex3\\nc = 40\\n\\ndef foobar():\\n    c = c + 10 \\n    # =은 대입연산자이기 때문에 우에서 좌로 읽어라\\n    # 지역변수 c를 선언한 적이 없기 때문에 \\n    # global c에 10을 더한 후에 \\n\\n    print(f'ex3 > {c}')\\n\\nfoobar()\", \"# ex3\\nc = 40\\n\\ndef foobar():\\n    c = 10 \\n    # =은 대입연산자이기 때문에 우에서 좌로 읽어라\\n    # 지역변수 c를 선언한 적이 없기 때문에 \\n    # global c에 10을 더한 후에 \\n\\n    print(f'ex3 > {c}')\\n\\nfoobar()\", \"# ex3\\nc = 40\\n\\ndef foobar():\\n    c = c + 10 # c += 10\\n\\n    \\n\\n    print(f'ex3 > {c}')\\n\\nfoobar()\", '# ex2\\n\\nb = 2\\nprint(id(b))\\ndef bar():\\n    b = 30 # local variable\\n    print(id(b))\\n    print(f\\'ex2 > {b}\\')\\nbar()\\n\"\"\"\\n먼저 자신의 scope를 찾고 없으면 상위 범위를 찾는다.\\n\\n\"\"\"\\nprint(f\\'ex2 > {b}\\') # 같은 scope가 먼저이고 함수 안의 지역변수는 원래 참조 할 수 없다.', \"# ex4\\nd = 50\\n\\ndef barfoo():\\n    global d\\n    d = 60\\n    d += 100\\n    print(f'ex4 > {d}')\\n\\nbarfoo()\", \"# ex4\\nd = 50\\n\\ndef barfoo():\\n    global d\\n    d = 60\\n    d += 100\\n    print(f'ex4 > {d}')\\n\\nbarfoo()\\nprint(f'ex4 > {d}')\", \"# ex5\\n\\ndef outer():\\n    e = 70\\n\\n    def inner():\\n        nonlocal e # global 변수는 아니고 inner의 지역변수도 아니다.\\n        e += 10 \\n        print(f'ex5 > {e}')\\n\\n    return inner\\n\\nin_test = outer()\\nin_test()\", \"# ex5\\n\\ndef outer():\\n    e = 70\\n\\n    def inner():\\n        nonlocal e # global 변수는 아니고 inner의 지역변수도 아니다.\\n        e += 10 \\n        print(f'ex5 > {e}')\\n\\n    return inner\\n\\nin_test = outer()\\nin_test()\\nin_test()\", \"# ex6\\n\\ndef func(var):\\n    x = 10\\n    def printer():\\n        print(f'ex6> print func inner')\\n    print('func inner', locals())\\n\\nprint('Hi')\", \"# ex6\\n\\ndef func(var):\\n    x = 10\\n    def printer():\\n        print('ex6> print func inner')\\n    print('func inner', locals())\\n\\nfunc('HI')\", \"# ex7\\nprint(f'ex7 > {globals()}')\", \"# ex7\\nprint(f'ex7 > {globals()}') # global variable들을 dict형식으로 반환\\nglobals()['test_variable'] = 100 \\n# test_variable = 100 선언한 것의 원리\\nprint(f'ex7 > {globals()}') \"], 'Out': {}, 'get_ipython': <bound method InteractiveShell.get_ipython of <ipykernel.zmqshell.ZMQInteractiveShell object at 0x0000023143F99F70>>, 'exit': <IPython.core.autocall.ZMQExitAutocall object at 0x0000023144060A90>, 'quit': <IPython.core.autocall.ZMQExitAutocall object at 0x0000023144060A90>, '_': '', '__': '', '___': '', 'os': <module 'os' from 'c:\\\\Users\\\\rokie\\\\anaconda3\\\\envs\\\\ai\\\\lib\\\\os.py'>, 'sys': <module 'sys' (built-in)>, '__vsc_ipynb_file__': 'c:\\\\Users\\\\rokie\\\\AlgorithmStudy\\\\inflearnPython\\\\level3\\\\variable_scope(1-1).ipynb', '_i': \"# ex7\\nprint(f'ex7 > {globals()}')\", '_ii': \"# ex6\\n\\ndef func(var):\\n    x = 10\\n    def printer():\\n        print('ex6> print func inner')\\n    print('func inner', locals())\\n\\nfunc('HI')\", '_iii': \"# ex6\\n\\ndef func(var):\\n    x = 10\\n    def printer():\\n        print(f'ex6> print func inner')\\n    print('func inner', locals())\\n\\nprint('Hi')\", '_i1': \"# ex1\\n\\na = 10 # global variable\\n\\ndef foo():\\n    print(f'ex > {a}')\", 'a': 10, 'foo': <function foo at 0x00000231440A79D0>, '_i2': \"# ex1\\n\\na = 10 # global variable\\n\\ndef foo():\\n    print(f'ex > {a}')\", '_i3': \"# ex1\\n\\na = 10 # global variable\\n\\ndef foo():\\n    print(f'ex > {a}')\\nfoo()\", '_i4': '# ex2\\n\\nb = 2\\n\\ndef bar():\\n    b = 30 # local variable\\n    print(f\\'ex2 > {b}\\')\\nbar()\\n\"\"\"\\n먼저 자신의 scope를 찾고 없으면 상위 범위를 찾는다.\\n\\n\"\"\"\\nprint(f\\'ex2 > {b}\\') # 같은 scope가 먼저이고 함수 안의 지역변수는 원래 참조 할 수 없다.', 'b': 2, 'bar': <function bar at 0x0000023144D161F0>, '_i5': \"# ex3\\nc = 40\\n\\ndef foobar():\\n    c = c + 10 \\n    # =은 대입연산자이기 때문에 우에서 좌로 읽어라\\n    # 지역변수 c를 선언한 적이 없기 때문에 \\n    # global c에 10을 더한 후에 \\n\\n    print(f'ex3 > {c}')\\n\\nfoobar()\", 'c': 40, 'foobar': <function foobar at 0x0000023144D09DC0>, '_i6': \"# ex3\\nc = 40\\n\\ndef foobar():\\n    c = 10 \\n    # =은 대입연산자이기 때문에 우에서 좌로 읽어라\\n    # 지역변수 c를 선언한 적이 없기 때문에 \\n    # global c에 10을 더한 후에 \\n\\n    print(f'ex3 > {c}')\\n\\nfoobar()\", '_i7': \"# ex3\\nc = 40\\n\\ndef foobar():\\n    c = c + 10 # c += 10\\n\\n    \\n\\n    print(f'ex3 > {c}')\\n\\nfoobar()\", '_i8': '# ex2\\n\\nb = 2\\nprint(id(b))\\ndef bar():\\n    b = 30 # local variable\\n    print(id(b))\\n    print(f\\'ex2 > {b}\\')\\nbar()\\n\"\"\"\\n먼저 자신의 scope를 찾고 없으면 상위 범위를 찾는다.\\n\\n\"\"\"\\nprint(f\\'ex2 > {b}\\') # 같은 scope가 먼저이고 함수 안의 지역변수는 원래 참조 할 수 없다.', '_i9': \"# ex4\\nd = 50\\n\\ndef barfoo():\\n    global d\\n    d = 60\\n    d += 100\\n    print(f'ex4 > {d}')\\n\\nbarfoo()\", 'd': 160, 'barfoo': <function barfoo at 0x00000231440A7AF0>, '_i10': \"# ex4\\nd = 50\\n\\ndef barfoo():\\n    global d\\n    d = 60\\n    d += 100\\n    print(f'ex4 > {d}')\\n\\nbarfoo()\\nprint(f'ex4 > {d}')\", '_i11': \"# ex5\\n\\ndef outer():\\n    e = 70\\n\\n    def inner():\\n        nonlocal e # global 변수는 아니고 inner의 지역변수도 아니다.\\n        e += 10 \\n        print(f'ex5 > {e}')\\n\\n    return inner\\n\\nin_test = outer()\\nin_test()\", 'outer': <function outer at 0x0000023144D16430>, 'in_test': <function outer.<locals>.inner at 0x00000231440A7700>, '_i12': \"# ex5\\n\\ndef outer():\\n    e = 70\\n\\n    def inner():\\n        nonlocal e # global 변수는 아니고 inner의 지역변수도 아니다.\\n        e += 10 \\n        print(f'ex5 > {e}')\\n\\n    return inner\\n\\nin_test = outer()\\nin_test()\\nin_test()\", '_i13': \"# ex6\\n\\ndef func(var):\\n    x = 10\\n    def printer():\\n        print(f'ex6> print func inner')\\n    print('func inner', locals())\\n\\nprint('Hi')\", 'func': <function func at 0x0000023144D16280>, '_i14': \"# ex6\\n\\ndef func(var):\\n    x = 10\\n    def printer():\\n        print('ex6> print func inner')\\n    print('func inner', locals())\\n\\nfunc('HI')\", '_i15': \"# ex7\\nprint(f'ex7 > {globals()}')\", '_i16': \"# ex7\\nprint(f'ex7 > {globals()}') # global variable들을 dict형식으로 반환\\nglobals()['test_variable'] = 100 \\n# test_variable = 100 선언한 것의 원리\\nprint(f'ex7 > {globals()}') \", 'test_variable': 100}\n"
     ]
    }
   ],
   "source": [
    "# ex7\n",
    "print(f'ex7 > {globals()}') # global variable들을 dict형식으로 반환\n",
    "globals()['test_variable'] = 100 \n",
    "# test_variable = 100 선언한 것의 원리\n",
    "print(f'ex7 > {globals()}') "
   ]
  },
  {
   "cell_type": "code",
   "execution_count": 17,
   "metadata": {},
   "outputs": [
    {
     "name": "stdout",
     "output_type": "stream",
     "text": [
      "{'__name__': '__main__', '__doc__': '\\n먼저 자신의 scope를 찾고 없으면 상위 범위를 찾는다.\\n\\n', '__package__': None, '__loader__': None, '__spec__': None, '__builtin__': <module 'builtins' (built-in)>, '__builtins__': <module 'builtins' (built-in)>, '_ih': ['', \"# ex1\\n\\na = 10 # global variable\\n\\ndef foo():\\n    print(f'ex > {a}')\", \"# ex1\\n\\na = 10 # global variable\\n\\ndef foo():\\n    print(f'ex > {a}')\", \"# ex1\\n\\na = 10 # global variable\\n\\ndef foo():\\n    print(f'ex > {a}')\\nfoo()\", '# ex2\\n\\nb = 2\\n\\ndef bar():\\n    b = 30 # local variable\\n    print(f\\'ex2 > {b}\\')\\nbar()\\n\"\"\"\\n먼저 자신의 scope를 찾고 없으면 상위 범위를 찾는다.\\n\\n\"\"\"\\nprint(f\\'ex2 > {b}\\') # 같은 scope가 먼저이고 함수 안의 지역변수는 원래 참조 할 수 없다.', \"# ex3\\nc = 40\\n\\ndef foobar():\\n    c = c + 10 \\n    # =은 대입연산자이기 때문에 우에서 좌로 읽어라\\n    # 지역변수 c를 선언한 적이 없기 때문에 \\n    # global c에 10을 더한 후에 \\n\\n    print(f'ex3 > {c}')\\n\\nfoobar()\", \"# ex3\\nc = 40\\n\\ndef foobar():\\n    c = 10 \\n    # =은 대입연산자이기 때문에 우에서 좌로 읽어라\\n    # 지역변수 c를 선언한 적이 없기 때문에 \\n    # global c에 10을 더한 후에 \\n\\n    print(f'ex3 > {c}')\\n\\nfoobar()\", \"# ex3\\nc = 40\\n\\ndef foobar():\\n    c = c + 10 # c += 10\\n\\n    \\n\\n    print(f'ex3 > {c}')\\n\\nfoobar()\", '# ex2\\n\\nb = 2\\nprint(id(b))\\ndef bar():\\n    b = 30 # local variable\\n    print(id(b))\\n    print(f\\'ex2 > {b}\\')\\nbar()\\n\"\"\"\\n먼저 자신의 scope를 찾고 없으면 상위 범위를 찾는다.\\n\\n\"\"\"\\nprint(f\\'ex2 > {b}\\') # 같은 scope가 먼저이고 함수 안의 지역변수는 원래 참조 할 수 없다.', \"# ex4\\nd = 50\\n\\ndef barfoo():\\n    global d\\n    d = 60\\n    d += 100\\n    print(f'ex4 > {d}')\\n\\nbarfoo()\", \"# ex4\\nd = 50\\n\\ndef barfoo():\\n    global d\\n    d = 60\\n    d += 100\\n    print(f'ex4 > {d}')\\n\\nbarfoo()\\nprint(f'ex4 > {d}')\", \"# ex5\\n\\ndef outer():\\n    e = 70\\n\\n    def inner():\\n        nonlocal e # global 변수는 아니고 inner의 지역변수도 아니다.\\n        e += 10 \\n        print(f'ex5 > {e}')\\n\\n    return inner\\n\\nin_test = outer()\\nin_test()\", \"# ex5\\n\\ndef outer():\\n    e = 70\\n\\n    def inner():\\n        nonlocal e # global 변수는 아니고 inner의 지역변수도 아니다.\\n        e += 10 \\n        print(f'ex5 > {e}')\\n\\n    return inner\\n\\nin_test = outer()\\nin_test()\\nin_test()\", \"# ex6\\n\\ndef func(var):\\n    x = 10\\n    def printer():\\n        print(f'ex6> print func inner')\\n    print('func inner', locals())\\n\\nprint('Hi')\", \"# ex6\\n\\ndef func(var):\\n    x = 10\\n    def printer():\\n        print('ex6> print func inner')\\n    print('func inner', locals())\\n\\nfunc('HI')\", \"# ex7\\nprint(f'ex7 > {globals()}')\", \"# ex7\\nprint(f'ex7 > {globals()}') # global variable들을 dict형식으로 반환\\nglobals()['test_variable'] = 100 \\n# test_variable = 100 선언한 것의 원리\\nprint(f'ex7 > {globals()}') \", \"# ex8 (지역 -> 전역 변수 생성)\\nfor i in range(1, 10):\\n    for k in range(1, 10):\\n        globals()[f'plus_{i}_{k}'] = i + k\\n\\nprint(globals())\"], '_oh': {}, '_dh': ['c:\\\\Users\\\\rokie\\\\AlgorithmStudy\\\\inflearnPython\\\\level3'], 'In': ['', \"# ex1\\n\\na = 10 # global variable\\n\\ndef foo():\\n    print(f'ex > {a}')\", \"# ex1\\n\\na = 10 # global variable\\n\\ndef foo():\\n    print(f'ex > {a}')\", \"# ex1\\n\\na = 10 # global variable\\n\\ndef foo():\\n    print(f'ex > {a}')\\nfoo()\", '# ex2\\n\\nb = 2\\n\\ndef bar():\\n    b = 30 # local variable\\n    print(f\\'ex2 > {b}\\')\\nbar()\\n\"\"\"\\n먼저 자신의 scope를 찾고 없으면 상위 범위를 찾는다.\\n\\n\"\"\"\\nprint(f\\'ex2 > {b}\\') # 같은 scope가 먼저이고 함수 안의 지역변수는 원래 참조 할 수 없다.', \"# ex3\\nc = 40\\n\\ndef foobar():\\n    c = c + 10 \\n    # =은 대입연산자이기 때문에 우에서 좌로 읽어라\\n    # 지역변수 c를 선언한 적이 없기 때문에 \\n    # global c에 10을 더한 후에 \\n\\n    print(f'ex3 > {c}')\\n\\nfoobar()\", \"# ex3\\nc = 40\\n\\ndef foobar():\\n    c = 10 \\n    # =은 대입연산자이기 때문에 우에서 좌로 읽어라\\n    # 지역변수 c를 선언한 적이 없기 때문에 \\n    # global c에 10을 더한 후에 \\n\\n    print(f'ex3 > {c}')\\n\\nfoobar()\", \"# ex3\\nc = 40\\n\\ndef foobar():\\n    c = c + 10 # c += 10\\n\\n    \\n\\n    print(f'ex3 > {c}')\\n\\nfoobar()\", '# ex2\\n\\nb = 2\\nprint(id(b))\\ndef bar():\\n    b = 30 # local variable\\n    print(id(b))\\n    print(f\\'ex2 > {b}\\')\\nbar()\\n\"\"\"\\n먼저 자신의 scope를 찾고 없으면 상위 범위를 찾는다.\\n\\n\"\"\"\\nprint(f\\'ex2 > {b}\\') # 같은 scope가 먼저이고 함수 안의 지역변수는 원래 참조 할 수 없다.', \"# ex4\\nd = 50\\n\\ndef barfoo():\\n    global d\\n    d = 60\\n    d += 100\\n    print(f'ex4 > {d}')\\n\\nbarfoo()\", \"# ex4\\nd = 50\\n\\ndef barfoo():\\n    global d\\n    d = 60\\n    d += 100\\n    print(f'ex4 > {d}')\\n\\nbarfoo()\\nprint(f'ex4 > {d}')\", \"# ex5\\n\\ndef outer():\\n    e = 70\\n\\n    def inner():\\n        nonlocal e # global 변수는 아니고 inner의 지역변수도 아니다.\\n        e += 10 \\n        print(f'ex5 > {e}')\\n\\n    return inner\\n\\nin_test = outer()\\nin_test()\", \"# ex5\\n\\ndef outer():\\n    e = 70\\n\\n    def inner():\\n        nonlocal e # global 변수는 아니고 inner의 지역변수도 아니다.\\n        e += 10 \\n        print(f'ex5 > {e}')\\n\\n    return inner\\n\\nin_test = outer()\\nin_test()\\nin_test()\", \"# ex6\\n\\ndef func(var):\\n    x = 10\\n    def printer():\\n        print(f'ex6> print func inner')\\n    print('func inner', locals())\\n\\nprint('Hi')\", \"# ex6\\n\\ndef func(var):\\n    x = 10\\n    def printer():\\n        print('ex6> print func inner')\\n    print('func inner', locals())\\n\\nfunc('HI')\", \"# ex7\\nprint(f'ex7 > {globals()}')\", \"# ex7\\nprint(f'ex7 > {globals()}') # global variable들을 dict형식으로 반환\\nglobals()['test_variable'] = 100 \\n# test_variable = 100 선언한 것의 원리\\nprint(f'ex7 > {globals()}') \", \"# ex8 (지역 -> 전역 변수 생성)\\nfor i in range(1, 10):\\n    for k in range(1, 10):\\n        globals()[f'plus_{i}_{k}'] = i + k\\n\\nprint(globals())\"], 'Out': {}, 'get_ipython': <bound method InteractiveShell.get_ipython of <ipykernel.zmqshell.ZMQInteractiveShell object at 0x0000023143F99F70>>, 'exit': <IPython.core.autocall.ZMQExitAutocall object at 0x0000023144060A90>, 'quit': <IPython.core.autocall.ZMQExitAutocall object at 0x0000023144060A90>, '_': '', '__': '', '___': '', 'os': <module 'os' from 'c:\\\\Users\\\\rokie\\\\anaconda3\\\\envs\\\\ai\\\\lib\\\\os.py'>, 'sys': <module 'sys' (built-in)>, '__vsc_ipynb_file__': 'c:\\\\Users\\\\rokie\\\\AlgorithmStudy\\\\inflearnPython\\\\level3\\\\variable_scope(1-1).ipynb', '_i': \"# ex7\\nprint(f'ex7 > {globals()}') # global variable들을 dict형식으로 반환\\nglobals()['test_variable'] = 100 \\n# test_variable = 100 선언한 것의 원리\\nprint(f'ex7 > {globals()}') \", '_ii': \"# ex7\\nprint(f'ex7 > {globals()}')\", '_iii': \"# ex6\\n\\ndef func(var):\\n    x = 10\\n    def printer():\\n        print('ex6> print func inner')\\n    print('func inner', locals())\\n\\nfunc('HI')\", '_i1': \"# ex1\\n\\na = 10 # global variable\\n\\ndef foo():\\n    print(f'ex > {a}')\", 'a': 10, 'foo': <function foo at 0x00000231440A79D0>, '_i2': \"# ex1\\n\\na = 10 # global variable\\n\\ndef foo():\\n    print(f'ex > {a}')\", '_i3': \"# ex1\\n\\na = 10 # global variable\\n\\ndef foo():\\n    print(f'ex > {a}')\\nfoo()\", '_i4': '# ex2\\n\\nb = 2\\n\\ndef bar():\\n    b = 30 # local variable\\n    print(f\\'ex2 > {b}\\')\\nbar()\\n\"\"\"\\n먼저 자신의 scope를 찾고 없으면 상위 범위를 찾는다.\\n\\n\"\"\"\\nprint(f\\'ex2 > {b}\\') # 같은 scope가 먼저이고 함수 안의 지역변수는 원래 참조 할 수 없다.', 'b': 2, 'bar': <function bar at 0x0000023144D161F0>, '_i5': \"# ex3\\nc = 40\\n\\ndef foobar():\\n    c = c + 10 \\n    # =은 대입연산자이기 때문에 우에서 좌로 읽어라\\n    # 지역변수 c를 선언한 적이 없기 때문에 \\n    # global c에 10을 더한 후에 \\n\\n    print(f'ex3 > {c}')\\n\\nfoobar()\", 'c': 40, 'foobar': <function foobar at 0x0000023144D09DC0>, '_i6': \"# ex3\\nc = 40\\n\\ndef foobar():\\n    c = 10 \\n    # =은 대입연산자이기 때문에 우에서 좌로 읽어라\\n    # 지역변수 c를 선언한 적이 없기 때문에 \\n    # global c에 10을 더한 후에 \\n\\n    print(f'ex3 > {c}')\\n\\nfoobar()\", '_i7': \"# ex3\\nc = 40\\n\\ndef foobar():\\n    c = c + 10 # c += 10\\n\\n    \\n\\n    print(f'ex3 > {c}')\\n\\nfoobar()\", '_i8': '# ex2\\n\\nb = 2\\nprint(id(b))\\ndef bar():\\n    b = 30 # local variable\\n    print(id(b))\\n    print(f\\'ex2 > {b}\\')\\nbar()\\n\"\"\"\\n먼저 자신의 scope를 찾고 없으면 상위 범위를 찾는다.\\n\\n\"\"\"\\nprint(f\\'ex2 > {b}\\') # 같은 scope가 먼저이고 함수 안의 지역변수는 원래 참조 할 수 없다.', '_i9': \"# ex4\\nd = 50\\n\\ndef barfoo():\\n    global d\\n    d = 60\\n    d += 100\\n    print(f'ex4 > {d}')\\n\\nbarfoo()\", 'd': 160, 'barfoo': <function barfoo at 0x00000231440A7AF0>, '_i10': \"# ex4\\nd = 50\\n\\ndef barfoo():\\n    global d\\n    d = 60\\n    d += 100\\n    print(f'ex4 > {d}')\\n\\nbarfoo()\\nprint(f'ex4 > {d}')\", '_i11': \"# ex5\\n\\ndef outer():\\n    e = 70\\n\\n    def inner():\\n        nonlocal e # global 변수는 아니고 inner의 지역변수도 아니다.\\n        e += 10 \\n        print(f'ex5 > {e}')\\n\\n    return inner\\n\\nin_test = outer()\\nin_test()\", 'outer': <function outer at 0x0000023144D16430>, 'in_test': <function outer.<locals>.inner at 0x00000231440A7700>, '_i12': \"# ex5\\n\\ndef outer():\\n    e = 70\\n\\n    def inner():\\n        nonlocal e # global 변수는 아니고 inner의 지역변수도 아니다.\\n        e += 10 \\n        print(f'ex5 > {e}')\\n\\n    return inner\\n\\nin_test = outer()\\nin_test()\\nin_test()\", '_i13': \"# ex6\\n\\ndef func(var):\\n    x = 10\\n    def printer():\\n        print(f'ex6> print func inner')\\n    print('func inner', locals())\\n\\nprint('Hi')\", 'func': <function func at 0x0000023144D16280>, '_i14': \"# ex6\\n\\ndef func(var):\\n    x = 10\\n    def printer():\\n        print('ex6> print func inner')\\n    print('func inner', locals())\\n\\nfunc('HI')\", '_i15': \"# ex7\\nprint(f'ex7 > {globals()}')\", '_i16': \"# ex7\\nprint(f'ex7 > {globals()}') # global variable들을 dict형식으로 반환\\nglobals()['test_variable'] = 100 \\n# test_variable = 100 선언한 것의 원리\\nprint(f'ex7 > {globals()}') \", 'test_variable': 100, '_i17': \"# ex8 (지역 -> 전역 변수 생성)\\nfor i in range(1, 10):\\n    for k in range(1, 10):\\n        globals()[f'plus_{i}_{k}'] = i + k\\n\\nprint(globals())\", 'i': 9, 'k': 9, 'plus_1_1': 2, 'plus_1_2': 3, 'plus_1_3': 4, 'plus_1_4': 5, 'plus_1_5': 6, 'plus_1_6': 7, 'plus_1_7': 8, 'plus_1_8': 9, 'plus_1_9': 10, 'plus_2_1': 3, 'plus_2_2': 4, 'plus_2_3': 5, 'plus_2_4': 6, 'plus_2_5': 7, 'plus_2_6': 8, 'plus_2_7': 9, 'plus_2_8': 10, 'plus_2_9': 11, 'plus_3_1': 4, 'plus_3_2': 5, 'plus_3_3': 6, 'plus_3_4': 7, 'plus_3_5': 8, 'plus_3_6': 9, 'plus_3_7': 10, 'plus_3_8': 11, 'plus_3_9': 12, 'plus_4_1': 5, 'plus_4_2': 6, 'plus_4_3': 7, 'plus_4_4': 8, 'plus_4_5': 9, 'plus_4_6': 10, 'plus_4_7': 11, 'plus_4_8': 12, 'plus_4_9': 13, 'plus_5_1': 6, 'plus_5_2': 7, 'plus_5_3': 8, 'plus_5_4': 9, 'plus_5_5': 10, 'plus_5_6': 11, 'plus_5_7': 12, 'plus_5_8': 13, 'plus_5_9': 14, 'plus_6_1': 7, 'plus_6_2': 8, 'plus_6_3': 9, 'plus_6_4': 10, 'plus_6_5': 11, 'plus_6_6': 12, 'plus_6_7': 13, 'plus_6_8': 14, 'plus_6_9': 15, 'plus_7_1': 8, 'plus_7_2': 9, 'plus_7_3': 10, 'plus_7_4': 11, 'plus_7_5': 12, 'plus_7_6': 13, 'plus_7_7': 14, 'plus_7_8': 15, 'plus_7_9': 16, 'plus_8_1': 9, 'plus_8_2': 10, 'plus_8_3': 11, 'plus_8_4': 12, 'plus_8_5': 13, 'plus_8_6': 14, 'plus_8_7': 15, 'plus_8_8': 16, 'plus_8_9': 17, 'plus_9_1': 10, 'plus_9_2': 11, 'plus_9_3': 12, 'plus_9_4': 13, 'plus_9_5': 14, 'plus_9_6': 15, 'plus_9_7': 16, 'plus_9_8': 17, 'plus_9_9': 18}\n"
     ]
    }
   ],
   "source": [
    "# ex8 (지역 -> 전역 변수 생성)\n",
    "for i in range(1, 10):\n",
    "    for k in range(1, 10):\n",
    "        globals()[f'plus_{i}_{k}'] = i + k\n",
    "\n",
    "print(globals())"
   ]
  },
  {
   "cell_type": "code",
   "execution_count": 19,
   "metadata": {},
   "outputs": [
    {
     "name": "stdout",
     "output_type": "stream",
     "text": [
      "{'__name__': '__main__', '__doc__': '\\n먼저 자신의 scope를 찾고 없으면 상위 범위를 찾는다.\\n\\n', '__package__': None, '__loader__': None, '__spec__': None, '__builtin__': <module 'builtins' (built-in)>, '__builtins__': <module 'builtins' (built-in)>, '_ih': ['', \"# ex1\\n\\na = 10 # global variable\\n\\ndef foo():\\n    print(f'ex > {a}')\", \"# ex1\\n\\na = 10 # global variable\\n\\ndef foo():\\n    print(f'ex > {a}')\", \"# ex1\\n\\na = 10 # global variable\\n\\ndef foo():\\n    print(f'ex > {a}')\\nfoo()\", '# ex2\\n\\nb = 2\\n\\ndef bar():\\n    b = 30 # local variable\\n    print(f\\'ex2 > {b}\\')\\nbar()\\n\"\"\"\\n먼저 자신의 scope를 찾고 없으면 상위 범위를 찾는다.\\n\\n\"\"\"\\nprint(f\\'ex2 > {b}\\') # 같은 scope가 먼저이고 함수 안의 지역변수는 원래 참조 할 수 없다.', \"# ex3\\nc = 40\\n\\ndef foobar():\\n    c = c + 10 \\n    # =은 대입연산자이기 때문에 우에서 좌로 읽어라\\n    # 지역변수 c를 선언한 적이 없기 때문에 \\n    # global c에 10을 더한 후에 \\n\\n    print(f'ex3 > {c}')\\n\\nfoobar()\", \"# ex3\\nc = 40\\n\\ndef foobar():\\n    c = 10 \\n    # =은 대입연산자이기 때문에 우에서 좌로 읽어라\\n    # 지역변수 c를 선언한 적이 없기 때문에 \\n    # global c에 10을 더한 후에 \\n\\n    print(f'ex3 > {c}')\\n\\nfoobar()\", \"# ex3\\nc = 40\\n\\ndef foobar():\\n    c = c + 10 # c += 10\\n\\n    \\n\\n    print(f'ex3 > {c}')\\n\\nfoobar()\", '# ex2\\n\\nb = 2\\nprint(id(b))\\ndef bar():\\n    b = 30 # local variable\\n    print(id(b))\\n    print(f\\'ex2 > {b}\\')\\nbar()\\n\"\"\"\\n먼저 자신의 scope를 찾고 없으면 상위 범위를 찾는다.\\n\\n\"\"\"\\nprint(f\\'ex2 > {b}\\') # 같은 scope가 먼저이고 함수 안의 지역변수는 원래 참조 할 수 없다.', \"# ex4\\nd = 50\\n\\ndef barfoo():\\n    global d\\n    d = 60\\n    d += 100\\n    print(f'ex4 > {d}')\\n\\nbarfoo()\", \"# ex4\\nd = 50\\n\\ndef barfoo():\\n    global d\\n    d = 60\\n    d += 100\\n    print(f'ex4 > {d}')\\n\\nbarfoo()\\nprint(f'ex4 > {d}')\", \"# ex5\\n\\ndef outer():\\n    e = 70\\n\\n    def inner():\\n        nonlocal e # global 변수는 아니고 inner의 지역변수도 아니다.\\n        e += 10 \\n        print(f'ex5 > {e}')\\n\\n    return inner\\n\\nin_test = outer()\\nin_test()\", \"# ex5\\n\\ndef outer():\\n    e = 70\\n\\n    def inner():\\n        nonlocal e # global 변수는 아니고 inner의 지역변수도 아니다.\\n        e += 10 \\n        print(f'ex5 > {e}')\\n\\n    return inner\\n\\nin_test = outer()\\nin_test()\\nin_test()\", \"# ex6\\n\\ndef func(var):\\n    x = 10\\n    def printer():\\n        print(f'ex6> print func inner')\\n    print('func inner', locals())\\n\\nprint('Hi')\", \"# ex6\\n\\ndef func(var):\\n    x = 10\\n    def printer():\\n        print('ex6> print func inner')\\n    print('func inner', locals())\\n\\nfunc('HI')\", \"# ex7\\nprint(f'ex7 > {globals()}')\", \"# ex7\\nprint(f'ex7 > {globals()}') # global variable들을 dict형식으로 반환\\nglobals()['test_variable'] = 100 \\n# test_variable = 100 선언한 것의 원리\\nprint(f'ex7 > {globals()}') \", \"# ex8 (지역 -> 전역 변수 생성)\\nfor i in range(1, 10):\\n    for k in range(1, 10):\\n        globals()[f'plus_{i}_{k}'] = i + k\\n\\nprint(globals())\", 'locals()', 'print(locals())'], '_oh': {18: {...}}, '_dh': ['c:\\\\Users\\\\rokie\\\\AlgorithmStudy\\\\inflearnPython\\\\level3'], 'In': ['', \"# ex1\\n\\na = 10 # global variable\\n\\ndef foo():\\n    print(f'ex > {a}')\", \"# ex1\\n\\na = 10 # global variable\\n\\ndef foo():\\n    print(f'ex > {a}')\", \"# ex1\\n\\na = 10 # global variable\\n\\ndef foo():\\n    print(f'ex > {a}')\\nfoo()\", '# ex2\\n\\nb = 2\\n\\ndef bar():\\n    b = 30 # local variable\\n    print(f\\'ex2 > {b}\\')\\nbar()\\n\"\"\"\\n먼저 자신의 scope를 찾고 없으면 상위 범위를 찾는다.\\n\\n\"\"\"\\nprint(f\\'ex2 > {b}\\') # 같은 scope가 먼저이고 함수 안의 지역변수는 원래 참조 할 수 없다.', \"# ex3\\nc = 40\\n\\ndef foobar():\\n    c = c + 10 \\n    # =은 대입연산자이기 때문에 우에서 좌로 읽어라\\n    # 지역변수 c를 선언한 적이 없기 때문에 \\n    # global c에 10을 더한 후에 \\n\\n    print(f'ex3 > {c}')\\n\\nfoobar()\", \"# ex3\\nc = 40\\n\\ndef foobar():\\n    c = 10 \\n    # =은 대입연산자이기 때문에 우에서 좌로 읽어라\\n    # 지역변수 c를 선언한 적이 없기 때문에 \\n    # global c에 10을 더한 후에 \\n\\n    print(f'ex3 > {c}')\\n\\nfoobar()\", \"# ex3\\nc = 40\\n\\ndef foobar():\\n    c = c + 10 # c += 10\\n\\n    \\n\\n    print(f'ex3 > {c}')\\n\\nfoobar()\", '# ex2\\n\\nb = 2\\nprint(id(b))\\ndef bar():\\n    b = 30 # local variable\\n    print(id(b))\\n    print(f\\'ex2 > {b}\\')\\nbar()\\n\"\"\"\\n먼저 자신의 scope를 찾고 없으면 상위 범위를 찾는다.\\n\\n\"\"\"\\nprint(f\\'ex2 > {b}\\') # 같은 scope가 먼저이고 함수 안의 지역변수는 원래 참조 할 수 없다.', \"# ex4\\nd = 50\\n\\ndef barfoo():\\n    global d\\n    d = 60\\n    d += 100\\n    print(f'ex4 > {d}')\\n\\nbarfoo()\", \"# ex4\\nd = 50\\n\\ndef barfoo():\\n    global d\\n    d = 60\\n    d += 100\\n    print(f'ex4 > {d}')\\n\\nbarfoo()\\nprint(f'ex4 > {d}')\", \"# ex5\\n\\ndef outer():\\n    e = 70\\n\\n    def inner():\\n        nonlocal e # global 변수는 아니고 inner의 지역변수도 아니다.\\n        e += 10 \\n        print(f'ex5 > {e}')\\n\\n    return inner\\n\\nin_test = outer()\\nin_test()\", \"# ex5\\n\\ndef outer():\\n    e = 70\\n\\n    def inner():\\n        nonlocal e # global 변수는 아니고 inner의 지역변수도 아니다.\\n        e += 10 \\n        print(f'ex5 > {e}')\\n\\n    return inner\\n\\nin_test = outer()\\nin_test()\\nin_test()\", \"# ex6\\n\\ndef func(var):\\n    x = 10\\n    def printer():\\n        print(f'ex6> print func inner')\\n    print('func inner', locals())\\n\\nprint('Hi')\", \"# ex6\\n\\ndef func(var):\\n    x = 10\\n    def printer():\\n        print('ex6> print func inner')\\n    print('func inner', locals())\\n\\nfunc('HI')\", \"# ex7\\nprint(f'ex7 > {globals()}')\", \"# ex7\\nprint(f'ex7 > {globals()}') # global variable들을 dict형식으로 반환\\nglobals()['test_variable'] = 100 \\n# test_variable = 100 선언한 것의 원리\\nprint(f'ex7 > {globals()}') \", \"# ex8 (지역 -> 전역 변수 생성)\\nfor i in range(1, 10):\\n    for k in range(1, 10):\\n        globals()[f'plus_{i}_{k}'] = i + k\\n\\nprint(globals())\", 'locals()', 'print(locals())'], 'Out': {18: {...}}, 'get_ipython': <bound method InteractiveShell.get_ipython of <ipykernel.zmqshell.ZMQInteractiveShell object at 0x0000023143F99F70>>, 'exit': <IPython.core.autocall.ZMQExitAutocall object at 0x0000023144060A90>, 'quit': <IPython.core.autocall.ZMQExitAutocall object at 0x0000023144060A90>, '_': {...}, '__': '', '___': '', 'os': <module 'os' from 'c:\\\\Users\\\\rokie\\\\anaconda3\\\\envs\\\\ai\\\\lib\\\\os.py'>, 'sys': <module 'sys' (built-in)>, '__vsc_ipynb_file__': 'c:\\\\Users\\\\rokie\\\\AlgorithmStudy\\\\inflearnPython\\\\level3\\\\variable_scope(1-1).ipynb', '_i': 'locals()', '_ii': \"# ex8 (지역 -> 전역 변수 생성)\\nfor i in range(1, 10):\\n    for k in range(1, 10):\\n        globals()[f'plus_{i}_{k}'] = i + k\\n\\nprint(globals())\", '_iii': \"# ex7\\nprint(f'ex7 > {globals()}') # global variable들을 dict형식으로 반환\\nglobals()['test_variable'] = 100 \\n# test_variable = 100 선언한 것의 원리\\nprint(f'ex7 > {globals()}') \", '_i1': \"# ex1\\n\\na = 10 # global variable\\n\\ndef foo():\\n    print(f'ex > {a}')\", 'a': 10, 'foo': <function foo at 0x00000231440A79D0>, '_i2': \"# ex1\\n\\na = 10 # global variable\\n\\ndef foo():\\n    print(f'ex > {a}')\", '_i3': \"# ex1\\n\\na = 10 # global variable\\n\\ndef foo():\\n    print(f'ex > {a}')\\nfoo()\", '_i4': '# ex2\\n\\nb = 2\\n\\ndef bar():\\n    b = 30 # local variable\\n    print(f\\'ex2 > {b}\\')\\nbar()\\n\"\"\"\\n먼저 자신의 scope를 찾고 없으면 상위 범위를 찾는다.\\n\\n\"\"\"\\nprint(f\\'ex2 > {b}\\') # 같은 scope가 먼저이고 함수 안의 지역변수는 원래 참조 할 수 없다.', 'b': 2, 'bar': <function bar at 0x0000023144D161F0>, '_i5': \"# ex3\\nc = 40\\n\\ndef foobar():\\n    c = c + 10 \\n    # =은 대입연산자이기 때문에 우에서 좌로 읽어라\\n    # 지역변수 c를 선언한 적이 없기 때문에 \\n    # global c에 10을 더한 후에 \\n\\n    print(f'ex3 > {c}')\\n\\nfoobar()\", 'c': 40, 'foobar': <function foobar at 0x0000023144D09DC0>, '_i6': \"# ex3\\nc = 40\\n\\ndef foobar():\\n    c = 10 \\n    # =은 대입연산자이기 때문에 우에서 좌로 읽어라\\n    # 지역변수 c를 선언한 적이 없기 때문에 \\n    # global c에 10을 더한 후에 \\n\\n    print(f'ex3 > {c}')\\n\\nfoobar()\", '_i7': \"# ex3\\nc = 40\\n\\ndef foobar():\\n    c = c + 10 # c += 10\\n\\n    \\n\\n    print(f'ex3 > {c}')\\n\\nfoobar()\", '_i8': '# ex2\\n\\nb = 2\\nprint(id(b))\\ndef bar():\\n    b = 30 # local variable\\n    print(id(b))\\n    print(f\\'ex2 > {b}\\')\\nbar()\\n\"\"\"\\n먼저 자신의 scope를 찾고 없으면 상위 범위를 찾는다.\\n\\n\"\"\"\\nprint(f\\'ex2 > {b}\\') # 같은 scope가 먼저이고 함수 안의 지역변수는 원래 참조 할 수 없다.', '_i9': \"# ex4\\nd = 50\\n\\ndef barfoo():\\n    global d\\n    d = 60\\n    d += 100\\n    print(f'ex4 > {d}')\\n\\nbarfoo()\", 'd': 160, 'barfoo': <function barfoo at 0x00000231440A7AF0>, '_i10': \"# ex4\\nd = 50\\n\\ndef barfoo():\\n    global d\\n    d = 60\\n    d += 100\\n    print(f'ex4 > {d}')\\n\\nbarfoo()\\nprint(f'ex4 > {d}')\", '_i11': \"# ex5\\n\\ndef outer():\\n    e = 70\\n\\n    def inner():\\n        nonlocal e # global 변수는 아니고 inner의 지역변수도 아니다.\\n        e += 10 \\n        print(f'ex5 > {e}')\\n\\n    return inner\\n\\nin_test = outer()\\nin_test()\", 'outer': <function outer at 0x0000023144D16430>, 'in_test': <function outer.<locals>.inner at 0x00000231440A7700>, '_i12': \"# ex5\\n\\ndef outer():\\n    e = 70\\n\\n    def inner():\\n        nonlocal e # global 변수는 아니고 inner의 지역변수도 아니다.\\n        e += 10 \\n        print(f'ex5 > {e}')\\n\\n    return inner\\n\\nin_test = outer()\\nin_test()\\nin_test()\", '_i13': \"# ex6\\n\\ndef func(var):\\n    x = 10\\n    def printer():\\n        print(f'ex6> print func inner')\\n    print('func inner', locals())\\n\\nprint('Hi')\", 'func': <function func at 0x0000023144D16280>, '_i14': \"# ex6\\n\\ndef func(var):\\n    x = 10\\n    def printer():\\n        print('ex6> print func inner')\\n    print('func inner', locals())\\n\\nfunc('HI')\", '_i15': \"# ex7\\nprint(f'ex7 > {globals()}')\", '_i16': \"# ex7\\nprint(f'ex7 > {globals()}') # global variable들을 dict형식으로 반환\\nglobals()['test_variable'] = 100 \\n# test_variable = 100 선언한 것의 원리\\nprint(f'ex7 > {globals()}') \", 'test_variable': 100, '_i17': \"# ex8 (지역 -> 전역 변수 생성)\\nfor i in range(1, 10):\\n    for k in range(1, 10):\\n        globals()[f'plus_{i}_{k}'] = i + k\\n\\nprint(globals())\", 'i': 9, 'k': 9, 'plus_1_1': 2, 'plus_1_2': 3, 'plus_1_3': 4, 'plus_1_4': 5, 'plus_1_5': 6, 'plus_1_6': 7, 'plus_1_7': 8, 'plus_1_8': 9, 'plus_1_9': 10, 'plus_2_1': 3, 'plus_2_2': 4, 'plus_2_3': 5, 'plus_2_4': 6, 'plus_2_5': 7, 'plus_2_6': 8, 'plus_2_7': 9, 'plus_2_8': 10, 'plus_2_9': 11, 'plus_3_1': 4, 'plus_3_2': 5, 'plus_3_3': 6, 'plus_3_4': 7, 'plus_3_5': 8, 'plus_3_6': 9, 'plus_3_7': 10, 'plus_3_8': 11, 'plus_3_9': 12, 'plus_4_1': 5, 'plus_4_2': 6, 'plus_4_3': 7, 'plus_4_4': 8, 'plus_4_5': 9, 'plus_4_6': 10, 'plus_4_7': 11, 'plus_4_8': 12, 'plus_4_9': 13, 'plus_5_1': 6, 'plus_5_2': 7, 'plus_5_3': 8, 'plus_5_4': 9, 'plus_5_5': 10, 'plus_5_6': 11, 'plus_5_7': 12, 'plus_5_8': 13, 'plus_5_9': 14, 'plus_6_1': 7, 'plus_6_2': 8, 'plus_6_3': 9, 'plus_6_4': 10, 'plus_6_5': 11, 'plus_6_6': 12, 'plus_6_7': 13, 'plus_6_8': 14, 'plus_6_9': 15, 'plus_7_1': 8, 'plus_7_2': 9, 'plus_7_3': 10, 'plus_7_4': 11, 'plus_7_5': 12, 'plus_7_6': 13, 'plus_7_7': 14, 'plus_7_8': 15, 'plus_7_9': 16, 'plus_8_1': 9, 'plus_8_2': 10, 'plus_8_3': 11, 'plus_8_4': 12, 'plus_8_5': 13, 'plus_8_6': 14, 'plus_8_7': 15, 'plus_8_8': 16, 'plus_8_9': 17, 'plus_9_1': 10, 'plus_9_2': 11, 'plus_9_3': 12, 'plus_9_4': 13, 'plus_9_5': 14, 'plus_9_6': 15, 'plus_9_7': 16, 'plus_9_8': 17, 'plus_9_9': 18, '_i18': 'locals()', '_18': {...}, '_i19': 'print(locals())'}\n"
     ]
    }
   ],
   "source": [
    "print(locals()) # 호출된 영역이 전역이면 그 지역이 대상이다."
   ]
  },
  {
   "cell_type": "markdown",
   "metadata": {},
   "source": [
    "전역변수는 주로 변하지 않는 고정값에 사용하고 <br>\n",
    "지역변수는 함수 내에 로직 해결에 국한되어 사용하고 함수 실행 종료시 소멸된다. <br>\n",
    "전역변수를 지역 내에서 수정하는 것은 권장되지 않는다. "
   ]
  },
  {
   "cell_type": "code",
   "execution_count": null,
   "metadata": {},
   "outputs": [],
   "source": []
  }
 ],
 "metadata": {
  "kernelspec": {
   "display_name": "Python 3.8.10 ('ai')",
   "language": "python",
   "name": "python3"
  },
  "language_info": {
   "codemirror_mode": {
    "name": "ipython",
    "version": 3
   },
   "file_extension": ".py",
   "mimetype": "text/x-python",
   "name": "python",
   "nbconvert_exporter": "python",
   "pygments_lexer": "ipython3",
   "version": "3.8.10"
  },
  "orig_nbformat": 4,
  "vscode": {
   "interpreter": {
    "hash": "6270e6d8b5fb321e1a842519f0c29f2e2b7188cdba36e81e06ada9019ab06ac7"
   }
  }
 },
 "nbformat": 4,
 "nbformat_minor": 2
}
