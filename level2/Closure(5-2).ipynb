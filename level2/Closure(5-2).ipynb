{
 "cells": [
  {
   "cell_type": "markdown",
   "metadata": {},
   "source": [
    "Closure in Python can be defined <br>\n",
    "when a nested function references a value in its enclosing scope. \n",
    "<br> Closures provide some form of data hiding. \n",
    "<br> A closure can also be a highly efficient way to preserve state across a series of function calls. \n",
    "<br> To create a closure function in Python:\n",
    "\n",
    "- We must have a nested function.\n",
    "- The nested function must refer to a value defined in the enclosing function.\n",
    "- The enclosing function must return the nested function.\n",
    "\n",
    "reference: https://medium.com/python-features/introduction-to-closures-in-python-8d697ff9e44d"
   ]
  },
  {
   "cell_type": "markdown",
   "metadata": {},
   "source": [
    "A function that is defined inside another function is known as a nested function. <br>\n",
    " Nested functions are able to access variables of the enclosing scope. <br>\n",
    "In Python, these non-local variables can be accessed only within their scope and not outside their scope. \n",
    "\n",
    "reference: https://www.geeksforgeeks.org/python-closures/"
   ]
  },
  {
   "cell_type": "code",
   "execution_count": 1,
   "metadata": {},
   "outputs": [
    {
     "name": "stdout",
     "output_type": "stream",
     "text": [
      "Hey!\n"
     ]
    }
   ],
   "source": [
    "# Python program to illustrate\n",
    "# nested functions\n",
    "def outerFunction(text):\n",
    "    text = text\n",
    " \n",
    "    def innerFunction():\n",
    "        print(text)\n",
    " \n",
    "    innerFunction()\n",
    " \n",
    "if __name__ == '__main__':\n",
    "    outerFunction('Hey!')"
   ]
  },
  {
   "cell_type": "markdown",
   "metadata": {},
   "source": [
    "innerFunction()은 outerFunction 안에서 쉽게 접근할 수 있다.\n",
    "밖에서 접근할 수 없다.\n",
    "innerFunction()이 nested function이고 text가 non-local variable이다."
   ]
  },
  {
   "cell_type": "code",
   "execution_count": 2,
   "metadata": {},
   "outputs": [
    {
     "name": "stdout",
     "output_type": "stream",
     "text": [
      "10\n",
      "20\n"
     ]
    }
   ],
   "source": [
    "#파이썬 변수 범위(scope)\n",
    "\n",
    "b=20 # global\n",
    "def func_v2(a):\n",
    "    print(a) # local\n",
    "    print(b)\n",
    "\n",
    "func_v2(10)\n",
    "\n"
   ]
  },
  {
   "cell_type": "markdown",
   "metadata": {},
   "source": [
    "A Closure is a function object that remembers values in enclosing scopes <br>\n",
    "even if they are not present in memory.\n",
    "\n",
    "- It is a record that stores a function together with an environment: a mapping associating each free variable of the function (variables that are used locally but defined in an enclosing scope) with the value or reference to which the name was bound when the closure was created.\n",
    "- A closure—unlike a plain function—allows the function to access those captured variables through the closure’s copies of their values or references, even when the function is invoked outside their scope."
   ]
  },
  {
   "cell_type": "markdown",
   "metadata": {},
   "source": [
    "When and why to use Closures:\n",
    "1. As closures are used as callback functions, they provide some sort of data hiding. This helps us to reduce the use of global variables.\n",
    "\n",
    "2.  When we have few functions in our code, closures prove to be an efficient way. But if we need to have many functions, then go for class (OOP).\n"
   ]
  },
  {
   "cell_type": "code",
   "execution_count": 3,
   "metadata": {},
   "outputs": [
    {
     "name": "stdout",
     "output_type": "stream",
     "text": [
      "10\n"
     ]
    },
    {
     "ename": "UnboundLocalError",
     "evalue": "local variable 'c' referenced before assignment",
     "output_type": "error",
     "traceback": [
      "\u001b[1;31m---------------------------------------------------------------------------\u001b[0m",
      "\u001b[1;31mUnboundLocalError\u001b[0m                         Traceback (most recent call last)",
      "\u001b[1;32m<ipython-input-3-e84581bd393a>\u001b[0m in \u001b[0;36m<module>\u001b[1;34m\u001b[0m\n\u001b[0;32m      7\u001b[0m \u001b[1;33m\u001b[0m\u001b[0m\n\u001b[0;32m      8\u001b[0m \u001b[1;33m\u001b[0m\u001b[0m\n\u001b[1;32m----> 9\u001b[1;33m \u001b[0mfunc_v3\u001b[0m\u001b[1;33m(\u001b[0m\u001b[1;36m10\u001b[0m\u001b[1;33m)\u001b[0m\u001b[1;33m\u001b[0m\u001b[1;33m\u001b[0m\u001b[0m\n\u001b[0m\u001b[0;32m     10\u001b[0m \u001b[1;31m#UnboundLocalError: local variable 'c' referenced before assignment\u001b[0m\u001b[1;33m\u001b[0m\u001b[1;33m\u001b[0m\u001b[1;33m\u001b[0m\u001b[0m\n\u001b[0;32m     11\u001b[0m \u001b[1;33m\u001b[0m\u001b[0m\n",
      "\u001b[1;32m<ipython-input-3-e84581bd393a>\u001b[0m in \u001b[0;36mfunc_v3\u001b[1;34m(a)\u001b[0m\n\u001b[0;32m      3\u001b[0m \u001b[1;32mdef\u001b[0m \u001b[0mfunc_v3\u001b[0m\u001b[1;33m(\u001b[0m\u001b[0ma\u001b[0m\u001b[1;33m)\u001b[0m\u001b[1;33m:\u001b[0m\u001b[1;33m\u001b[0m\u001b[1;33m\u001b[0m\u001b[0m\n\u001b[0;32m      4\u001b[0m     \u001b[0mprint\u001b[0m\u001b[1;33m(\u001b[0m\u001b[0ma\u001b[0m\u001b[1;33m)\u001b[0m\u001b[1;33m\u001b[0m\u001b[1;33m\u001b[0m\u001b[0m\n\u001b[1;32m----> 5\u001b[1;33m     \u001b[0mprint\u001b[0m\u001b[1;33m(\u001b[0m\u001b[0mc\u001b[0m\u001b[1;33m)\u001b[0m\u001b[1;33m\u001b[0m\u001b[1;33m\u001b[0m\u001b[0m\n\u001b[0m\u001b[0;32m      6\u001b[0m     \u001b[0mc\u001b[0m \u001b[1;33m=\u001b[0m \u001b[1;36m40\u001b[0m \u001b[1;31m# global과 local에 같은 이름이 있으면 로컬이 우선이다.\u001b[0m\u001b[1;33m\u001b[0m\u001b[1;33m\u001b[0m\u001b[0m\n\u001b[0;32m      7\u001b[0m \u001b[1;33m\u001b[0m\u001b[0m\n",
      "\u001b[1;31mUnboundLocalError\u001b[0m: local variable 'c' referenced before assignment"
     ]
    }
   ],
   "source": [
    "c = 30 \n",
    "\n",
    "def func_v3(a):\n",
    "    print(a)\n",
    "    print(c)\n",
    "    c = 40 # global과 local에 같은 이름이 있으면 로컬이 우선이다.\n",
    "\n",
    "\n",
    "func_v3(10)\n",
    "#UnboundLocalError: local variable 'c' referenced before assignment\n",
    "\n"
   ]
  },
  {
   "cell_type": "code",
   "execution_count": 4,
   "metadata": {},
   "outputs": [
    {
     "name": "stdout",
     "output_type": "stream",
     "text": [
      "10\n",
      "30\n",
      "global c == 40\n"
     ]
    }
   ],
   "source": [
    "c = 30 \n",
    "\n",
    "def func_v3(a):\n",
    "    global c\n",
    "    \n",
    "    print(a)\n",
    "    print(c)\n",
    "    c= 40 # 이미 글로벌 사용을 선언했기 때문에 global이다.\n",
    "    \n",
    "\n",
    "func_v3(10)\n",
    "print(f\"global c == {c}\")"
   ]
  },
  {
   "cell_type": "markdown",
   "metadata": {},
   "source": [
    "Closure는 함수가 끝나도 그 상태를 기억한다. <br>\n",
    "서버 프로그래밍 -> concurrency 제어 -> 한정된 메모리에 여러 자원이 접근한다. -> Deadlock <br>\n",
    "메모리를 공유하지 않고 메시지 전달로 처리하기 위한다. 예) Erlang <br>\n",
    "<br>\n",
    "클로저는 공유하되 변경되지 않는 (Immutable, Read-only) 적극적으로 사용함 <br>\n",
    "-> 함수형 프로그래밍 <br>\n",
    "\n",
    "클로저는 불변자료구조 및 atom, STM -> multi-thread(Coroutine) 프로그래밍에 강점이 있다."
   ]
  },
  {
   "cell_type": "code",
   "execution_count": 5,
   "metadata": {},
   "outputs": [
    {
     "name": "stdout",
     "output_type": "stream",
     "text": [
      "200\n",
      "1100\n",
      "inner >> [10]/1\n",
      "10.0\n",
      "inner >> [10, 30]/2\n",
      "20.0\n"
     ]
    }
   ],
   "source": [
    "# Closure\n",
    "a = 100\n",
    "print(a + 100)\n",
    "print(a+1000) # a 안 바뀜\n",
    "\n",
    "# class 이용\n",
    "\n",
    "class Averager():\n",
    "\n",
    "    def __init__(self):\n",
    "        self._series = []\n",
    "\n",
    "    def __call__(self, v):\n",
    "        self._series.append(v)\n",
    "        print(f'inner >> {self._series}/{len(self._series)}')\n",
    "\n",
    "        return sum(self._series) / len(self._series)\n",
    "\n",
    "\n",
    "averager_cls = Averager()\n",
    "\n",
    "# 누적\n",
    "print(averager_cls(10))\n",
    "\n",
    "print(averager_cls(30))\n",
    "\n",
    "# average_cls가 객체로 남아 있기 때문에 상태를 계속 기억하고 있다.\n"
   ]
  },
  {
   "cell_type": "code",
   "execution_count": 6,
   "metadata": {},
   "outputs": [],
   "source": [
    "# Closure 사용\n",
    "\n",
    "def closure_ex1():\n",
    "    \n",
    "    # Free variable : 내가 사용하려는 함수 외부에서 선언된 변수\n",
    "    series = []\n",
    "    # series는 nested function 입장에서 non-local variable이다.\n",
    "    def averager(v):\n",
    "        series.append(v)\n",
    "        print(f'inner >> {series} / {len(series)}')\n",
    "        return sum(series) / len(series)\n",
    "\n",
    "    return averager\n",
    "\n",
    "# averager를 호출해도 series는 원래 enclosing 함수가 종료되면서 소멸되었어야 하나\n",
    "# 클로저가 기억하고 있다."
   ]
  },
  {
   "cell_type": "code",
   "execution_count": 7,
   "metadata": {},
   "outputs": [
    {
     "name": "stdout",
     "output_type": "stream",
     "text": [
      "inner >> [10] / 1\n",
      "10.0\n",
      "inner >> [10, 30] / 2\n",
      "20.0\n",
      "inner >> [10, 30, 50] / 3\n",
      "30.0\n"
     ]
    }
   ],
   "source": [
    "avg_closure1 = closure_ex1()\n",
    "# 여기에서 series는 소멸되었어야 한다.\n",
    "\n",
    "print(avg_closure1(10))\n",
    "print(avg_closure1(30))\n",
    "print(avg_closure1(50))\n",
    "\n",
    "# 그러나 어딘가 series가 남아서 값을 누적시키고 있다.\n",
    "\n"
   ]
  },
  {
   "cell_type": "markdown",
   "metadata": {},
   "source": [
    "- \\_\\_code\\_\\_ : code object containing compiled function bytecode <br>\n",
    "\n",
    "- co_freevars : tuple of names of free variables (referenced via a function’s closure) <br>\n",
    "\n"
   ]
  },
  {
   "cell_type": "code",
   "execution_count": 15,
   "metadata": {},
   "outputs": [
    {
     "name": "stdout",
     "output_type": "stream",
     "text": [
      "['__annotations__', '__call__', '__class__', '__closure__', '__code__', '__defaults__', '__delattr__', '__dict__', '__dir__', '__doc__', '__eq__', '__format__', '__ge__', '__get__', '__getattribute__', '__globals__', '__gt__', '__hash__', '__init__', '__init_subclass__', '__kwdefaults__', '__le__', '__lt__', '__module__', '__name__', '__ne__', '__new__', '__qualname__', '__reduce__', '__reduce_ex__', '__repr__', '__setattr__', '__sizeof__', '__str__', '__subclasshook__'] \n",
      "\n",
      "['__class__', '__delattr__', '__dir__', '__doc__', '__eq__', '__format__', '__ge__', '__getattribute__', '__gt__', '__hash__', '__init__', '__init_subclass__', '__le__', '__lt__', '__ne__', '__new__', '__reduce__', '__reduce_ex__', '__repr__', '__setattr__', '__sizeof__', '__str__', '__subclasshook__', 'co_argcount', 'co_cellvars', 'co_code', 'co_consts', 'co_filename', 'co_firstlineno', 'co_flags', 'co_freevars', 'co_kwonlyargcount', 'co_lnotab', 'co_name', 'co_names', 'co_nlocals', 'co_posonlyargcount', 'co_stacksize', 'co_varnames', 'replace'] \n",
      "\n",
      "('series',) \n",
      "\n",
      "(<cell at 0x0000022E9FA7F2E0: list object at 0x0000022EA068CF40>,) \n",
      "\n",
      "[10, 30, 50] \n",
      "\n"
     ]
    }
   ],
   "source": [
    "# function inspection\n",
    "\n",
    "print(dir(avg_closure1), '\\n')\n",
    "\n",
    "print(dir(avg_closure1.__code__) ,'\\n')\n",
    "\n",
    "\n",
    "print(avg_closure1.__code__.co_freevars, '\\n') # series를 보존하고 있다.\n",
    "\n",
    "print(avg_closure1.__closure__, '\\n') # 클로저가 리스트로 값을 저장해놓음\n",
    "\n",
    "print(avg_closure1.__closure__[0].cell_contents, '\\n') # 값 확인\n",
    "\n"
   ]
  },
  {
   "cell_type": "code",
   "execution_count": 9,
   "metadata": {},
   "outputs": [],
   "source": [
    "# 잘못된 클로저 사용례\n",
    "\n",
    "def closure_ex2():\n",
    "\n",
    "    # Free variable\n",
    "    cnt =0\n",
    "    total = 0\n",
    "\n",
    "    def averager(v):\n",
    "        cnt += 1\n",
    "        total += v\n",
    "        return total / cnt\n",
    "    return averager\n",
    "\n",
    "avg_closure2 = closure_ex2()\n",
    "\n",
    "# print(avg_closure2(10))\n",
    "#  UnboundLocalError: local variable 'cnt' referenced before assignment\n",
    "\n",
    "\n"
   ]
  },
  {
   "cell_type": "code",
   "execution_count": 10,
   "metadata": {},
   "outputs": [
    {
     "name": "stdout",
     "output_type": "stream",
     "text": [
      "15.0\n",
      "22.5\n",
      "30.0\n"
     ]
    }
   ],
   "source": [
    "def closure_ex3():\n",
    "\n",
    "    # Free variable\n",
    "    cnt =0\n",
    "    total = 0\n",
    "\n",
    "    def averager(v):\n",
    "        nonlocal cnt, total # averager scope의 지역변수가 아님을 명시한다.\n",
    "        cnt += 1\n",
    "        total += v\n",
    "        return total / cnt\n",
    "    return averager\n",
    "\n",
    "avg_closure3 = closure_ex3()\n",
    "print(avg_closure3(15))\n",
    "print(avg_closure3(30))\n",
    "print(avg_closure3(45))"
   ]
  },
  {
   "cell_type": "code",
   "execution_count": null,
   "metadata": {},
   "outputs": [],
   "source": []
  }
 ],
 "metadata": {
  "kernelspec": {
   "display_name": "Python 3.8.10 ('ai')",
   "language": "python",
   "name": "python3"
  },
  "language_info": {
   "codemirror_mode": {
    "name": "ipython",
    "version": 3
   },
   "file_extension": ".py",
   "mimetype": "text/x-python",
   "name": "python",
   "nbconvert_exporter": "python",
   "pygments_lexer": "ipython3",
   "version": "3.8.13"
  },
  "orig_nbformat": 4,
  "vscode": {
   "interpreter": {
    "hash": "6270e6d8b5fb321e1a842519f0c29f2e2b7188cdba36e81e06ada9019ab06ac7"
   }
  }
 },
 "nbformat": 4,
 "nbformat_minor": 2
}
