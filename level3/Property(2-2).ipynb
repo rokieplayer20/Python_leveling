{
 "cells": [
  {
   "cell_type": "markdown",
   "metadata": {},
   "source": [
    "underscore <br>\n",
    "keyword: access modifier(접근지정자), underscore(_) <br>\n",
    "\n",
    "underscore 사용\n",
    "1. 인터프리터\n",
    "2. 값 무시\n",
    "3. naming(구체화, 자릿수)"
   ]
  },
  {
   "cell_type": "code",
   "execution_count": 1,
   "metadata": {},
   "outputs": [
    {
     "name": "stdout",
     "output_type": "stream",
     "text": [
      "1 3\n",
      "2\n",
      "1 6\n",
      "5\n",
      "7\n",
      "9\n"
     ]
    }
   ],
   "source": [
    "# ex1\n",
    "# underscore\n",
    "\n",
    "#  unpacking\n",
    "\n",
    "x, _, y = (1,2,3)\n",
    "\n",
    "print(x, y)\n",
    "print(_)\n",
    "\n",
    "# _에 값이 들어간다. 단지 관습적으로 값을 무시하기 위해 쓴다.\n",
    "\n",
    "a, *_, b = (1,2,3,4,5,6) # _에 packing\n",
    "print(a, b)\n",
    "\n",
    "for _ in range(10):\n",
    "    pass\n",
    "    # 무시하면서 반복만 한다.\n",
    "for _, val in enumerate(range(5, 10, 2)):\n",
    "    print(val)"
   ]
  },
  {
   "cell_type": "markdown",
   "metadata": {},
   "source": [
    "# Nameing Mangling\n",
    "파이썬은 public을 강제하지 않는다. 약속된 규약에 따라 자유를 통한 책임감을 장려한다.\n",
    "1. name: public\n",
    "2. _name: protected\n",
    "3. __name: private\n",
    "\n",
    "다른 클래스에서 클래스 변수, 인스턴스 변수 값을 쓰기를 장려하지 않는다."
   ]
  },
  {
   "cell_type": "code",
   "execution_count": 2,
   "metadata": {},
   "outputs": [],
   "source": [
    "# ex2 접근지정자: public, protected, private\n",
    "\n",
    "# No use property\n",
    "\n",
    "class SampleA:\n",
    "\n",
    "    def __init__(self):\n",
    "        self.x = 0\n",
    "        self.__y = 0\n",
    "        self._z = 0"
   ]
  },
  {
   "cell_type": "code",
   "execution_count": 3,
   "metadata": {},
   "outputs": [
    {
     "name": "stdout",
     "output_type": "stream",
     "text": [
      "ex2 > x :1\n",
      "ex2 > z :0\n"
     ]
    },
    {
     "ename": "AttributeError",
     "evalue": "'SampleA' object has no attribute '__y'",
     "output_type": "error",
     "traceback": [
      "\u001b[1;31m---------------------------------------------------------------------------\u001b[0m",
      "\u001b[1;31mAttributeError\u001b[0m                            Traceback (most recent call last)",
      "\u001b[1;32m<ipython-input-3-7527cee17036>\u001b[0m in \u001b[0;36m<module>\u001b[1;34m\u001b[0m\n\u001b[0;32m      4\u001b[0m \u001b[0mprint\u001b[0m\u001b[1;33m(\u001b[0m\u001b[1;34mf'ex2 > x :{a.x}'\u001b[0m\u001b[1;33m)\u001b[0m\u001b[1;33m\u001b[0m\u001b[1;33m\u001b[0m\u001b[0m\n\u001b[0;32m      5\u001b[0m \u001b[0mprint\u001b[0m\u001b[1;33m(\u001b[0m\u001b[1;34mf'ex2 > z :{a._z}'\u001b[0m\u001b[1;33m)\u001b[0m\u001b[1;33m\u001b[0m\u001b[1;33m\u001b[0m\u001b[0m\n\u001b[1;32m----> 6\u001b[1;33m \u001b[0mprint\u001b[0m\u001b[1;33m(\u001b[0m\u001b[1;34mf'ex2 > y : {a.__y}'\u001b[0m\u001b[1;33m)\u001b[0m\u001b[1;33m\u001b[0m\u001b[1;33m\u001b[0m\u001b[0m\n\u001b[0m\u001b[0;32m      7\u001b[0m \u001b[1;31m# private 변수이기 때문에 직접 전근 못하게 만든다.\u001b[0m\u001b[1;33m\u001b[0m\u001b[1;33m\u001b[0m\u001b[1;33m\u001b[0m\u001b[0m\n\u001b[0;32m      8\u001b[0m \u001b[1;31m# 그러나 이름만 바뀌었을 뿐이라서 직접 전근할 수 있는 방법이 있다.\u001b[0m\u001b[1;33m\u001b[0m\u001b[1;33m\u001b[0m\u001b[1;33m\u001b[0m\u001b[0m\n",
      "\u001b[1;31mAttributeError\u001b[0m: 'SampleA' object has no attribute '__y'"
     ]
    }
   ],
   "source": [
    "a = SampleA()\n",
    "a.x =1\n",
    "\n",
    "print(f'ex2 > x :{a.x}')\n",
    "print(f'ex2 > z :{a._z}')\n",
    "print(f'ex2 > y : {a.__y}')\n",
    "# private 변수이기 때문에 직접 전근 못하게 만든다.\n",
    "# 그러나 이름만 바뀌었을 뿐이라서 직접 전근할 수 있는 방법이 있다."
   ]
  },
  {
   "cell_type": "code",
   "execution_count": 4,
   "metadata": {},
   "outputs": [
    {
     "name": "stdout",
     "output_type": "stream",
     "text": [
      "ex2 > ['_SampleA__y', '__class__', '__delattr__', '__dict__', '__dir__', '__doc__', '__eq__', '__format__', '__ge__', '__getattribute__', '__gt__', '__hash__', '__init__', '__init_subclass__', '__le__', '__lt__', '__module__', '__ne__', '__new__', '__reduce__', '__reduce_ex__', '__repr__', '__setattr__', '__sizeof__', '__str__', '__subclasshook__', '__weakref__', '_z', 'x']\n",
      "ex2 > y : 0\n"
     ]
    }
   ],
   "source": [
    "print(f'ex2 > {dir(a)}')\n",
    "# __y -> _SampleA__y (_classname__name)\n",
    "print(f'ex2 > y : {a._SampleA__y}')\n",
    "# 굳이 접근할 수 있다. 장려하지 않는다."
   ]
  },
  {
   "cell_type": "code",
   "execution_count": 5,
   "metadata": {},
   "outputs": [
    {
     "name": "stdout",
     "output_type": "stream",
     "text": [
      "2\n",
      "['_SampleB__y', '__class__', '__delattr__', '__dict__', '__dir__', '__doc__', '__eq__', '__format__', '__ge__', '__getattribute__', '__gt__', '__hash__', '__init__', '__init_subclass__', '__le__', '__lt__', '__module__', '__ne__', '__new__', '__reduce__', '__reduce_ex__', '__repr__', '__setattr__', '__sizeof__', '__str__', '__subclasshook__', '__weakref__', 'get_y', 'set_y', 'x']\n"
     ]
    }
   ],
   "source": [
    "# ex3\n",
    "# method 활용: Getter, Setter\n",
    "\n",
    "class SampleB:\n",
    "    def __init__(self):\n",
    "        self.x = 0\n",
    "        self.__y = 0\n",
    "    \n",
    "    def get_y(self):\n",
    "        return self.__y\n",
    "    def set_y(self, value):\n",
    "        self.__y = value\n",
    "    \n",
    "\n",
    "\n",
    "b = SampleB()\n",
    "b.x = 1\n",
    "b.set_y(2)\n",
    "print(b.get_y())\n",
    "\n",
    "# 직접 접근하면 코드의 일관성과 가독성이 하락함\n",
    "# b._SampleB__y = 3\n",
    "print(dir(b))"
   ]
  },
  {
   "cell_type": "markdown",
   "metadata": {},
   "source": [
    "@Property <br>\n",
    "\n",
    "1. Pythonic code\n",
    "2. 변수 제약 설정\n",
    "3. Getter, Setter 효과가 등등하다. \n",
    "    - 코드 일관성\n",
    "    - 캡슐화-유효성 검사 기능 추가 용이하다.\n",
    "    - 대체 표현 -> 속성과 내부의 표현 숨기기\n",
    "    - 속성의 수명 및 메모리 관리 용이\n",
    "    - 디버깅 용이\n",
    "    - 이것을 이용한 라이브러리(오픈소스)들이 상호 운용성이 증가된다."
   ]
  },
  {
   "cell_type": "code",
   "execution_count": 6,
   "metadata": {},
   "outputs": [],
   "source": [
    "# ex1\n",
    "\n",
    "class SampleA:\n",
    "\n",
    "    def __init__(self):\n",
    "        self.x = 0\n",
    "        self.__y = 0\n",
    "        self._z = 0\n",
    "\n",
    "    @property\n",
    "    def y(self):\n",
    "        # getter _를 제외하고 변수 이름만 사용한다.\n",
    "        print('Called get method')\n",
    "        return self.__y\n",
    "\n",
    "    @y.setter\n",
    "    def y(self, value):\n",
    "        print('Called set method')\n",
    "        self.__y = value\n",
    "\n",
    "    @y.deleter\n",
    "    def y(self):\n",
    "        print('Called del method')\n",
    "        del self.__y\n",
    "\n",
    "    "
   ]
  },
  {
   "cell_type": "code",
   "execution_count": 7,
   "metadata": {},
   "outputs": [
    {
     "name": "stdout",
     "output_type": "stream",
     "text": [
      "Called set method\n",
      "Called get method\n",
      "ex1 > x, y : 1, 2\n",
      "Called del method\n",
      "['__class__', '__delattr__', '__dict__', '__dir__', '__doc__', '__eq__', '__format__', '__ge__', '__getattribute__', '__gt__', '__hash__', '__init__', '__init_subclass__', '__le__', '__lt__', '__module__', '__ne__', '__new__', '__reduce__', '__reduce_ex__', '__repr__', '__setattr__', '__sizeof__', '__str__', '__subclasshook__', '__weakref__', '_z', 'x', 'y']\n"
     ]
    }
   ],
   "source": [
    "a = SampleA()\n",
    "\n",
    "a.x =1\n",
    "\n",
    "a.y = 2 # 알아서 setter 호출\n",
    "\n",
    "print(f'ex1 > x, y : {a.x}, {a.y}')\n",
    "\n",
    "del a.y\n",
    "print(dir(a))\n",
    "# _SampleA__y가 없다."
   ]
  },
  {
   "cell_type": "code",
   "execution_count": 8,
   "metadata": {},
   "outputs": [],
   "source": [
    "# property 제약 조건 추가\n",
    "\n",
    "class SampleB:\n",
    "\n",
    "    def __init__(self):\n",
    "        self.x = 0\n",
    "        self.__y = 0\n",
    "        self._z = 0\n",
    "\n",
    "    @property\n",
    "    def y(self):\n",
    "       \n",
    "        return self.__y\n",
    "\n",
    "    @y.setter\n",
    "    def y(self, value):\n",
    "        if value < 0:\n",
    "            raise ValueError('0보다 큰 값을 넣어라!')\n",
    "        self.__y = value\n",
    "\n",
    "    @y.deleter\n",
    "    def y(self):\n",
    "      \n",
    "        del self.__y"
   ]
  },
  {
   "cell_type": "code",
   "execution_count": 9,
   "metadata": {},
   "outputs": [
    {
     "ename": "ValueError",
     "evalue": "0보다 큰 값을 넣어라!",
     "output_type": "error",
     "traceback": [
      "\u001b[1;31m---------------------------------------------------------------------------\u001b[0m",
      "\u001b[1;31mValueError\u001b[0m                                Traceback (most recent call last)",
      "\u001b[1;32m<ipython-input-9-3dbc4565a94d>\u001b[0m in \u001b[0;36m<module>\u001b[1;34m\u001b[0m\n\u001b[0;32m      1\u001b[0m \u001b[0mb\u001b[0m \u001b[1;33m=\u001b[0m \u001b[0mSampleB\u001b[0m\u001b[1;33m(\u001b[0m\u001b[1;33m)\u001b[0m\u001b[1;33m\u001b[0m\u001b[1;33m\u001b[0m\u001b[0m\n\u001b[0;32m      2\u001b[0m \u001b[0mb\u001b[0m\u001b[1;33m.\u001b[0m\u001b[0mx\u001b[0m \u001b[1;33m=\u001b[0m\u001b[1;36m1\u001b[0m\u001b[1;33m\u001b[0m\u001b[1;33m\u001b[0m\u001b[0m\n\u001b[1;32m----> 3\u001b[1;33m \u001b[0mb\u001b[0m\u001b[1;33m.\u001b[0m\u001b[0my\u001b[0m \u001b[1;33m=\u001b[0m \u001b[1;33m-\u001b[0m\u001b[1;36m10\u001b[0m\u001b[1;33m\u001b[0m\u001b[1;33m\u001b[0m\u001b[0m\n\u001b[0m",
      "\u001b[1;32m<ipython-input-8-5ed81d93ba99>\u001b[0m in \u001b[0;36my\u001b[1;34m(self, value)\u001b[0m\n\u001b[0;32m     16\u001b[0m     \u001b[1;32mdef\u001b[0m \u001b[0my\u001b[0m\u001b[1;33m(\u001b[0m\u001b[0mself\u001b[0m\u001b[1;33m,\u001b[0m \u001b[0mvalue\u001b[0m\u001b[1;33m)\u001b[0m\u001b[1;33m:\u001b[0m\u001b[1;33m\u001b[0m\u001b[1;33m\u001b[0m\u001b[0m\n\u001b[0;32m     17\u001b[0m         \u001b[1;32mif\u001b[0m \u001b[0mvalue\u001b[0m \u001b[1;33m<\u001b[0m \u001b[1;36m0\u001b[0m\u001b[1;33m:\u001b[0m\u001b[1;33m\u001b[0m\u001b[1;33m\u001b[0m\u001b[0m\n\u001b[1;32m---> 18\u001b[1;33m             \u001b[1;32mraise\u001b[0m \u001b[0mValueError\u001b[0m\u001b[1;33m(\u001b[0m\u001b[1;34m'0보다 큰 값을 넣어라!'\u001b[0m\u001b[1;33m)\u001b[0m\u001b[1;33m\u001b[0m\u001b[1;33m\u001b[0m\u001b[0m\n\u001b[0m\u001b[0;32m     19\u001b[0m         \u001b[0mself\u001b[0m\u001b[1;33m.\u001b[0m\u001b[0m__y\u001b[0m \u001b[1;33m=\u001b[0m \u001b[0mvalue\u001b[0m\u001b[1;33m\u001b[0m\u001b[1;33m\u001b[0m\u001b[0m\n\u001b[0;32m     20\u001b[0m \u001b[1;33m\u001b[0m\u001b[0m\n",
      "\u001b[1;31mValueError\u001b[0m: 0보다 큰 값을 넣어라!"
     ]
    }
   ],
   "source": [
    "b = SampleB()\n",
    "b.x =1\n",
    "b.y = -10"
   ]
  },
  {
   "cell_type": "code",
   "execution_count": null,
   "metadata": {},
   "outputs": [],
   "source": []
  },
  {
   "cell_type": "code",
   "execution_count": null,
   "metadata": {},
   "outputs": [],
   "source": []
  }
 ],
 "metadata": {
  "kernelspec": {
   "display_name": "Python 3.8.10 ('ai')",
   "language": "python",
   "name": "python3"
  },
  "language_info": {
   "codemirror_mode": {
    "name": "ipython",
    "version": 3
   },
   "file_extension": ".py",
   "mimetype": "text/x-python",
   "name": "python",
   "nbconvert_exporter": "python",
   "pygments_lexer": "ipython3",
   "version": "3.8.10"
  },
  "orig_nbformat": 4,
  "vscode": {
   "interpreter": {
    "hash": "6270e6d8b5fb321e1a842519f0c29f2e2b7188cdba36e81e06ada9019ab06ac7"
   }
  }
 },
 "nbformat": 4,
 "nbformat_minor": 2
}
