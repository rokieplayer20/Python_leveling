{
 "cells": [
  {
   "cell_type": "markdown",
   "metadata": {},
   "source": [
    "reference: https://hongl.tistory.com/290"
   ]
  },
  {
   "cell_type": "code",
   "execution_count": 1,
   "metadata": {},
   "outputs": [],
   "source": [
    "class Grade:\n",
    "\n",
    "    def __init__(self):\n",
    "        self._value = 0\n",
    "\n",
    "    def __get__(self, inst, inst_type):\n",
    "        return self._value\n",
    "    \n",
    "    def __set__(self, inst, value):\n",
    "        if not (0 <= value <= 100):\n",
    "            raise ValueError(f\"!\")\n",
    "\n",
    "        self._value = value\n",
    "\n",
    "    "
   ]
  },
  {
   "cell_type": "code",
   "execution_count": 2,
   "metadata": {},
   "outputs": [],
   "source": [
    "# 아래에 기술된 방식은 강사의 Pythonic 방식이고 \n",
    "# 이것은 JAVA에서 Has-a relationship에서 착안해온 방식이다.\n",
    "class yee:\n",
    "    def __init__(self):\n",
    "        self.a1 = Grade()\n",
    "        self.a2 = Grade()\n",
    "# 아래의 방식은 선언하기를 class variable로 선언해 놓고 인스턴스 변수로 쓰려고 해서 혼란스럽다.\n",
    "# 그냥 나처럼 처음부터 init 안에서 선언하면 저런 문제도 겪지도 않는다.\n",
    "\n",
    "        self._a3 = Grade()\n",
    "        self.__a4 = Grade()\n"
   ]
  },
  {
   "cell_type": "code",
   "execution_count": 3,
   "metadata": {},
   "outputs": [
    {
     "name": "stdout",
     "output_type": "stream",
     "text": [
      "1 2\n",
      "1 2 3 4\n",
      "y1 is y2 : False\n",
      "y1.a1 is y2.a1 : False\n",
      "y1.a1 is y1.a2 : False\n",
      "y1.a1 is y2.a2 : False\n"
     ]
    }
   ],
   "source": [
    "y1 = yee()\n",
    "y2 = yee()\n",
    "y1.a1 = 1\n",
    "y1.a2 = 2\n",
    "\n",
    "print(y1.a1, y1.a2)\n",
    "\n",
    "y2.a1= 3\n",
    "y2.a2 = 4\n",
    "print(y1.a1, y1.a2, y2.a1, y2.a2)\n",
    "print(f'y1 is y2 : {y1 is y2}')\n",
    "print(f'y1.a1 is y2.a1 : {y1.a1 is y2.a1}')\n",
    "print(f'y1.a1 is y1.a2 : {y1.a1 is y1.a2}')\n",
    "print(f'y1.a1 is y2.a2 : {y1.a1 is y2.a2}')"
   ]
  },
  {
   "cell_type": "code",
   "execution_count": 19,
   "metadata": {},
   "outputs": [
    {
     "name": "stdout",
     "output_type": "stream",
     "text": [
      "101 303 202 404\n",
      "y1.a3 is y2.a3 : False\n",
      "y1.a4 is y2.a4 : False\n",
      "{'a1': 1, 'a2': 2, '_a3': <__main__.Grade object at 0x0000025DACFDFF70>, '_yee__a4': <__main__.Grade object at 0x0000025DACFDFD30>, 'a3': 101, 'a4': 303}\n"
     ]
    }
   ],
   "source": [
    "y1.a3 = 101\n",
    "y2.a3 = 202\n",
    "y1.a4 = 303\n",
    "y2.a4 = 404\n",
    "\n",
    "print(y1.a3, y1.a4, y2.a3, y2.a4)\n",
    "print(f'y1.a3 is y2.a3 : {y1.a3 is y2.a3}')\n",
    "print(f'y1.a4 is y2.a4 : {y1.a4 is y2.a4}')\n",
    "print(y1.__dict__)"
   ]
  },
  {
   "cell_type": "markdown",
   "metadata": {},
   "source": [
    "그러나 문제가 발생했다. a1, a2, a3, a4를 보면 알겠지만 그냥 이름표를 새 변수로 옮겨 붙였을 뿐이고 Grade 객체의 상태값을 바꾼 것이 아니다. <br>\n",
    "_a3, __a4는 변수의 이름이 바뀌었기 때문에 그대로 두고 새 변수만 만들어져 버렸다. <br>\n",
    "그렇다고 별도의 사용자가 만든 getter, setter를 써야 한다. <br>\n",
    "decorator인 @property 같은 것을 사용하면 kernel 충돌이 발생해서 정지된다. <br>\n",
    "만일 JAVA의 방식대로 하고 싶다면 descriptor_supplementary2 파일을 확인해봐라."
   ]
  },
  {
   "cell_type": "markdown",
   "metadata": {},
   "source": [
    "Exam.__dict__['writing_grade'].__set__(exam1, 82)<br>\n",
    "Exam.__dict__['writing_grade'].__set__(exam2, 11)<br>\n",
    "지금 class 속을 보면 exam1, exam2 객체를 넣은 건 형식이고 사용되지 않는다. <br>\n",
    "즉, 클래스에 하나만 생성되어 객체들에 공유된다."
   ]
  },
  {
   "cell_type": "code",
   "execution_count": 5,
   "metadata": {},
   "outputs": [],
   "source": [
    "class Exam:\n",
    "\n",
    "    math_grade = Grade()\n",
    "    writing_grade = Grade()\n",
    "    science_grade = Grade()\n",
    "    # 선언하기를 클래스 변수로 선언했으니 특별한 조치를 취하지 않으면 클래스 변수가 되어 모든 객체에 의해 공유되는 것이 당연하다.\n"
   ]
  },
  {
   "cell_type": "code",
   "execution_count": 6,
   "metadata": {},
   "outputs": [
    {
     "name": "stdout",
     "output_type": "stream",
     "text": [
      "exam1.writing_grade : 82, exam1.science_grade : 99\n"
     ]
    }
   ],
   "source": [
    "exam1 = Exam()\n",
    "exam1.writing_grade = 82  # Exam.__dict__['writing_grade'].__set__(exam1, 82)\n",
    "exam1.science_grade = 99\n",
    "print(f'exam1.writing_grade : {exam1.writing_grade}, exam1.science_grade : {exam1.science_grade}')"
   ]
  },
  {
   "cell_type": "code",
   "execution_count": 7,
   "metadata": {},
   "outputs": [
    {
     "name": "stdout",
     "output_type": "stream",
     "text": [
      "exam2.writing_grade : 11, exam2.science_grade : 22\n"
     ]
    }
   ],
   "source": [
    "exam2 = Exam()\n",
    "exam2.writing_grade = 11\n",
    "exam2.science_grade = 22\n",
    "print(f'exam2.writing_grade : {exam2.writing_grade}, exam2.science_grade : {exam2.science_grade}')"
   ]
  },
  {
   "cell_type": "code",
   "execution_count": 8,
   "metadata": {},
   "outputs": [
    {
     "name": "stdout",
     "output_type": "stream",
     "text": [
      "exam1.writing_grade : 11, exam1.science_grade : 22\n",
      "exam1 is exam2 ?? False\n",
      "exam1.writing_grade is exam2.writing_grade ?? True\n",
      "exam1.science_grade_grade is exam2.science_grade ?? True\n",
      "exam1.writing_grade is exam2.science_grade ?? False\n",
      "exam1.writing_grade is exam1.science_grade ?? False\n"
     ]
    }
   ],
   "source": [
    "print(f'exam1.writing_grade : {exam1.writing_grade}, exam1.science_grade : {exam1.science_grade}')\n",
    "\n",
    "# exam2를 변경했는데 exam1 값이 같이 변경된다. 이것은 얕은 복사의 문제다.\n",
    "# 새로운 Grade instance가 생성되지 않았기 때문이다.\n",
    "print('exam1 is exam2 ??', exam1 is exam2)\n",
    "print('exam1.writing_grade is exam2.writing_grade ??', exam1.writing_grade is exam2.writing_grade)\n",
    "print('exam1.science_grade_grade is exam2.science_grade ??', exam1.science_grade is exam2.science_grade)\n",
    "print('exam1.writing_grade is exam2.science_grade ??', exam1.writing_grade is exam2.science_grade)\n",
    "print('exam1.writing_grade is exam1.science_grade ??', exam1.writing_grade is exam1.science_grade)\n",
    "# Shallow copy"
   ]
  },
  {
   "cell_type": "markdown",
   "metadata": {},
   "source": [
    "문제는 writing_grade class_attribute로 한 Grade instance를 모든 Exam 인스턴스가 공유한다는 점이다.\n",
    "프로그램이 실행되는 동안 Exam 클래스가 처음 정의될 때, 이 attribute에 대한 Grade instace가 단 한 번만 생성되고 Exam 인스턴스가 생성될 때마다 매번 Grade 인스턴스가 생성되지 않는다."
   ]
  },
  {
   "cell_type": "code",
   "execution_count": 9,
   "metadata": {},
   "outputs": [],
   "source": [
    "# property 제약 조건 추가\n",
    "\n",
    "class SampleB:\n",
    "\n",
    "    def __init__(self):\n",
    "        self.x = 0\n",
    "        self.__y = 0\n",
    "        self._z = 0\n",
    "\n",
    "    @property\n",
    "    def y(self):\n",
    "       \n",
    "        return self.__y\n",
    "\n",
    "    @y.setter\n",
    "    def y(self, value):\n",
    "        if value < 0:\n",
    "            raise ValueError('0보다 큰 값을 넣어라!')\n",
    "        self.__y = value\n",
    "\n",
    "    @y.deleter\n",
    "    def y(self):\n",
    "      \n",
    "        del self.__y"
   ]
  },
  {
   "cell_type": "code",
   "execution_count": 10,
   "metadata": {},
   "outputs": [
    {
     "name": "stdout",
     "output_type": "stream",
     "text": [
      "1 2\n",
      "1 6\n",
      "a1 is a2 : False\n",
      "a1.x is a2.x : False\n"
     ]
    }
   ],
   "source": [
    "a1 = SampleB()\n",
    "a2 = SampleB()\n",
    "\n",
    "a1.x = 1\n",
    "a2.x = 2\n",
    "\n",
    "print(a1.x, a2.x)\n",
    "\n",
    "a2.x = 6\n",
    "print(a1.x, a2.x)\n",
    "\n",
    "# 그냥 property decorator를 쓰면 이런 문제는 안 발생한다.\n",
    "\n",
    "print(f'a1 is a2 : {a1 is a2}')\n",
    "print(f'a1.x is a2.x : {a1.x is a2.x}')\n"
   ]
  },
  {
   "cell_type": "markdown",
   "metadata": {},
   "source": [
    "Exam2 instance에 대해 값을 따로 추적하게 해야 하며 인스턴스별 상태를 딕셔너리에 저장하면 구현이 가능하다.\n",
    "즉, Exam2 class의 attribute에 대해서 Grade2 인스턴스가 한 번 생성되지만 Exam2 인스턴스별로 값을 별도로 저장하는 것이다."
   ]
  },
  {
   "cell_type": "code",
   "execution_count": 11,
   "metadata": {},
   "outputs": [],
   "source": [
    "class Grade2:\n",
    "\n",
    "    def __init__(self):\n",
    "        self._value = {}\n",
    "\n",
    "    def __get__(self, instance, isinstance_type):\n",
    "        if instance is None:\n",
    "            return self\n",
    "        return self._value.get(instance, 0)\n",
    "\n",
    "    def __set__(self, instance, value):\n",
    "        if not (0 <= value <= 100):\n",
    "            raise ValueError(f\"!\")\n",
    "\n",
    "        self._value[instance] = value"
   ]
  },
  {
   "cell_type": "markdown",
   "metadata": {},
   "source": [
    "내 추측: 모든 인스턴스 변수는 클래스 변수를 딕셔너리로 추적하는 방식으로 확장한 것에 불과한 것이다. <br>\n",
    "def __get__(self, instance, isinstance_type)에서 self는 Grade2의 객체이고 instance는 Exam2의 instance로 이번 Grade에선 instance를 따로 사용하지 않았기 때문에 class_variable로 사용되었다. <br>\n",
    "왜냐하면 객체별로 구분할 수 없기 때문에 모든 instance 전체에서 공유하는 클래스 변수가 되어 버렸다. 클래스 변수인 Grade2 instance의 Grade2._value가 만들어진다. 그러나 각 Exam2의 instance를 key로 삼아서 <br>\n",
    "클래스 변수 내부에서 객체별로 구분했기 때문에 instnace 변수로써 사용 가능한 것이다. <br>"
   ]
  },
  {
   "cell_type": "code",
   "execution_count": 12,
   "metadata": {},
   "outputs": [],
   "source": [
    "class Exam2():\n",
    "    \n",
    "    writing_grade = Grade2()\n",
    "    science_grade = Grade2()\n",
    "    # class variable로 선언되었다. writing_grade, science_grade는 클래스 변수이므로 각 instance에서 공유될 뿐이고\n",
    "    # Grade2 객체 안에 있는 딕셔너리에서 Exam2 인스턴스롤 key로 삼아서 구분되는 것이다.\n",
    "\n",
    "    "
   ]
  },
  {
   "cell_type": "code",
   "execution_count": 13,
   "metadata": {},
   "outputs": [
    {
     "name": "stdout",
     "output_type": "stream",
     "text": [
      "88 70\n",
      "11 22\n",
      "88 70\n"
     ]
    }
   ],
   "source": [
    "exam3 = Exam2()\n",
    "\n",
    "\n",
    "exam3.writing_grade = 88 # Exam2.__dict__['writing_grade'].__set__(exam3, 88)\n",
    "exam3.science_grade = 70\n",
    "\n",
    "print(exam3.writing_grade, exam3.science_grade)\n",
    "\n",
    "exam4 = Exam2()\n",
    "\n",
    "exam4.writing_grade = 11\n",
    "exam4.science_grade = 22\n",
    "\n",
    "print(exam4.writing_grade, exam4.science_grade)\n",
    "print(exam3.writing_grade, exam3.science_grade)"
   ]
  },
  {
   "cell_type": "code",
   "execution_count": 14,
   "metadata": {},
   "outputs": [
    {
     "name": "stdout",
     "output_type": "stream",
     "text": [
      "exam3 is exam4 : False\n",
      "exam3.science_grade is exam4.science_grade : False\n",
      "<__main__.Grade2 object at 0x0000025DAC5403D0>\n"
     ]
    }
   ],
   "source": [
    "print(f'exam3 is exam4 : {exam3 is exam4}')\n",
    "print(f'exam3.science_grade is exam4.science_grade : {exam3.science_grade is exam4.science_grade}')\n",
    "\n",
    "print(Exam2.writing_grade)\n",
    "# 내가 선언한 객체는 2개임에도 불구하고 Exam2 class에는 writing_grade 객체가 1개만 있다. 즉, class 변수로 모든 객체에 공유되며 그 안에서 딕셔너리로 공유되고 있을 뿐이다."
   ]
  },
  {
   "cell_type": "code",
   "execution_count": null,
   "metadata": {},
   "outputs": [],
   "source": []
  }
 ],
 "metadata": {
  "kernelspec": {
   "display_name": "Python 3.8.10 ('ai')",
   "language": "python",
   "name": "python3"
  },
  "language_info": {
   "codemirror_mode": {
    "name": "ipython",
    "version": 3
   },
   "file_extension": ".py",
   "mimetype": "text/x-python",
   "name": "python",
   "nbconvert_exporter": "python",
   "pygments_lexer": "ipython3",
   "version": "3.8.10"
  },
  "orig_nbformat": 4,
  "vscode": {
   "interpreter": {
    "hash": "6270e6d8b5fb321e1a842519f0c29f2e2b7188cdba36e81e06ada9019ab06ac7"
   }
  }
 },
 "nbformat": 4,
 "nbformat_minor": 2
}
