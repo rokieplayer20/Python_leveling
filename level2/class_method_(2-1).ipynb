{
 "cells": [
  {
   "cell_type": "markdown",
   "metadata": {},
   "source": [
    "이미 파이썬에서 구현되어 있고, object로부터 자동 상속 받는 magic method(== special method) <br>\n",
    "\n",
    "__init__() : constructor 역할을 수행한다. instance 생성시 사용됨 <br>\n",
    "\n",
    "__str__() : instance 정보를 사용자 수준에서 출력함, 객체 자체를 print에 넣을 때 사용됨 <br>\n",
    "\n",
    "__repr__() : represent, 개발자 수준에서 eval, type 등에서 표시시킬 때 사용함 <br>\n",
    "\n",
    "만일 str, repr 중 하나가 없으면 다른 하나가 대신 출력된다. <br>"
   ]
  },
  {
   "cell_type": "code",
   "execution_count": 1,
   "metadata": {},
   "outputs": [],
   "source": [
    "class Car(object):\n",
    "    # __init__() 같은 스페셜 메소드는 object로부터 기본적으로 상속받는다.\n",
    "    def __init__(self, company, details):\n",
    "        self._company = company\n",
    "        self._details = details\n",
    "\n",
    "    def __str__(self):\n",
    "        return f'str : {self._company} - {self._details}'\n",
    "\n",
    "    def __repr__(self):\n",
    "        return f'repr : {self._company} - {self._details}'\n",
    "\n",
    "    \n",
    "    "
   ]
  },
  {
   "cell_type": "code",
   "execution_count": 2,
   "metadata": {},
   "outputs": [
    {
     "name": "stdout",
     "output_type": "stream",
     "text": [
      "str : Ferrari - {'color': 'White', 'horsepower': 400, 'price': 8000}\n",
      "repr : Ferrari - {'color': 'White', 'horsepower': 400, 'price': 8000}\n"
     ]
    },
    {
     "data": {
      "text/plain": [
       "'\\n그냥 instance를 출력하면 <__main__.Car object at 0x0000017381704310>\\n\\n그러나 __str__()를 override하면 다른 방식으로 출력할 수 있다.\\n\\n'"
      ]
     },
     "execution_count": 2,
     "metadata": {},
     "output_type": "execute_result"
    }
   ],
   "source": [
    "car1 = Car('Ferrari', {'color': 'White', 'horsepower':400, 'price':8000})\n",
    "print(car1)\n",
    "print(repr(car1))\n",
    "\"\"\"\n",
    "그냥 instance를 출력하면 <__main__.Car object at 0x0000017381704310>\n",
    "\n",
    "그러나 __str__()를 override하면 다른 방식으로 출력할 수 있다.\n",
    "\n",
    "\"\"\""
   ]
  },
  {
   "cell_type": "code",
   "execution_count": 3,
   "metadata": {},
   "outputs": [],
   "source": [
    "car2 = Car('Bmw', {'color': 'Black', 'horsepower':270, 'price':5000})\n",
    "car3 = Car('Audi', {'color': 'Silver', 'horsepower':300, 'price':6000})\n",
    "car_list = []\n",
    "car_list.append(car1); car_list.append(car2); car_list.append(car3);"
   ]
  },
  {
   "cell_type": "code",
   "execution_count": 4,
   "metadata": {},
   "outputs": [
    {
     "name": "stdout",
     "output_type": "stream",
     "text": [
      "{'_company': 'Ferrari', '_details': {'color': 'White', 'horsepower': 400, 'price': 8000}}\n"
     ]
    }
   ],
   "source": [
    "print(car1.__dict__) #car1의 namespace에 속한 method, attribute들이 나옴"
   ]
  },
  {
   "cell_type": "code",
   "execution_count": null,
   "metadata": {},
   "outputs": [],
   "source": []
  },
  {
   "cell_type": "code",
   "execution_count": null,
   "metadata": {},
   "outputs": [],
   "source": []
  },
  {
   "cell_type": "code",
   "execution_count": null,
   "metadata": {},
   "outputs": [],
   "source": []
  },
  {
   "cell_type": "code",
   "execution_count": null,
   "metadata": {},
   "outputs": [],
   "source": []
  },
  {
   "cell_type": "code",
   "execution_count": null,
   "metadata": {},
   "outputs": [],
   "source": []
  },
  {
   "cell_type": "code",
   "execution_count": null,
   "metadata": {},
   "outputs": [],
   "source": []
  },
  {
   "cell_type": "code",
   "execution_count": null,
   "metadata": {},
   "outputs": [],
   "source": []
  }
 ],
 "metadata": {
  "kernelspec": {
   "display_name": "Python 3.8.10 ('ai')",
   "language": "python",
   "name": "python3"
  },
  "language_info": {
   "codemirror_mode": {
    "name": "ipython",
    "version": 3
   },
   "file_extension": ".py",
   "mimetype": "text/x-python",
   "name": "python",
   "nbconvert_exporter": "python",
   "pygments_lexer": "ipython3",
   "version": "3.8.10"
  },
  "orig_nbformat": 4,
  "vscode": {
   "interpreter": {
    "hash": "6270e6d8b5fb321e1a842519f0c29f2e2b7188cdba36e81e06ada9019ab06ac7"
   }
  }
 },
 "nbformat": 4,
 "nbformat_minor": 2
}
