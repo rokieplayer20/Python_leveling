{
 "cells": [
  {
   "cell_type": "markdown",
   "metadata": {},
   "source": [
    "- In Python, sequence is the generic term for an ordered set.<br>\n",
    "There are several types of sequences in Python, the following three are the most important. <br>\n",
    "- Lists are the most versatile sequence type. The elements of a list can be any object, and lists are mutable <br>\n",
    "they can be changed. <br>\n",
    "- Tuples are like lists, but they are immutable - they can't be changed. <br>\n",
    "- Strings are a special type of sequence that can only store characters, and they have a special notation. <br>\n",
    "However, all of the sequence operations described below can also be used on strings. <br>\n",
    "<br>\n",
    "- sequence는 순서가 있는 집합에 대한 일반적인 용어다. 그 예로 list, tuple, string이 있다. <br>\n",
    "일렬로 나열되어 있는데 번호가 붙어 있다.<br>\n",
    "\n",
    "공통점 : + concatenation, * repeat, in, [] indexing, [-i] negative indexing, [:] slicing <br>\n",
    "\n",
    "useful method: len, index, count, min, max <br>"
   ]
  },
  {
   "cell_type": "code",
   "execution_count": null,
   "metadata": {},
   "outputs": [],
   "source": []
  },
  {
   "cell_type": "markdown",
   "metadata": {},
   "source": [
    "sequence : 순서가 있는 집합의 일반 용어이며 일렬로 나열되어 번호가 있다. 예: str, list, tuple\n",
    "\n",
    "container : 서로 다른 자료형을 담을 수 있다. 예: list, tuple, set, dict, collections.deque <br>\n",
    "\n",
    "flat : 한 개의 자료형만 담을 수 있다. 예: str, bytes, bytearray, array.array, memoryview <br>\n",
    "\n",
    "mutable : 가변형, 변경 가능하다. 예시: list, array.array, bytearray, deque, memoryview <br>\n",
    "\n",
    "immutable : 불변형.  예시: tuple, str, bytes"
   ]
  },
  {
   "cell_type": "code",
   "execution_count": 8,
   "metadata": {},
   "outputs": [
    {
     "name": "stdout",
     "output_type": "stream",
     "text": [
      "[43, 95, 41, 40, 101, 119, 114, 110, 118]\n",
      "[43, 95, 41, 40, 101, 119, 114, 110, 118]\n",
      "[43, 95, 41, 101, 119, 114, 110, 118]\n",
      "[43, 95, 41, 101, 119, 114, 110, 118]\n"
     ]
    }
   ],
   "source": [
    "# list comprehension : 지능형 리스트\n",
    "\n",
    "chars = '+_)(ewrnv'\n",
    "\n",
    "code_list1 = []\n",
    "for s in chars:\n",
    "    code_list1.append(ord(s))\n",
    "\n",
    "print(code_list1)\n",
    "\n",
    "code_list2 = [ord(x) for x in chars] # 한 줄로 동일한 결과를 얻음\n",
    "\n",
    "print(code_list2)\n",
    "\n",
    "\n",
    "# Comprehending lists + Map or Filter\n",
    "\n",
    "code_list3 = [ord(x) for x in chars if ord(x) > 40]\n",
    "\n",
    "print(code_list3)\n",
    "\n",
    "code_list4 = list(filter(lambda x: x > 40, map(ord, chars)))\n",
    "\n",
    "print(code_list4)\n",
    "\n"
   ]
  },
  {
   "cell_type": "markdown",
   "metadata": {},
   "source": [
    "generator <br>\n",
    "작은 데이터 조각으로도 연속적인 iterator를 만들 수 있다. <br>\n",
    "\n",
    "a = [1,2,3,4, ..... 1000000] 일일이 찾아서 연산하면 비효율적이다. <br>\n",
    "generator는 다음에 내가 반환할 값만 갖고 있다. <br>\n",
    "\n",
    "list comprehension을 tuple 안에서 실행하면 나온다. <br>\n",
    "또는 iter()에 넣으면 generator object가 된다. <br>\n"
   ]
  },
  {
   "cell_type": "code",
   "execution_count": 16,
   "metadata": {},
   "outputs": [
    {
     "name": "stdout",
     "output_type": "stream",
     "text": [
      "<generator object <genexpr> at 0x0000021563057890>\n",
      "43\n",
      "array('I', [43, 95, 41, 40, 101, 119, 114, 110, 118]) <class 'array.array'>\n",
      "[43, 95, 41, 40, 101, 119, 114, 110, 118]\n"
     ]
    }
   ],
   "source": [
    "# generator 한 번에 한 개의 항목을 생성한다. 메모리 유지 안 한다.\n",
    "\n",
    "import array\n",
    "\n",
    "# tuple_g = [ord(s) for s in chars]\n",
    "# 이렇게 하면 이미 값을 만들어 메모리에 저장하고 있다.\n",
    "\n",
    "tuple_g = (ord(s) for s in chars) # tuple 형태로 제너레이터를 만든다.\n",
    "print(tuple_g)\n",
    "\n",
    "print(next(tuple_g)) # 첫번째 값만 얻을 수 있고 다음값으로 포인터가 가 있는다.\n",
    "\n",
    "\n",
    "array_g = array.array('I', (ord(s) for s in chars))\n",
    "# generator가 array 만들 때 이미 값을 반환한 것이다.\n",
    "print(array_g, type(array_g))\n",
    "print(array_g.tolist())\n"
   ]
  },
  {
   "cell_type": "markdown",
   "metadata": {},
   "source": [
    "array.array(name: str, values: sequence) -> array.array\n",
    "\n",
    "arrary.tolist() -> list"
   ]
  },
  {
   "cell_type": "code",
   "execution_count": 18,
   "metadata": {},
   "outputs": [
    {
     "name": "stdout",
     "output_type": "stream",
     "text": [
      "<generator object <genexpr> at 0x0000021563041740>\n",
      "A 1\n",
      "A 2\n",
      "A 3\n",
      "A 4\n",
      "A 5\n",
      "A 6\n",
      "A 7\n",
      "A 8\n",
      "A 9\n",
      "A 10\n",
      "A 11\n",
      "A 12\n",
      "A 13\n",
      "A 14\n",
      "A 15\n",
      "A 16\n",
      "A 17\n",
      "A 18\n",
      "A 19\n",
      "A 20\n",
      "B 1\n",
      "B 2\n",
      "B 3\n",
      "B 4\n",
      "B 5\n",
      "B 6\n",
      "B 7\n",
      "B 8\n",
      "B 9\n",
      "B 10\n",
      "B 11\n",
      "B 12\n",
      "B 13\n",
      "B 14\n",
      "B 15\n",
      "B 16\n",
      "B 17\n",
      "B 18\n",
      "B 19\n",
      "B 20\n",
      "C 1\n",
      "C 2\n",
      "C 3\n",
      "C 4\n",
      "C 5\n",
      "C 6\n",
      "C 7\n",
      "C 8\n",
      "C 9\n",
      "C 10\n",
      "C 11\n",
      "C 12\n",
      "C 13\n",
      "C 14\n",
      "C 15\n",
      "C 16\n",
      "C 17\n",
      "C 18\n",
      "C 19\n",
      "C 20\n",
      "D 1\n",
      "D 2\n",
      "D 3\n",
      "D 4\n",
      "D 5\n",
      "D 6\n",
      "D 7\n",
      "D 8\n",
      "D 9\n",
      "D 10\n",
      "D 11\n",
      "D 12\n",
      "D 13\n",
      "D 14\n",
      "D 15\n",
      "D 16\n",
      "D 17\n",
      "D 18\n",
      "D 19\n",
      "D 20\n"
     ]
    }
   ],
   "source": [
    "gn = ('%s ' % c + str(n) for c in ['A', 'B', 'C', 'D'] for n in range(1, 21))\n",
    "print(gn)\n",
    "\n",
    "# 보통의 list와 다르게 이미 값이 있는데 꺼낸 것이 아니다. 하나씩 그때그때 만든 것이다.\n",
    "for s in gn:\n",
    "    print(s) \n"
   ]
  },
  {
   "cell_type": "code",
   "execution_count": 24,
   "metadata": {},
   "outputs": [
    {
     "name": "stdout",
     "output_type": "stream",
     "text": [
      "[['~', '~', '~'], ['~', '~', '~'], ['~', '~', '~'], ['~', '~', '~']]\n",
      "[['~', 'X', '~'], ['~', '~', '~'], ['~', '~', '~'], ['~', '~', '~']]\n",
      "[['~', 'X', '~'], ['~', 'X', '~'], ['~', 'X', '~'], ['~', 'X', '~']]\n",
      "[2290851732480, 2290852773632, 2290868171456, 2290864209600]\n",
      "[2290869093504, 2290869093504, 2290869093504, 2290869093504]\n"
     ]
    }
   ],
   "source": [
    "import copy\n",
    "\n",
    "marks1 = [['~']*3 for _ in range(4)] # id 다 다르다.\n",
    "print(marks1)\n",
    "\n",
    "marks2 = [['~']*3] *4 # 하나의 id만 사용함\n",
    "\n",
    "# 수정\n",
    "marks1[0][1] = 'X'\n",
    "marks2[0][1] = 'X'\n",
    "\n",
    "print(marks1) # 하나만 수정됨\n",
    "print(marks2) # 모두 수정됨\n",
    "\n",
    "# id\n",
    "\n",
    "print([id(i) for i in marks1])\n",
    "print([id(i) for i in marks2])\n"
   ]
  },
  {
   "cell_type": "code",
   "execution_count": null,
   "metadata": {},
   "outputs": [],
   "source": []
  },
  {
   "cell_type": "code",
   "execution_count": null,
   "metadata": {},
   "outputs": [],
   "source": []
  },
  {
   "cell_type": "code",
   "execution_count": null,
   "metadata": {},
   "outputs": [],
   "source": []
  },
  {
   "cell_type": "code",
   "execution_count": null,
   "metadata": {},
   "outputs": [],
   "source": []
  }
 ],
 "metadata": {
  "kernelspec": {
   "display_name": "Python 3.8.10 ('ai')",
   "language": "python",
   "name": "python3"
  },
  "language_info": {
   "codemirror_mode": {
    "name": "ipython",
    "version": 3
   },
   "file_extension": ".py",
   "mimetype": "text/x-python",
   "name": "python",
   "nbconvert_exporter": "python",
   "pygments_lexer": "ipython3",
   "version": "3.8.10"
  },
  "orig_nbformat": 4,
  "vscode": {
   "interpreter": {
    "hash": "6270e6d8b5fb321e1a842519f0c29f2e2b7188cdba36e81e06ada9019ab06ac7"
   }
  }
 },
 "nbformat": 4,
 "nbformat_minor": 2
}
