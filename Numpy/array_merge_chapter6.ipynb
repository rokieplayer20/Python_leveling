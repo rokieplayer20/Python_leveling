{
 "cells": [
  {
   "cell_type": "markdown",
   "metadata": {},
   "source": [
    "np.insert(ndarray, index: int, value, axis: int | None = None) : 파이썬리스트와 동일하다. <br>\n",
    "\n",
    "axis는 None이 디폴트이기 때문에 따로 지정하지 않으면 1차원 배열로 바뀐다.<br>\n",
    "\n",
    "np.delete(ndarray, index: int, axis: int | None = None) : <br>\n",
    "축을 기준으로 index위치 한 줄을 지워라"
   ]
  },
  {
   "cell_type": "code",
   "execution_count": 45,
   "metadata": {},
   "outputs": [
    {
     "name": "stdout",
     "output_type": "stream",
     "text": [
      "[1, 2, -1, 3, 4, 5]\n"
     ]
    }
   ],
   "source": [
    "import numpy as np\n",
    "arr = [1,2,3,4,5]\n",
    "arr.insert(2, -1)\n",
    "print(arr)"
   ]
  },
  {
   "cell_type": "code",
   "execution_count": 46,
   "metadata": {},
   "outputs": [
    {
     "name": "stdout",
     "output_type": "stream",
     "text": [
      "[ 1  2 50  3  4  5  6  7  8]\n",
      "arr : \n",
      " [[ 1  2  3  4]\n",
      " [ 5  6  7  8]\n",
      " [ 9 10 11 12]]\n",
      "axis=0 inserted arr2 \n",
      " [[ 1  2  3  4]\n",
      " [ 5  6  7  8]\n",
      " [50 50 50 50]\n",
      " [ 9 10 11 12]]\n",
      "axis=1 inserted arr3 \n",
      " [[ 1  2 50  3  4]\n",
      " [ 5  6 50  7  8]\n",
      " [ 9 10 50 11 12]]\n"
     ]
    }
   ],
   "source": [
    "# 1차원 배열\n",
    "arr = np.arange(1,9)\n",
    "arr = np.insert(arr, 2, 50)\n",
    "print(arr)\n",
    "\n",
    "# 2 차원 배열\n",
    "# 입력한 축 방향으로 다중으로 값을 삽입한다.\n",
    "arr = np.arange(1,13).reshape((3,4))\n",
    "print(f'arr : \\n {arr}')\n",
    "arr2 = np.insert(arr, 2, 50, axis=0)\n",
    "print(f'axis=0 inserted arr2 \\n {arr2}')\n",
    "arr3 = np.insert(arr, 2, 50, axis=1)\n",
    "print(f'axis=1 inserted arr3 \\n {arr3}')\n",
    "# 배열arr에서 1 axis를 기준으로 인덱스2인 곳에 50을 추가한 새 배열을 반환하라"
   ]
  },
  {
   "cell_type": "code",
   "execution_count": 47,
   "metadata": {},
   "outputs": [
    {
     "name": "stdout",
     "output_type": "stream",
     "text": [
      "arr : \n",
      " [[ 1  2  3  4]\n",
      " [ 5  6  7  8]\n",
      " [ 9 10 11 12]]\n",
      "arr2 : \n",
      "[[1 2 3 4]\n",
      " [5 6 7 8]]\n",
      "[ 1  2  4  5  6  7  8  9 10 11 12]\n"
     ]
    }
   ],
   "source": [
    "# delete\n",
    "# 행렬의 한 선분을 싹 삭제한다.\n",
    "arr = np.arange(1,13).reshape((3,4))\n",
    "print(f'arr : \\n {arr}')\n",
    "arr2 = np.delete(arr, 2, axis=0)\n",
    "print(f'arr2 : \\n{arr2}')\n",
    "print(np.delete(arr, 2)) # axis=None defualt"
   ]
  },
  {
   "cell_type": "markdown",
   "metadata": {},
   "source": [
    "ndarray3 = np.append(ndarray1, ndarray2) : 원래 배열 끝에 다른 배열을 붙여 새 배열을 반환한다. <br>\n",
    "\n",
    "Python list에서 append가 원소를 원본 리스트 끝에 붙이는 것과 많이 다르다."
   ]
  },
  {
   "cell_type": "code",
   "execution_count": 48,
   "metadata": {},
   "outputs": [
    {
     "name": "stdout",
     "output_type": "stream",
     "text": [
      "[[ 1  2  3  4]\n",
      " [ 5  6  7  8]\n",
      " [ 9 10 11 12]\n",
      " [ 1  2  3  4]\n",
      " [ 5  6  7  8]\n",
      " [ 9 10 11 12]]\n",
      "====================================================================================================\n",
      "[[ 1  2  3  4  1  2  3  4]\n",
      " [ 5  6  7  8  5  6  7  8]\n",
      " [ 9 10 11 12  9 10 11 12]]\n",
      "====================================================================================================\n",
      "[ 1  2  3  4  5  6  7  8  9 10 11 12  1  2  3  4  5  6  7  8  9 10 11 12]\n"
     ]
    }
   ],
   "source": [
    "arr1 = np.arange(1, 13).reshape(3,4)\n",
    "arr2 = np.arange(1,13).reshape((3,4))\n",
    "\n",
    "# axis=0\n",
    "arr3 = np.append(arr1, arr2, axis=0)\n",
    "print(arr3)\n",
    "print('='*100)\n",
    "arr3 = np.append(arr1, arr2, axis=1)\n",
    "print(arr3)\n",
    "print('='*100)\n",
    "arr3 = np.append(arr1, arr2) # axis=None default\n",
    "print(arr3)"
   ]
  },
  {
   "cell_type": "markdown",
   "metadata": {},
   "source": [
    "np.vstack() :  axis=0을 기준으로 배열을 병합    <br>\n",
    "np.hstack() :  axis=1을 기준으로 배열을 병합    <br>"
   ]
  },
  {
   "cell_type": "code",
   "execution_count": 49,
   "metadata": {},
   "outputs": [
    {
     "name": "stdout",
     "output_type": "stream",
     "text": [
      "[[ 1  2  3  4]\n",
      " [ 5  6  7  8]\n",
      " [ 9 10 11 12]\n",
      " [ 1  2  3  4]\n",
      " [ 5  6  7  8]\n",
      " [ 9 10 11 12]]\n",
      "====================================================================================================\n",
      "[[ 1  2  3  4  1  2  3  4]\n",
      " [ 5  6  7  8  5  6  7  8]\n",
      " [ 9 10 11 12  9 10 11 12]]\n",
      "====================================================================================================\n"
     ]
    }
   ],
   "source": [
    "arr1 = np.arange(1, 13).reshape(3,4)\n",
    "arr2 = np.arange(1,13).reshape((3,4))\n",
    "\n",
    "\n",
    "# 반드시 tuple로 넣어줘야 한다. 함수가 그렇게 설계됨\n",
    "arr3 = np.vstack((arr1, arr2)) \n",
    "print(arr3)\n",
    "print('='*100)\n",
    "arr3 = np.hstack((arr1, arr2)) \n",
    "print(arr3)\n",
    "print('='*100)"
   ]
  },
  {
   "cell_type": "markdown",
   "metadata": {},
   "source": [
    "중요! <br>\n",
    "np.concatenate() : <br>\n",
    "(ndarray_list: list, axis: int | None = None) -> ndarray <br>\n",
    "tuple이어도 상관없다."
   ]
  },
  {
   "cell_type": "code",
   "execution_count": 50,
   "metadata": {},
   "outputs": [
    {
     "name": "stdout",
     "output_type": "stream",
     "text": [
      "[[ 1  2  3  4  1  2  3  4]\n",
      " [ 5  6  7  8  5  6  7  8]\n",
      " [ 9 10 11 12  9 10 11 12]]\n"
     ]
    }
   ],
   "source": [
    "arr1 = np.arange(1, 13).reshape(3,4)\n",
    "arr2 = np.arange(1,13).reshape((3,4))\n",
    "\n",
    "arr3 = np.concatenate([arr1, arr2], axis=1)\n",
    "print(arr3)"
   ]
  },
  {
   "cell_type": "markdown",
   "metadata": {},
   "source": [
    "배열을 축을 기준으로 분할 <br>\n",
    "\n",
    "np.vsplit(ndarray, num: int)) : axis=0을 기준으로 분할 <br>\n",
    "\n",
    "np.hsplit(): axis=1을 기준으로 분할        <br>\n",
    "\n",
    "\n",
    "(ndarray, num: int) -> splited_ndarrays: list"
   ]
  },
  {
   "cell_type": "code",
   "execution_count": 51,
   "metadata": {},
   "outputs": [
    {
     "name": "stdout",
     "output_type": "stream",
     "text": [
      "[[ 1  2  3  4]\n",
      " [ 5  6  7  8]\n",
      " [ 9 10 11 12]]\n",
      "[array([[1, 2, 3, 4]]), array([[5, 6, 7, 8]]), array([[ 9, 10, 11, 12]])]\n",
      "[array([[ 1,  2],\n",
      "       [ 5,  6],\n",
      "       [ 9, 10]]), array([[ 3,  4],\n",
      "       [ 7,  8],\n",
      "       [11, 12]])]\n"
     ]
    }
   ],
   "source": [
    "arr1 = np.arange(1, 13).reshape(3,4)\n",
    "print(arr1)\n",
    "# row가 3개이므로 홀수개로만 분할할 수 있다.\n",
    "arr_vsplit = np.vsplit(arr1, 3)\n",
    "print(arr_vsplit)\n",
    "arr_hsplit = np.hsplit(arr1, 2)\n",
    "print(arr_hsplit)\n"
   ]
  },
  {
   "cell_type": "markdown",
   "metadata": {},
   "source": [
    "numpy에서 3차원 배열의 shape에서 이상한 점이 발견된다. <br>\n",
    "2차원 배열까지는 (0axis, 1axis)로 본다. <br>\n",
    "3차원 배열은 (2axis, 0axis, 1axis)처럼 보인다. 그러나 아니다. <br>\n",
    "이는 마치 머신러닝에서 (batch_size 혹은 sample개수, row, column)처럼 보인다. <br>\n",
    "<br>\n",
    "나도 이 점이 헷갈려서 머신러닝할 때, 행렬의 형태를 맞춰주는 것이 어려웠다.<br>\n",
    "\n",
    "(height, row, column) == (0axis, 1axis, 2axis) "
   ]
  },
  {
   "cell_type": "markdown",
   "metadata": {},
   "source": [
    "배열은 리스트의 중첩이다. <br>\n",
    "축은 단지 가장 바깥 리스트에서 안쪽 리스트를 순서대로 0부터 이름 붙인 것이다. <br>\n",
    "[[[1,2], [3,4]], [[5, 6], [7, 8]]] <br>\n",
    "axis0: [[1, 2], [3, 4]] -> [[5, 6], [7, 8]] <br>\n",
    "axis1: [1, 2] -> [3, 4], [5, 6] -> [7, 8] <br>\n",
    "axis2: 1->2, 3->4, 5->6, 7->8 <br>\n",
    "이런 방식으로 4차원 이상 높아져도 따져볼 수 있다. 행렬개념으론 추상적이어서 못 알기 힘들다.\n"
   ]
  },
  {
   "cell_type": "markdown",
   "metadata": {},
   "source": [
    "![nn](./axis.png)"
   ]
  },
  {
   "cell_type": "code",
   "execution_count": 52,
   "metadata": {},
   "outputs": [
    {
     "name": "stdout",
     "output_type": "stream",
     "text": [
      "[[[6 8 8 8 3 3 4 3]\n",
      "  [5 0 2 9 1 5 0 3]\n",
      "  [0 0 2 8 5 9 5 1]\n",
      "  [5 1 8 4 5 0 9 2]\n",
      "  [3 4 3 5 7 1 4 0]\n",
      "  [6 6 0 3 7 2 4 6]]\n",
      "\n",
      " [[8 0 6 9 4 8 9 5]\n",
      "  [1 6 0 7 8 3 2 9]\n",
      "  [6 2 9 1 1 1 9 1]\n",
      "  [6 9 0 4 0 4 0 8]\n",
      "  [6 4 4 0 5 4 9 1]\n",
      "  [5 9 8 3 2 1 7 3]]\n",
      "\n",
      " [[2 0 5 0 8 9 0 9]\n",
      "  [7 5 1 5 2 5 7 0]\n",
      "  [3 4 2 9 4 6 9 0]\n",
      "  [9 0 9 7 3 2 5 1]\n",
      "  [8 3 3 8 5 0 8 3]\n",
      "  [7 5 7 3 0 4 8 8]]\n",
      "\n",
      " [[9 7 6 6 3 5 0 8]\n",
      "  [6 4 8 0 4 7 4 8]\n",
      "  [7 9 2 5 5 7 5 0]\n",
      "  [3 2 6 7 2 3 1 2]\n",
      "  [3 4 3 0 7 0 5 2]\n",
      "  [1 6 2 8 3 3 1 9]]]\n"
     ]
    }
   ],
   "source": [
    "# 3차원\n",
    "arr = np.random.randint(0, 10, (4, 6, 8)) # row의 개수가 6개, column의 개수가 8개라서 6*8 matrix를 담는 배열이다.\n",
    "print(arr)\n",
    "\n"
   ]
  },
  {
   "cell_type": "code",
   "execution_count": 53,
   "metadata": {},
   "outputs": [
    {
     "name": "stdout",
     "output_type": "stream",
     "text": [
      "[[6 8 8 8 3 3 4 3]\n",
      " [5 0 2 9 1 5 0 3]\n",
      " [0 0 2 8 5 9 5 1]\n",
      " [5 1 8 4 5 0 9 2]\n",
      " [3 4 3 5 7 1 4 0]\n",
      " [6 6 0 3 7 2 4 6]]\n",
      "(6, 8)\n"
     ]
    }
   ],
   "source": [
    "\n",
    "print(arr[0])\n",
    "print(arr[0].shape) # (6, 8)"
   ]
  },
  {
   "cell_type": "code",
   "execution_count": 54,
   "metadata": {},
   "outputs": [
    {
     "name": "stdout",
     "output_type": "stream",
     "text": [
      "[array([[[6, 8, 8, 8, 3, 3, 4, 3],\n",
      "        [5, 0, 2, 9, 1, 5, 0, 3],\n",
      "        [0, 0, 2, 8, 5, 9, 5, 1],\n",
      "        [5, 1, 8, 4, 5, 0, 9, 2],\n",
      "        [3, 4, 3, 5, 7, 1, 4, 0],\n",
      "        [6, 6, 0, 3, 7, 2, 4, 6]],\n",
      "\n",
      "       [[8, 0, 6, 9, 4, 8, 9, 5],\n",
      "        [1, 6, 0, 7, 8, 3, 2, 9],\n",
      "        [6, 2, 9, 1, 1, 1, 9, 1],\n",
      "        [6, 9, 0, 4, 0, 4, 0, 8],\n",
      "        [6, 4, 4, 0, 5, 4, 9, 1],\n",
      "        [5, 9, 8, 3, 2, 1, 7, 3]]]), array([[[2, 0, 5, 0, 8, 9, 0, 9],\n",
      "        [7, 5, 1, 5, 2, 5, 7, 0],\n",
      "        [3, 4, 2, 9, 4, 6, 9, 0],\n",
      "        [9, 0, 9, 7, 3, 2, 5, 1],\n",
      "        [8, 3, 3, 8, 5, 0, 8, 3],\n",
      "        [7, 5, 7, 3, 0, 4, 8, 8]],\n",
      "\n",
      "       [[9, 7, 6, 6, 3, 5, 0, 8],\n",
      "        [6, 4, 8, 0, 4, 7, 4, 8],\n",
      "        [7, 9, 2, 5, 5, 7, 5, 0],\n",
      "        [3, 2, 6, 7, 2, 3, 1, 2],\n",
      "        [3, 4, 3, 0, 7, 0, 5, 2],\n",
      "        [1, 6, 2, 8, 3, 3, 1, 9]]])]\n"
     ]
    }
   ],
   "source": [
    "\n",
    "arr_vsplit = np.vsplit(arr, 2) # axis = 0\n",
    "print(arr_vsplit)"
   ]
  },
  {
   "cell_type": "code",
   "execution_count": 56,
   "metadata": {},
   "outputs": [
    {
     "name": "stdout",
     "output_type": "stream",
     "text": [
      "[array([[[6, 8, 8, 8, 3, 3, 4, 3],\n",
      "        [5, 0, 2, 9, 1, 5, 0, 3],\n",
      "        [0, 0, 2, 8, 5, 9, 5, 1]],\n",
      "\n",
      "       [[8, 0, 6, 9, 4, 8, 9, 5],\n",
      "        [1, 6, 0, 7, 8, 3, 2, 9],\n",
      "        [6, 2, 9, 1, 1, 1, 9, 1]],\n",
      "\n",
      "       [[2, 0, 5, 0, 8, 9, 0, 9],\n",
      "        [7, 5, 1, 5, 2, 5, 7, 0],\n",
      "        [3, 4, 2, 9, 4, 6, 9, 0]],\n",
      "\n",
      "       [[9, 7, 6, 6, 3, 5, 0, 8],\n",
      "        [6, 4, 8, 0, 4, 7, 4, 8],\n",
      "        [7, 9, 2, 5, 5, 7, 5, 0]]]), array([[[5, 1, 8, 4, 5, 0, 9, 2],\n",
      "        [3, 4, 3, 5, 7, 1, 4, 0],\n",
      "        [6, 6, 0, 3, 7, 2, 4, 6]],\n",
      "\n",
      "       [[6, 9, 0, 4, 0, 4, 0, 8],\n",
      "        [6, 4, 4, 0, 5, 4, 9, 1],\n",
      "        [5, 9, 8, 3, 2, 1, 7, 3]],\n",
      "\n",
      "       [[9, 0, 9, 7, 3, 2, 5, 1],\n",
      "        [8, 3, 3, 8, 5, 0, 8, 3],\n",
      "        [7, 5, 7, 3, 0, 4, 8, 8]],\n",
      "\n",
      "       [[3, 2, 6, 7, 2, 3, 1, 2],\n",
      "        [3, 4, 3, 0, 7, 0, 5, 2],\n",
      "        [1, 6, 2, 8, 3, 3, 1, 9]]])]\n"
     ]
    }
   ],
   "source": [
    "arr_hsplit = np.hsplit(arr, 2)\n",
    "print(arr_hsplit) # axis = 1\n"
   ]
  },
  {
   "cell_type": "markdown",
   "metadata": {},
   "source": [
    "h, v 따로 외우는 것보단 np.split(), np.concatenate()의 매개변수를 바꾸는 것이 낫다.<br>\n",
    "np.split(ndarray, sections: int, axis=0) <br>\n",
    "ndarray를 sections(정수)만큼 axis를 기준으로 나눈다."
   ]
  },
  {
   "cell_type": "code",
   "execution_count": 58,
   "metadata": {},
   "outputs": [
    {
     "name": "stdout",
     "output_type": "stream",
     "text": [
      "[array([[[5, 5, 8, 3, 8, 5, 9, 9],\n",
      "        [9, 3, 6, 0, 9, 5, 9, 5],\n",
      "        [1, 6, 5, 6, 2, 2, 7, 9],\n",
      "        [9, 5, 9, 6, 6, 3, 2, 4],\n",
      "        [9, 4, 7, 3, 9, 2, 5, 3],\n",
      "        [6, 5, 3, 0, 2, 2, 2, 7]],\n",
      "\n",
      "       [[3, 4, 3, 0, 5, 4, 4, 3],\n",
      "        [8, 5, 5, 4, 0, 1, 8, 2],\n",
      "        [4, 1, 4, 4, 7, 1, 9, 8],\n",
      "        [5, 5, 9, 1, 6, 8, 8, 7],\n",
      "        [8, 9, 4, 6, 4, 0, 6, 6],\n",
      "        [4, 0, 4, 7, 8, 8, 9, 9]]]), array([[[3, 4, 8, 3, 9, 8, 6, 6],\n",
      "        [7, 9, 3, 3, 5, 7, 5, 8],\n",
      "        [2, 1, 4, 4, 7, 1, 7, 3],\n",
      "        [3, 7, 2, 7, 6, 5, 7, 9],\n",
      "        [6, 0, 0, 9, 9, 0, 7, 2],\n",
      "        [0, 0, 0, 5, 0, 4, 7, 8]],\n",
      "\n",
      "       [[6, 8, 0, 8, 8, 1, 9, 3],\n",
      "        [1, 0, 3, 7, 9, 5, 5, 7],\n",
      "        [4, 8, 1, 7, 1, 5, 9, 3],\n",
      "        [4, 9, 7, 5, 5, 6, 4, 2],\n",
      "        [5, 7, 0, 1, 8, 8, 2, 5],\n",
      "        [3, 0, 6, 0, 8, 0, 5, 2]]])]\n"
     ]
    }
   ],
   "source": [
    "arr = np.random.randint(0, 10, (4, 6, 8))\n",
    "arr1 = np.split(arr, 2, axis=0)\n",
    "print(arr1)"
   ]
  },
  {
   "cell_type": "code",
   "execution_count": 59,
   "metadata": {},
   "outputs": [
    {
     "name": "stdout",
     "output_type": "stream",
     "text": [
      "[array([[[5, 5, 8, 3, 8, 5, 9, 9],\n",
      "        [9, 3, 6, 0, 9, 5, 9, 5],\n",
      "        [1, 6, 5, 6, 2, 2, 7, 9]],\n",
      "\n",
      "       [[3, 4, 3, 0, 5, 4, 4, 3],\n",
      "        [8, 5, 5, 4, 0, 1, 8, 2],\n",
      "        [4, 1, 4, 4, 7, 1, 9, 8]],\n",
      "\n",
      "       [[3, 4, 8, 3, 9, 8, 6, 6],\n",
      "        [7, 9, 3, 3, 5, 7, 5, 8],\n",
      "        [2, 1, 4, 4, 7, 1, 7, 3]],\n",
      "\n",
      "       [[6, 8, 0, 8, 8, 1, 9, 3],\n",
      "        [1, 0, 3, 7, 9, 5, 5, 7],\n",
      "        [4, 8, 1, 7, 1, 5, 9, 3]]]), array([[[9, 5, 9, 6, 6, 3, 2, 4],\n",
      "        [9, 4, 7, 3, 9, 2, 5, 3],\n",
      "        [6, 5, 3, 0, 2, 2, 2, 7]],\n",
      "\n",
      "       [[5, 5, 9, 1, 6, 8, 8, 7],\n",
      "        [8, 9, 4, 6, 4, 0, 6, 6],\n",
      "        [4, 0, 4, 7, 8, 8, 9, 9]],\n",
      "\n",
      "       [[3, 7, 2, 7, 6, 5, 7, 9],\n",
      "        [6, 0, 0, 9, 9, 0, 7, 2],\n",
      "        [0, 0, 0, 5, 0, 4, 7, 8]],\n",
      "\n",
      "       [[4, 9, 7, 5, 5, 6, 4, 2],\n",
      "        [5, 7, 0, 1, 8, 8, 2, 5],\n",
      "        [3, 0, 6, 0, 8, 0, 5, 2]]])]\n"
     ]
    }
   ],
   "source": [
    "arr2 = np.split(arr, 2, axis=1)\n",
    "print(arr2)"
   ]
  },
  {
   "cell_type": "code",
   "execution_count": 60,
   "metadata": {},
   "outputs": [
    {
     "name": "stdout",
     "output_type": "stream",
     "text": [
      "[array([[[5, 5, 8, 3],\n",
      "        [9, 3, 6, 0],\n",
      "        [1, 6, 5, 6],\n",
      "        [9, 5, 9, 6],\n",
      "        [9, 4, 7, 3],\n",
      "        [6, 5, 3, 0]],\n",
      "\n",
      "       [[3, 4, 3, 0],\n",
      "        [8, 5, 5, 4],\n",
      "        [4, 1, 4, 4],\n",
      "        [5, 5, 9, 1],\n",
      "        [8, 9, 4, 6],\n",
      "        [4, 0, 4, 7]],\n",
      "\n",
      "       [[3, 4, 8, 3],\n",
      "        [7, 9, 3, 3],\n",
      "        [2, 1, 4, 4],\n",
      "        [3, 7, 2, 7],\n",
      "        [6, 0, 0, 9],\n",
      "        [0, 0, 0, 5]],\n",
      "\n",
      "       [[6, 8, 0, 8],\n",
      "        [1, 0, 3, 7],\n",
      "        [4, 8, 1, 7],\n",
      "        [4, 9, 7, 5],\n",
      "        [5, 7, 0, 1],\n",
      "        [3, 0, 6, 0]]]), array([[[8, 5, 9, 9],\n",
      "        [9, 5, 9, 5],\n",
      "        [2, 2, 7, 9],\n",
      "        [6, 3, 2, 4],\n",
      "        [9, 2, 5, 3],\n",
      "        [2, 2, 2, 7]],\n",
      "\n",
      "       [[5, 4, 4, 3],\n",
      "        [0, 1, 8, 2],\n",
      "        [7, 1, 9, 8],\n",
      "        [6, 8, 8, 7],\n",
      "        [4, 0, 6, 6],\n",
      "        [8, 8, 9, 9]],\n",
      "\n",
      "       [[9, 8, 6, 6],\n",
      "        [5, 7, 5, 8],\n",
      "        [7, 1, 7, 3],\n",
      "        [6, 5, 7, 9],\n",
      "        [9, 0, 7, 2],\n",
      "        [0, 4, 7, 8]],\n",
      "\n",
      "       [[8, 1, 9, 3],\n",
      "        [9, 5, 5, 7],\n",
      "        [1, 5, 9, 3],\n",
      "        [5, 6, 4, 2],\n",
      "        [8, 8, 2, 5],\n",
      "        [8, 0, 5, 2]]])]\n"
     ]
    }
   ],
   "source": [
    "arr3 = np.split(arr, 2, axis=2)\n",
    "print(arr3)"
   ]
  },
  {
   "cell_type": "code",
   "execution_count": 62,
   "metadata": {},
   "outputs": [
    {
     "name": "stdout",
     "output_type": "stream",
     "text": [
      "[[[1 7 3 3 9 3]\n",
      "  [5 4 6 6 6 5]\n",
      "  [2 8 3 4 6 8]]\n",
      "\n",
      " [[3 9 9 9 4 1]\n",
      "  [5 9 6 3 4 9]\n",
      "  [1 1 1 3 9 4]]\n",
      "\n",
      " [[4 1 2 6 8 6]\n",
      "  [3 8 4 3 1 6]\n",
      "  [3 1 4 4 8 1]]]\n"
     ]
    }
   ],
   "source": [
    "# 3차원 행렬 붙이기\n",
    "arr1 = np.random.randint(1, 10, (3,3,3))\n",
    "arr2 = np.random.randint(1, 10, (3,3,3))\n",
    "arr3 = np.concatenate([arr1, arr2], axis=2)\n",
    "print(arr3)"
   ]
  }
 ],
 "metadata": {
  "kernelspec": {
   "display_name": "Python 3.8.10 ('ai')",
   "language": "python",
   "name": "python3"
  },
  "language_info": {
   "codemirror_mode": {
    "name": "ipython",
    "version": 3
   },
   "file_extension": ".py",
   "mimetype": "text/x-python",
   "name": "python",
   "nbconvert_exporter": "python",
   "pygments_lexer": "ipython3",
   "version": "3.8.10"
  },
  "orig_nbformat": 4,
  "vscode": {
   "interpreter": {
    "hash": "6270e6d8b5fb321e1a842519f0c29f2e2b7188cdba36e81e06ada9019ab06ac7"
   }
  }
 },
 "nbformat": 4,
 "nbformat_minor": 2
}
