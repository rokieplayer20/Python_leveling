{
 "cells": [
  {
   "cell_type": "markdown",
   "metadata": {},
   "source": [
    "ThreadPoolExecutor <br>\n",
    "keyword: many threads, concurrent.futures, (xxx)PoolExecutor <br><br>\n",
    "Group Thread \n",
    "1. Python 3.2 이상의 표준 라이브러리 사용\n",
    "2. concurrent.futures\n",
    "3. with 사용으로 생성 및 소멸의 라이프사이클을 관리하기 용이하다.\n",
    "4. 디버깅하기가 난해함\n",
    "5. 대기 중인 작업 -> Queue -> 완료 상태를 조사한다. -> 결과 또는 예외를 반환한다. -> 단일화(캡슐화)\n",
    "\n",
    "# Thread의 예시들은 level2가 좋고 process는 level4가 좋다.\n"
   ]
  },
  {
   "cell_type": "code",
   "execution_count": 2,
   "metadata": {},
   "outputs": [
    {
     "name": "stderr",
     "output_type": "stream",
     "text": [
      "2022-08-20 12:11:43,655: Main-Thread: before creating and running thread\n",
      "2022-08-20 12:11:43,691: sub-thread starting First\n",
      "2022-08-20 12:11:43,701: sub-thread finishing First, result: 50005000\n",
      "2022-08-20 12:11:43,703: sub-thread starting Second\n",
      "2022-08-20 12:11:43,705: sub-thread finishing Second, result: 50005000\n"
     ]
    },
    {
     "name": "stdout",
     "output_type": "stream",
     "text": [
      "[50005000, 50005000]\n"
     ]
    }
   ],
   "source": [
    "import logging\n",
    "from concurrent.futures import ThreadPoolExecutor\n",
    "import time\n",
    "\n",
    "\n",
    "def task(name):\n",
    "    logging.info(f'sub-thread starting {name}')\n",
    "\n",
    "    result = 0\n",
    "    for i in range(10001):\n",
    "        result += i\n",
    "\n",
    "    logging.info(f'sub-thread finishing {name}, result: {result}')\n",
    "\n",
    "    return result\n",
    "\n",
    "def main():\n",
    "    # Logging format 설정\n",
    "    format = \"%(asctime)s: %(message)s\"\n",
    "    logging.basicConfig(format=format, level=logging.INFO, datefmt=\"%H:%M:%S\")\n",
    "    logging.info('Main-Thread: before creating and running thread')\n",
    "\n",
    "    # 실행방법1\n",
    "    # max_workers: 작업의 개수가 넘어가면 직접 설정이 유리하다.\n",
    "    \"\"\"\n",
    "    excutor = ThreadPoolExecutor(max_workers=3)\n",
    "\n",
    "    task1 = excutor.submit(task, ('First',))\n",
    "    task2 = excutor.submit(task, ('Second',))\n",
    "\n",
    "    # 결과값이 있을 경우\n",
    "    print(task1.result())\n",
    "\n",
    "    \"\"\"\n",
    "\n",
    "    # 실행방법2\n",
    "    with ThreadPoolExecutor(max_workers=3) as executor:\n",
    "        tasks = executor.map(task, ['First', 'Second'])\n",
    "        # (function_name, factors_list)\n",
    "\n",
    "        print(list(tasks))\n",
    "\n",
    "\n",
    "    \n",
    "\n",
    "if __name__ == '__main__':\n",
    "    main()\n"
   ]
  },
  {
   "cell_type": "code",
   "execution_count": null,
   "metadata": {},
   "outputs": [],
   "source": []
  },
  {
   "cell_type": "code",
   "execution_count": null,
   "metadata": {},
   "outputs": [],
   "source": []
  },
  {
   "cell_type": "code",
   "execution_count": null,
   "metadata": {},
   "outputs": [],
   "source": []
  },
  {
   "cell_type": "code",
   "execution_count": null,
   "metadata": {},
   "outputs": [],
   "source": []
  },
  {
   "cell_type": "code",
   "execution_count": null,
   "metadata": {},
   "outputs": [],
   "source": []
  },
  {
   "cell_type": "code",
   "execution_count": null,
   "metadata": {},
   "outputs": [],
   "source": []
  }
 ],
 "metadata": {
  "kernelspec": {
   "display_name": "Python 3.8.10 ('ai')",
   "language": "python",
   "name": "python3"
  },
  "language_info": {
   "codemirror_mode": {
    "name": "ipython",
    "version": 3
   },
   "file_extension": ".py",
   "mimetype": "text/x-python",
   "name": "python",
   "nbconvert_exporter": "python",
   "pygments_lexer": "ipython3",
   "version": "3.8.10"
  },
  "orig_nbformat": 4,
  "vscode": {
   "interpreter": {
    "hash": "6270e6d8b5fb321e1a842519f0c29f2e2b7188cdba36e81e06ada9019ab06ac7"
   }
  }
 },
 "nbformat": 4,
 "nbformat_minor": 2
}
