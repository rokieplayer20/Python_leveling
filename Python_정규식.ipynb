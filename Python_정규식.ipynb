{
 "cells": [
  {
   "cell_type": "markdown",
   "metadata": {},
   "source": [
    "reference: https://wikidocs.net/4308"
   ]
  },
  {
   "cell_type": "markdown",
   "metadata": {},
   "source": [
    "# Regular expression in Python\n",
    "\n",
    "meta characters: . ^ $ * + ? {} [], \\ | () <br>\n",
    "\n",
    "문자 클래스 []: [] 덩어리 하나를 문자 1개로 본다. 그리고 그 안의 있는 문자들 중에 1가지 문제인 것이다. <br>\n",
    "[abc] -> a or b or c <br>\n",
    "[0-5a-z] -> 0부터 5까지 or a부터 z까지 문자 중에 1가지 <br>\n",
    "[^0-9] -> ^이 not이란 의미로 쓰여 숫자가 아닌 문자 1개 <br>\n",
    "\\d == [0-9], \\D == [^0-9] <br>\n",
    "\\s == [ \\t\\n\\r\\f\\v], \\S == [^ \\t\\n\\r\\f\\v] <br>\n",
    "\\w == [a-zA-Z0-9], \\W == [^a-zA-Z0-9] <br>\n",
    "\n"
   ]
  },
  {
   "cell_type": "markdown",
   "metadata": {},
   "source": [
    "Dot(.) <br>\n",
    "\n",
    "string1 = \"a.b\"의 .은 \\n을 제외한 모든 문자를 의미한다. re.DOTALL로 포함시킬 수 있다. 반면 [.]은 정말로 점을 의미한다. <br>\n",
    "반복 <br>\n",
    "*은 0 이상이고 +는 1 이상이며 ?는 0 또는 1이다. <br>\n",
    "{최소, 최대}, {고정된 반복횟수}"
   ]
  },
  {
   "cell_type": "code",
   "execution_count": 22,
   "metadata": {},
   "outputs": [
    {
     "name": "stdout",
     "output_type": "stream",
     "text": [
      "['Beautiful']\n",
      "['Beautiful']\n"
     ]
    }
   ],
   "source": [
    "import re\n",
    "\n",
    "line = \"Beautiful is better than ugly.\"\n",
    "\n",
    "matches = re.findall(\"Beautiful\", line)\n",
    "\n",
    "print(matches)\n",
    "\n",
    "matches2 = re.findall(\"beautiful\", line, re.IGNORECASE) # 대소문자 구분하지 마라\n",
    "\n",
    "print(matches2)"
   ]
  },
  {
   "cell_type": "code",
   "execution_count": 23,
   "metadata": {},
   "outputs": [],
   "source": [
    "# Start or End matching\n",
    "\n",
    "\n",
    "\n",
    "zen2 = \"\"\"Although never is often better than * right * now.\n",
    "If the implemetation is hard to explain, it's a bad idea.\n",
    "If the implementation is easy to explain, it may be a good idea.\n",
    "namespaces are one honking great idea -- let's do more of those!\"\"\"\n",
    "\n",
    "m = re.findall(\"^If\", zen2, re.MULTILINE)"
   ]
  },
  {
   "cell_type": "markdown",
   "metadata": {},
   "source": [
    "- match(): 문자열의 처음부터 정규식과 맞아떨어지는지 조사한다. <br>\n",
    "\n",
    "- search(): 문자열의 전체를 검색해 정규식과 맞아 떨어지는지 조사한다. <br>\n",
    "\n",
    "match와 search는 정규식과 매치되면 match객체를 반환하지만 그렇지 않으면 None을 반환한다.\n",
    "\n",
    "- findall(): 정규식과 매치되는 모든 substring을 리스트로 돌려준다. <br>\n",
    "\n",
    "- finditer(): 정규식과 매치되는 모든 substring을 iterator 형식으로 돌려준다. <br>"
   ]
  },
  {
   "cell_type": "code",
   "execution_count": 24,
   "metadata": {},
   "outputs": [
    {
     "name": "stdout",
     "output_type": "stream",
     "text": [
      "<class 're.Pattern'> re.compile('ab*')\n"
     ]
    }
   ],
   "source": [
    "pattern = re.compile('ab*') # 정규식을 컴파일한다.\n",
    "print(type(pattern), pattern) # re.Pattern instance가 나온다."
   ]
  },
  {
   "cell_type": "code",
   "execution_count": 25,
   "metadata": {},
   "outputs": [
    {
     "name": "stdout",
     "output_type": "stream",
     "text": [
      "<re.Match object; span=(0, 3), match='zen'>\n",
      "None\n"
     ]
    }
   ],
   "source": [
    "p = re.compile('[a-z]+')\n",
    "\n",
    "m = p.match(\"zen2\")\n",
    "print(m)\n",
    "\n",
    "m = p.match(\"3 python\")\n",
    "print(m)"
   ]
  },
  {
   "cell_type": "code",
   "execution_count": 26,
   "metadata": {},
   "outputs": [
    {
     "name": "stdout",
     "output_type": "stream",
     "text": [
      "<re.Match object; span=(0, 6), match='python'>\n",
      "<re.Match object; span=(2, 8), match='python'>\n"
     ]
    }
   ],
   "source": [
    "m = p.search(\"python\")\n",
    "print(m)\n",
    "m = p.search(\"3 python\")\n",
    "print(m)"
   ]
  },
  {
   "cell_type": "code",
   "execution_count": 27,
   "metadata": {},
   "outputs": [
    {
     "name": "stdout",
     "output_type": "stream",
     "text": [
      "['life', 'is', 'too', 'short']\n"
     ]
    }
   ],
   "source": [
    "result = p.findall(\"life is too short\")\n",
    "print(result)"
   ]
  },
  {
   "cell_type": "code",
   "execution_count": 28,
   "metadata": {},
   "outputs": [
    {
     "name": "stdout",
     "output_type": "stream",
     "text": [
      "<callable_iterator object at 0x000002051A8F0A90>\n",
      "<re.Match object; span=(0, 4), match='life'>\n",
      "<re.Match object; span=(5, 7), match='is'>\n",
      "<re.Match object; span=(8, 11), match='too'>\n",
      "<re.Match object; span=(12, 17), match='short'>\n"
     ]
    }
   ],
   "source": [
    "result = p.finditer(\"life is too short\")\n",
    "print(result)\n",
    "\n",
    "for t in result:\n",
    "    print(t)"
   ]
  },
  {
   "cell_type": "markdown",
   "metadata": {},
   "source": [
    "# method of match instance\n",
    "\n",
    "- group(): 매치된 문자열을 돌려준다.\n",
    "- start(): 매치된 문자열의 시작위치를 돌려준다.\n",
    "- end(): 매치된 문자열의 끝 위치를 반환한다.\n",
    "- span(): 매치된 문자열의 (시작, 끝)에 해당하는 튜플을 반환한다."
   ]
  },
  {
   "cell_type": "code",
   "execution_count": 29,
   "metadata": {},
   "outputs": [
    {
     "name": "stdout",
     "output_type": "stream",
     "text": [
      "python 0 6 (0, 6)\n"
     ]
    }
   ],
   "source": [
    "m = p.match(\"python\")\n",
    "print(m.group(),\n",
    "m.start(),\n",
    "m.end(),\n",
    "m.span())\n"
   ]
  },
  {
   "cell_type": "code",
   "execution_count": 30,
   "metadata": {},
   "outputs": [
    {
     "name": "stdout",
     "output_type": "stream",
     "text": [
      "python 2 8 (2, 8)\n"
     ]
    }
   ],
   "source": [
    "m = p.search(\"3 python\")\n",
    "print(m.group(),\n",
    "m.start(),\n",
    "m.end(),\n",
    "m.span())"
   ]
  },
  {
   "cell_type": "markdown",
   "metadata": {},
   "source": [
    "re.match('정규식', '내 문자열') 바로 이렇게 표현해서 사용할 수도 있다."
   ]
  },
  {
   "cell_type": "markdown",
   "metadata": {},
   "source": [
    "# Complie options\n",
    "\n",
    "- DOTALL(S): .이 개행문자를 포함하여 모든 문지를 가리킬 수 있도록 한다. <br>\n",
    "- IGNORECASE(I): 대소문자에 관계없이 매칭한다. <br>\n",
    "- MULTILINE(M): 여러 줄과 매치할 수 있도록 한다. (^, $ 메타문자의 사용과 관계가 있는 옵션이다.) <br>\n",
    "- VERBOSE(X): verbose mode를 사용할 수 있도록 한다. 정규식을 보기 편하게 만들며 주석을 쓸 수 있다. <br>\n",
    "\n",
    "re.DOTALL == re.S처럼 약어로 쓸 수 있다."
   ]
  },
  {
   "cell_type": "code",
   "execution_count": 31,
   "metadata": {},
   "outputs": [
    {
     "name": "stdout",
     "output_type": "stream",
     "text": [
      "None\n"
     ]
    }
   ],
   "source": [
    "import re\n",
    "\n",
    "p = re.compile('a.b')\n",
    "m = p.match('a\\nb') # .은 공백문자를 제외한 모든 문자와 매칭된다.\n",
    "\n",
    "print(m)"
   ]
  },
  {
   "cell_type": "code",
   "execution_count": 32,
   "metadata": {},
   "outputs": [
    {
     "name": "stdout",
     "output_type": "stream",
     "text": [
      "<re.Match object; span=(0, 3), match='a\\nb'>\n"
     ]
    }
   ],
   "source": [
    "p = re.compile('a.b', re.S)\n",
    "m = p.match('a\\nb')\n",
    "\n",
    "print(m)\n",
    "\n",
    "# re.DOTALL로 여러줄인 문자열을 이용할 때 유용하다."
   ]
  },
  {
   "cell_type": "code",
   "execution_count": 33,
   "metadata": {},
   "outputs": [
    {
     "name": "stdout",
     "output_type": "stream",
     "text": [
      "<re.Match object; span=(0, 6), match='python'> <re.Match object; span=(0, 6), match='Python'> <re.Match object; span=(0, 6), match='PYTHON'>\n"
     ]
    }
   ],
   "source": [
    "# IGNORECASE, I 대소문자 구별 없애기\n",
    "\n",
    "p = re.compile('[a-z]+', re.I)\n",
    "print(p.match('python'), p.match('Python'), p.match('PYTHON'))"
   ]
  },
  {
   "cell_type": "code",
   "execution_count": 34,
   "metadata": {},
   "outputs": [
    {
     "name": "stdout",
     "output_type": "stream",
     "text": [
      "['python one']\n"
     ]
    }
   ],
   "source": [
    "# MULTILINE, M \n",
    "# ^은 처음, $는 마지막을 뜻하는 메타문자이다.\n",
    "# 이 옵선이 없을 때는 전체 줄을 1개의 string으로 보고 첫 줄에서 겹치는 것을 반환한다.\n",
    "\n",
    "# re.M을 사용하면 의도한 대로 여러줄을 구분해서 각 줄별로 일치하는 substring을 반환한다.\n",
    "\n",
    "\n",
    "p = re.compile(\"^python\\s\\w+\")\n",
    "\n",
    "data = \"\"\"python one\n",
    "life is too short\n",
    "python two\n",
    "you need python\n",
    "python three\"\"\"\n",
    "\n",
    "print(p.findall(data))"
   ]
  },
  {
   "cell_type": "code",
   "execution_count": 35,
   "metadata": {},
   "outputs": [
    {
     "name": "stdout",
     "output_type": "stream",
     "text": [
      "['python one', 'python two', 'python three']\n"
     ]
    }
   ],
   "source": [
    "p = re.compile(\"^python\\s\\w+\", re.M)\n",
    "\n",
    "print(p.findall(data))\n",
    "# MULTILINE 모드에서도, re.match()는 각 줄의 시작 부분이 아니라 문자열의 시작 부분에서만 \n",
    "# 일치함에 유의하십시오.\n",
    "# 내가 친 엔터와 \\n는 다른 것이란 뜻이다.\n",
    "# 내가 직접 엔터를 친 것을 \\n로 보지 않고 여전히 한 string으로 보고 줄을 나눈다는 뜻"
   ]
  },
  {
   "cell_type": "code",
   "execution_count": 39,
   "metadata": {},
   "outputs": [
    {
     "data": {
      "text/plain": [
       "['', '\\nlife is too short\\n', '\\nyou need ', ' three']"
      ]
     },
     "execution_count": 39,
     "metadata": {},
     "output_type": "execute_result"
    }
   ],
   "source": [
    "# re.split(pattern, string) pattern으로 string을 쪼갠다.\n",
    "\n",
    "\n",
    "\n",
    "re.split(\"python\\s\\w+\", data, re.M)"
   ]
  },
  {
   "cell_type": "markdown",
   "metadata": {},
   "source": [
    "re.VERBOSE는 사용된 whitespace는 컴파일로 제거되며 [] 안의 whitespace는 제거되지 않는다. <br>\n",
    "그리고 줄 단위로 # 기호를 사용해 주석문을 작성할 수 있다."
   ]
  },
  {
   "cell_type": "code",
   "execution_count": 59,
   "metadata": {},
   "outputs": [
    {
     "name": "stdout",
     "output_type": "stream",
     "text": [
      "None\n"
     ]
    }
   ],
   "source": [
    "# VERBOSE, X\n",
    "# 주석을 달 수 있게 해주는 옵션이다.\n",
    "\n",
    "charref = re.compile(r'&[#](0[0-7]+[0-9]+|x[0-9a-fA-F]+);')\n",
    "\n",
    "# 같은 것이지만 주석을 달았다.\n",
    "\n",
    "charref2 = re.compile(r\"\"\"\n",
    "&[#]            # Start of a numeric entity reference\n",
    "(               \n",
    "    0[0-7]+     # Octal form\n",
    "    | [0-9]+    # Decimal form\n",
    "    | x[0-9a-fA-F] # Hexadecimal form\n",
    "\n",
    "\n",
    ")\n",
    ";           # Trailing semicolon\n",
    "\n",
    "\n",
    "\n",
    "\"\"\", re.X)\n",
    "\n",
    "input = '&[#]91 a7 x98 504'\n",
    "\n",
    "print(charref.search(input))\n"
   ]
  },
  {
   "cell_type": "markdown",
   "metadata": {},
   "source": [
    "backslash \\ <br>\n",
    "\n",
    "\\는 escape 문자로 바로 뒤에 있는 \\n, \\t, \\s 같은 예약어라면 특수한 의미를 갖지만 <br>\n",
    "\\\\로 하면 문자\\로 인식한다. <br>\n",
    "아니며 raw string을 사용해서 입력한 그대로의 문자열을 뜻하도록 하며는 방법도 있다."
   ]
  },
  {
   "cell_type": "code",
   "execution_count": null,
   "metadata": {},
   "outputs": [],
   "source": []
  },
  {
   "cell_type": "code",
   "execution_count": null,
   "metadata": {},
   "outputs": [],
   "source": []
  }
 ],
 "metadata": {
  "kernelspec": {
   "display_name": "Python 3.8.13 ('practice')",
   "language": "python",
   "name": "python3"
  },
  "language_info": {
   "codemirror_mode": {
    "name": "ipython",
    "version": 3
   },
   "file_extension": ".py",
   "mimetype": "text/x-python",
   "name": "python",
   "nbconvert_exporter": "python",
   "pygments_lexer": "ipython3",
   "version": "3.8.13"
  },
  "orig_nbformat": 4,
  "vscode": {
   "interpreter": {
    "hash": "227e91d6fb4f59a7a39a2db5f96227f92e2567838c61beb55ab9c9d6661da6ea"
   }
  }
 },
 "nbformat": 4,
 "nbformat_minor": 2
}
