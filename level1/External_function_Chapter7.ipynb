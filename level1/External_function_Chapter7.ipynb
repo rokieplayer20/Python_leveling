{
 "cells": [
  {
   "cell_type": "markdown",
   "metadata": {},
   "source": [
    "External function(외장함수)\n",
    "sys, os, pickle, shutil, temfile, time, random 등등"
   ]
  },
  {
   "cell_type": "markdown",
   "metadata": {},
   "source": [
    "sys.argv : 리눅스 커널라인에서 \"python --option arg1 arg2\"의 arg list이다. \n",
    "\n",
    "sys.exit() : 강제 종료 함수\n",
    "\n",
    "sys.path : 파이썬의 기본 패키지들의 위치 리스트"
   ]
  },
  {
   "cell_type": "code",
   "execution_count": 3,
   "metadata": {},
   "outputs": [
    {
     "name": "stdout",
     "output_type": "stream",
     "text": [
      "['c:\\\\Users\\\\rokie\\\\anaconda3\\\\envs\\\\ai\\\\lib\\\\site-packages\\\\ipykernel_launcher.py', '--ip=127.0.0.1', '--stdin=9008', '--control=9006', '--hb=9005', '--Session.signature_scheme=\"hmac-sha256\"', '--Session.key=b\"154c7989-ec98-4516-8348-526528af7524\"', '--shell=9007', '--transport=\"tcp\"', '--iopub=9009', '--f=c:\\\\Users\\\\rokie\\\\AppData\\\\Roaming\\\\jupyter\\\\runtime\\\\kernel-v2-35756iwpAZo7aoXWa.json']\n",
      "====================================================================================================\n",
      "['c:\\\\Users\\\\rokie\\\\AlgorithmStudy\\\\inflearnPython\\\\level1', 'c:\\\\Users\\\\rokie\\\\anaconda3\\\\envs\\\\ai\\\\python38.zip', 'c:\\\\Users\\\\rokie\\\\anaconda3\\\\envs\\\\ai\\\\DLLs', 'c:\\\\Users\\\\rokie\\\\anaconda3\\\\envs\\\\ai\\\\lib', 'c:\\\\Users\\\\rokie\\\\anaconda3\\\\envs\\\\ai', '', 'C:\\\\Users\\\\rokie\\\\AppData\\\\Roaming\\\\Python\\\\Python38\\\\site-packages', 'c:\\\\Users\\\\rokie\\\\anaconda3\\\\envs\\\\ai\\\\lib\\\\site-packages', 'c:\\\\Users\\\\rokie\\\\anaconda3\\\\envs\\\\ai\\\\lib\\\\site-packages\\\\win32', 'c:\\\\Users\\\\rokie\\\\anaconda3\\\\envs\\\\ai\\\\lib\\\\site-packages\\\\win32\\\\lib', 'c:\\\\Users\\\\rokie\\\\anaconda3\\\\envs\\\\ai\\\\lib\\\\site-packages\\\\Pythonwin', 'c:\\\\Users\\\\rokie\\\\anaconda3\\\\envs\\\\ai\\\\lib\\\\site-packages\\\\IPython\\\\extensions', 'C:\\\\Users\\\\rokie\\\\.ipython']\n"
     ]
    }
   ],
   "source": [
    "import sys\n",
    "\n",
    "print(sys.argv)\n",
    "print('='*100)\n",
    "print(sys.path)"
   ]
  },
  {
   "cell_type": "markdown",
   "metadata": {},
   "source": [
    "pickle : 객체를 파일로 쓰고 불러오기\n",
    "\n",
    "pickle.dump(object, open_function_io) \n",
    "위치를 지정하지 않으면 현재 파일의 위치에 저장함"
   ]
  },
  {
   "cell_type": "code",
   "execution_count": 6,
   "metadata": {},
   "outputs": [
    {
     "name": "stdout",
     "output_type": "stream",
     "text": [
      "type of open is <class '_io.BufferedWriter'>. \n"
     ]
    }
   ],
   "source": [
    "import pickle\n",
    "# (경로/이름.확장자, mode) w: 쓰기, b: binary\n",
    "# f = open(\"test.obj\", 'wb')\n",
    "f = open(file=\"./test.obj\", mode='wb')\n",
    "print(f'type of open is {type(f)}. ')\n",
    "obj = {1:'python', 2:'study', 3:'basic'}\n",
    "\n",
    "pickle.dump(obj, f)\n",
    "\n",
    "f.close() # 닫아야 한다."
   ]
  },
  {
   "cell_type": "code",
   "execution_count": 5,
   "metadata": {},
   "outputs": [
    {
     "name": "stdout",
     "output_type": "stream",
     "text": [
      "type of open is <class '_io.BufferedReader'>. \n",
      "{1: 'python', 2: 'study', 3: 'basic'} <class 'dict'>\n"
     ]
    }
   ],
   "source": [
    "f = open(\"./test.obj\", 'rb')\n",
    "print(f'type of open is {type(f)}. ')\n",
    "\n",
    "data = pickle.load(f)\n",
    "\n",
    "print(data, type(data))\n",
    "f.close()"
   ]
  },
  {
   "cell_type": "markdown",
   "metadata": {},
   "source": [
    "os : 환경 변수, 디렉토리(파일) 처리 관련, 운영체제 작업 관련\n",
    "\n",
    "mkdir, rmdir(비어 있으면 삭제), rename"
   ]
  },
  {
   "cell_type": "code",
   "execution_count": 9,
   "metadata": {},
   "outputs": [
    {
     "name": "stdout",
     "output_type": "stream",
     "text": [
      "environ({'ALLUSERSPROFILE': 'C:\\\\ProgramData', 'APPDATA': 'C:\\\\Users\\\\rokie\\\\AppData\\\\Roaming', 'APPLICATION_INSIGHTS_NO_DIAGNOSTIC_CHANNEL': 'true', 'CHOCOLATEYINSTALL': 'C:\\\\ProgramData\\\\chocolatey', 'CHOCOLATEYLASTPATHUPDATE': '132984315999138767', 'CHROME_CRASHPAD_PIPE_NAME': '\\\\\\\\.\\\\pipe\\\\crashpad_54380_LJQCHWFWWWMYFIMH', 'COMMONPROGRAMFILES': 'C:\\\\Program Files\\\\Common Files', 'COMMONPROGRAMFILES(X86)': 'C:\\\\Program Files (x86)\\\\Common Files', 'COMMONPROGRAMW6432': 'C:\\\\Program Files\\\\Common Files', 'COMPUTERNAME': 'LAPTOP-IC25EDHA', 'COMSPEC': 'C:\\\\WINDOWS\\\\system32\\\\cmd.exe', 'CONDA_DEFAULT_ENV': 'ai', 'CONDA_EXE': 'C:\\\\Users\\\\rokie\\\\anaconda3\\\\Scripts\\\\conda.exe', 'CONDA_PREFIX': 'C:\\\\Users\\\\rokie\\\\anaconda3\\\\envs\\\\ai', 'CONDA_PROMPT_MODIFIER': '(ai) ', 'CONDA_PYTHON_EXE': 'C:\\\\Users\\\\rokie\\\\anaconda3\\\\python.exe', 'CONDA_ROOT': 'C:\\\\Users\\\\rokie\\\\anaconda3', 'CONDA_SHLVL': '1', 'DRIVERDATA': 'C:\\\\Windows\\\\System32\\\\Drivers\\\\DriverData', 'ELECTRON_RUN_AS_NODE': '1', 'GOPATH': 'C:\\\\Users\\\\rokie\\\\go', 'HOMEDRIVE': 'C:', 'HOMEPATH': '\\\\Users\\\\rokie', 'JPY_INTERRUPT_EVENT': '2000', 'LOCALAPPDATA': 'C:\\\\Users\\\\rokie\\\\AppData\\\\Local', 'LOGONSERVER': '\\\\\\\\LAPTOP-IC25EDHA', 'NUMBER_OF_PROCESSORS': '4', 'ONEDRIVE': 'C:\\\\Users\\\\rokie\\\\OneDrive', 'ONEDRIVECONSUMER': 'C:\\\\Users\\\\rokie\\\\OneDrive', 'ORIGINAL_XDG_CURRENT_DESKTOP': 'undefined', 'OS': 'Windows_NT', 'PATH': 'c:\\\\Users\\\\rokie\\\\anaconda3\\\\envs\\\\ai;C:\\\\Users\\\\rokie\\\\anaconda3\\\\envs\\\\ai;C:\\\\Users\\\\rokie\\\\anaconda3\\\\envs\\\\ai\\\\Library\\\\mingw-w64\\\\bin;C:\\\\Users\\\\rokie\\\\anaconda3\\\\envs\\\\ai\\\\Library\\\\usr\\\\bin;C:\\\\Users\\\\rokie\\\\anaconda3\\\\envs\\\\ai\\\\Library\\\\bin;C:\\\\Users\\\\rokie\\\\anaconda3\\\\envs\\\\ai\\\\Scripts;C:\\\\Users\\\\rokie\\\\anaconda3\\\\envs\\\\ai\\\\bin;C:\\\\Users\\\\rokie\\\\anaconda3\\\\condabin;C:\\\\Python310\\\\Scripts;C:\\\\Python310;C:\\\\Program Files (x86)\\\\Common Files\\\\Oracle\\\\Java\\\\javapath;C:\\\\WINDOWS\\\\system32;C:\\\\WINDOWS;C:\\\\WINDOWS\\\\System32\\\\Wbem;C:\\\\WINDOWS\\\\System32\\\\WindowsPowerShell\\\\v1.0;C:\\\\WINDOWS\\\\System32\\\\OpenSSH;C:\\\\Program Files\\\\Git\\\\cmd;C:\\\\Program Files\\\\Go\\\\bin;C:\\\\Program Files\\\\dotnet;C:\\\\ProgramData\\\\chocolatey\\\\bin;C:\\\\Program Files\\\\nodejs;C:\\\\Users\\\\rokie\\\\AppData\\\\Local\\\\Microsoft\\\\WindowsApps;C:\\\\Users\\\\rokie\\\\AppData\\\\Local\\\\Programs\\\\Microsoft VS Code\\\\bin;C:\\\\Program Files\\\\Bandizip;C:\\\\Users\\\\rokie\\\\go\\\\bin;C:\\\\Users\\\\rokie\\\\.dotnet\\\\tools;C:\\\\Program Files\\\\JetBrains\\\\PyCharm 2021.1.2\\\\bin;.;C:\\\\Users\\\\rokie\\\\AppData\\\\Local\\\\GitHubDesktop\\\\bin;C:\\\\Program Files\\\\JetBrains\\\\PyCharm Community Edition 2020.3.5\\\\bin;.;C:\\\\Users\\\\rokie\\\\AppData\\\\Roaming\\\\npm', 'PATHEXT': '.COM;.EXE;.BAT;.CMD;.VBS;.VBE;.JS;.JSE;.WSF;.WSH;.MSC;.PY;.PYW', 'PROCESSOR_ARCHITECTURE': 'AMD64', 'PROCESSOR_IDENTIFIER': 'Intel64 Family 6 Model 142 Stepping 11, GenuineIntel', 'PROCESSOR_LEVEL': '6', 'PROCESSOR_REVISION': '8e0b', 'PROGRAMDATA': 'C:\\\\ProgramData', 'PROGRAMFILES': 'C:\\\\Program Files', 'PROGRAMFILES(X86)': 'C:\\\\Program Files (x86)', 'PROGRAMW6432': 'C:\\\\Program Files', 'PROMPT': '(ai) $P$G', 'PSMODULEPATH': 'C:\\\\Program Files\\\\WindowsPowerShell\\\\Modules;C:\\\\WINDOWS\\\\system32\\\\WindowsPowerShell\\\\v1.0\\\\Modules', 'PUBLIC': 'C:\\\\Users\\\\Public', 'PYCHARM': 'C:\\\\Program Files\\\\JetBrains\\\\PyCharm 2021.1.2\\\\bin;', 'PYCHARM COMMUNITY EDITION': 'C:\\\\Program Files\\\\JetBrains\\\\PyCharm Community Edition 2020.3.5\\\\bin;', 'PYTHONIOENCODING': 'utf-8', 'PYTHONUNBUFFERED': '1', 'PYTHONUTF8': '1', 'SESSIONNAME': 'Console', 'SYSTEMDRIVE': 'C:', 'SYSTEMROOT': 'C:\\\\WINDOWS', 'TEMP': 'C:\\\\Users\\\\rokie\\\\AppData\\\\Local\\\\Temp', 'TMP': 'C:\\\\Users\\\\rokie\\\\AppData\\\\Local\\\\Temp', 'USERDOMAIN': 'LAPTOP-IC25EDHA', 'USERDOMAIN_ROAMINGPROFILE': 'LAPTOP-IC25EDHA', 'USERNAME': 'rokie', 'USERPROFILE': 'C:\\\\Users\\\\rokie', 'VSCODE_AMD_ENTRYPOINT': 'vs/workbench/api/node/extensionHostProcess', 'VSCODE_CODE_CACHE_PATH': 'C:\\\\Users\\\\rokie\\\\AppData\\\\Roaming\\\\Code\\\\CachedData\\\\30d9c6cd9483b2cc586687151bcbcd635f373630', 'VSCODE_CWD': 'C:\\\\Users\\\\rokie\\\\AppData\\\\Local\\\\Programs\\\\Microsoft VS Code', 'VSCODE_HANDLES_UNCAUGHT_ERRORS': 'true', 'VSCODE_IPC_HOOK': '\\\\\\\\.\\\\pipe\\\\22070dc88cd243edc6cccb4f70011c63-1.68.1-main-sock', 'VSCODE_IPC_HOOK_EXTHOST': '\\\\\\\\.\\\\pipe\\\\vscode-ipc-503536d9-a0d2-4943-b590-7512d8175af6-sock', 'VSCODE_LOG_NATIVE': 'false', 'VSCODE_LOG_STACK': 'false', 'VSCODE_NLS_CONFIG': '{\"locale\":\"ko\",\"availableLanguages\":{\"*\":\"ko\"},\"_languagePackId\":\"26f3b44ea4f1e942cca002e9545643cc.ko\",\"_translationsConfigFile\":\"C:\\\\\\\\Users\\\\\\\\rokie\\\\\\\\AppData\\\\\\\\Roaming\\\\\\\\Code\\\\\\\\clp\\\\\\\\26f3b44ea4f1e942cca002e9545643cc.ko\\\\\\\\tcf.json\",\"_cacheRoot\":\"C:\\\\\\\\Users\\\\\\\\rokie\\\\\\\\AppData\\\\\\\\Roaming\\\\\\\\Code\\\\\\\\clp\\\\\\\\26f3b44ea4f1e942cca002e9545643cc.ko\",\"_resolvedLanguagePackCoreLocation\":\"C:\\\\\\\\Users\\\\\\\\rokie\\\\\\\\AppData\\\\\\\\Roaming\\\\\\\\Code\\\\\\\\clp\\\\\\\\26f3b44ea4f1e942cca002e9545643cc.ko\\\\\\\\30d9c6cd9483b2cc586687151bcbcd635f373630\",\"_corruptedFile\":\"C:\\\\\\\\Users\\\\\\\\rokie\\\\\\\\AppData\\\\\\\\Roaming\\\\\\\\Code\\\\\\\\clp\\\\\\\\26f3b44ea4f1e942cca002e9545643cc.ko\\\\\\\\corrupted.info\",\"_languagePackSupport\":true}', 'VSCODE_PID': '54380', 'VSCODE_PIPE_LOGGING': 'true', 'VSCODE_VERBOSE_LOGGING': 'true', 'WINDIR': 'C:\\\\WINDOWS', '_CONDA_OLD_CHCP': '949', 'TERM': 'xterm-color', 'CLICOLOR': '1', 'PAGER': 'cat', 'GIT_PAGER': 'cat', 'MPLBACKEND': 'module://ipykernel.pylab.backend_inline'})\n",
      "rokie\n",
      "c:\\Users\\rokie\\AlgorithmStudy\\inflearnPython\\level1\n"
     ]
    }
   ],
   "source": [
    "import os\n",
    "\n",
    "print(os.environ) # 실행환경 dictionary\n",
    "print(os.environ['USERNAME'])\n",
    "\n",
    "print(os.getcwd()) # get current working directory == pwd\n"
   ]
  },
  {
   "cell_type": "markdown",
   "metadata": {},
   "source": [
    "time: 시간 관련 처리\n",
    "\n",
    "time.strftime(표현식 string, 원하는 시각) : 원하는 시각의 디폴트는 time.localtime(time.time())로 자동으로 현재 시각이 나옴\n",
    "\n"
   ]
  },
  {
   "cell_type": "code",
   "execution_count": 16,
   "metadata": {},
   "outputs": [
    {
     "name": "stdout",
     "output_type": "stream",
     "text": [
      "1656945418.3135026\n",
      "time.struct_time(tm_year=2022, tm_mon=7, tm_mday=4, tm_hour=23, tm_min=36, tm_sec=58, tm_wday=0, tm_yday=185, tm_isdst=0)\n",
      "Mon Jul  4 23:36:58 2022\n",
      "2022-07-04 23:36:58\n"
     ]
    }
   ],
   "source": [
    "import time\n",
    "\n",
    "print(time.time()) # 현재 시각\n",
    "\n",
    "print(time.localtime(time.time())) # 모든 시간 단위를 쪼개서 표현해준다.\n",
    "\n",
    "print(time.ctime()) # 간단한 현재 시각\n",
    "\n",
    "print(time.strftime('%Y-%m-%d %H:%M:%S', time.localtime(time.time()))) # string format time method\n",
    "# %Y:연, %m:월, %d:일, %H:시각, %M:분, %S:초"
   ]
  },
  {
   "cell_type": "code",
   "execution_count": 17,
   "metadata": {},
   "outputs": [
    {
     "name": "stdout",
     "output_type": "stream",
     "text": [
      "0\n",
      "1\n",
      "2\n",
      "3\n",
      "4\n"
     ]
    }
   ],
   "source": [
    "# 시간 간격 \n",
    "\n",
    "for i in range(5):\n",
    "    print(i)\n",
    "    time.sleep(1) # 초를 넣는 것이다."
   ]
  },
  {
   "cell_type": "markdown",
   "metadata": {},
   "source": [
    "random : 난수 반환"
   ]
  },
  {
   "cell_type": "code",
   "execution_count": 26,
   "metadata": {},
   "outputs": [
    {
     "name": "stdout",
     "output_type": "stream",
     "text": [
      "0.26452777904397884\n",
      "29\n",
      "29\n",
      "['d', 'e', 'a', 'b', 'c']\n",
      "e\n"
     ]
    }
   ],
   "source": [
    "import random\n",
    "\n",
    "print(random.random()) # 0 이상 1 미만의 실수가 나온다.\n",
    "\n",
    "print(random.randint(1, 45)) # 1 이상 45 미만의 정수\n",
    "\n",
    "\n",
    "print(random.randrange(1, 45)) # 1 이상 45 미만의 range\n",
    "list0 = ['a', 'b', 'c', 'd', 'e']\n",
    "random.shuffle(list0) # return none\n",
    "print(list0) # 무작위로 섞는다.\n",
    "\n",
    "print(random.choice(['a', 'b', 'c', 'd', 'e'])) # 무작위로 하나 뽑는다."
   ]
  },
  {
   "cell_type": "markdown",
   "metadata": {},
   "source": [
    "webbrowser: 자기 OS의 웹브라우저를 실행한다."
   ]
  },
  {
   "cell_type": "code",
   "execution_count": 28,
   "metadata": {},
   "outputs": [
    {
     "data": {
      "text/plain": [
       "True"
      ]
     },
     "execution_count": 28,
     "metadata": {},
     "output_type": "execute_result"
    }
   ],
   "source": [
    "import webbrowser\n",
    "\n",
    "webbrowser.open(\"https://google.com\") # 내가 원하는 URL로 방문한다.\n",
    "\n",
    "webbrowser.open_new(\"https://www.naver.com\") # 새 탭으로 연다.\n",
    "\n"
   ]
  },
  {
   "cell_type": "markdown",
   "metadata": {},
   "source": [
    "datetime : 날짜와 시간을 표시하고 연산할 수 있다.\n",
    "\n",
    "datetime.now() 현재 시각\n",
    "\n",
    "datetime.timedelta()\n",
    "\n",
    "datetime.datetime()"
   ]
  },
  {
   "cell_type": "code",
   "execution_count": 32,
   "metadata": {},
   "outputs": [
    {
     "name": "stdout",
     "output_type": "stream",
     "text": [
      "2022-07-05 00:13:11.100967\n",
      "2022-12-25 00:13:11.102969\n",
      "1461 days, 0:13:11.102969\n"
     ]
    }
   ],
   "source": [
    "import datetime\n",
    "# datetime 객체 만들기\n",
    "print(datetime.datetime.now()) # 임포트모듈.class_name.method()\n",
    "start_time = datetime.datetime.now()\n",
    "\n",
    "start_time = start_time.replace(month=12, day=25) # 값 변경\n",
    "print(start_time)\n",
    "\n",
    "xMas = datetime.datetime(2018, 12, 25) # constructor\n",
    "\n",
    "left_time = start_time - xMas\n",
    "print(left_time)"
   ]
  },
  {
   "cell_type": "code",
   "execution_count": 34,
   "metadata": {},
   "outputs": [
    {
     "name": "stdout",
     "output_type": "stream",
     "text": [
      "0:59:00 <class 'datetime.timedelta'>\n",
      "<class 'datetime.datetime'> <class 'datetime.timedelta'>\n"
     ]
    }
   ],
   "source": [
    "time_1 = datetime.datetime.strptime(\"09:10\", \"%H:%M\")\n",
    "# (시간string, 표현식string) -> datetime object\n",
    "time_2 = datetime.datetime.strptime(\"10:09\", \"%H:%M\")\n",
    "\n",
    "if time_1 < time_2: # 비교 가능\n",
    "    time_interval = time_2 - time_1\n",
    "    print(time_interval, type(time_interval)) # 연산결과 자동으로 timedelta가 된다.\n",
    "\n",
    "\n",
    "gap = datetime.timedelta(minutes=10) # 시간 간격\n",
    "\n",
    "print(type(time_1),type(gap)) \n",
    "# 서로 더하고 빼는 연산이 가능하다."
   ]
  }
 ],
 "metadata": {
  "kernelspec": {
   "display_name": "Python 3.8.10 ('ai')",
   "language": "python",
   "name": "python3"
  },
  "language_info": {
   "codemirror_mode": {
    "name": "ipython",
    "version": 3
   },
   "file_extension": ".py",
   "mimetype": "text/x-python",
   "name": "python",
   "nbconvert_exporter": "python",
   "pygments_lexer": "ipython3",
   "version": "3.8.10"
  },
  "orig_nbformat": 4,
  "vscode": {
   "interpreter": {
    "hash": "6270e6d8b5fb321e1a842519f0c29f2e2b7188cdba36e81e06ada9019ab06ac7"
   }
  }
 },
 "nbformat": 4,
 "nbformat_minor": 2
}
