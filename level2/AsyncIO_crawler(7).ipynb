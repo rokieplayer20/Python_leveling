{
 "cells": [
  {
   "cell_type": "markdown",
   "metadata": {},
   "source": [
    "AsyncIO: coroutine을 IO에 특화시켜 편리하게 사용할 수 있다. <br>\n",
    "Non-blocking 비동기 처리 <br>\n",
    "- Blocking I/O: 호출된 함수가 자신의 작업이 완료될 때까지 제어권을 가지고 있어서 다른 함수는 대기해야 한다.\n",
    "- Non-Blocking I/O: 호출된 함수(subroutine)가 return(yield) 후 호출한 함수(main routine)에 제어권 전달한다. 그래서 다른 함수는 일을 계속할 수 있다."
   ]
  },
  {
   "cell_type": "markdown",
   "metadata": {},
   "source": [
    "Thread 단점: 디버깅과 자원 접근할 때, race condition, deadlock을 고려해서 코딩해야 함. <br>\n",
    "Coroutine의 장점: 하나의 루틴만 실행하기 때문에 lock 관리할 필요 없고 제어권으로 실행된다. <br>\n",
    "Coroutine의 단점: 사용 함수가 비동기로 구현되어 있어야 한다. <br>"
   ]
  },
  {
   "cell_type": "code",
   "execution_count": 17,
   "metadata": {},
   "outputs": [
    {
     "name": "stdout",
     "output_type": "stream",
     "text": [
      "Requirement already satisfied: nest_asyncio in c:\\users\\rokie\\anaconda3\\envs\\ai\\lib\\site-packages (1.5.1)\n"
     ]
    },
    {
     "name": "stderr",
     "output_type": "stream",
     "text": [
      "WARNING: Ignoring invalid distribution -ycrypto (c:\\users\\rokie\\anaconda3\\envs\\ai\\lib\\site-packages)\n",
      "WARNING: Ignoring invalid distribution -ycrypto (c:\\users\\rokie\\anaconda3\\envs\\ai\\lib\\site-packages)\n",
      "WARNING: Ignoring invalid distribution -ycrypto (c:\\users\\rokie\\anaconda3\\envs\\ai\\lib\\site-packages)\n",
      "WARNING: Ignoring invalid distribution -ycrypto (c:\\users\\rokie\\anaconda3\\envs\\ai\\lib\\site-packages)\n",
      "WARNING: Ignoring invalid distribution -ycrypto (c:\\users\\rokie\\anaconda3\\envs\\ai\\lib\\site-packages)\n",
      "WARNING: Ignoring invalid distribution -ycrypto (c:\\users\\rokie\\anaconda3\\envs\\ai\\lib\\site-packages)\n"
     ]
    }
   ],
   "source": [
    "# 주피터 노트북은 자체 이벤트루프를 쓰기 대문에 새로 설치해줘야 한다.\n",
    "!pip install nest_asyncio\n",
    "import nest_asyncio\n",
    "nest_asyncio.apply()"
   ]
  },
  {
   "cell_type": "code",
   "execution_count": 18,
   "metadata": {},
   "outputs": [],
   "source": [
    "import asyncio\n",
    "import timeit\n",
    "from urllib.request import urlopen # block 함수\n",
    "from concurrent.futures import ThreadPoolExecutor\n",
    "import threading\n",
    "from bs4 import BeautifulSoup\n",
    "\n",
    "start = timeit.default_timer()\n",
    "\n",
    "# 서비스 방향이 비슷한 사이트로 실습 권장 (예: 게시판성 커뮤니티)\n",
    "urls = ['https://daum.net', 'https://naver.com', 'https://mlbpark.donga.com',\n",
    "        'https://tistory.com', 'https://wemakeprice.com']\n",
    "\n"
   ]
  },
  {
   "cell_type": "code",
   "execution_count": 19,
   "metadata": {},
   "outputs": [],
   "source": [
    "async def fetch(url, executor):\n",
    "    # thread 이름 출력\n",
    "    print(f'thread Name : {threading.current_thread().getName()}, Start : {url}')\n",
    "\n",
    "    # urlopen이 block함수라서 여기서 nonblock으로 만든다. 안 그러면 순차적으로 실행된다.\n",
    "    res = await loop.run_in_executor(executor, urlopen, url)\n",
    "    # (thread, function, target)\n",
    "\n",
    "\n",
    "    soup = BeautifulSoup(res.read(), 'html.parser')\n",
    "    # BeautifulSoup을 안 이용하고 res를 직접 반환하면 인간의 글씨로 표시되지 않는다.\n",
    "\n",
    "    # 전체 페이지 소스 확인\n",
    "    #print(soup.prettify())\n",
    "\n",
    "    # title만\n",
    "    result_data = soup.title\n",
    "\n",
    "    # 완료된 것을 표시\n",
    "    print(f'thread Name : {threading.current_thread().getName()}, Done : {url}')\n",
    "\n",
    "\n",
    "    return result_data\n",
    "\n",
    "# SyntaxError: 'await' outside async function\n",
    "# await을 사용할 때, async를 안 쓰면 문법 오류이다."
   ]
  },
  {
   "cell_type": "code",
   "execution_count": 20,
   "metadata": {},
   "outputs": [],
   "source": [
    "async def main():\n",
    "\n",
    "    # Thread pool 생성\n",
    "    executor = ThreadPoolExecutor(max_workers = 10)\n",
    "\n",
    "    # future 객체 모아서 gather에서 실행한다.\n",
    "    futures = [\n",
    "        asyncio.ensure_future(fetch(url, executor)) for url in urls\n",
    "        \n",
    "    ]\n",
    "    # url 하나 당 하나의 thread\n",
    "\n",
    "    #결과 취합\n",
    "    rst = await asyncio.gather(*futures)\n",
    "    print(f'Result : {rst}')"
   ]
  },
  {
   "cell_type": "code",
   "execution_count": 21,
   "metadata": {},
   "outputs": [
    {
     "name": "stdout",
     "output_type": "stream",
     "text": [
      "thread Name : MainThread, Start : https://daum.net\n",
      "thread Name : MainThread, Start : https://naver.com\n",
      "thread Name : MainThread, Start : https://mlbpark.donga.com\n",
      "thread Name : MainThread, Start : https://tistory.com\n",
      "thread Name : MainThread, Start : https://wemakeprice.com\n",
      "thread Name : MainThread, Done : https://mlbpark.donga.com\n",
      "thread Name : MainThread, Done : https://daum.net\n",
      "thread Name : MainThread, Done : https://tistory.com\n",
      "thread Name : MainThread, Done : https://naver.com\n",
      "thread Name : MainThread, Done : https://wemakeprice.com\n",
      "Result : [<title>Daum</title>, <title>NAVER</title>, <title>↗ 파크에 오면 즐겁다 MLBPARK</title>, <title>TISTORY</title>, <title>특가프로 위메프로</title>]\n",
      "Total Running Time :  2.03136590000031\n"
     ]
    }
   ],
   "source": [
    "if __name__ == '__main__':\n",
    "    # 루프 초기화\n",
    "    loop = asyncio.get_event_loop()\n",
    "    # 작업 완료 까지 대기\n",
    "    loop.run_until_complete(main())\n",
    "    # 수행 시간 계산\n",
    "    duration = timeit.default_timer() - start\n",
    "    # 총 실행 시간\n",
    "    print('Total Running Time : ', duration)"
   ]
  },
  {
   "cell_type": "code",
   "execution_count": null,
   "metadata": {},
   "outputs": [],
   "source": []
  },
  {
   "cell_type": "code",
   "execution_count": null,
   "metadata": {},
   "outputs": [],
   "source": []
  },
  {
   "cell_type": "code",
   "execution_count": null,
   "metadata": {},
   "outputs": [],
   "source": []
  }
 ],
 "metadata": {
  "kernelspec": {
   "display_name": "Python 3.8.10 ('ai')",
   "language": "python",
   "name": "python3"
  },
  "language_info": {
   "codemirror_mode": {
    "name": "ipython",
    "version": 3
   },
   "file_extension": ".py",
   "mimetype": "text/x-python",
   "name": "python",
   "nbconvert_exporter": "python",
   "pygments_lexer": "ipython3",
   "version": "3.8.10"
  },
  "orig_nbformat": 4,
  "vscode": {
   "interpreter": {
    "hash": "6270e6d8b5fb321e1a842519f0c29f2e2b7188cdba36e81e06ada9019ab06ac7"
   }
  }
 },
 "nbformat": 4,
 "nbformat_minor": 2
}
