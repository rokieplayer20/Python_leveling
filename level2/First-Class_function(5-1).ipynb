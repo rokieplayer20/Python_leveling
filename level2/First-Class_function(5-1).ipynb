{
 "cells": [
  {
   "cell_type": "markdown",
   "metadata": {},
   "source": [
    "First Class functions in Python (파이썬의 일급함수)\n",
    "- It is an instance of an Object type.\n",
    "- Functions can be stored as variable.\n",
    "- Pass First Class Function as argument of some other functions.\n",
    "- Return Functions from other function.\n",
    "- Store Functions in lists, sets or some other data structures. <br>\n",
    "reference : https://www.tutorialspoint.com/first-class-functions-in-python"
   ]
  },
  {
   "cell_type": "markdown",
   "metadata": {},
   "source": [
    "1. 런타임 초기화 : 실행 시점에 초기화된다. \n",
    "2. 변수로 할당할 수 있다.\n",
    "3. 다른 함수의 인수로 사용할 수 있다.\n",
    "4. 함수를 결과로 반환할 수 있다."
   ]
  },
  {
   "cell_type": "code",
   "execution_count": 12,
   "metadata": {},
   "outputs": [
    {
     "name": "stdout",
     "output_type": "stream",
     "text": [
      "24\n",
      "<class 'function'> Factorial Function -> n : int \n",
      "<class 'type'> <class 'type'>\n",
      "{'__ge__', '__annotations__', '__subclasshook__', '__sizeof__', '__init__', '__globals__', '__eq__', '__kwdefaults__', '__format__', '__class__', '__gt__', '__delattr__', '__reduce__', '__module__', '__init_subclass__', '__ne__', '__name__', '__qualname__', '__reduce_ex__', '__closure__', '__str__', '__repr__', '__le__', '__setattr__', '__code__', '__get__', '__dict__', '__defaults__', '__lt__', '__dir__', '__new__', '__doc__', '__hash__', '__call__', '__getattribute__'}\n"
     ]
    }
   ],
   "source": [
    "# 5! = 5 * 4 * 3 * 2 * 1\n",
    "\n",
    "def factorial(n):\n",
    "    '''Factorial Function -> n : int '''\n",
    "    if n <= 1:\n",
    "        return 1\n",
    "\n",
    "    return n*factorial(n-1)\n",
    "print(factorial(4))\n",
    "\n",
    "class A:\n",
    "    pass\n",
    "\n",
    "print(type(factorial), factorial.__doc__)\n",
    "print(type(A), type(object))\n",
    "\n",
    "print(set(sorted(dir(factorial)))) # 정렬 후에 중복 제거\n",
    "# 함수인데 __str__, __repr__ 같은 것을 갖고 있다 -> 객체 취급"
   ]
  },
  {
   "cell_type": "code",
   "execution_count": 9,
   "metadata": {},
   "outputs": [
    {
     "name": "stdout",
     "output_type": "stream",
     "text": [
      "{'__annotations__', '__code__', '__closure__', '__call__', '__qualname__', '__name__', '__get__', '__defaults__', '__globals__', '__kwdefaults__'}\n",
      "\n",
      "\n",
      "factorial\n",
      "<code object factorial at 0x00000250CC087BE0, file \"<ipython-input-7-ad6fd76c9337>\", line 3>\n"
     ]
    }
   ],
   "source": [
    "print(set(sorted(dir(factorial))) - set(sorted(dir(A)))) \n",
    "# 함수만 갖고 있는 것들\n",
    "\n",
    "print('\\n')\n",
    "print(factorial.__name__)\n",
    "print(factorial.__code__)"
   ]
  },
  {
   "cell_type": "code",
   "execution_count": 15,
   "metadata": {},
   "outputs": [
    {
     "name": "stdout",
     "output_type": "stream",
     "text": [
      "<function factorial at 0x00000250CCCC71F0> 120\n",
      "[1, 2, 6, 24, 120, 720, 5040, 40320, 362880, 3628800]\n"
     ]
    }
   ],
   "source": [
    "# 변수 할당\n",
    "\n",
    "var_func = factorial # alias\n",
    "\n",
    "print(var_func, var_func(5))\n",
    "print(list(map(var_func, range(1, 11))))"
   ]
  },
  {
   "cell_type": "markdown",
   "metadata": {},
   "source": [
    "함수를 인수로 전달 및 함수를 결과 반환 -> 고위함수(Higher-order function) <br>\n",
    "map, filter, reduce <br>\n",
    "\n",
    "functools.reduce(함수, sequence) <br>\n",
    "sequence를 하나하나 제거하면서 함수를 적용해 축적시킨다. <br>"
   ]
  },
  {
   "cell_type": "code",
   "execution_count": 19,
   "metadata": {},
   "outputs": [
    {
     "name": "stdout",
     "output_type": "stream",
     "text": [
      "[1, 6, 120]\n",
      "[1, 6, 120]\n",
      "55\n",
      "55\n"
     ]
    }
   ],
   "source": [
    "print([var_func(i) for i in range(1,6) if i %2])\n",
    "print(list(map(var_func, filter(lambda x: x%2, range(1,6)))))\n",
    "\n",
    "#reduce\n",
    "from functools import reduce\n",
    "from operator import add\n",
    "\n",
    "print(sum(range(1,11)))\n",
    "print(reduce(add, range(1,11)))"
   ]
  },
  {
   "cell_type": "markdown",
   "metadata": {},
   "source": [
    "익명함수(lambda function) <br>\n",
    "가급적이면 주석을 작성해라 <br>\n",
    "\n",
    "일반함수 형태로 refactoring 권장 : 이름을 줘라 <br>"
   ]
  },
  {
   "cell_type": "code",
   "execution_count": 20,
   "metadata": {},
   "outputs": [
    {
     "name": "stdout",
     "output_type": "stream",
     "text": [
      "55\n"
     ]
    }
   ],
   "source": [
    "print(reduce((lambda x, y: x+y), range(1,11)))"
   ]
  },
  {
   "cell_type": "markdown",
   "metadata": {},
   "source": [
    "callable(이름: object) -> bool : 인자로 받은 객체가 함수 형태로 호출 가능한지 판별함. <br>\n",
    "dir에서 __call__이 있으면 함수로 호출이 가능하다. <br>"
   ]
  },
  {
   "cell_type": "code",
   "execution_count": 23,
   "metadata": {},
   "outputs": [
    {
     "name": "stdout",
     "output_type": "stream",
     "text": [
      "True True True False\n"
     ]
    }
   ],
   "source": [
    "print(callable(str), callable(A), callable(var_func), callable(3.14))\n",
    "'''\n",
    "A는 class이지만 instance를 만들 때,\n",
    "__init__()에 의해서\n",
    "inst = A() 이렇게 함수 형태로 호출 가능하다.\n",
    "\n",
    "\n",
    "'''"
   ]
  },
  {
   "cell_type": "markdown",
   "metadata": {},
   "source": [
    "functools.partial 사용법: 인수를 고정한다. -> callback 함수에 사용한다."
   ]
  },
  {
   "cell_type": "code",
   "execution_count": 27,
   "metadata": {},
   "outputs": [
    {
     "name": "stdout",
     "output_type": "stream",
     "text": [
      "100\n",
      "50\n",
      "30\n"
     ]
    }
   ],
   "source": [
    "from operator import mul\n",
    "from functools import partial\n",
    "\n",
    "\n",
    "print(mul(10,10))\n",
    "\n",
    "# 인수 고정, 함수를 변수에 할당함\n",
    "\n",
    "five = partial(mul, 5) # 5 * ? 상태\n",
    "# 함수는 일급 객체니까 인자로 들어갈 수 있다.\n",
    "\n",
    "print(five(10))\n",
    "\n",
    "# 고정 추가\n",
    "six = partial(five, 6)\n",
    "print(six())\n",
    "\n",
    "\n"
   ]
  },
  {
   "cell_type": "code",
   "execution_count": 50,
   "metadata": {},
   "outputs": [
    {
     "name": "stdout",
     "output_type": "stream",
     "text": [
      "6\n",
      "6\n"
     ]
    }
   ],
   "source": [
    "# 특정 인자를 지목해서 고정할 경우\n",
    "def party(a, b, c):\n",
    "\n",
    "    return a+ b+ c\n",
    "\n",
    "\n",
    "p1 = partial(party, b=2)\n",
    "print(p1(a=1, c=3))\n",
    "# p1(1,3) \n",
    "# b에 여러 값을 줬다고 오류가 뜬다.\n",
    "# TypeError: party() got multiple values for argument 'b'\n",
    "# 즉, 인자를 순서대로 기억하고 입력 받기 때문에 직접 지정해야 한다.\n",
    "\n",
    "print(p1(a=1, b=2, c=3))\n",
    "# 이미 넣은 겂을 덮어쓸 수 있다.\n"
   ]
  },
  {
   "cell_type": "code",
   "execution_count": 29,
   "metadata": {},
   "outputs": [
    {
     "name": "stdout",
     "output_type": "stream",
     "text": [
      "<class 'function'> <function make_adder.<locals>.adder at 0x00000250CCCCF4C0>\n",
      "6\n"
     ]
    }
   ],
   "source": [
    "# 함수 내부에서 함수를 선언하고 만들어 반환할 수 있고,\n",
    "# class 안에서도 class를 선언하고 만들어 반환할 수 있다.\n",
    "\n",
    "def make_adder(a):\n",
    "\n",
    "    def adder(b):\n",
    "        return a+b\n",
    "\n",
    "    return adder\n",
    "\n",
    "r1 = make_adder(5)\n",
    "\n",
    "print(type(r1), r1)\n",
    "print(r1(1))"
   ]
  },
  {
   "cell_type": "markdown",
   "metadata": {},
   "source": [
    "reference : https://stackoverflow.com/questions/9663562/what-is-the-difference-between-init-and-call <br>\n",
    "\n",
    "__init__ VS __call__\n",
    "<br>\n",
    "\n",
    "__init__ is used to initialize new object. <br>\n",
    "\n",
    "__call__ implements function call operator. <br>\n",
    "\n",
    "__call__ 메소드는 해당 클래스의 instance를 함수 형태로 호출할 수 있게 한다. <br>\n",
    "instance를 함수로 사용할 수 있다는 것이다.\n"
   ]
  },
  {
   "cell_type": "code",
   "execution_count": 54,
   "metadata": {},
   "outputs": [
    {
     "name": "stdout",
     "output_type": "stream",
     "text": [
      "{'a': 1, 'b': 2, 'c': 3}\n",
      "__call__ {'a': 2, 'b': 3, 'c': 4}\n",
      "{'a': 1, 'b': 2, 'c': 3}\n"
     ]
    }
   ],
   "source": [
    "class Foo:\n",
    "\n",
    "    def __init__(self, a=0, b=0,c=0):\n",
    "\n",
    "        self.a = a\n",
    "        self.b = b\n",
    "        self.c = c\n",
    "    \n",
    "    def __call__(self):\n",
    "        self.a +=1\n",
    "        self.b +=1\n",
    "        self.c +=1\n",
    "        return '__call__'\n",
    "\n",
    "x1 = Foo(1, 2, 3) # __init__\n",
    "\n",
    "print(x1.__dict__)\n",
    "\n",
    "print(x1(), x1.__dict__)\n",
    "\n",
    "\n"
   ]
  }
 ],
 "metadata": {
  "kernelspec": {
   "display_name": "Python 3.8.10 ('ai')",
   "language": "python",
   "name": "python3"
  },
  "language_info": {
   "codemirror_mode": {
    "name": "ipython",
    "version": 3
   },
   "file_extension": ".py",
   "mimetype": "text/x-python",
   "name": "python",
   "nbconvert_exporter": "python",
   "pygments_lexer": "ipython3",
   "version": "3.8.13"
  },
  "orig_nbformat": 4,
  "vscode": {
   "interpreter": {
    "hash": "6270e6d8b5fb321e1a842519f0c29f2e2b7188cdba36e81e06ada9019ab06ac7"
   }
  }
 },
 "nbformat": 4,
 "nbformat_minor": 2
}
