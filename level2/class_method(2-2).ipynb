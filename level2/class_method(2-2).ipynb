{
 "cells": [
  {
   "cell_type": "markdown",
   "metadata": {},
   "source": [
    "self: 이 class를 기반으로 생성된 객체 고유의 값을 저장하기 위한 예약어 <br>\n",
    "\n",
    "__doc__: 이름.__doc__에서 이름에 해당하는 주석을 출력함 <br>\n",
    "\n"
   ]
  },
  {
   "cell_type": "code",
   "execution_count": 47,
   "metadata": {},
   "outputs": [],
   "source": [
    "class Car(object):\n",
    "    \"\"\"\n",
    "    __doc__는 적용된 영역의 주석을 표시한다.\n",
    "    \n",
    "    \"\"\"\n",
    "   \n",
    "    # class variable == static public variable\n",
    "    car_count = 0\n",
    "\n",
    "\n",
    "    def __init__(self, company, details):\n",
    "        # instance variable\n",
    "        self._company = company\n",
    "        self._details = details\n",
    "\n",
    "        # 선언된 객체가 없어도 사용해야 해서 namespace를 class명으로 삼는다.\n",
    "        Car.car_count += 1\n",
    "    def __str__(self):\n",
    "        return f'str : {self._company} - {self._details}'\n",
    "\n",
    "    def __repr__(self):\n",
    "        return f'repr : {self._company} - {self._details}'\n",
    "\n",
    "    def __del__(self):\n",
    "        Car.car_count -= 1\n",
    "        del self\n",
    "        \n",
    "\n",
    "\n",
    "    def detail_info(self):\n",
    "        print(f'Current ID == {id(self)}')\n",
    "        print(f'Car Detail Info : {self._company} - {self._details.get(\"price\", -1)}')\n",
    "\n",
    "\n"
   ]
  },
  {
   "cell_type": "code",
   "execution_count": 48,
   "metadata": {},
   "outputs": [
    {
     "name": "stdout",
     "output_type": "stream",
     "text": [
      "2021926697088\n",
      "2021926697520\n",
      "2021926697280\n"
     ]
    }
   ],
   "source": [
    "car1 = Car('Ferrari', {'color': 'White', 'horsepower':400, 'price':8000})\n",
    "car2 = Car('Bmw', {'color': 'Black', 'horsepower':270, 'price':5000})\n",
    "car3 = Car('Audi', {'color': 'Silver', 'horsepower':300, 'price':6000})\n",
    "\n",
    "print(id(car1))\n",
    "print(id(car2))\n",
    "print(id(car3))"
   ]
  },
  {
   "cell_type": "code",
   "execution_count": 49,
   "metadata": {},
   "outputs": [
    {
     "name": "stdout",
     "output_type": "stream",
     "text": [
      "['__class__', '__del__', '__delattr__', '__dict__', '__dir__', '__doc__', '__eq__', '__format__', '__ge__', '__getattribute__', '__gt__', '__hash__', '__init__', '__init_subclass__', '__le__', '__lt__', '__module__', '__ne__', '__new__', '__reduce__', '__reduce_ex__', '__repr__', '__setattr__', '__sizeof__', '__str__', '__subclasshook__', '__weakref__', 'car_count', 'detail_info']\n",
      "['__class__', '__del__', '__delattr__', '__dict__', '__dir__', '__doc__', '__eq__', '__format__', '__ge__', '__getattribute__', '__gt__', '__hash__', '__init__', '__init_subclass__', '__le__', '__lt__', '__module__', '__ne__', '__new__', '__reduce__', '__reduce_ex__', '__repr__', '__setattr__', '__sizeof__', '__str__', '__subclasshook__', '__weakref__', '_company', '_details', 'car_count', 'detail_info'] \n",
      "\n",
      "{'_company': 'Ferrari', '_details': {'color': 'White', 'horsepower': 400, 'price': 8000}} \n",
      "\n"
     ]
    }
   ],
   "source": [
    "# dir, __dict__\n",
    "\n",
    "print(dir(Car))\n",
    "\n",
    "print(dir(car1), '\\n')\n",
    "# 해당 객체의 모든 변수, 함수를 리스트 형식으로 반환한다.\n",
    "\n",
    "\n",
    "print(car1.__dict__, '\\n')\n",
    "# instance 안에 있는 값들을 딕셔너리 형태로 반환한다."
   ]
  },
  {
   "cell_type": "code",
   "execution_count": 50,
   "metadata": {},
   "outputs": [
    {
     "name": "stdout",
     "output_type": "stream",
     "text": [
      "\n",
      "    __doc__는 적용된 영역의 주석을 표시한다.\n",
      "    \n",
      "    \n"
     ]
    }
   ],
   "source": [
    "# Dotring\n",
    "\n",
    "print(Car.__doc__)"
   ]
  },
  {
   "cell_type": "code",
   "execution_count": 51,
   "metadata": {},
   "outputs": [
    {
     "name": "stdout",
     "output_type": "stream",
     "text": [
      "Current ID == 2021926697088\n",
      "Car Detail Info : Ferrari - 8000\n"
     ]
    }
   ],
   "source": [
    "car1.detail_info()"
   ]
  },
  {
   "cell_type": "code",
   "execution_count": 52,
   "metadata": {},
   "outputs": [
    {
     "name": "stdout",
     "output_type": "stream",
     "text": [
      "<class '__main__.Car'> <class '__main__.Car'>\n",
      "2021902244736 2021902244736\n"
     ]
    }
   ],
   "source": [
    "print(car1.__class__, car2.__class__)\n",
    "\n",
    "print(id(car1.__class__), id(car2.__class__))\n",
    "\n",
    "# instance는 다르지만 class는 같다. \n",
    "# class도 또하나의 상위 객체로 본다."
   ]
  },
  {
   "cell_type": "code",
   "execution_count": 53,
   "metadata": {},
   "outputs": [
    {
     "name": "stdout",
     "output_type": "stream",
     "text": [
      "Current ID == 2021926697088\n",
      "Car Detail Info : Ferrari - 8000\n",
      "Current ID == 2021926697088\n",
      "Car Detail Info : Ferrari - 8000\n"
     ]
    }
   ],
   "source": [
    "# instance method\n",
    "\n",
    "#둘은 똑같은 의미다.\n",
    "Car.detail_info(car1)\n",
    "car1.detail_info()"
   ]
  },
  {
   "cell_type": "markdown",
   "metadata": {},
   "source": [
    "_ underbar convention <br>\n",
    "\n",
    "변수 이름 앞에 _가 있으면 instance 변수이고 아니면 class변수로 한다.\n",
    "\n",
    "self._company <br>\n",
    "Car.car_count <br>"
   ]
  },
  {
   "cell_type": "code",
   "execution_count": 54,
   "metadata": {},
   "outputs": [
    {
     "name": "stdout",
     "output_type": "stream",
     "text": [
      "3 3 3\n"
     ]
    }
   ],
   "source": [
    "# class variable은 모든 인스턴스가 공유한다.\n",
    "print(car1.car_count, car2.car_count, Car.car_count)"
   ]
  },
  {
   "cell_type": "code",
   "execution_count": 56,
   "metadata": {},
   "outputs": [
    {
     "name": "stdout",
     "output_type": "stream",
     "text": [
      "2\n"
     ]
    }
   ],
   "source": [
    "# 지우기 del 실습\n",
    "\n",
    "del car2\n",
    "print(Car.car_count)"
   ]
  },
  {
   "cell_type": "markdown",
   "metadata": {},
   "source": [
    "인스턴스 네임스페이스에 없으면 상위에서 검색한다. <br>\n",
    "즉, 동일한 이름으로 변수 생성 가능 <br>\n",
    "인스턴스 검색 후 -> 클래스 변수 -> 부모클래스 변수 <br>\n",
    "\n",
    "car1.__dict__에 car_count는 없어서 class variable을 찾아서 내놓을 수 있다."
   ]
  },
  {
   "cell_type": "code",
   "execution_count": 57,
   "metadata": {},
   "outputs": [
    {
     "name": "stdout",
     "output_type": "stream",
     "text": [
      "{'__module__': '__main__', '__doc__': '\\n    __doc__는 적용된 영역의 주석을 표시한다.\\n    \\n    ', 'car_count': 2, '__init__': <function Car.__init__ at 0x000001D6C437FAF0>, '__str__': <function Car.__str__ at 0x000001D6C437F790>, '__repr__': <function Car.__repr__ at 0x000001D6C437F820>, '__del__': <function Car.__del__ at 0x000001D6C437F940>, 'detail_info': <function Car.detail_info at 0x000001D6C437FD30>, '__dict__': <attribute '__dict__' of 'Car' objects>, '__weakref__': <attribute '__weakref__' of 'Car' objects>}\n"
     ]
    }
   ],
   "source": [
    "\n",
    "\n"
   ]
  }
 ],
 "metadata": {
  "kernelspec": {
   "display_name": "Python 3.8.10 ('ai')",
   "language": "python",
   "name": "python3"
  },
  "language_info": {
   "codemirror_mode": {
    "name": "ipython",
    "version": 3
   },
   "file_extension": ".py",
   "mimetype": "text/x-python",
   "name": "python",
   "nbconvert_exporter": "python",
   "pygments_lexer": "ipython3",
   "version": "3.8.10"
  },
  "orig_nbformat": 4,
  "vscode": {
   "interpreter": {
    "hash": "6270e6d8b5fb321e1a842519f0c29f2e2b7188cdba36e81e06ada9019ab06ac7"
   }
  }
 },
 "nbformat": 4,
 "nbformat_minor": 2
}
