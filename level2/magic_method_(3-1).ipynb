{
 "cells": [
  {
   "cell_type": "markdown",
   "metadata": {},
   "source": [
    "magic method == special method <br>\n",
    "\n",
    "class 안에 정의할 수 있는 특별한(Built-in) method <br>\n",
    "이미 구현되어 object class로부터 상속받은 __함수__()이며 <br>\n",
    "이것을 내가 재정의하는 것이다.<br>\n",
    "\n",
    "\n",
    "\n",
    "Python의 4대 핵심 <br>\n",
    "시퀀스 Sequence, 반복 Iterator, 함수 Function, 클래스 Class\n"
   ]
  },
  {
   "cell_type": "code",
   "execution_count": 1,
   "metadata": {},
   "outputs": [
    {
     "name": "stdout",
     "output_type": "stream",
     "text": [
      "<class 'int'>\n",
      "<class 'float'>\n"
     ]
    }
   ],
   "source": [
    "# 기본형\n",
    "print(int)\n",
    "print(float)"
   ]
  },
  {
   "cell_type": "code",
   "execution_count": 2,
   "metadata": {},
   "outputs": [
    {
     "name": "stdout",
     "output_type": "stream",
     "text": [
      "['__abs__', '__add__', '__and__', '__bool__', '__ceil__', '__class__', '__delattr__', '__dir__', '__divmod__', '__doc__', '__eq__', '__float__', '__floor__', '__floordiv__', '__format__', '__ge__', '__getattribute__', '__getnewargs__', '__gt__', '__hash__', '__index__', '__init__', '__init_subclass__', '__int__', '__invert__', '__le__', '__lshift__', '__lt__', '__mod__', '__mul__', '__ne__', '__neg__', '__new__', '__or__', '__pos__', '__pow__', '__radd__', '__rand__', '__rdivmod__', '__reduce__', '__reduce_ex__', '__repr__', '__rfloordiv__', '__rlshift__', '__rmod__', '__rmul__', '__ror__', '__round__', '__rpow__', '__rrshift__', '__rshift__', '__rsub__', '__rtruediv__', '__rxor__', '__setattr__', '__sizeof__', '__str__', '__sub__', '__subclasshook__', '__truediv__', '__trunc__', '__xor__', 'as_integer_ratio', 'bit_length', 'conjugate', 'denominator', 'from_bytes', 'imag', 'numerator', 'real', 'to_bytes']\n"
     ]
    }
   ],
   "source": [
    "# 모든 속성 및 메소드 출력\n",
    "print(dir(int))"
   ]
  },
  {
   "cell_type": "code",
   "execution_count": 4,
   "metadata": {},
   "outputs": [
    {
     "name": "stdout",
     "output_type": "stream",
     "text": [
      "110\n",
      "110\n",
      "int([x]) -> integer\n",
      "int(x, base=10) -> integer\n",
      "\n",
      "Convert a number or string to an integer, or return 0 if no arguments\n",
      "are given.  If x is a number, return x.__int__().  For floating point\n",
      "numbers, this truncates towards zero.\n",
      "\n",
      "If x is not a number or if base is given, then x must be a string,\n",
      "bytes, or bytearray instance representing an integer literal in the\n",
      "given base.  The literal can be preceded by '+' or '-' and be surrounded\n",
      "by whitespace.  The base defaults to 10.  Valid bases are 0 and 2-36.\n",
      "Base 0 means to interpret the base from the string as an integer literal.\n",
      ">>> int('0b100', base=0)\n",
      "4\n"
     ]
    }
   ],
   "source": [
    "n = 10\n",
    "print(n + 100) # 내부적으로 스페셜매소드 __add__()를 호출된다.\n",
    "print(n.__add__(100))\n",
    "print(n.__doc__)"
   ]
  },
  {
   "cell_type": "code",
   "execution_count": 6,
   "metadata": {},
   "outputs": [
    {
     "name": "stdout",
     "output_type": "stream",
     "text": [
      "True True\n",
      "1000 1000\n"
     ]
    }
   ],
   "source": [
    "print(n.__bool__(), bool(n))\n",
    "print(n.__mul__(100), n*100)\n"
   ]
  },
  {
   "cell_type": "code",
   "execution_count": 9,
   "metadata": {},
   "outputs": [],
   "source": [
    "class Fruit:\n",
    "    def __init__(self, name, price):\n",
    "        self._name = name\n",
    "        self._price = price\n",
    "    def __str__(self):\n",
    "        return f'Fruit Class Info : {self._name}, {self._price}'\n",
    "\n",
    "    def __ge__(self, x): # >=\n",
    "        print('Called >> __ge__ Method.')\n",
    "        if self._price >= x._price:\n",
    "            return True\n",
    "        else:\n",
    "            return False\n",
    "    def __le__(self, x): # <=\n",
    "        print('Called >> __le__ Method.')\n",
    "        if self._price <= x._price:\n",
    "            return True\n",
    "        else:\n",
    "            return False\n",
    "\n",
    "    def __sub__(self, x):\n",
    "        print('Called >> __sub__ Method.')\n",
    "        return self._price - x._price"
   ]
  },
  {
   "cell_type": "code",
   "execution_count": 10,
   "metadata": {},
   "outputs": [
    {
     "name": "stdout",
     "output_type": "stream",
     "text": [
      "Called >> __ge__ Method.\n",
      "True\n",
      "Called >> __le__ Method.\n",
      "False\n",
      "Called >> __sub__ Method.\n",
      "4500\n",
      "Called >> __sub__ Method.\n",
      "-4500\n",
      "Fruit Class Info : Orange, 7500\n",
      "Fruit Class Info : Banana, 3000\n"
     ]
    }
   ],
   "source": [
    "s1 = Fruit('Orange', 7500)\n",
    "s2 = Fruit('Banana', 3000)\n",
    "\n",
    "print(s1 >= s2)\n",
    "print(s1 <= s2)\n",
    "print(s1 - s2)\n",
    "print(s2 - s1)\n",
    "print(s1)\n",
    "print(s2)"
   ]
  },
  {
   "cell_type": "markdown",
   "metadata": {},
   "source": [
    "Special method == Magic method <br>\n",
    "클래스 안에서 정의할 수 있는 Built-in method <br>\n"
   ]
  },
  {
   "cell_type": "code",
   "execution_count": null,
   "metadata": {},
   "outputs": [],
   "source": [
    "class Vector(object):\n",
    "    '''\n",
    "    클래스 내부에서 전반적인 주석을 단다.\n",
    "    __doc__으로 볼 수 있다.\n",
    "    \n",
    "    '''\n",
    "    def __init__(self, *args):\n",
    "        '''\n",
    "        Create a vector, example : v Vector(5, 10)\n",
    "\n",
    "        '''\n",
    "        if len(args) == 0:\n",
    "            self._x = self._y = 0\n",
    "        else:\n",
    "            self._x, self._y = args\n",
    "    \n",
    "    def __repr__(self):\n",
    "        '''Return the vector information'''\n",
    "        return 'Vector(%r, %r)' % (self._x, self._y)\n",
    "\n",
    "    def __add__(self, other):\n",
    "        \"\"\"\n",
    "        __add__() 스페셜 메소드는 객체끼리 + 연산자 오버라이드를 한다.\n",
    "        \"\"\"\n",
    "        return Vector(self._x + other._x, self._y + other._y)\n",
    "\n",
    "    def __mul__(self, num):\n",
    "        return Vector(self._x * num, self._y * num)\n",
    "\n",
    "    \n",
    "    def __bool__(self):\n",
    "        \n",
    "        \"\"\"\n",
    "        num = 1\n",
    "        if num:\n",
    "            pass\n",
    "\n",
    "        이처럼 객체 자체가 참거젓을 나타내야 할 때 사용될 수 있다.\n",
    "        또는\n",
    "        bool()에서 사용됨\n",
    "\n",
    "        \"\"\"\n",
    "        return bool(max(self._x, self._y))\n",
    "    \n"
   ]
  },
  {
   "cell_type": "code",
   "execution_count": null,
   "metadata": {},
   "outputs": [
    {
     "name": "stdout",
     "output_type": "stream",
     "text": [
      "\n",
      "    클래스 내부에서 전반적인 주석을 단다.\n",
      "    __doc__으로 볼 수 있다.\n",
      "    \n",
      "    \n",
      "====================================================================================================\n",
      "\n",
      "        Create a vector, example : v Vector(5, 10)\n",
      "\n",
      "        \n"
     ]
    }
   ],
   "source": [
    "print(Vector.__doc__)\n",
    "print('='*100)\n",
    "print(Vector.__init__.__doc__)"
   ]
  },
  {
   "cell_type": "code",
   "execution_count": null,
   "metadata": {},
   "outputs": [],
   "source": [
    "v1 = Vector(5,7)\n",
    "v2 = Vector(23, 35)\n",
    "v3 = Vector()\n",
    "print(v1, v2, v3)\n",
    "print(v1+v2, v1*2)\n",
    "print(bool(v3), \"v3 returns False!\")\n",
    "if v1:\n",
    "    print('v1 returns True!')"
   ]
  },
  {
   "cell_type": "code",
   "execution_count": null,
   "metadata": {},
   "outputs": [],
   "source": []
  }
 ],
 "metadata": {
  "kernelspec": {
   "display_name": "Python 3.8.10 ('ai')",
   "language": "python",
   "name": "python3"
  },
  "language_info": {
   "codemirror_mode": {
    "name": "ipython",
    "version": 3
   },
   "file_extension": ".py",
   "mimetype": "text/x-python",
   "name": "python",
   "nbconvert_exporter": "python",
   "pygments_lexer": "ipython3",
   "version": "3.8.10"
  },
  "orig_nbformat": 4,
  "vscode": {
   "interpreter": {
    "hash": "6270e6d8b5fb321e1a842519f0c29f2e2b7188cdba36e81e06ada9019ab06ac7"
   }
  }
 },
 "nbformat": 4,
 "nbformat_minor": 2
}
