{
 "cells": [
  {
   "cell_type": "markdown",
   "metadata": {},
   "source": [
    "lambda: 익명, 힙 영역 사용, 즉시 소멸, 파이썬 가비지 컬렉션의 count가 0이다.<br>\n",
    "일반함수: 재사용을 위해 메머리에 저장한다."
   ]
  },
  {
   "cell_type": "code",
   "execution_count": 1,
   "metadata": {},
   "outputs": [
    {
     "name": "stdout",
     "output_type": "stream",
     "text": [
      "ex1 > 170\n"
     ]
    }
   ],
   "source": [
    "# ex1\n",
    "cul = lambda a, b, c: a*b+c\n",
    "print(f'ex1 > {cul(10, 15, 20)}')"
   ]
  },
  {
   "cell_type": "markdown",
   "metadata": {},
   "source": [
    "map: 내가 넣은 시퀀스의 원소들을 원하는 함수를 거친 후, iterator로 반환함"
   ]
  },
  {
   "cell_type": "code",
   "execution_count": 3,
   "metadata": {},
   "outputs": [
    {
     "name": "stdout",
     "output_type": "stream",
     "text": [
      "<map object at 0x00000178CA7CE430> [100, 400, 900, 1600, 2500, 3600, 4900, 6400, 8100, 10000]\n"
     ]
    }
   ],
   "source": [
    "# ex2\n",
    "\n",
    "digits1 = [x *10 for x in range(1,11)]\n",
    "\n",
    "result = map(lambda x: x**2 , digits1)\n",
    "print('ex2 >>', result, list(result))"
   ]
  },
  {
   "cell_type": "code",
   "execution_count": 5,
   "metadata": {},
   "outputs": [
    {
     "name": "stdout",
     "output_type": "stream",
     "text": [
      "ex2 > [100, 400, 900, 1600, 2500, 3600, 4900, 6400, 8100, 10000]\n"
     ]
    }
   ],
   "source": [
    "# ex3\n",
    "# 이 패턴으로 만들면 패키지로 만들어 쓸 때, 감출 수 있다.\n",
    "def also_square(nums):\n",
    "\n",
    "    def double(x):\n",
    "        return x**2\n",
    "\n",
    "    return map(double, nums)\n",
    "\n",
    "print(f'ex2 > {list(also_square(digits1))}')"
   ]
  },
  {
   "cell_type": "code",
   "execution_count": 10,
   "metadata": {},
   "outputs": [
    {
     "name": "stdout",
     "output_type": "stream",
     "text": [
      "ex3 > [2, 4, 6, 8, 10]\n",
      "ex3 > [2, 4, 6, 8, 10]\n"
     ]
    }
   ],
   "source": [
    "# ex3\n",
    "\n",
    "digits2 = list(range(1, 11))\n",
    "\n",
    "result = list(filter(lambda x: x%2==0, digits2))\n",
    "\n",
    "print(f'ex3 > {result}')\n",
    "\n",
    "def also_evens(nums):\n",
    "\n",
    "    def is_even(x):\n",
    "        return x % 2 ==0\n",
    "\n",
    "    return filter(is_even, nums)\n",
    "print(f'ex3 > {list(also_evens(digits2))}')"
   ]
  },
  {
   "cell_type": "markdown",
   "metadata": {},
   "source": [
    "reduce: 시퀀스를 누적으로 합계할 때 쓸 수 있다. 파이썬3부터 임포트 해야 한다."
   ]
  },
  {
   "cell_type": "markdown",
   "metadata": {},
   "source": [
    "reference: https://www.daleseo.com/python-functools-reduce/ <br>\n",
    "\n",
    "reduce(집계 함수, iterable_object, 초기값=0) <br>\n",
    "집계 함수는 2개의 인자를 받아야 한다. <br>\n",
    "accumulator: 처음부터 끝까지 계속 사용되어 reduce가 반환하는 것 <br>\n",
    "current_value: loop를 돌면서 계속 바뀔 값"
   ]
  },
  {
   "cell_type": "code",
   "execution_count": 13,
   "metadata": {},
   "outputs": [
    {
     "name": "stdout",
     "output_type": "stream",
     "text": [
      "ex4 > 5050\n",
      "ex4 > 5050\n"
     ]
    }
   ],
   "source": [
    "# ex4\n",
    "\n",
    "from functools import reduce\n",
    "\n",
    "digits3 = [x for x in range(1, 101)]\n",
    "\n",
    "result = reduce(lambda acc,cur: acc+cur, digits3)\n",
    "\n",
    "print(f'ex4 > {result}')\n",
    "\n",
    "def also_add(nums):\n",
    "\n",
    "    def add_plus(x, y):\n",
    "        return x+y\n",
    "\n",
    "    return reduce(add_plus, nums)\n",
    "\n",
    "print(f'ex4 > {also_add(digits3)}')"
   ]
  },
  {
   "cell_type": "code",
   "execution_count": 14,
   "metadata": {},
   "outputs": [],
   "source": [
    "users = [{'mail': 'gregorythomas@gmail.com', 'name': 'Brett Holland', 'sex': 'M', 'age': 73},\n",
    "... {'mail': 'hintoncynthia@hotmail.com', 'name': 'Madison Martinez', 'sex': 'F', 'age': 29},\n",
    "... {'mail': 'wwagner@gmail.com', 'name': 'Michael Jenkins', 'sex': 'M', 'age': 51},\n",
    "... {'mail': 'daniel79@gmail.com', 'name': 'Karen Rodriguez', 'sex': 'F', 'age': 32},\n",
    "... {'mail': 'ujackson@gmail.com', 'name': 'Amber Rhodes', 'sex': 'F', 'age': 42}]"
   ]
  },
  {
   "cell_type": "code",
   "execution_count": 15,
   "metadata": {},
   "outputs": [
    {
     "data": {
      "text/plain": [
       "['gregorythomas@gmail.com',\n",
       " 'hintoncynthia@hotmail.com',\n",
       " 'wwagner@gmail.com',\n",
       " 'daniel79@gmail.com',\n",
       " 'ujackson@gmail.com']"
      ]
     },
     "execution_count": 15,
     "metadata": {},
     "output_type": "execute_result"
    }
   ],
   "source": [
    "reduce(lambda acc, cur: acc + [cur[\"mail\"]], users, [])"
   ]
  }
 ],
 "metadata": {
  "kernelspec": {
   "display_name": "Python 3.8.10 ('ai')",
   "language": "python",
   "name": "python3"
  },
  "language_info": {
   "codemirror_mode": {
    "name": "ipython",
    "version": 3
   },
   "file_extension": ".py",
   "mimetype": "text/x-python",
   "name": "python",
   "nbconvert_exporter": "python",
   "pygments_lexer": "ipython3",
   "version": "3.8.10"
  },
  "orig_nbformat": 4,
  "vscode": {
   "interpreter": {
    "hash": "6270e6d8b5fb321e1a842519f0c29f2e2b7188cdba36e81e06ada9019ab06ac7"
   }
  }
 },
 "nbformat": 4,
 "nbformat_minor": 2
}
