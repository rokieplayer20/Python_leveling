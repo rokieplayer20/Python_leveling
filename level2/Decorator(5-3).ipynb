{
 "cells": [
  {
   "cell_type": "markdown",
   "metadata": {},
   "source": [
    "Decorator <br>\n",
    "예시) @staticmethod @classmethod <br>\n",
    "<br>\n",
    "장점\n",
    "1. 중복 제거, 코드 간결, 공통함수 작성\n",
    "2. 로깅, 프레임워크, 유효성 체크 -> 공통 기능으로 분리할 수 있다.\n",
    "3. 조합해서 사용하기 편하다.\n",
    "\n",
    "단점\n",
    "\n",
    "1. 남발하면 가독성이 감소한다.\n",
    "2. 특정 기능에 한정된 함수는 그냥 단일함수로 작성하는 게 나을 수 있다.\n",
    "3. 디버깅 불편하다.\n",
    "\n",
    "\n"
   ]
  },
  {
   "cell_type": "code",
   "execution_count": 1,
   "metadata": {},
   "outputs": [],
   "source": [
    "# 사용하기는 쉬은데 만들어 쓰는 것은 중급 이상의 실력을 요구한다.\n",
    "\n",
    "import time\n",
    "\n",
    "\n",
    "# enclosing scope start\n",
    "def perf_clock(func):\n",
    "    # Free variable, 매개변수도 포함됨\n",
    "\n",
    "    def perf_clocked(*args):\n",
    "        # 함수 시작 시간\n",
    "        st = time.perf_counter()\n",
    "\n",
    "        # 함수 실행\n",
    "\n",
    "        result = func(*args)\n",
    "\n",
    "        # 함수 종료 시간\n",
    "        et = time.perf_counter() - st\n",
    "        \n",
    "        # 실행함수 이름\n",
    "        name = func.__name__\n",
    "\n",
    "        # 함수 매개변수\n",
    "        arg_str = ', '.join(repr(arg) for arg in args)\n",
    "\n",
    "        # 결과 출력\n",
    "        print('[%0.5fs] %s(%s) -> %r' % (et, name, arg_str, result))\n",
    "        return result\n",
    "    \n",
    "    return perf_clocked\n",
    "# enclosing scope end\n",
    "\n",
    "# 내부함수(perf_clocked)에서 외부함수(perf_clock)에서 넘어온 상태값(func)을\n",
    "# 알고 있으니 일종의 closure이다."
   ]
  },
  {
   "cell_type": "markdown",
   "metadata": {},
   "source": [
    "Decorator VS Closure <br>\n",
    "\n",
    "1. Closure가 Decorator 개념을 포함하고 있다.\n",
    "2. Closure를 유지하면서 outer function은 매개변수로 target함수를 넣으면\n",
    " 매개변수가 enclosing scope에 포함된다.\n",
    " 그것이 nested function에서 사용되어야 한다. <br>\n",
    "\n",
    "형태를 보자! <br>\n",
    "\n",
    "def outer_function(target_function: object):\n",
    "\n",
    "    free_variables.... (including target_function)\n",
    "\n",
    "\n",
    "    def inner_function(parameters...):\n",
    "        \n",
    "        function_body...\n",
    "\n",
    "        use the target_function.\n",
    "\n",
    "        return ....\n",
    "\n",
    "    \n",
    "    return inner_function"
   ]
  },
  {
   "cell_type": "code",
   "execution_count": 2,
   "metadata": {},
   "outputs": [],
   "source": [
    "def time_func(seconds):\n",
    "    time.sleep(seconds)\n",
    "\n",
    "def sum_func(*numbers):\n",
    "\n",
    "    return sum(numbers)"
   ]
  },
  {
   "cell_type": "code",
   "execution_count": 3,
   "metadata": {},
   "outputs": [
    {
     "name": "stdout",
     "output_type": "stream",
     "text": [
      "[1.01479s] time_func(1) -> None\n",
      "None\n",
      "[0.00000s] sum_func(1, 2, 3, 4, 5, 6, 7, 8, 9, 10) -> 55\n",
      "55\n",
      "\n",
      "\n",
      "<function perf_clock.<locals>.perf_clocked at 0x00000285B799AB80> ('func',)\n",
      "<function perf_clock.<locals>.perf_clocked at 0x00000285B7C65040> ('func',)\n"
     ]
    }
   ],
   "source": [
    "# 데코레이터 미사용\n",
    "\n",
    "none_deco1 = perf_clock(time_func)\n",
    "print(none_deco1(1))\n",
    "none_deco2 = perf_clock(sum_func)\n",
    "print(none_deco2(*range(1,11)))\n",
    "print('\\n')\n",
    "\n",
    "print(none_deco1, none_deco1.__code__.co_freevars)\n",
    "print(none_deco2, none_deco2.__code__.co_freevars)"
   ]
  },
  {
   "cell_type": "code",
   "execution_count": 4,
   "metadata": {},
   "outputs": [
    {
     "name": "stdout",
     "output_type": "stream",
     "text": [
      "[1.30788s] time_func(1.3) -> None\n",
      "[0.00000s] sum_func(0, 1, 2, 3, 4) -> 10\n"
     ]
    },
    {
     "data": {
      "text/plain": [
       "10"
      ]
     },
     "execution_count": 4,
     "metadata": {},
     "output_type": "execute_result"
    }
   ],
   "source": [
    "# 데코레이터 사용\n",
    "\n",
    "@perf_clock\n",
    "def time_func(seconds):\n",
    "    time.sleep(seconds)\n",
    "\n",
    "@perf_clock\n",
    "def sum_func(*numbers):\n",
    "    \"\"\"들어온 인수를 모두 합한다.\"\"\"\n",
    "    return sum(numbers)\n",
    "\n",
    "time_func(1.3)\n",
    "sum_func(*range(5))\n",
    "\n"
   ]
  },
  {
   "cell_type": "markdown",
   "metadata": {},
   "source": [
    "decorator를 이해하는 데 필요한 것들 <br>\n",
    "\n",
    "- Closure\n",
    "- First-class function\n",
    "- 가변인수 (*args, **kwargs)\n",
    "- argument unpacking\n",
    "- 파이썬이 소스코드를 불러오는 자세한 과정"
   ]
  },
  {
   "cell_type": "markdown",
   "metadata": {},
   "source": [
    "# functools.wraps()\n",
    "\n",
    "강의에 없는 것이나 Extending PyTorch를 공부하는 중에 쓰이게 되어 새롭게 정리하고자 한다. <br>\n",
    "저대로 실행하면 의도한 대로 작동하나 doc-string이나 pickle로 직렬화할 때 제대로 작동하지 않는다. <br>\n",
    "\n",
    " wraps() is a decorator that is applied to the wrapper function of a decorator. <br>\n",
    "It updates the wrapper function to look like wrapped function <br>\n",
    "by copying attributes such as \\_\\_name\\_\\_, \\_\\_doc\\_\\_ (the docstring), etc. <br>\n",
    "\n",
    "@functools.wraps(wrapped, assigned=WRAPPER_ASSIGNMENTS, updated=WRAPPER_UPDATES) <br>\n",
    "\n",
    "- wrapped: wrapper function에 의해 decorated되고자 하는 함수 이름\n",
    "- assigned: 원래 함수에서 어느 attribute가 직접 짝지어 wrapper function에 들어갈지 튜플로 명시한다. <br>\n",
    "디폴트로 module, name, qualname, annotations, doc 같은 것들이 들어간다. 거의 건들 이유 없음.\n",
    "- updated: 어느 wraaper function의 attribute가 원래 함수의 대응되는 attribute가 갱신되는지 튜플로 명시한다. <br>\n",
    "WRAPPER_UPDATES는 wrapper function의 \\_\\_dict\\_\\_를 갱신한다.\n",
    "\n",
    "\n",
    "\n",
    "\n",
    "\n",
    "reference: https://www.geeksforgeeks.org/python-functools-wraps-function/?ref=gcse"
   ]
  },
  {
   "cell_type": "code",
   "execution_count": 5,
   "metadata": {},
   "outputs": [
    {
     "name": "stdout",
     "output_type": "stream",
     "text": [
      "<function perf_clock.<locals>.perf_clocked at 0x00000285B7C65280>\n",
      "Help on function perf_clocked in module __main__:\n",
      "\n",
      "perf_clocked(*args)\n",
      "\n",
      "None\n"
     ]
    }
   ],
   "source": [
    "print(sum_func) #sum_func의 이름이 perf_clocked (nested function)은 아니다. 데코레이터 함수가 perf_clocked를 반환하기 때문에 거기에 sum_func를 연결해서 발생한 문제다.\n",
    "print(help(sum_func))"
   ]
  },
  {
   "cell_type": "code",
   "execution_count": 6,
   "metadata": {},
   "outputs": [
    {
     "ename": "AttributeError",
     "evalue": "Can't pickle local object 'perf_clock.<locals>.perf_clocked'",
     "output_type": "error",
     "traceback": [
      "\u001b[1;31m---------------------------------------------------------------------------\u001b[0m",
      "\u001b[1;31mAttributeError\u001b[0m                            Traceback (most recent call last)",
      "\u001b[1;32mc:\\Users\\rokie\\AlgorithmStudy\\inflearnPython\\level2\\Decorator(5-3).ipynb 셀 10\u001b[0m in \u001b[0;36m<cell line: 3>\u001b[1;34m()\u001b[0m\n\u001b[0;32m      <a href='vscode-notebook-cell:/c%3A/Users/rokie/AlgorithmStudy/inflearnPython/level2/Decorator%285-3%29.ipynb#X12sZmlsZQ%3D%3D?line=0'>1</a>\u001b[0m \u001b[39mimport\u001b[39;00m \u001b[39mpickle\u001b[39;00m\n\u001b[1;32m----> <a href='vscode-notebook-cell:/c%3A/Users/rokie/AlgorithmStudy/inflearnPython/level2/Decorator%285-3%29.ipynb#X12sZmlsZQ%3D%3D?line=2'>3</a>\u001b[0m pickle\u001b[39m.\u001b[39;49mdumps(sum_func)\n",
      "\u001b[1;31mAttributeError\u001b[0m: Can't pickle local object 'perf_clock.<locals>.perf_clocked'"
     ]
    }
   ],
   "source": [
    "import pickle\n",
    "\n",
    "pickle.dumps(sum_func)\n",
    "# https://hongl.tistory.com/250에서 피클에 대한 언급이 있어서 응용해봤다."
   ]
  },
  {
   "cell_type": "code",
   "execution_count": 9,
   "metadata": {},
   "outputs": [],
   "source": [
    "from functools import wraps\n",
    "\n",
    "def perf_clock(func):\n",
    "    \n",
    "    # 이렇게 데코레이터를 해 놓으면 모듈 간에 연결되느라 발생한 이름이 엇갈린 것을 해결해준다.\n",
    "    @wraps(func)\n",
    "    def perf_clocked(*args):\n",
    "        # 함수 시작 시간\n",
    "        st = time.perf_counter()\n",
    "\n",
    "        # 함수 실행\n",
    "\n",
    "        result = func(*args)\n",
    "\n",
    "        # 함수 종료 시간\n",
    "        et = time.perf_counter() - st\n",
    "        \n",
    "        # 실행함수 이름\n",
    "        name = func.__name__\n",
    "\n",
    "        # 함수 매개변수\n",
    "        arg_str = ', '.join(repr(arg) for arg in args)\n",
    "\n",
    "        # 결과 출력\n",
    "        print('[%0.5fs] %s(%s) -> %r' % (et, name, arg_str, result))\n",
    "        return result\n",
    "    \n",
    "    return perf_clocked\n",
    "# enclosing scope end"
   ]
  },
  {
   "cell_type": "code",
   "execution_count": 10,
   "metadata": {},
   "outputs": [
    {
     "name": "stdout",
     "output_type": "stream",
     "text": [
      "<function sum_func at 0x00000285B9B88820>\n",
      "Help on function sum_func in module __main__:\n",
      "\n",
      "sum_func(*numbers)\n",
      "    들어온 인수를 모두 합한다.\n",
      "\n",
      "None\n"
     ]
    },
    {
     "data": {
      "text/plain": [
       "b'\\x80\\x04\\x95\\x19\\x00\\x00\\x00\\x00\\x00\\x00\\x00\\x8c\\x08__main__\\x94\\x8c\\x08sum_func\\x94\\x93\\x94.'"
      ]
     },
     "execution_count": 10,
     "metadata": {},
     "output_type": "execute_result"
    }
   ],
   "source": [
    "@perf_clock\n",
    "def sum_func(*numbers):\n",
    "    \"\"\"들어온 인수를 모두 합한다.\"\"\"\n",
    "    return sum(numbers)\n",
    "\n",
    "print(sum_func) \n",
    "print(help(sum_func))\n",
    "\n",
    "pickle.dumps(sum_func)"
   ]
  },
  {
   "cell_type": "markdown",
   "metadata": {},
   "source": [
    "# GFG examples\n",
    "\n",
    "단순히 코드가 작동할 것만 생각하면 문제 없이 사용할 수 있다. 그러나 API, library를 작성하면 매우 혼란스러운 상황이 생긴다. <br>\n",
    "같은 wrpper 함수에 여러 다른 함수를 적용하면 즉, 하나의 decorator에 다른 function을 적용하면 <br>\n",
    "내부에 무슨 함수가 쓰였는지 name, docstring, help를 써서 알 수가 없다. <br>\n",
    "이상적으로 wrapping function 대신에 wrapped function의 name, docstring을 보여줘야 한다. <br>\n"
   ]
  },
  {
   "cell_type": "code",
   "execution_count": 16,
   "metadata": {},
   "outputs": [
    {
     "name": "stdout",
     "output_type": "stream",
     "text": [
      "first_function\n",
      "This is docstring for the first function\n",
      "second_function\n",
      "This is doctring for the second fucntion\n"
     ]
    }
   ],
   "source": [
    "# manual solution은 직접 name과 doc에 직접 값을 할당하는 것이다. 비추천\n",
    "\n",
    "def a_decorator(func):\n",
    "\n",
    "    def wrapper(*args, **kwargs):\n",
    "        \"\"\"A wrapper function\"\"\"\n",
    "        # Extend some capabilities of func\n",
    "        func()\n",
    "\n",
    "    # 일일이 attribute를 연결해줬다.\n",
    "    wrapper.__name__ = func.__name__\n",
    "    wrapper.__doc__ = func.__doc__\n",
    "    return wrapper\n",
    "\n",
    "\n",
    "@a_decorator\n",
    "def first_function():\n",
    "    \"\"\"This is docstring for the first function\"\"\"\n",
    "    print(\"first fucntion\")\n",
    "\n",
    "@a_decorator\n",
    "def second_function(a):\n",
    "    \"\"\"This is doctring for the second fucntion\"\"\"\n",
    "    print(\"second fucntion\")\n",
    "\n",
    "\n",
    "print(first_function.__name__)\n",
    "print(first_function.__doc__)\n",
    "print(second_function.__name__)\n",
    "print(second_function.__doc__)"
   ]
  },
  {
   "cell_type": "code",
   "execution_count": 17,
   "metadata": {},
   "outputs": [
    {
     "name": "stdout",
     "output_type": "stream",
     "text": [
      "First Function\n",
      "Help on function first_fucntion in module __main__:\n",
      "\n",
      "first_fucntion(*args, **kwargs)\n",
      "    This is docstring for the first function\n",
      "\n",
      "\n",
      "Second Function\n",
      "Help on function second_function in module __main__:\n",
      "\n",
      "second_function(*args, **kwargs)\n",
      "    This is doctring for the second fucntion\n",
      "\n"
     ]
    }
   ],
   "source": [
    "print(\"First Function\")\n",
    "help(first_fucntion)\n",
    "print(\"\\nSecond Function\")\n",
    "help(second_function)"
   ]
  },
  {
   "cell_type": "markdown",
   "metadata": {},
   "source": [
    "이렇게 하지 말라는 것에는 2가지 이유가 있다. <br>\n",
    "\n",
    "1. 함수의 name이 바뀌었지만 그 외의 parameter 같은 다른 요소들의 형태가 바뀌지 않았다. 정확한 정보가 아니다.\n",
    "2. 모든 함수들을 일일이 이렇게 작성하면 가독성과 생산성이 매우 떨어진다.\n",
    "\n",
    "따라서 functools.wraps()를 꼭 사용하도록"
   ]
  },
  {
   "cell_type": "code",
   "execution_count": 20,
   "metadata": {},
   "outputs": [
    {
     "name": "stdout",
     "output_type": "stream",
     "text": [
      "first_function\n",
      "This is docstring for first function\n",
      "second_function\n",
      "This is docstring for second function\n"
     ]
    }
   ],
   "source": [
    "from functools import wraps\n",
    " \n",
    "def a_decorator(func):\n",
    "    @wraps(func)\n",
    "    def wrapper(*args, **kwargs):\n",
    "        \"\"\"A wrapper function\"\"\"\n",
    " \n",
    "        # Extend some capabilities of func\n",
    "        func()\n",
    "    return wrapper\n",
    " \n",
    "@a_decorator\n",
    "def first_function():\n",
    "    \"\"\"This is docstring for first function\"\"\"\n",
    "    print(\"first function\")\n",
    " \n",
    "@a_decorator\n",
    "def second_function(a):\n",
    "    \"\"\"This is docstring for second function\"\"\"\n",
    "    print(\"second function\")\n",
    " \n",
    "print(first_function.__name__)\n",
    "print(first_function.__doc__)\n",
    "print(second_function.__name__)\n",
    "print(second_function.__doc__)"
   ]
  },
  {
   "cell_type": "code",
   "execution_count": null,
   "metadata": {},
   "outputs": [
    {
     "name": "stdout",
     "output_type": "stream",
     "text": [
      "First Function\n",
      "Help on function first_function in module __main__:\n",
      "\n",
      "first_function()\n",
      "    This is docstring for first function\n",
      "\n",
      "\n",
      "Second Function\n",
      "Help on function second_function in module __main__:\n",
      "\n",
      "second_function(a)\n",
      "    This is docstring for second function\n",
      "\n"
     ]
    }
   ],
   "source": [
    "\n",
    "print(\"First Function\")\n",
    "help(first_function)\n",
    " \n",
    "print(\"\\nSecond Function\")\n",
    "help(second_function)"
   ]
  },
  {
   "cell_type": "markdown",
   "metadata": {},
   "source": [
    "# Decorators with parameters in Python\n",
    "\n",
    "\n",
    "\n",
    "reference: https://www.geeksforgeeks.org/decorators-with-parameters-in-python/?ref=gcse"
   ]
  },
  {
   "cell_type": "markdown",
   "metadata": {},
   "source": [
    "@decorator(params) <br>\n",
    "def func_name():\n",
    "\n",
    "    ''' Function implementation'''"
   ]
  },
  {
   "cell_type": "markdown",
   "metadata": {},
   "source": [
    "def func_name(): <br>\n",
    "    ''' Function implementation'''\n",
    "\n",
    "func_name = (decorator(params))(func_name)\n"
   ]
  },
  {
   "cell_type": "markdown",
   "metadata": {},
   "source": [
    "decorator(params)가 호출되면서 함수 객체인 func_obj가 반환되고 <br>\n",
    "func_obj(func_name)이 호출된다. <br>\n",
    "inner function 내부에서 연산을 다 수행하고 진짜 function reference는 func_name에 할당된다. <br>\n",
    "이것이 decorator가 적용된 함수로 기능한다."
   ]
  },
  {
   "cell_type": "code",
   "execution_count": 22,
   "metadata": {},
   "outputs": [],
   "source": [
    "params = None\n",
    "\n",
    "def decorators(*arg, **kwargs):\n",
    "\n",
    "    def inner(func):\n",
    "        '''\n",
    "        Do operations with func\n",
    "        \n",
    "        '''\n",
    "        return func\n",
    "\n",
    "    return inner # this is the the func_obj mentioned in the above content\n",
    "\n",
    "@decorators(params)\n",
    "def func():\n",
    "    \"\"\"\n",
    "        function implementation\n",
    "    \"\"\""
   ]
  },
  {
   "cell_type": "code",
   "execution_count": 23,
   "metadata": {},
   "outputs": [
    {
     "name": "stdout",
     "output_type": "stream",
     "text": [
      "Inside decorator\n",
      "Inside inner function\n",
      "Decorated the function\n",
      "Inside actual function\n"
     ]
    }
   ],
   "source": [
    "# Python code to illustrate\n",
    "# Decorators basic in Python\n",
    "\n",
    "# 기본적인 decorator 코드이며 실행 순서를 보여주기 위함이다.\n",
    "def decorator_func(func):\n",
    "    print(\"Inside decorator\")\n",
    "\n",
    "    def inner(*args, **kwars):\n",
    "        print(\"Inside inner function\")\n",
    "        print(\"Decorated the function\")\n",
    "        # do operations with func\n",
    "\n",
    "        func()\n",
    "\n",
    "    return inner\n",
    "\n",
    "\n",
    "@decorator_func\n",
    "def func_to():\n",
    "    print(\"Inside actual function\")\n",
    "\n",
    "\n",
    "func_to()"
   ]
  },
  {
   "cell_type": "code",
   "execution_count": 24,
   "metadata": {},
   "outputs": [
    {
     "name": "stdout",
     "output_type": "stream",
     "text": [
      "Inside decorator\n",
      "Inside inner function\n",
      "Decorated the function\n",
      "Inside actual function\n"
     ]
    }
   ],
   "source": [
    "# Decorator with parameters in Python\n",
    "\n",
    "def decorator_func(func):\n",
    "    print(\"Inside decorator\")\n",
    "\n",
    "    def inner(*args, **kwargs):\n",
    "        print(\"Inside inner function\")\n",
    "        print(\"Decorated the function\")\n",
    "\n",
    "        func()\n",
    "\n",
    "    return inner\n",
    "\n",
    "\n",
    "def func_to():\n",
    "    print(\"Inside actual function\")\n",
    "\n",
    "# another way of using decorators\n",
    "decorator_func(func_to)()\n",
    "\n",
    "# 함수 형태로 decorator를 표현했다.\n",
    "# 함수에 함수를 넣고 결과로 나온 함수를 다시 부른다."
   ]
  },
  {
   "cell_type": "code",
   "execution_count": 26,
   "metadata": {},
   "outputs": [
    {
     "name": "stdout",
     "output_type": "stream",
     "text": [
      "Inside decorator\n",
      "Inside inner function\n",
      "I like geeksforgeeks\n",
      "Inside actual function\n"
     ]
    }
   ],
   "source": [
    "# 데코레이터 형태로 다시 쓴다.\n",
    "\n",
    "def decorator(*arg, **kwargs):\n",
    "    print(\"Inside decorator\")\n",
    "\n",
    "    def inner(func):\n",
    "\n",
    "        # code functionality here\n",
    "        print(\"Inside inner function\")\n",
    "        print(\"I like\", kwargs['like'])\n",
    "\n",
    "        func()\n",
    "\n",
    "    # returning inner function\n",
    "    return inner\n",
    "\n",
    "\n",
    "@decorator(like = \"geeksforgeeks\")\n",
    "def my_func():\n",
    "    print(\"Inside actual function\")"
   ]
  },
  {
   "cell_type": "code",
   "execution_count": 27,
   "metadata": {},
   "outputs": [
    {
     "name": "stdout",
     "output_type": "stream",
     "text": [
      "I like Geeksforgeeks\n",
      "Summation of values - 27\n",
      "Geeks\n",
      "for\n",
      "Geeks\n"
     ]
    }
   ],
   "source": [
    "\n",
    "def decorator_func(x, y):\n",
    "\n",
    "    def Inner(func):\n",
    "\n",
    "        def wrapper(*args, **kwargs):\n",
    "            print(\"I like Geeksforgeeks\")\n",
    "            print(\"Summation of values - {}\".format(x+y))\n",
    "\n",
    "            func(*args, **kwargs)\n",
    "\n",
    "        return wrapper\n",
    "    return Inner\n",
    "\n",
    "\n",
    "# Not using decorator\n",
    "def my_func(*args):\n",
    "    for ele in args:\n",
    "        print(ele)\n",
    "\n",
    "# another way of using decorators\n",
    "decorator_func(12, 15)(my_func)('Geeks', 'for', 'Geeks')\n",
    "\n",
    "\n",
    "# This example also tells us that outer function parameters can be accessd by the enclosed inner function."
   ]
  },
  {
   "cell_type": "code",
   "execution_count": 29,
   "metadata": {},
   "outputs": [
    {
     "name": "stdout",
     "output_type": "stream",
     "text": [
      "Decorator for 'stringJoin'\n",
      "Decorator for 'summation'\n",
      "\n",
      "stringJoin started ...\n",
      "I like Geeksforgeeks\n",
      "\n",
      "summation started ...\n",
      "1729\n"
     ]
    }
   ],
   "source": [
    "# Multi-level Decorators\n",
    "\n",
    "def high_decorator(dataType, message1, message2):\n",
    "\n",
    "    def decorator(func):\n",
    "        print(message1)\n",
    "\n",
    "        def wrapper(*args, **kwargs):\n",
    "            print(message2)\n",
    "            if all([type(arg) == dataType for arg in args]):\n",
    "                return func(*args, **kwargs)\n",
    "            return \"Invalid Input\"\n",
    "\n",
    "        return wrapper\n",
    "    return decorator\n",
    "\n",
    "\n",
    "\n",
    "@high_decorator(str, \"Decorator for 'stringJoin'\", \"stringJoin started ...\")\n",
    "def stringJoin(*args):\n",
    "    st = ''\n",
    "    for i in args:\n",
    "        st += i\n",
    "    return st\n",
    "\n",
    "@high_decorator(int, \"Decorator for 'summation'\\n\", \"summation started ...\")\n",
    "def summation(*args):\n",
    "    summ = 0\n",
    "    for arg in args:\n",
    "        summ += arg\n",
    "    return summ\n",
    "\n",
    "\n",
    "print(stringJoin(\"I \", 'like ', 'Geeks', 'for', 'geeks'))\n",
    "print()\n",
    "print(summation(19, 2, 8, 533, 67, 981, 119))"
   ]
  },
  {
   "cell_type": "markdown",
   "metadata": {},
   "source": [
    "1. Inside the Decorator <br>\n",
    "![nn](./multi-level_decorator1.png) \n",
    "\n",
    "2. Inside the function <br>\n",
    "![nn](./multi-level_decorator2.png) <br>\n",
    "Note: Image snapshots are taken using PythonTutor. \n"
   ]
  },
  {
   "cell_type": "markdown",
   "metadata": {},
   "source": [
    "# @decorator VS @decorator(input)\n",
    "공통점: 둘 다 중첩함수로 받아들인 파라미터를 내부 함수에 적용해서 만든 함수를 반환한다.\n",
    " - @decorator: 흔히 볼 수 있는 데코레이터이다. ()가 없다고 해서 인수가 없는 것이 아니다. <br>\n",
    " 바로 다음 줄에 있는 함수가 디폴트 인수로 쓰인다. <br><br>\n",
    " - @decorator(input): 바로 다음 줄에 있는 함수를 인수로 쓰지 않고 다른 또다른 인수를 쓰고자 하는 것이다. <br>\n",
    " 대신에 내부함수가 바로 다음줄의 함수를 입력으로 받아서 "
   ]
  }
 ],
 "metadata": {
  "kernelspec": {
   "display_name": "Python 3.8.10 ('ai')",
   "language": "python",
   "name": "python3"
  },
  "language_info": {
   "codemirror_mode": {
    "name": "ipython",
    "version": 3
   },
   "file_extension": ".py",
   "mimetype": "text/x-python",
   "name": "python",
   "nbconvert_exporter": "python",
   "pygments_lexer": "ipython3",
   "version": "3.8.13"
  },
  "orig_nbformat": 4,
  "vscode": {
   "interpreter": {
    "hash": "6270e6d8b5fb321e1a842519f0c29f2e2b7188cdba36e81e06ada9019ab06ac7"
   }
  }
 },
 "nbformat": 4,
 "nbformat_minor": 2
}
