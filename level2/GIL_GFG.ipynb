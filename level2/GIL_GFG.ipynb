{
 "cells": [
  {
   "cell_type": "markdown",
   "metadata": {},
   "source": [
    "reference: https://www.geeksforgeeks.org/what-is-the-python-global-interpreter-lock-gil/?ref=gcse <br>"
   ]
  },
  {
   "cell_type": "markdown",
   "metadata": {},
   "source": [
    "Python has something that no other language has that is a reference counter. With the help of the reference counter, we can count the total number of references that are made internally in python to assign a value to a data object. Due to this counter, we can count the references and when this count reaches to zero the variable or data object will be released automatically. "
   ]
  },
  {
   "cell_type": "code",
   "execution_count": 1,
   "metadata": {},
   "outputs": [
    {
     "name": "stdout",
     "output_type": "stream",
     "text": [
      "3\n",
      "4 4\n"
     ]
    }
   ],
   "source": [
    "import sys\n",
    "\n",
    "geek_var = \"Geek\"\n",
    "print(sys.getrefcount(geek_var))\n",
    "string_gfg = geek_var\n",
    "print(sys.getrefcount(string_gfg), sys.getrefcount(geek_var))\n",
    "# garbage collector의 reference count를 센다."
   ]
  },
  {
   "cell_type": "markdown",
   "metadata": {},
   "source": [
    "파이썬은 object reference에 의해서 이름은 같아도 본체가 같은(id가 동일한) 변수를 동시에 <br>\n",
    "두 개 이상의 thread가 건들면 memory leak 혹은 값의 비일관성을 유발한다. <br>\n",
    "따라서 우리는 여러 thread를 관통하는 lock들을 만들게 되고 잘못하면 치명적인 deadlock을 유발한다. <br>\n",
    "그래서 memory leak과 deadlock을 예방하기 위해 단 하나의 lock만을 미리 추가했다. <br>\n",
    "그것이 GIL(Global interpreter lock)이다."
   ]
  },
  {
   "cell_type": "markdown",
   "metadata": {},
   "source": [
    "파이썬의 저수준에는 C/C++로 대체로 구현되어 있다. GIL을 사용하면 하나의 lock만 사용하면 되니 <br>\n",
    "파이썬에서 구현하기도 쉽고 단일 스레드 작업에서 성능이 향상된다. (thread-safe memory management)<br>\n"
   ]
  },
  {
   "cell_type": "code",
   "execution_count": 4,
   "metadata": {},
   "outputs": [
    {
     "name": "stdout",
     "output_type": "stream",
     "text": [
      "Time taken in seconds : 0.4990673065185547\n"
     ]
    }
   ],
   "source": [
    "# CPU bound program\n",
    "\n",
    "import time\n",
    "from threading import Thread\n",
    "COUNT = 5000000\n",
    "\n",
    "def countdown(n: int)-> None:\n",
    "    while n>0:\n",
    "        n -=1\n",
    "    \n",
    "start = time.time()\n",
    "countdown(COUNT)\n",
    "end = time.time()\n",
    "print(f'Time taken in seconds : {end - start}')"
   ]
  },
  {
   "cell_type": "code",
   "execution_count": 5,
   "metadata": {},
   "outputs": [
    {
     "name": "stdout",
     "output_type": "stream",
     "text": [
      "Time taken in seconds : 0.6345868110656738\n"
     ]
    }
   ],
   "source": [
    "t1 = Thread(target= countdown, args= (COUNT//2,))\n",
    "t2 = Thread(target= countdown, args= (COUNT//2, ))\n",
    "\n",
    "start = time.time()\n",
    "t1.start()\n",
    "t2.start()\n",
    "t1.join()\n",
    "t2.join()\n",
    "\n",
    "\n",
    "\n",
    "end = time.time()\n",
    "print(f'Time taken in seconds : {end - start}')"
   ]
  },
  {
   "cell_type": "markdown",
   "metadata": {},
   "source": [
    "분명 같은 작업량을 수행했으나 성능이 느려졌다. <br>\n",
    "이것은 GIL이 CPU로 하여금 single-thread만 할당했기 때문이다. <br>\n",
    "과거 python2가 GIL이 있는 C 확장에 크게 의존했기 때문에 파이썬에 아직도 있는 문제다. <br>\n",
    "그래서 이를 회피하기 위해서 multiprocessing을 도입한다. 그래서 각 process마다 단일 thread가 돌아가는 방식이다. <br>"
   ]
  },
  {
   "cell_type": "code",
   "execution_count": 7,
   "metadata": {},
   "outputs": [
    {
     "name": "stdout",
     "output_type": "stream",
     "text": [
      "Time taken in seconds : 3.6697864532470703\n"
     ]
    }
   ],
   "source": [
    "import multiprocessing\n",
    "\n",
    "start = time.time()\n",
    "\n",
    "p1 = multiprocessing.Process(target = countdown, args = (COUNT//2, ))\n",
    "p2 = multiprocessing.Process(target = countdown, args = (COUNT//2, ))\n",
    "\n",
    "p1.start()\n",
    "p2.start()\n",
    "\n",
    "p1.join()\n",
    "p2.join()\n",
    "\n",
    "end = time.time()\n",
    "print(f'Time taken in seconds : {end - start}')"
   ]
  },
  {
   "cell_type": "markdown",
   "metadata": {},
   "source": [
    "이 또한 더 느려졌거나 그대로일 것이다 multiprocess조차 해결해야 할 문제가 있기 때문이다."
   ]
  },
  {
   "cell_type": "code",
   "execution_count": null,
   "metadata": {},
   "outputs": [],
   "source": []
  }
 ],
 "metadata": {
  "kernelspec": {
   "display_name": "Python 3.8.10 ('ai')",
   "language": "python",
   "name": "python3"
  },
  "language_info": {
   "codemirror_mode": {
    "name": "ipython",
    "version": 3
   },
   "file_extension": ".py",
   "mimetype": "text/x-python",
   "name": "python",
   "nbconvert_exporter": "python",
   "pygments_lexer": "ipython3",
   "version": "3.8.10"
  },
  "orig_nbformat": 4,
  "vscode": {
   "interpreter": {
    "hash": "6270e6d8b5fb321e1a842519f0c29f2e2b7188cdba36e81e06ada9019ab06ac7"
   }
  }
 },
 "nbformat": 4,
 "nbformat_minor": 2
}
