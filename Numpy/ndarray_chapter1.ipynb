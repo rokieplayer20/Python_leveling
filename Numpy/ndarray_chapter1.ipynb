{
 "cells": [
  {
   "cell_type": "markdown",
   "metadata": {},
   "source": [
    "![nn](./ndarray.jpg) <br>\n",
    "n-dimension array: 0, 1, 2, 3 axis로 전개해 나가는 다차원 배열이다. <br>\n",
    "다른 말로 \"tensor\"라고 한다."
   ]
  },
  {
   "cell_type": "code",
   "execution_count": 1,
   "metadata": {},
   "outputs": [],
   "source": [
    "import numpy as np"
   ]
  },
  {
   "cell_type": "code",
   "execution_count": 4,
   "metadata": {},
   "outputs": [
    {
     "name": "stdout",
     "output_type": "stream",
     "text": [
      "[1 2 3] <class 'numpy.ndarray'>\n",
      "[[1 2 3]\n",
      " [3 4 5]]\n"
     ]
    }
   ],
   "source": [
    "# 1차원 배열\n",
    "arr1 = np.array([1, 2, 3])\n",
    "# 2차원 배열\n",
    "arr2 = np.array([[1, 2, 3],\n",
    "                [3, 4, 5]])\n",
    "\n",
    "print(arr1, type(arr1))\n",
    "print(arr2)"
   ]
  },
  {
   "cell_type": "code",
   "execution_count": 5,
   "metadata": {},
   "outputs": [
    {
     "name": "stdout",
     "output_type": "stream",
     "text": [
      "[4 5 6]\n"
     ]
    }
   ],
   "source": [
    "# 리스트 말고도 다른 것으로도 넘파이배열을 만들 수 있다.\n",
    "tpl = (4, 5, 6)\n",
    "arr1 = np.array(tpl)\n",
    "print(arr1)"
   ]
  },
  {
   "cell_type": "code",
   "execution_count": 10,
   "metadata": {},
   "outputs": [
    {
     "name": "stdout",
     "output_type": "stream",
     "text": [
      "(3,)\n",
      "(2, 3)\n",
      "1 2\n",
      "3 6\n"
     ]
    }
   ],
   "source": [
    "# shape 모양\n",
    "\n",
    "arr1 = np.array([1, 2, 3])\n",
    "\n",
    "arr2 = np.array([[1, 2, 3],\n",
    "                [3, 4, 5]])\n",
    "#shape은 tuple로 반환됨\n",
    "print(arr1.shape) \n",
    "print(arr2.shape) # (0축, 1축) == (row, column) == 2 * 3 metrix\n",
    "\n",
    "# ndim 차원을 확인한다.\n",
    "print(arr1.ndim, arr2.ndim)\n",
    "\n",
    "# size 총 item의 개수 == n * m (행렬의 행과 열의 곱)\n",
    "print(arr1.size, arr2.size)"
   ]
  },
  {
   "cell_type": "code",
   "execution_count": 31,
   "metadata": {},
   "outputs": [
    {
     "name": "stdout",
     "output_type": "stream",
     "text": [
      "<class 'numpy.int32'>\n",
      "<class 'numpy.float64'>\n",
      "[1. 2. 3.] float64\n",
      "[ True  True False  True False False] bool\n"
     ]
    }
   ],
   "source": [
    "# dataype을 정할 수 있다.\n",
    "\n",
    "arr = np.array([1, 2, 3]) \n",
    "print(type(arr[1]))\n",
    "arr = np.array([1.0, 2, 3]) \n",
    "print(type(arr[1]))\n",
    "# 정하지 않으면 원소들을 보고 알아서 지정한다.\n",
    "# 참고로 넘파이는 자체적으로 int32, float64 같은 자료형들이 존재한다.\n",
    "\n",
    "arr = np.array([1, 2, 3], dtype= float)\n",
    "# np.float는 지양되고 flaot가 권고됨, alias 문제라고 한다. \n",
    "print(arr, arr.dtype)\n",
    "# dtype은 ndarray의 attribute로 볼 수 있다.\n",
    "\n",
    "arr = np.array([1, -1, 0, 0.1, 0.0, -0.0], dtype= bool)\n",
    "print(arr, arr.dtype)"
   ]
  },
  {
   "cell_type": "markdown",
   "metadata": {},
   "source": [
    "ndarray.astype(dtype: str) -> ndarray"
   ]
  },
  {
   "cell_type": "code",
   "execution_count": 37,
   "metadata": {},
   "outputs": [
    {
     "name": "stdout",
     "output_type": "stream",
     "text": [
      "[1. 2. 3.] float32\n",
      "[1 2 3] int32\n",
      "['1' '2' '3.4' '63'] <U32\n",
      "[ 1  2  3 63] int32\n"
     ]
    },
    {
     "ename": "ValueError",
     "evalue": "invalid literal for int() with base 10: 'string'",
     "output_type": "error",
     "traceback": [
      "\u001b[1;31m---------------------------------------------------------------------------\u001b[0m",
      "\u001b[1;31mValueError\u001b[0m                                Traceback (most recent call last)",
      "\u001b[1;32m<ipython-input-37-1711a4f15b57>\u001b[0m in \u001b[0;36m<module>\u001b[1;34m\u001b[0m\n\u001b[0;32m     15\u001b[0m \u001b[1;31m# 내용이 숫자인 문자열이 있으면 친절하게 정수로 바꿔주지만\u001b[0m\u001b[1;33m\u001b[0m\u001b[1;33m\u001b[0m\u001b[1;33m\u001b[0m\u001b[0m\n\u001b[0;32m     16\u001b[0m \u001b[1;33m\u001b[0m\u001b[0m\n\u001b[1;32m---> 17\u001b[1;33m \u001b[0marr\u001b[0m \u001b[1;33m=\u001b[0m \u001b[0mnp\u001b[0m\u001b[1;33m.\u001b[0m\u001b[0marray\u001b[0m\u001b[1;33m(\u001b[0m\u001b[1;33m[\u001b[0m\u001b[1;36m1\u001b[0m\u001b[1;33m,\u001b[0m \u001b[1;36m2\u001b[0m\u001b[1;33m,\u001b[0m \u001b[1;36m3.4\u001b[0m\u001b[1;33m,\u001b[0m \u001b[1;34m\"63\"\u001b[0m\u001b[1;33m,\u001b[0m \u001b[1;34m\"string\"\u001b[0m\u001b[1;33m]\u001b[0m\u001b[1;33m,\u001b[0m \u001b[0mdtype\u001b[0m\u001b[1;33m=\u001b[0m\u001b[0mint\u001b[0m\u001b[1;33m)\u001b[0m\u001b[1;33m\u001b[0m\u001b[1;33m\u001b[0m\u001b[0m\n\u001b[0m\u001b[0;32m     18\u001b[0m \u001b[0mprint\u001b[0m\u001b[1;33m(\u001b[0m\u001b[0marr\u001b[0m\u001b[1;33m,\u001b[0m \u001b[0marr\u001b[0m\u001b[1;33m.\u001b[0m\u001b[0mdtype\u001b[0m\u001b[1;33m)\u001b[0m\u001b[1;33m\u001b[0m\u001b[1;33m\u001b[0m\u001b[0m\n",
      "\u001b[1;31mValueError\u001b[0m: invalid literal for int() with base 10: 'string'"
     ]
    }
   ],
   "source": [
    "arr = np.array([1, 2, 3]) \n",
    "\n",
    "# ndarray.astype(dtype: str) -> ndarray\n",
    "\n",
    "arr2 = arr.astype(np.float32)\n",
    "print(arr2, arr2.dtype)\n",
    "print(arr, arr.dtype)\n",
    "\n",
    "# 주의: 파이썬 list와 다르게 C처럼 단 하나의 자료형만 입력할 수 있다.\n",
    "\n",
    "arr = np.array([1, 2, 3.4, \"63\"])\n",
    "print(arr, arr.dtype) # 자동으로 U32(Unicode32) string으로 바뀜\n",
    "arr = np.array([1, 2, 3.4, \"63\"], dtype=int)\n",
    "print(arr, arr.dtype) \n",
    "# 내용이 숫자인 문자열이 있으면 친절하게 정수로 바꿔주지만\n",
    "\n",
    "arr = np.array([1, 2, 3.4, \"63\", \"string\"], dtype=int)\n",
    "print(arr, arr.dtype) \n",
    "# 내용이 숫자가 아닌 문자열을 숫자로 바꿔주지 맛한다."
   ]
  },
  {
   "cell_type": "markdown",
   "metadata": {},
   "source": [
    "자주 쓰는 ndarray를 만드는 매소드가 존재한다. <br>\n",
    "np.zeros(shape: List[0축, 1축, ...]) -> ndarray 내용이 0인 배열 <br>\n",
    "\n",
    "np.full(shape, value: number) -> ndarray  내가 원하는 값으로 채워진 배열 <br>\n",
    "number == int | float\n",
    "np.eye(shape,k=0 ,dtype=float) -> ndarray  n*m 2차원 행렬인 항등행렬(I) <br>\n",
    "대각원소는 1, 나머지는 0이다. <br>\n",
    "만일 shape에서 1개의 숫자만 넣으면 정사각행렬이 된다.\n",
    "k는 원래 대각선을 기준으로 대각 원소들을 위로 올릴지 내릴지 나타낸다."
   ]
  },
  {
   "cell_type": "code",
   "execution_count": 49,
   "metadata": {},
   "outputs": [
    {
     "name": "stdout",
     "output_type": "stream",
     "text": [
      "[[[0. 0. 0. 0.]\n",
      "  [0. 0. 0. 0.]\n",
      "  [0. 0. 0. 0.]]\n",
      "\n",
      " [[0. 0. 0. 0.]\n",
      "  [0. 0. 0. 0.]\n",
      "  [0. 0. 0. 0.]]]\n",
      "[[1. 1.]\n",
      " [1. 1.]\n",
      " [1. 1.]]\n",
      "[[3.14 3.14 3.14]\n",
      " [3.14 3.14 3.14]\n",
      " [3.14 3.14 3.14]]\n",
      "[[1 0 0]\n",
      " [0 1 0]]\n",
      "[[0. 1. 0. 0.]\n",
      " [0. 0. 1. 0.]\n",
      " [0. 0. 0. 1.]\n",
      " [0. 0. 0. 0.]]\n",
      "[[1 0 0]\n",
      " [0 1 0]\n",
      " [0 0 1]]\n"
     ]
    }
   ],
   "source": [
    "arr = np.zeros([2, 3, 4])\n",
    "print(arr)\n",
    "\n",
    "arr = np.ones([3, 2]) # 모든 원소들이 1이다.\n",
    "print(arr)\n",
    "\n",
    "arr = np.full([3, 3], 3.14) \n",
    "print(arr)\n",
    "\n",
    "arr = np.eye(2, 3, k=0, dtype=int) # (n, m, k=0, dtype=float) -> ndarray\n",
    "print(arr)\n",
    "\n",
    "arr = np.eye(4, k=1, dtype=float)\n",
    "print(arr)\n",
    "\n",
    "arr = np.identity(3, dtype= int) # 2차원의 n*n 항등행렬만 \n",
    "print(arr)"
   ]
  },
  {
   "cell_type": "code",
   "execution_count": 52,
   "metadata": {},
   "outputs": [
    {
     "name": "stdout",
     "output_type": "stream",
     "text": [
      "[[0 0 0]\n",
      " [0 0 0]]\n",
      "[[1 1 1]\n",
      " [1 1 1]]\n",
      "[[3 3 3]\n",
      " [3 3 3]]\n"
     ]
    }
   ],
   "source": [
    "arr = np.array([[1, 2, 3],\n",
    "                [3, 4, 5]])\n",
    "\n",
    "arr_z = np.zeros_like(arr) # 지정된 배열과 같은 shape의 영행렬을 만든다.\n",
    "print(arr_z)\n",
    "\n",
    "arr_o = np.ones_like(arr)\n",
    "print(arr_o)\n",
    "\n",
    "# np.full_like(array, value: number)\n",
    "arr_f = np.full_like(arr, 3)\n",
    "print(arr_f)"
   ]
  },
  {
   "cell_type": "markdown",
   "metadata": {},
   "source": [
    "특정범위의 값을 가지는 ndarray <br>"
   ]
  },
  {
   "cell_type": "code",
   "execution_count": 54,
   "metadata": {},
   "outputs": [
    {
     "name": "stdout",
     "output_type": "stream",
     "text": [
      "[0 1 2 3 4 5 6 7 8]\n",
      "[3 4 5 6 7 8 9]\n",
      "[3 5 7 9]\n"
     ]
    }
   ],
   "source": [
    "lst = list(range(0, 9, 2))\n",
    "# 이것과 동일하게 넘파이에는 arange가 있다.\n",
    "\n",
    "arr = np.arange(9) # list(range(9))와 같은 의미\n",
    "print(arr)\n",
    "\n",
    "arr = np.arange(3, 10) # 3 이상 10 미만\n",
    "print(arr)\n",
    "\n",
    "arr = np.arange(start=3, stop=10, step=2) # list(range(3, 10, 2))\n",
    "print(arr)"
   ]
  },
  {
   "cell_type": "markdown",
   "metadata": {},
   "source": [
    "시작부터 끝까지 각자의 방식대로 증가한다.\n",
    "linspace : linear space\n",
    "logspace : logarithm space "
   ]
  },
  {
   "cell_type": "code",
   "execution_count": 55,
   "metadata": {},
   "outputs": [
    {
     "name": "stdout",
     "output_type": "stream",
     "text": [
      "[  0.  10.  20.  30.  40.  50.  60.  70.  80.  90. 100.]\n"
     ]
    }
   ],
   "source": [
    "# np.linspace()\n",
    "# 0부터 100까지 11개의 원소를 균든항 간격을 생성함\n",
    "arr = np.linspace(0, 100, 11) # 100을 포함한다.\n",
    "print(arr)"
   ]
  },
  {
   "cell_type": "code",
   "execution_count": 57,
   "metadata": {},
   "outputs": [
    {
     "name": "stdout",
     "output_type": "stream",
     "text": [
      "[   2.    4.    8.   16.   32.   64.  128.  256.  512. 1024.]\n"
     ]
    }
   ],
   "source": [
    "# np.logspace()\n",
    "\n",
    "arr = np.logspace(1, 10, 10, base=2) #(start, end, num, base=10) base는 로그의 밑이다.\n",
    "print(arr)"
   ]
  },
  {
   "cell_type": "markdown",
   "metadata": {},
   "source": [
    "난수로 배열을 생성한다. <br>\n",
    "\n",
    "numpy 안에 random가 있다."
   ]
  },
  {
   "cell_type": "code",
   "execution_count": 59,
   "metadata": {},
   "outputs": [
    {
     "name": "stdout",
     "output_type": "stream",
     "text": [
      "[-0.73382274  0.95302337 -1.13725374  0.45111464  1.13541945 -1.40995365\n",
      " -1.41605036 -0.69754759  0.53804233  0.92124762]\n",
      "[[-0.9029153  -0.91574151  1.28758631]\n",
      " [-1.12895365 -1.55739161 -0.76940518]]\n"
     ]
    }
   ],
   "source": [
    "import matplotlib.pyplot as plt\n",
    "\n",
    "arr = np.random.normal(0, 1, 10) # (loc, scale, size) == (평균, 표준편차, 개수)\n",
    "print(arr)\n",
    "\n",
    "arr = np.random.normal(0, 1, (2, 3)) # size를 shape로 줄 수 있다. 자동으로 개수가 결정되니까\n",
    "print(arr)"
   ]
  },
  {
   "cell_type": "code",
   "execution_count": 62,
   "metadata": {},
   "outputs": [
    {
     "data": {
      "image/png": "[encoded data removed]",
      "text/plain": [
       "<Figure size 432x288 with 1 Axes>"
      ]
     },
     "metadata": {
      "needs_background": "light"
     },
     "output_type": "display_data"
    }
   ],
   "source": [
    "arr = np.random.normal(0, 1, 10000)\n",
    "plt.hist(arr, bins=100) # (array, bins) bins 몇개의 구간으로 나눌 것이냐\n",
    "plt.show()"
   ]
  },
  {
   "cell_type": "code",
   "execution_count": 63,
   "metadata": {},
   "outputs": [
    {
     "data": {
      "text/plain": [
       "(array([11., 12.,  5., 13.,  9., 12., 10.,  5., 12., 13., 11.,  9., 16.,\n",
       "         9., 15., 12.,  9., 11., 15., 17.,  7., 12.,  9.,  7., 12.,  7.,\n",
       "        12.,  6., 11., 14., 17.,  5., 14., 11., 12.,  8.,  9.,  4., 12.,\n",
       "         8.,  9.,  9., 11., 14.,  6., 14.,  9.,  9., 11.,  9., 14., 13.,\n",
       "         6.,  6.,  8.,  7.,  8.,  8.,  8.,  4.,  9.,  4., 10., 15., 16.,\n",
       "        12., 14.,  9.,  9.,  4.,  9., 13., 12., 10., 10., 14.,  4., 18.,\n",
       "        10.,  8.,  8.,  6., 16.,  9., 16.,  7.,  8.,  9.,  7., 14.,  8.,\n",
       "        12.,  8.,  8.,  3.,  9.,  3.,  9., 13., 11.]),\n",
       " array([5.72259488e-04, 1.05407510e-02, 2.05092425e-02, 3.04777340e-02,\n",
       "        4.04462255e-02, 5.04147170e-02, 6.03832086e-02, 7.03517001e-02,\n",
       "        8.03201916e-02, 9.02886831e-02, 1.00257175e-01, 1.10225666e-01,\n",
       "        1.20194158e-01, 1.30162649e-01, 1.40131141e-01, 1.50099632e-01,\n",
       "        1.60068124e-01, 1.70036615e-01, 1.80005107e-01, 1.89973598e-01,\n",
       "        1.99942090e-01, 2.09910581e-01, 2.19879073e-01, 2.29847564e-01,\n",
       "        2.39816056e-01, 2.49784547e-01, 2.59753039e-01, 2.69721530e-01,\n",
       "        2.79690022e-01, 2.89658513e-01, 2.99627005e-01, 3.09595496e-01,\n",
       "        3.19563988e-01, 3.29532479e-01, 3.39500971e-01, 3.49469462e-01,\n",
       "        3.59437954e-01, 3.69406445e-01, 3.79374937e-01, 3.89343428e-01,\n",
       "        3.99311920e-01, 4.09280411e-01, 4.19248903e-01, 4.29217395e-01,\n",
       "        4.39185886e-01, 4.49154378e-01, 4.59122869e-01, 4.69091361e-01,\n",
       "        4.79059852e-01, 4.89028344e-01, 4.98996835e-01, 5.08965327e-01,\n",
       "        5.18933818e-01, 5.28902310e-01, 5.38870801e-01, 5.48839293e-01,\n",
       "        5.58807784e-01, 5.68776276e-01, 5.78744767e-01, 5.88713259e-01,\n",
       "        5.98681750e-01, 6.08650242e-01, 6.18618733e-01, 6.28587225e-01,\n",
       "        6.38555716e-01, 6.48524208e-01, 6.58492699e-01, 6.68461191e-01,\n",
       "        6.78429682e-01, 6.88398174e-01, 6.98366665e-01, 7.08335157e-01,\n",
       "        7.18303648e-01, 7.28272140e-01, 7.38240631e-01, 7.48209123e-01,\n",
       "        7.58177614e-01, 7.68146106e-01, 7.78114597e-01, 7.88083089e-01,\n",
       "        7.98051580e-01, 8.08020072e-01, 8.17988563e-01, 8.27957055e-01,\n",
       "        8.37925547e-01, 8.47894038e-01, 8.57862530e-01, 8.67831021e-01,\n",
       "        8.77799513e-01, 8.87768004e-01, 8.97736496e-01, 9.07704987e-01,\n",
       "        9.17673479e-01, 9.27641970e-01, 9.37610462e-01, 9.47578953e-01,\n",
       "        9.57547445e-01, 9.67515936e-01, 9.77484428e-01, 9.87452919e-01,\n",
       "        9.97421411e-01]),\n",
       " <BarContainer object of 100 artists>)"
      ]
     },
     "execution_count": 63,
     "metadata": {},
     "output_type": "execute_result"
    },
    {
     "data": {
      "image/png": "[encoded data removed]",
      "text/plain": [
       "<Figure size 432x288 with 1 Axes>"
      ]
     },
     "metadata": {
      "needs_background": "light"
     },
     "output_type": "display_data"
    }
   ],
   "source": [
    "# np.random.rand()\n",
    "\n",
    "arr = np.random.rand(1000) # 0에서 1 사이값 1000개를 균등하게 표본추출한다.\n",
    "plt.hist(arr, bins=100)"
   ]
  },
  {
   "cell_type": "code",
   "execution_count": 65,
   "metadata": {},
   "outputs": [
    {
     "data": {
      "image/png": "[encoded data removed]",
      "text/plain": [
       "<Figure size 432x288 with 1 Axes>"
      ]
     },
     "metadata": {
      "needs_background": "light"
     },
     "output_type": "display_data"
    }
   ],
   "source": [
    "# np.random.randn() -1부터 1 사이 값, 가우시안 분포\n",
    "\n",
    "arr = np.random.randn(1000)\n",
    "plt.hist(arr, bins=100)\n",
    "plt.show()"
   ]
  },
  {
   "cell_type": "code",
   "execution_count": 68,
   "metadata": {},
   "outputs": [
    {
     "name": "stdout",
     "output_type": "stream",
     "text": [
      "[4 1 3 3 4 1 1 4 3 2]\n",
      "[[3 4 4 3]\n",
      " [1 2 4 1]\n",
      " [2 4 2 1]]\n",
      "3\n"
     ]
    }
   ],
   "source": [
    "# np.random.randint() 무작위 정수만 출력한다.\n",
    "\n",
    "arr = np.random.randint(low=1, high=5, size=10)\n",
    "print(arr)\n",
    "\n",
    "arr = np.random.randint(low=1, high=5, size=(3, 4)) # size는 언제나 shape으로 넣을 수 있는지 봐라\n",
    "print(arr)\n",
    "\n",
    "\n",
    "arr = np.random.randint(5) # 적어도 1개의 매개변수가 있어야 상한선을 알 수 있다. \n",
    "# 0-5 사이인 1개의 정수 반환 == low=0, size=1 디폴트\n",
    "\n",
    "print(arr)"
   ]
  },
  {
   "cell_type": "code",
   "execution_count": 72,
   "metadata": {},
   "outputs": [
    {
     "name": "stdout",
     "output_type": "stream",
     "text": [
      "This is arr \n",
      " [4.17022005e-01 7.20324493e-01 1.14374817e-04 3.02332573e-01\n",
      " 1.46755891e-01 9.23385948e-02 1.86260211e-01 3.45560727e-01\n",
      " 3.96767474e-01 5.38816734e-01]\n",
      "This is arr2 \n",
      " [4.17022005e-01 7.20324493e-01 1.14374817e-04 3.02332573e-01\n",
      " 1.46755891e-01 9.23385948e-02 1.86260211e-01 3.45560727e-01\n",
      " 3.96767474e-01 5.38816734e-01]\n"
     ]
    }
   ],
   "source": [
    "np.random.seed(1)\n",
    "arr = np.random.rand(10)\n",
    "print(\"This is arr \\n\", arr)\n",
    "\n",
    "np.random.seed(1)\n",
    "arr2 = np.random.rand(10)\n",
    "print(\"This is arr2 \\n\", arr2)\n",
    "\n",
    "# seed값이 고정된 의사난수이기 때문이다. arr1 == arr2"
   ]
  },
  {
   "cell_type": "code",
   "execution_count": 77,
   "metadata": {},
   "outputs": [
    {
     "name": "stdout",
     "output_type": "stream",
     "text": [
      "[[0.41919451 0.6852195  0.20445225]\n",
      " [0.87811744 0.02738759 0.67046751]]\n"
     ]
    }
   ],
   "source": [
    "# 어차리 rand(), randn()은 범위가 정해졌기 때문에 shape 혹은 size만 결정하면 된다.\n",
    "print(np.random.rand(2,3))"
   ]
  },
  {
   "cell_type": "code",
   "execution_count": null,
   "metadata": {},
   "outputs": [],
   "source": []
  },
  {
   "cell_type": "code",
   "execution_count": null,
   "metadata": {},
   "outputs": [],
   "source": []
  },
  {
   "cell_type": "code",
   "execution_count": null,
   "metadata": {},
   "outputs": [],
   "source": []
  },
  {
   "cell_type": "code",
   "execution_count": null,
   "metadata": {},
   "outputs": [],
   "source": []
  },
  {
   "cell_type": "code",
   "execution_count": null,
   "metadata": {},
   "outputs": [],
   "source": []
  },
  {
   "cell_type": "code",
   "execution_count": null,
   "metadata": {},
   "outputs": [],
   "source": []
  },
  {
   "cell_type": "code",
   "execution_count": null,
   "metadata": {},
   "outputs": [],
   "source": []
  },
  {
   "cell_type": "code",
   "execution_count": null,
   "metadata": {},
   "outputs": [],
   "source": []
  }
 ],
 "metadata": {
  "kernelspec": {
   "display_name": "Python 3.8.10 ('ai')",
   "language": "python",
   "name": "python3"
  },
  "language_info": {
   "codemirror_mode": {
    "name": "ipython",
    "version": 3
   },
   "file_extension": ".py",
   "mimetype": "text/x-python",
   "name": "python",
   "nbconvert_exporter": "python",
   "pygments_lexer": "ipython3",
   "version": "3.8.10"
  },
  "orig_nbformat": 4,
  "vscode": {
   "interpreter": {
    "hash": "6270e6d8b5fb321e1a842519f0c29f2e2b7188cdba36e81e06ada9019ab06ac7"
   }
  }
 },
 "nbformat": 4,
 "nbformat_minor": 2
}
