{
 "cells": [
  {
   "cell_type": "markdown",
   "metadata": {},
   "source": [
    "Copy, shallow copy, deep copy <br>\n",
    "\n",
    "level1에서 내가 조사한 것과 작은 차이가 있다. <br>"
   ]
  },
  {
   "cell_type": "code",
   "execution_count": 2,
   "metadata": {},
   "outputs": [
    {
     "name": "stdout",
     "output_type": "stream",
     "text": [
      "ex1 > 2354134386816, 2354134386816\n",
      "[1, 2, 100, [4, 5, 6], [7, 8, 9]]\n",
      "[1, 2, 100, [4, 5, 100], [7, 8, 9]]\n"
     ]
    }
   ],
   "source": [
    "# ex1 Copy\n",
    "# call by value, call by reference, call by share\n",
    "\n",
    "\n",
    "a_list = [1, 2, 3, [4,5,6],[7,8,9]]\n",
    "\n",
    "b_list = a_list\n",
    "\n",
    "print(f'ex1 > {id(a_list)}, {id(b_list)}')\n",
    "# call by reference\n",
    "b_list[2] = 100\n",
    "\n",
    "print(a_list)\n",
    "\n",
    "b_list[3][2] = 100\n",
    "print(a_list)"
   ]
  },
  {
   "cell_type": "code",
   "execution_count": 7,
   "metadata": {},
   "outputs": [
    {
     "name": "stdout",
     "output_type": "stream",
     "text": [
      "c_list id : 2354133127936\n",
      "d_list id : 2354133127680\n",
      "[1, 2, 3, [4, 5, 6], [7, 8, 9]] \n",
      " [1, 100, 3, [4, 5, 6], [7, 8, 9]]\n",
      "[1, 2, 3, [4, 5, 6, 1000], [7, 8, 9]] \n",
      " [1, -1, 3, [4, 5, 6, 1000], [7, 8, 9]]\n"
     ]
    }
   ],
   "source": [
    "# ex2 -shallow copy\n",
    "\n",
    "import copy\n",
    "\n",
    "c_list = [1, 2, 3, [4,5,6],[7,8,9]]\n",
    "d_list = copy.copy(c_list)\n",
    "# d_list = c_list[:]와 동일한 결과\n",
    "\n",
    "print(f'c_list id : {id(c_list)}')\n",
    "print(f'd_list id : {id(d_list)}')\n",
    "# list는 다른 객체가 됨\n",
    "\n",
    "d_list[1] = 100\n",
    "print(c_list, '\\n', d_list)\n",
    "\n",
    "d_list[3].append(1000)\n",
    "d_list[1] = -1\n",
    "\n",
    "print(c_list, '\\n', d_list)\n",
    "# 내부 list는 같은 객체를 참조한다.\n",
    "# call by reference"
   ]
  },
  {
   "cell_type": "code",
   "execution_count": 8,
   "metadata": {},
   "outputs": [
    {
     "name": "stdout",
     "output_type": "stream",
     "text": [
      "e_list id : 2354120906496\n",
      "f_list id : 2354133099776\n",
      "[1, 2, 3, [4, 5, 6], [7, 8, 9]] \n",
      " [1, 2, 3, [4, 5, 6, 1000], [7, 10000, 9]]\n"
     ]
    }
   ],
   "source": [
    "# ex3 deep copy\n",
    "# call by value\n",
    "e_list = [1, 2, 3, [4,5,6],[7,8,9]]\n",
    "f_list = copy.deepcopy(e_list)\n",
    "\n",
    "print(f'e_list id : {id(e_list)}')\n",
    "print(f'f_list id : {id(f_list)}')\n",
    "\n",
    "f_list[3].append(1000)\n",
    "f_list[4][1] = 10000\n",
    "\n",
    "print(e_list, '\\n', f_list)"
   ]
  },
  {
   "cell_type": "markdown",
   "metadata": {},
   "source": [
    "함수를 통과할 때의 call <br>\n",
    "C++은 포인터 개념으로 직접 조절할 수 있다. <br>\n",
    "JAVA는 기본은 call by value이고 객체는 call by reference다. <br>\n",
    "Python은 기본이 call by reference다. <br>"
   ]
  },
  {
   "cell_type": "code",
   "execution_count": 10,
   "metadata": {},
   "outputs": [
    {
     "name": "stdout",
     "output_type": "stream",
     "text": [
      "140731185902576\n",
      "140731185902576\n",
      "2354133127424\n",
      "2354133127424\n"
     ]
    }
   ],
   "source": [
    "a = 100\n",
    "b = [1, 2, 3, [4,5,6],[7,8,9]]\n",
    "def ppap(inst):\n",
    "    print(id(inst))\n",
    "\n",
    "print(id(a))\n",
    "ppap(a)\n",
    "print(id(b))\n",
    "ppap(b)"
   ]
  },
  {
   "cell_type": "code",
   "execution_count": 11,
   "metadata": {},
   "outputs": [
    {
     "name": "stdout",
     "output_type": "stream",
     "text": [
      "[1, 2, 3, [4, 5, 6], [7, 8, 9], -1]\n"
     ]
    }
   ],
   "source": [
    "def corr(inst):\n",
    "    inst.append(-1)\n",
    "\n",
    "corr(b)\n",
    "print(b)"
   ]
  },
  {
   "cell_type": "code",
   "execution_count": null,
   "metadata": {},
   "outputs": [],
   "source": []
  }
 ],
 "metadata": {
  "kernelspec": {
   "display_name": "Python 3.8.10 ('ai')",
   "language": "python",
   "name": "python3"
  },
  "language_info": {
   "codemirror_mode": {
    "name": "ipython",
    "version": 3
   },
   "file_extension": ".py",
   "mimetype": "text/x-python",
   "name": "python",
   "nbconvert_exporter": "python",
   "pygments_lexer": "ipython3",
   "version": "3.8.10"
  },
  "orig_nbformat": 4,
  "vscode": {
   "interpreter": {
    "hash": "6270e6d8b5fb321e1a842519f0c29f2e2b7188cdba36e81e06ada9019ab06ac7"
   }
  }
 },
 "nbformat": 4,
 "nbformat_minor": 2
}
