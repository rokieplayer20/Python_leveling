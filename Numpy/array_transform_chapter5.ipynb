{
 "cells": [
  {
   "cell_type": "markdown",
   "metadata": {},
   "source": [
    "reshape((0axis, 1axis, 2axis): tuple) : 차원들의 곱과 총원소의 개수가 일치해야 한다.\n",
    "<br>\n",
    "<h3>Curse of Dimension<h3/> <br>\n",
    "<p1>차원이 증가하면서 학습data수가 적어지면서 모델의 성능이 저하되는 현상이다.\n",
    "고차원에서 여러 차원으로 변수를 표현했기 때문에 데이터의 특성을 더 잘 나타내겠지만 1차원에서 3차원으로 갈수록 데이터들이 성기게 된다. \n",
    "저차원으로 갈수록 데이터가 더 밀집되게 되지만 데이터의 특성을 제대로 표현하지 못한다. tradeoff관계인 것이다.\n",
    "\n",
    "\n",
    "<p1/>\n",
    "\n",
    "![nn](./Curse_of_Dimension.jpg) <br>\n"
   ]
  },
  {
   "cell_type": "code",
   "execution_count": 2,
   "metadata": {},
   "outputs": [
    {
     "name": "stdout",
     "output_type": "stream",
     "text": [
      "[ 0  1  2  3  4  5  6  7  8  9 10 11] 1\n",
      "[[ 0  1  2  3]\n",
      " [ 4  5  6  7]\n",
      " [ 8  9 10 11]]\n"
     ]
    }
   ],
   "source": [
    "import numpy as np\n",
    "\n",
    "arr = np.arange(12)\n",
    "print(arr, arr.ndim)\n",
    "\n",
    "arr = arr.reshape((3, 4)) # 총 원소의 개수와 맞아야 한다. 3*4\n",
    "print(arr, arr,ndim, sep='\\n')\n",
    "# 원소들이 순서대로 분할된다."
   ]
  },
  {
   "cell_type": "code",
   "execution_count": 4,
   "metadata": {},
   "outputs": [
    {
     "name": "stdout",
     "output_type": "stream",
     "text": [
      "[[[ 0  1]\n",
      "  [ 2  3]\n",
      "  [ 4  5]]\n",
      "\n",
      " [[ 6  7]\n",
      "  [ 8  9]\n",
      "  [10 11]]]\n",
      "[[[[ 0  1  2]]\n",
      "\n",
      "  [[ 3  4  5]]]\n",
      "\n",
      "\n",
      " [[[ 6  7  8]]\n",
      "\n",
      "  [[ 9 10 11]]]]\n"
     ]
    }
   ],
   "source": [
    "arr = arr.reshape((2,3,2))\n",
    "print(arr)\n",
    "arr = arr.reshape((2,2,1,3))\n",
    "print(arr)"
   ]
  },
  {
   "cell_type": "markdown",
   "metadata": {},
   "source": [
    "resize(0aixs:int, 1axis:int ...) : reshape과 동일한 기능이지만 원본을 변경시킨다는 차이가 있다. <br>\n",
    "ravel(): 1차원 배열로 변경시킨다.<br>"
   ]
  },
  {
   "cell_type": "code",
   "execution_count": 6,
   "metadata": {},
   "outputs": [
    {
     "name": "stdout",
     "output_type": "stream",
     "text": [
      "[[ 0  1  2  3]\n",
      " [ 4  5  6  7]\n",
      " [ 8  9 10 11]]\n",
      "[ 0  1  2  3  4  5  6  7  8  9 10 11]\n"
     ]
    }
   ],
   "source": [
    "arr = np.arange(12)\n",
    "arr.resize(3, 4) #arr.resize((3, 4)) 튜플이 아니어도 된다.\n",
    "print(arr)\n",
    "\n",
    "arr = arr.ravel()\n",
    "print(arr)"
   ]
  },
  {
   "cell_type": "code",
   "execution_count": 9,
   "metadata": {},
   "outputs": [
    {
     "name": "stdout",
     "output_type": "stream",
     "text": [
      "[ 0  1  2  3  4  5  6  7  8  9 10 11]\n",
      "[[ 0  1  2  3]\n",
      " [ 4  5  6  7]\n",
      " [ 8  9 10 11]]\n",
      "[[[ 0  1]\n",
      "  [ 2  3]]\n",
      "\n",
      " [[ 4  5]\n",
      "  [ 6  7]]\n",
      "\n",
      " [[ 8  9]\n",
      "  [10 11]]]\n"
     ]
    }
   ],
   "source": [
    "arr = np.arange(12)\n",
    "print(arr)\n",
    "\n",
    "arr = arr.reshape(3, -1) # 축들을 정해주고 나머지 하나에 -1을 넣으면 알아서 계산함\n",
    "print(arr)\n",
    "arr = arr.reshape(3,2,-1)\n",
    "print(arr)"
   ]
  },
  {
   "cell_type": "markdown",
   "metadata": {},
   "source": [
    "expand_dims(ndarray, axis:int): 입력한 axis값를 새로 추가한다. 기존 축은 이름만 바뀜<br>\n",
    "만일 axis를 입력하지 않으면 1차원 배열로 한번에 축소해버린다. <br>\n",
    "squeeze(ndarray, axis:int): 한 차원씩 축소한다.<br>"
   ]
  },
  {
   "cell_type": "code",
   "execution_count": 13,
   "metadata": {},
   "outputs": [
    {
     "name": "stdout",
     "output_type": "stream",
     "text": [
      "[1 2] (2,)\n",
      "[[1]\n",
      " [2]] (2, 1)\n"
     ]
    }
   ],
   "source": [
    "arr = np.array([1, 2])\n",
    "print(arr, arr.shape)\n",
    "arr = np.expand_dims(arr, axis=1)\n",
    "print(arr, arr.shape)\n",
    "# 기존에 있던 axis는 이름만 바꾸고 지정한 축만 새로 추가한다.\n",
    "#   (1, 2) <- (2,) -> (2,1)"
   ]
  },
  {
   "cell_type": "code",
   "execution_count": 19,
   "metadata": {},
   "outputs": [
    {
     "name": "stdout",
     "output_type": "stream",
     "text": [
      "original array \n",
      "[[1 2]]\n",
      " (1, 2) \n",
      " 2\n",
      "axis=0 squeezed arr : \n",
      " [1 2] (2,) 1\n"
     ]
    }
   ],
   "source": [
    "arr = np.array([[1, 2]])\n",
    "print(f'original array \\n{arr}\\n {arr.shape} \\n {arr.ndim}')\n",
    "arr2 = np.squeeze(arr, axis=0)\n",
    "print(\"axis=0 squeezed arr : \\n\",arr2, arr2.shape, arr2.ndim)\n"
   ]
  },
  {
   "cell_type": "code",
   "execution_count": 25,
   "metadata": {},
   "outputs": [
    {
     "name": "stdout",
     "output_type": "stream",
     "text": [
      "arr \n",
      " [[[1]\n",
      "  [2]\n",
      "  [3]]] \n",
      " (1, 3, 1) \n",
      " 3\n",
      "axis=2 squeezed arr : \n",
      " [[1 2 3]] \n",
      " (1, 3)\n",
      "2\n"
     ]
    }
   ],
   "source": [
    "arr = np.array([[[1],\n",
    "                [2],\n",
    "                [3]]])\n",
    "print(f'arr \\n {arr} \\n {arr.shape} \\n {arr.ndim}')\n",
    "arr2 = np.squeeze(arr, axis=2)\n",
    "print(f'axis=2 squeezed arr : \\n {arr2} \\n {arr2.shape}\\n{arr2.ndim}')"
   ]
  },
  {
   "cell_type": "code",
   "execution_count": 27,
   "metadata": {},
   "outputs": [
    {
     "name": "stdout",
     "output_type": "stream",
     "text": [
      "[[[1 2 3]]] (1, 1, 3) 3\n",
      "[[1 2 3]] (1, 3) 2\n",
      "[1 2 3] (3,) 1\n"
     ]
    }
   ],
   "source": [
    "arr = np.array([[[1,2,3]]])\n",
    "print(arr, arr.shape, arr.ndim) # 차원의 갯수는 한쪽 [의 갯수와 같다.\n",
    "arr = np.squeeze(arr, axis=1)\n",
    "print(arr, arr.shape, arr.ndim)\n",
    "\n",
    "# axis 값을 주지 않으면 모두 1차원 배열로 축소해버린다.\n",
    "arr = np.squeeze(arr)\n",
    "print(arr, arr.shape, arr.ndim)"
   ]
  },
  {
   "cell_type": "markdown",
   "metadata": {},
   "source": [
    "![nn](./Transpose_matrix.jpg) <br>"
   ]
  },
  {
   "cell_type": "code",
   "execution_count": 31,
   "metadata": {},
   "outputs": [
    {
     "name": "stdout",
     "output_type": "stream",
     "text": [
      "[[1 3]\n",
      " [2 4]]\n",
      "[[1 3 5]\n",
      " [2 4 6]]\n"
     ]
    }
   ],
   "source": [
    "arr = np.array([[1,2], [3,4]])\n",
    "\n",
    "print(arr.T)\n",
    "\n",
    "arr = np.array([[1,2],\n",
    "                [3,4],\n",
    "                [5,6]])\n",
    "print(arr.T)\n",
    "# 정방행렬이 아니면 축을 뒤바꿔서 전치된다."
   ]
  },
  {
   "cell_type": "code",
   "execution_count": null,
   "metadata": {},
   "outputs": [],
   "source": []
  },
  {
   "cell_type": "code",
   "execution_count": 30,
   "metadata": {},
   "outputs": [
    {
     "name": "stdout",
     "output_type": "stream",
     "text": [
      "[[-1.00000000e+00  1.00000000e+00  1.38777878e-17]\n",
      " [ 0.00000000e+00  4.00000000e-01 -2.00000000e-01]\n",
      " [ 2.00000000e+00 -2.20000000e+00  6.00000000e-01]]\n",
      "[[ 1.00000000e+00  0.00000000e+00 -1.11022302e-16]\n",
      " [ 0.00000000e+00  1.00000000e+00 -1.11022302e-16]\n",
      " [ 0.00000000e+00  0.00000000e+00  1.00000000e+00]]\n"
     ]
    }
   ],
   "source": [
    "arr = np.random.randint(1,5, size=(3,3))\n",
    "# 역행렬 구하기\n",
    "arr_inverse = np.linalg.inv(arr) # linear_algebra_inverse_matrix\n",
    "print(arr_inverse)\n",
    "print(np.dot(arr, arr_inverse)) # 검증된다."
   ]
  },
  {
   "cell_type": "code",
   "execution_count": 33,
   "metadata": {},
   "outputs": [
    {
     "name": "stdout",
     "output_type": "stream",
     "text": [
      "[[18 18]\n",
      " [24 24]]\n"
     ]
    }
   ],
   "source": [
    "arr = np.array([[1,2],\n",
    "                [3,4],\n",
    "                [5,6]])\n",
    "arr2 = np.full((3,2), 2)\n",
    "# shape을 내적할 수 잇게 바꾸어야 할 때 유용하다.\n",
    "print((arr.T).dot(arr2))"
   ]
  }
 ],
 "metadata": {
  "kernelspec": {
   "display_name": "Python 3.8.10 ('ai')",
   "language": "python",
   "name": "python3"
  },
  "language_info": {
   "codemirror_mode": {
    "name": "ipython",
    "version": 3
   },
   "file_extension": ".py",
   "mimetype": "text/x-python",
   "name": "python",
   "nbconvert_exporter": "python",
   "pygments_lexer": "ipython3",
   "version": "3.8.10"
  },
  "orig_nbformat": 4,
  "vscode": {
   "interpreter": {
    "hash": "6270e6d8b5fb321e1a842519f0c29f2e2b7188cdba36e81e06ada9019ab06ac7"
   }
  }
 },
 "nbformat": 4,
 "nbformat_minor": 2
}
